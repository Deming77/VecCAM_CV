{
  "cells": [
    {
      "cell_type": "markdown",
      "id": "53a4a03c",
      "metadata": {
        "id": "53a4a03c"
      },
      "source": [
        "Species Classification\n",
        "\n",
        "0-funestus 1-gambiae 2-Anopheles_other 3-culex 4-All other"
      ]
    },
    {
      "cell_type": "code",
      "execution_count": 1,
      "id": "6ccf7927",
      "metadata": {
        "id": "6ccf7927"
      },
      "outputs": [],
      "source": [
        "%matplotlib inline\n",
        "import numpy as np\n",
        "import pandas as pd\n",
        "import matplotlib.pyplot as plt\n",
        "import time\n",
        "import random\n",
        "import math\n",
        "import os\n",
        "from tqdm import tqdm\n",
        "import torch\n",
        "import torch.nn as nn\n",
        "import torch.nn.functional as F\n",
        "import torch.optim as optim\n",
        "import cv2\n",
        "import re"
      ]
    },
    {
      "cell_type": "code",
      "source": [
        "from google.colab import drive\n",
        "drive.mount('/content/drive')"
      ],
      "metadata": {
        "colab": {
          "base_uri": "https://localhost:8080/"
        },
        "id": "OgA1Ji_N2ZAM",
        "outputId": "a7379f99-6cf6-4bf4-e410-810a90aed95d"
      },
      "id": "OgA1Ji_N2ZAM",
      "execution_count": 2,
      "outputs": [
        {
          "output_type": "stream",
          "name": "stdout",
          "text": [
            "Mounted at /content/drive\n"
          ]
        }
      ]
    },
    {
      "cell_type": "markdown",
      "id": "dmxZkl8gtZuc",
      "metadata": {
        "id": "dmxZkl8gtZuc"
      },
      "source": [
        "# Train and test "
      ]
    },
    {
      "cell_type": "code",
      "execution_count": 3,
      "id": "8d934d48",
      "metadata": {
        "id": "8d934d48"
      },
      "outputs": [],
      "source": [
        "train_data = torch.load(\"/content/drive/MyDrive/CBID/EfficientNet/train_whole_data_fold2.pt\")\n",
        "train_label = torch.load(\"/content/drive/MyDrive/CBID/EfficientNet/train_whole_label_fold2.pt\")\n",
        "test_data = torch.load(\"/content/drive/MyDrive/CBID/EfficientNet/test_whole_data.pt\")\n",
        "test_label = torch.load(\"/content/drive/MyDrive/CBID/EfficientNet/test_whole_label.pt\")"
      ]
    },
    {
      "cell_type": "code",
      "execution_count": 4,
      "id": "f79eafda",
      "metadata": {
        "id": "f79eafda",
        "outputId": "91b51744-7ed5-4f5c-f85e-e8fa98bb1cdd",
        "colab": {
          "base_uri": "https://localhost:8080/"
        }
      },
      "outputs": [
        {
          "output_type": "stream",
          "name": "stdout",
          "text": [
            "running on the GPU\n"
          ]
        }
      ],
      "source": [
        "if torch.cuda.is_available():\n",
        "    device = torch.device(\"cuda:0\")\n",
        "    print (\"running on the GPU\")\n",
        "else:\n",
        "    device = torch.device(\"cpu\")\n",
        "    print (\"running on the cpu\")"
      ]
    },
    {
      "cell_type": "code",
      "execution_count": 5,
      "id": "09bc0d6c",
      "metadata": {
        "id": "09bc0d6c"
      },
      "outputs": [],
      "source": [
        "from torch.utils.data import Dataset\n",
        "\n",
        "\n",
        "class VectorCamDataset(Dataset):\n",
        "    \n",
        "    \n",
        "    def __init__(self, data, labels, transform=None):\n",
        "        'Initialization'\n",
        "        self.labels = labels\n",
        "        self.data = data\n",
        "        self.transform = transform\n",
        "\n",
        "    def __len__(self):\n",
        "        'Denotes the total number of samples'\n",
        "        return len(self.data)\n",
        "\n",
        "    def __getitem__(self, index):\n",
        "        \n",
        "        'Generates one sample of data'\n",
        "\n",
        "        # Load data and get label\n",
        "        x = self.data[index]\n",
        "        y = self.labels[index]\n",
        "        if self.transform:\n",
        "            x = self.transform(x)\n",
        "\n",
        "        return x, y"
      ]
    },
    {
      "cell_type": "code",
      "execution_count": 6,
      "id": "43415bc8",
      "metadata": {
        "id": "43415bc8"
      },
      "outputs": [],
      "source": [
        "from torchvision import transforms\n",
        "invTrans = transforms.Compose([ \n",
        "                                transforms.RandomHorizontalFlip(p=0.25),\n",
        "                                transforms.RandomVerticalFlip(p=0.25)\n",
        "                                #transforms.Normalize(mean = [ 0.5150, 0.7373, 1.1327 ],\n",
        "                                #                     std = [ 0.5055, 0.4621, 0.4949 ]),\n",
        "    \n",
        "                               ])"
      ]
    },
    {
      "cell_type": "code",
      "execution_count": 7,
      "id": "3a00d7ad",
      "metadata": {
        "id": "3a00d7ad"
      },
      "outputs": [],
      "source": [
        "train_dataset=VectorCamDataset(train_data,train_label,transform=invTrans)\n",
        "test_dataset=VectorCamDataset(test_data,test_label)"
      ]
    },
    {
      "cell_type": "code",
      "execution_count": 8,
      "id": "6a4372a0",
      "metadata": {
        "id": "6a4372a0"
      },
      "outputs": [],
      "source": [
        "x, y = train_dataset[1]"
      ]
    },
    {
      "cell_type": "code",
      "execution_count": 9,
      "id": "97785617",
      "metadata": {
        "id": "97785617",
        "outputId": "48903564-ee26-4a31-e04a-3ead5a7fe8ee",
        "colab": {
          "base_uri": "https://localhost:8080/",
          "height": 304
        }
      },
      "outputs": [
        {
          "output_type": "stream",
          "name": "stderr",
          "text": [
            "Clipping input data to the valid range for imshow with RGB data ([0..1] for floats or [0..255] for integers).\n"
          ]
        },
        {
          "output_type": "execute_result",
          "data": {
            "text/plain": [
              "<matplotlib.image.AxesImage at 0x7f0ec18da310>"
            ]
          },
          "metadata": {},
          "execution_count": 9
        },
        {
          "output_type": "display_data",
          "data": {
            "text/plain": [
              "<Figure size 432x288 with 1 Axes>"
            ],
            "image/png": "[encoded data removed]"
          },
          "metadata": {
            "needs_background": "light"
          }
        }
      ],
      "source": [
        "plt.imshow(torch.permute(x, (1, 2, 0)))"
      ]
    },
    {
      "cell_type": "code",
      "execution_count": 10,
      "id": "95c5af8e",
      "metadata": {
        "id": "95c5af8e",
        "outputId": "e6bbc1f4-d72f-4fff-bca0-966a4ce0c9b7",
        "colab": {
          "base_uri": "https://localhost:8080/"
        }
      },
      "outputs": [
        {
          "output_type": "stream",
          "name": "stdout",
          "text": [
            "[1285  466  444  894  325]\n",
            "tensor([0.0008, 0.0021, 0.0023, 0.0011, 0.0031])\n"
          ]
        },
        {
          "output_type": "stream",
          "name": "stderr",
          "text": [
            "/usr/local/lib/python3.7/dist-packages/ipykernel_launcher.py:3: UserWarning: To copy construct from a tensor, it is recommended to use sourceTensor.clone().detach() or sourceTensor.clone().detach().requires_grad_(True), rather than torch.tensor(sourceTensor).\n",
            "  This is separate from the ipykernel package so we can avoid doing imports until\n"
          ]
        }
      ],
      "source": [
        "from torch.utils.data import DataLoader,WeightedRandomSampler\n",
        "\n",
        "target_list = torch.tensor(train_dataset.labels)\n",
        "class_count = np.array([len(np.where(train_dataset.labels == t)[0]) for t in np.unique(train_dataset.labels)])\n",
        "print(class_count)\n",
        "class_weights = 1./torch.tensor(class_count, dtype=torch.float)\n",
        "print(class_weights)\n",
        "class_weights_all = class_weights[target_list]\n",
        "weighted_sampler = WeightedRandomSampler(\n",
        "    weights=class_weights_all,\n",
        "    num_samples=len(class_weights_all),\n",
        "    replacement=True\n",
        "    )"
      ]
    },
    {
      "cell_type": "code",
      "execution_count": 11,
      "id": "e26af390",
      "metadata": {
        "id": "e26af390"
      },
      "outputs": [],
      "source": [
        "from torch.utils.data import DataLoader\n",
        "train_dataloader = DataLoader(train_dataset,sampler=weighted_sampler, batch_size = 32)\n",
        "test_dataloader = DataLoader(test_dataset,batch_size=32, shuffle=False)"
      ]
    },
    {
      "cell_type": "code",
      "execution_count": 12,
      "id": "4ae21fed",
      "metadata": {
        "id": "4ae21fed",
        "outputId": "4dc83b7c-7788-422d-b1a1-057db4cc649f",
        "colab": {
          "base_uri": "https://localhost:8080/"
        }
      },
      "outputs": [
        {
          "output_type": "stream",
          "name": "stdout",
          "text": [
            "batch index 0, 0/1: 6/1/7/9/9\n",
            "batch index 1, 0/1: 5/7/5/8/7\n",
            "batch index 2, 0/1: 8/6/8/5/5\n",
            "batch index 3, 0/1: 6/10/8/5/3\n",
            "batch index 4, 0/1: 12/3/5/6/6\n",
            "batch index 5, 0/1: 7/9/6/4/6\n",
            "batch index 6, 0/1: 9/7/5/9/2\n",
            "batch index 7, 0/1: 10/4/8/4/6\n",
            "batch index 8, 0/1: 10/9/4/3/6\n",
            "batch index 9, 0/1: 6/5/7/4/10\n",
            "batch index 10, 0/1: 4/9/6/9/4\n",
            "batch index 11, 0/1: 12/2/7/7/4\n",
            "batch index 12, 0/1: 6/10/5/6/5\n",
            "batch index 13, 0/1: 11/7/5/5/4\n",
            "batch index 14, 0/1: 8/6/6/5/7\n",
            "batch index 15, 0/1: 5/7/8/8/4\n",
            "batch index 16, 0/1: 10/6/5/3/8\n",
            "batch index 17, 0/1: 9/5/6/6/6\n",
            "batch index 18, 0/1: 5/7/7/7/6\n",
            "batch index 19, 0/1: 8/5/6/7/6\n",
            "batch index 20, 0/1: 8/4/4/10/6\n",
            "batch index 21, 0/1: 6/6/8/5/7\n",
            "batch index 22, 0/1: 5/6/9/6/6\n",
            "batch index 23, 0/1: 5/7/7/7/6\n",
            "batch index 24, 0/1: 12/9/2/4/5\n",
            "batch index 25, 0/1: 8/8/4/5/7\n",
            "batch index 26, 0/1: 12/5/6/4/5\n",
            "batch index 27, 0/1: 9/5/8/4/6\n",
            "batch index 28, 0/1: 6/8/5/10/3\n",
            "batch index 29, 0/1: 2/6/13/6/5\n",
            "batch index 30, 0/1: 6/6/9/8/3\n",
            "batch index 31, 0/1: 6/8/8/7/3\n",
            "batch index 32, 0/1: 8/5/7/8/4\n",
            "batch index 33, 0/1: 9/9/5/3/6\n",
            "batch index 34, 0/1: 4/8/9/5/6\n",
            "batch index 35, 0/1: 6/4/6/7/9\n",
            "batch index 36, 0/1: 7/7/5/7/6\n",
            "batch index 37, 0/1: 7/9/4/8/4\n",
            "batch index 38, 0/1: 6/4/5/10/7\n",
            "batch index 39, 0/1: 7/11/5/6/3\n",
            "batch index 40, 0/1: 9/7/5/4/7\n",
            "batch index 41, 0/1: 7/4/5/10/6\n",
            "batch index 42, 0/1: 5/8/6/8/5\n",
            "batch index 43, 0/1: 7/5/7/6/7\n",
            "batch index 44, 0/1: 9/5/5/8/5\n",
            "batch index 45, 0/1: 8/5/7/6/6\n",
            "batch index 46, 0/1: 6/7/8/5/6\n",
            "batch index 47, 0/1: 5/10/4/9/4\n",
            "batch index 48, 0/1: 6/9/5/4/8\n",
            "batch index 49, 0/1: 11/5/4/6/6\n",
            "batch index 50, 0/1: 6/10/7/7/2\n",
            "batch index 51, 0/1: 5/9/6/5/7\n",
            "batch index 52, 0/1: 8/2/12/7/3\n",
            "batch index 53, 0/1: 8/7/4/6/7\n",
            "batch index 54, 0/1: 11/4/10/3/4\n",
            "batch index 55, 0/1: 7/9/5/7/4\n",
            "batch index 56, 0/1: 7/7/7/2/9\n",
            "batch index 57, 0/1: 7/8/6/8/3\n",
            "batch index 58, 0/1: 2/7/10/9/4\n",
            "batch index 59, 0/1: 4/10/10/3/5\n",
            "batch index 60, 0/1: 3/6/5/12/6\n",
            "batch index 61, 0/1: 4/3/8/6/11\n",
            "batch index 62, 0/1: 5/9/7/5/6\n",
            "batch index 63, 0/1: 7/5/5/3/12\n",
            "batch index 64, 0/1: 8/7/6/6/5\n",
            "batch index 65, 0/1: 3/11/3/9/6\n",
            "batch index 66, 0/1: 3/6/10/6/7\n",
            "batch index 67, 0/1: 5/9/7/8/3\n",
            "batch index 68, 0/1: 4/7/8/9/4\n",
            "batch index 69, 0/1: 6/7/4/9/6\n",
            "batch index 70, 0/1: 8/6/5/5/8\n",
            "batch index 71, 0/1: 5/7/4/9/7\n",
            "batch index 72, 0/1: 7/4/5/9/7\n",
            "batch index 73, 0/1: 5/5/6/3/13\n",
            "batch index 74, 0/1: 4/5/7/8/8\n",
            "batch index 75, 0/1: 8/7/7/7/3\n",
            "batch index 76, 0/1: 6/9/6/3/8\n",
            "batch index 77, 0/1: 11/8/5/4/4\n",
            "batch index 78, 0/1: 10/6/6/6/4\n",
            "batch index 79, 0/1: 9/7/4/7/5\n",
            "batch index 80, 0/1: 6/6/8/7/5\n",
            "batch index 81, 0/1: 4/8/5/9/6\n",
            "batch index 82, 0/1: 8/5/7/4/8\n",
            "batch index 83, 0/1: 4/11/2/6/9\n",
            "batch index 84, 0/1: 5/4/9/7/7\n",
            "batch index 85, 0/1: 4/6/8/5/9\n",
            "batch index 86, 0/1: 3/4/4/11/10\n",
            "batch index 87, 0/1: 8/6/7/8/3\n",
            "batch index 88, 0/1: 5/8/4/8/7\n",
            "batch index 89, 0/1: 4/10/4/2/12\n",
            "batch index 90, 0/1: 8/4/3/9/8\n",
            "batch index 91, 0/1: 3/8/7/7/7\n",
            "batch index 92, 0/1: 9/3/8/4/8\n",
            "batch index 93, 0/1: 10/5/6/6/5\n",
            "batch index 94, 0/1: 6/6/5/7/8\n",
            "batch index 95, 0/1: 3/7/8/5/9\n",
            "batch index 96, 0/1: 7/9/7/4/5\n",
            "batch index 97, 0/1: 3/6/4/10/9\n",
            "batch index 98, 0/1: 5/4/6/9/8\n",
            "batch index 99, 0/1: 4/10/5/7/6\n",
            "batch index 100, 0/1: 4/5/5/11/7\n",
            "batch index 101, 0/1: 6/4/6/5/11\n",
            "batch index 102, 0/1: 10/6/4/7/5\n",
            "batch index 103, 0/1: 8/6/1/7/10\n",
            "batch index 104, 0/1: 7/3/6/9/7\n",
            "batch index 105, 0/1: 6/3/4/9/10\n",
            "batch index 106, 0/1: 5/6/6/5/0\n"
          ]
        }
      ],
      "source": [
        "for i, (data, target) in enumerate(train_dataloader):\n",
        "    print(\"batch index {}, 0/1: {}/{}/{}/{}/{}\".format(\n",
        "        i,\n",
        "        len(np.where(target.numpy() == 0)[0]),\n",
        "        len(np.where(target.numpy() == 1)[0]),\n",
        "        len(np.where(target.numpy() == 2)[0]),\n",
        "        len(np.where(target.numpy() == 3)[0]),\n",
        "        len(np.where(target.numpy() == 4)[0])))"
      ]
    },
    {
      "cell_type": "code",
      "execution_count": 13,
      "id": "d873d017",
      "metadata": {
        "id": "d873d017"
      },
      "outputs": [],
      "source": [
        "from torchvision import models\n",
        "model = models.efficientnet_b1(pretrained=False)\n",
        "model.fc = nn.Linear(2048, 5)\n",
        "#model.AuxLogits.fc = nn.Linear(768, 5)\n",
        "#model.load_state_dict(torch.load('/home/shrutihegde/Desktop/EfficientNet/Species_EfficientNet_with_augmentation.pt'))\n",
        "model = model.to(device)"
      ]
    },
    {
      "cell_type": "code",
      "execution_count": 16,
      "id": "d56a8459",
      "metadata": {
        "id": "d56a8459"
      },
      "outputs": [],
      "source": [
        "EPOCHS = 20\n",
        "criterion = nn.CrossEntropyLoss()\n",
        "optimizer = optim.Adam(model.parameters(),lr = 0.001, weight_decay = 1e-5)\n",
        "#optimizer = optim.SGD(model.parameters(), lr=0.0001)\n",
        "#scheduler = torch.optim.lr_scheduler.StepLR(optimizer, step_size=10, gamma=0.15)"
      ]
    },
    {
      "cell_type": "code",
      "execution_count": 17,
      "id": "f50004d7",
      "metadata": {
        "id": "f50004d7"
      },
      "outputs": [],
      "source": [
        "def focal_loss(inputs, targets, reduction=\"mean\"):\n",
        "    CE_loss = F.cross_entropy(inputs, targets, reduction=reduction)\n",
        "    pt = torch.exp(-CE_loss)  # prevents nans when probability 0\n",
        "    F_loss = 0.25 * (1 - pt) ** 5 * CE_loss\n",
        "    return F_loss.mean()"
      ]
    },
    {
      "cell_type": "code",
      "execution_count": 18,
      "id": "e40b6281",
      "metadata": {
        "id": "e40b6281"
      },
      "outputs": [],
      "source": [
        "def train(model):\n",
        "    train_loss = []\n",
        "    valid_loss = []\n",
        "    train_acc = []\n",
        "    valid_acc = []\n",
        "\n",
        "    for epoch in range (EPOCHS+1):\n",
        "        print(epoch)\n",
        "        correct = 0\n",
        "        total = 0\n",
        "        train_ave_loss = 0\n",
        "        model.train()\n",
        "        for batch_X, batch_Y in train_dataloader:\n",
        "            \n",
        "            batch_X = batch_X.to(device)\n",
        "            batch_Y = batch_Y.to(device)\n",
        "\n",
        "            # zero gradient\n",
        "            optimizer.zero_grad()\n",
        "            # pass through\n",
        "            outputs = model(batch_X)\n",
        "\n",
        "            # compute loss and back propagate\n",
        "            loss = criterion(outputs, batch_Y)\n",
        "            #loss2 = criterion(aux_outputs, batch_Y)\n",
        "            #loss = loss1 + 0.4 * loss2\n",
        "            \n",
        "            loss.backward()\n",
        "            # optimize\n",
        "            optimizer.step()\n",
        "            \n",
        "            train_ave_loss += loss.data.item()\n",
        "            _, predicted = outputs.max(1)\n",
        "            total += batch_Y.size(0)\n",
        "            correct += predicted.eq(batch_Y).sum().item()\n",
        "            \n",
        "        \n",
        "        train_loss.append(train_ave_loss/len(train_dataloader))\n",
        "        train_acc.append(100.*correct/total)\n",
        "        print(f\"Epoch: {epoch},Train Loss: {train_ave_loss/len(train_dataloader)} | Train Acc: {100.*correct/total} ({correct}/{total})\")\n",
        "    \n",
        "        if epoch % 1 == 0:\n",
        "        \n",
        "            model.eval()\n",
        "            valid_correct = 0\n",
        "            valid_total = 0\n",
        "            valid_ave_loss = 0\n",
        "            with torch.no_grad():\n",
        "\n",
        "                for valid_batch_X, valid_batch_Y in test_dataloader:\n",
        "                    \n",
        "                    valid_batch_X = valid_batch_X.to(device)\n",
        "                    valid_batch_Y = valid_batch_Y.to(device)\n",
        "            \n",
        "                    valid_outputs = model(valid_batch_X)\n",
        "                    loss = criterion(valid_outputs, valid_batch_Y)\n",
        "                    valid_ave_loss += loss.data.item()\n",
        "        \n",
        "                    _, predicted = valid_outputs.max(1)\n",
        "\n",
        "                    valid_correct += predicted.eq(valid_batch_Y).sum().item()\n",
        "                    valid_total += valid_batch_Y.size(0)\n",
        "                    \n",
        "            valid_loss.append(valid_ave_loss/len(test_dataloader))\n",
        "            valid_acc.append(100.*valid_correct/valid_total)\n",
        "    \n",
        "            print(f\"Validation Loss: {valid_ave_loss/len(test_dataloader)} | Validation Acc: {100.*valid_correct/valid_total} ({valid_correct}/{valid_total})\")\n",
        "            #torch.save(model.state_dict(), \\\n",
        "            #   'drive/MyDrive/pretrain_data_path/pretrain_Inception{}.pt'.format(str(epoch//1+2)))\n",
        "        \n",
        "        #scheduler.step()\n",
        "        \n",
        "    return train_loss, valid_loss, train_acc, valid_acc\n",
        "\n",
        "        \n",
        "def test(model):\n",
        "    correct = 0 \n",
        "    total = 0\n",
        "    model.eval()\n",
        "    out = []\n",
        "    with torch.no_grad():\n",
        "        for inputs, labels in test_dataloader:\n",
        "            \n",
        "            inputs = inputs.to(device)\n",
        "            labels = labels.to(device)\n",
        "            \n",
        "            outputs = model(inputs)\n",
        "            #loss = criterion(outputs, test_y[i].to(device).long())\n",
        "            _, predicted = outputs.max(1)\n",
        "            out.append(predicted.cpu().detach().numpy())\n",
        "\n",
        "            correct += predicted.eq(labels).sum().item()\n",
        "            total += labels.size(0)\n",
        "    \n",
        "    print(\"Accuracy:\", round(correct/total, 3))\n",
        "    return out"
      ]
    },
    {
      "cell_type": "code",
      "execution_count": 19,
      "id": "1da206ad",
      "metadata": {
        "id": "1da206ad",
        "outputId": "489e3272-ffd3-408b-dafa-000102ae29bf",
        "colab": {
          "base_uri": "https://localhost:8080/"
        }
      },
      "outputs": [
        {
          "output_type": "stream",
          "name": "stdout",
          "text": [
            "0\n",
            "Epoch: 0,Train Loss: 1.613382317195429 | Train Acc: 46.983011130638545 (1604/3414)\n",
            "Validation Loss: 1.5260395270236062 | Validation Acc: 50.8637236084453 (530/1042)\n",
            "1\n",
            "Epoch: 1,Train Loss: 0.9865666828422903 | Train Acc: 58.99238429994142 (2014/3414)\n",
            "Validation Loss: 1.13280183709029 | Validation Acc: 63.243761996161226 (659/1042)\n",
            "2\n",
            "Epoch: 2,Train Loss: 0.8574588627458732 | Train Acc: 65.17281780902168 (2225/3414)\n",
            "Validation Loss: 0.8735457505240585 | Validation Acc: 66.98656429942419 (698/1042)\n",
            "3\n",
            "Epoch: 3,Train Loss: 0.8013484007287248 | Train Acc: 68.2190978324546 (2329/3414)\n",
            "Validation Loss: 0.8156065803627963 | Validation Acc: 68.90595009596929 (718/1042)\n",
            "4\n",
            "Epoch: 4,Train Loss: 0.7608991316824316 | Train Acc: 68.77562975981253 (2348/3414)\n",
            "Validation Loss: 0.8921856962172596 | Validation Acc: 69.28982725527831 (722/1042)\n",
            "5\n",
            "Epoch: 5,Train Loss: 0.7007964267351917 | Train Acc: 71.90978324545988 (2455/3414)\n",
            "Validation Loss: 0.9661931562039888 | Validation Acc: 66.21880998080614 (690/1042)\n",
            "6\n",
            "Epoch: 6,Train Loss: 0.6749036248042205 | Train Acc: 72.31985940246045 (2469/3414)\n",
            "Validation Loss: 0.900123164509282 | Validation Acc: 68.42610364683301 (713/1042)\n",
            "7\n",
            "Epoch: 7,Train Loss: 0.6048025491638719 | Train Acc: 75.04393673110721 (2562/3414)\n",
            "Validation Loss: 0.9395878233692863 | Validation Acc: 65.93090211132437 (687/1042)\n",
            "8\n",
            "Epoch: 8,Train Loss: 0.5829177585160621 | Train Acc: 76.6256590509666 (2616/3414)\n",
            "Validation Loss: 0.6398193258227725 | Validation Acc: 78.69481765834932 (820/1042)\n",
            "9\n",
            "Epoch: 9,Train Loss: 0.5592518883330799 | Train Acc: 77.09431751611014 (2632/3414)\n",
            "Validation Loss: 0.5673612125613021 | Validation Acc: 79.17466410748561 (825/1042)\n",
            "10\n",
            "Epoch: 10,Train Loss: 0.4983858368664144 | Train Acc: 79.93555946104277 (2729/3414)\n",
            "Validation Loss: 0.6610869939410777 | Validation Acc: 81.09404990403071 (845/1042)\n",
            "11\n",
            "Epoch: 11,Train Loss: 0.49490783830112384 | Train Acc: 80.57996485061511 (2751/3414)\n",
            "Validation Loss: 0.6494523048908873 | Validation Acc: 77.35124760076775 (806/1042)\n",
            "12\n",
            "Epoch: 12,Train Loss: 0.4916987208841003 | Train Acc: 80.14059753954305 (2736/3414)\n",
            "Validation Loss: 0.515781328533635 | Validation Acc: 82.14971209213051 (856/1042)\n",
            "13\n",
            "Epoch: 13,Train Loss: 0.461670354287201 | Train Acc: 81.63444639718804 (2787/3414)\n",
            "Validation Loss: 0.6088617122749742 | Validation Acc: 77.83109404990402 (811/1042)\n",
            "14\n",
            "Epoch: 14,Train Loss: 0.4573026509764038 | Train Acc: 82.01523140011716 (2800/3414)\n",
            "Validation Loss: 0.47223751540436887 | Validation Acc: 84.26103646833013 (878/1042)\n",
            "15\n",
            "Epoch: 15,Train Loss: 0.40909422641602633 | Train Acc: 83.77270064440539 (2860/3414)\n",
            "Validation Loss: 0.6525266965230306 | Validation Acc: 81.19001919385796 (846/1042)\n",
            "16\n",
            "Epoch: 16,Train Loss: 0.4276639649244112 | Train Acc: 83.12829525483303 (2838/3414)\n",
            "Validation Loss: 0.7014320146743999 | Validation Acc: 79.27063339731286 (826/1042)\n",
            "17\n",
            "Epoch: 17,Train Loss: 0.36816931411484694 | Train Acc: 85.70591681312244 (2926/3414)\n",
            "Validation Loss: 0.6277100922624496 | Validation Acc: 80.61420345489444 (840/1042)\n",
            "18\n",
            "Epoch: 18,Train Loss: 0.37222728523138526 | Train Acc: 85.32513181019333 (2913/3414)\n",
            "Validation Loss: 0.469666279386729 | Validation Acc: 85.79654510556622 (894/1042)\n",
            "19\n",
            "Epoch: 19,Train Loss: 0.37890804398839717 | Train Acc: 85.50087873462215 (2919/3414)\n",
            "Validation Loss: 0.44316434724191134 | Validation Acc: 86.18042226487523 (898/1042)\n",
            "20\n",
            "Epoch: 20,Train Loss: 0.385743776214457 | Train Acc: 85.17867603983596 (2908/3414)\n",
            "Validation Loss: 0.5441657664769357 | Validation Acc: 84.06909788867563 (876/1042)\n"
          ]
        }
      ],
      "source": [
        "train_loss, valid_loss, train_acc, valid_acc = train(model)"
      ]
    },
    {
      "cell_type": "code",
      "execution_count": 20,
      "id": "38d19c2e",
      "metadata": {
        "id": "38d19c2e",
        "colab": {
          "base_uri": "https://localhost:8080/"
        },
        "outputId": "96ccccf8-52d1-452e-a6e7-47c7cb500d09"
      },
      "outputs": [
        {
          "output_type": "stream",
          "name": "stdout",
          "text": [
            "Accuracy: 0.841\n"
          ]
        }
      ],
      "source": [
        " out = test(model)"
      ]
    },
    {
      "cell_type": "code",
      "execution_count": 21,
      "id": "fe9bc918",
      "metadata": {
        "id": "fe9bc918"
      },
      "outputs": [],
      "source": [
        "out = np.concatenate(out).ravel()"
      ]
    },
    {
      "cell_type": "code",
      "execution_count": 22,
      "id": "c6a23a2d",
      "metadata": {
        "id": "c6a23a2d",
        "colab": {
          "base_uri": "https://localhost:8080/"
        },
        "outputId": "b86c98c2-d1d8-442b-840e-4b3142c9084f"
      },
      "outputs": [
        {
          "output_type": "execute_result",
          "data": {
            "text/plain": [
              "array([2, 2, 2, ..., 4, 4, 4])"
            ]
          },
          "metadata": {},
          "execution_count": 22
        }
      ],
      "source": [
        "out"
      ]
    },
    {
      "cell_type": "code",
      "execution_count": 23,
      "id": "702810dc",
      "metadata": {
        "id": "702810dc",
        "colab": {
          "base_uri": "https://localhost:8080/",
          "height": 738
        },
        "outputId": "d54d895a-3068-4f7d-a825-bcf7c2da0c3d"
      },
      "outputs": [
        {
          "output_type": "stream",
          "name": "stdout",
          "text": [
            "              precision    recall  f1-score   support\n",
            "\n",
            "           0       0.96      0.87      0.91       410\n",
            "           1       0.62      0.68      0.65       159\n",
            "           2       0.66      0.89      0.76       151\n",
            "           3       0.95      0.87      0.91       252\n",
            "           4       0.94      0.84      0.89        70\n",
            "\n",
            "    accuracy                           0.84      1042\n",
            "   macro avg       0.83      0.83      0.82      1042\n",
            "weighted avg       0.86      0.84      0.85      1042\n",
            "\n"
          ]
        },
        {
          "output_type": "display_data",
          "data": {
            "text/plain": [
              "<Figure size 576x576 with 2 Axes>"
            ],
            "image/png": "[encoded data removed]"
          },
          "metadata": {
            "needs_background": "light"
          }
        }
      ],
      "source": [
        "import seaborn as sn\n",
        "from sklearn.metrics import classification_report\n",
        "from sklearn.metrics import confusion_matrix\n",
        "species_all = [\"AF\",\n",
        "        \"AG\",\n",
        "        \"A_other\",\n",
        "        \"Culex\",\n",
        "        \"Other\"]\n",
        "# print classification report\n",
        "print(classification_report(test_label, out))\n",
        "\n",
        "# make confusion matrix\n",
        "conf_mat = confusion_matrix(test_label, out)\n",
        "conf_mat = conf_mat / np.expand_dims(conf_mat.astype(np.float64).sum(axis=1),1)\n",
        "conf_mat = np.round(conf_mat, decimals=2)\n",
        "fig = plt.figure(figsize=(8,8))\n",
        "ax = plt.subplot()\n",
        "hm = sn.heatmap(conf_mat, annot=True, ax = ax, cmap=\"PuBu\", fmt='.2', annot_kws={\"size\": 35 / np.sqrt(len(conf_mat))})\n",
        "ax.set_yticklabels(hm.get_yticklabels(), rotation=90)\n",
        "ax.set_xlabel('Predicted labels', fontsize = 15);ax.set_ylabel('True labels', fontsize = 15); \n",
        "ax.xaxis.set_ticklabels(species_all); ax.yaxis.set_ticklabels(species_all)\n",
        "plt.xticks(rotation = 90)\n",
        "plt.yticks(rotation = 0)\n",
        "plt.savefig('/content/drive/MyDrive/CBID/EfficientNet/Species_EfficirntNet_with_augmentation2.jpg')\n",
        "plt.show();\n"
      ]
    },
    {
      "cell_type": "code",
      "execution_count": 24,
      "id": "0c9de0d3",
      "metadata": {
        "id": "0c9de0d3"
      },
      "outputs": [],
      "source": [
        "torch.save(model.state_dict(), \\\n",
        "               '/content/drive/MyDrive/CBID/EfficientNet/Species_EfficientNet_with_augmentation2.pt')"
      ]
    },
    {
      "cell_type": "code",
      "execution_count": null,
      "id": "e9b44bde",
      "metadata": {
        "id": "e9b44bde"
      },
      "outputs": [],
      "source": [
        ""
      ]
    }
  ],
  "metadata": {
    "colab": {
      "collapsed_sections": [
        "ADSzINp0sJt1",
        "hQd_jHtYuFZI",
        "dmxZkl8gtZuc"
      ],
      "name": "Species_EfficientNet_2.ipynb",
      "provenance": []
    },
    "kernelspec": {
      "display_name": "torch",
      "language": "python",
      "name": "torch"
    },
    "language_info": {
      "codemirror_mode": {
        "name": "ipython",
        "version": 3
      },
      "file_extension": ".py",
      "mimetype": "text/x-python",
      "name": "python",
      "nbconvert_exporter": "python",
      "pygments_lexer": "ipython3",
      "version": "3.9.12"
    },
    "accelerator": "GPU"
  },
  "nbformat": 4,
  "nbformat_minor": 5
}