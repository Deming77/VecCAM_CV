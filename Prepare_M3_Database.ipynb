{
 "cells": [
  {
   "cell_type": "code",
   "execution_count": 16,
   "id": "d5bd2501",
   "metadata": {},
   "outputs": [],
   "source": [
    "%matplotlib inline\n",
    "import numpy as np\n",
    "import pandas as pd\n",
    "import matplotlib.pyplot as plt\n",
    "import time\n",
    "import random\n",
    "import math\n",
    "import os\n",
    "import torch\n",
    "import torch.nn as nn\n",
    "import torch.nn.functional as F\n",
    "import torch.optim as optim\n",
    "import re\n"
   ]
  },
  {
   "cell_type": "code",
   "execution_count": 17,
   "id": "c92c1fe0",
   "metadata": {},
   "outputs": [
    {
     "name": "stdout",
     "output_type": "stream",
     "text": [
      "Files and directories in ' ./M3_Database/ ' :\n",
      "['aedes_aegypti_f_NEWORLEANS_image0072.jpg', 'aedes_aegypti_f_NEWORLEANS_image0007.jpg', 'anopheles_atroparvus_f_EBRO_image0020.jpg', 'aedes_aegypti_f_NEWORLEANS_image0143.jpg', 'anopheles_arabiensis_m_DONGOLA_image0049.jpg', 'anopheles_coluzzi_f_MOPTI_image0012.jpg', 'anopheles_albimanus_f_STECLA_image0009.jpg', 'anopheles_arabiensis_m_DONGOLA_image0009.jpg', 'aedes_aegypti_m_NEWORLEANS_image0049.jpg', 'anopheles_arabiensis_f_DONGOLA_image0067.jpg', 'aedes_aegypti_f_NEWORLEANS_image0049.jpg', 'anopheles_arabiensis_f_DONGOLA_image0050.jpg', 'anopheles_arabiensis_f_DONGOLA_image0076.jpg', 'anopheles_atroparvus_f_EBRO_image0023.jpg', 'anopheles_coluzzi_f_MOPTI_image0050.jpg', 'anopheles_arabiensis_f_DONGOLA_image0106.jpg', 'aedes_aegypti_f_NEWORLEANS_image0090.jpg', 'aedes_aegypti_f_NEWORLEANS_image0148.jpg', 'anopheles_farauti_m_FAR1_image0008.jpg', 'anopheles_arabiensis_f_DONGOLA_image0065.jpg', 'anopheles_arabiensis_f_DONGOLA_image0064.jpg', 'anopheles_coluzzi_f_MOPTI_image0024.jpg', 'aedes_aegypti_f_NEWORLEANS_image0013.jpg', 'anopheles_arabiensis_f_DONGOLA_image0060.jpg', 'anopheles_coluzzi_m_MOPTI_image0011.jpg', 'aedes_aegypti_f_NEWORLEANS_image0100.jpg', 'anopheles_arabiensis_f_DONGOLA_image0038.jpg', 'anopheles_arabiensis_m_DONGOLA_image0007.jpg', 'anopheles_freeborni_m_F1_image0041.jpg', 'anopheles_freeborni_f_F1_image0036.jpg', 'anopheles_albimanus_m_STECLA_image0008.jpg', 'anopheles_albimanus_f_STECLA_image0014.jpg', 'anopheles_arabiensis_m_DONGOLA_image0058.jpg', 'anopheles_albimanus_f_STECLA_image0002.jpg', 'anopheles_coluzzi_f_MOPTI_image0005.jpg', 'aedes_aegypti_f_NEWORLEANS_image0145.jpg', 'anopheles_albimanus_f_STECLA_image0025.jpg', 'anopheles_arabiensis_m_DONGOLA_image0035.jpg', 'aedes_aegypti_m_NEWORLEANS_image0039.jpg', 'anopheles_freeborni_f_F1_image0017.jpg', 'anopheles_freeborni_m_F1_image0043.jpg', 'aedes_aegypti_f_NEWORLEANS_image0102.jpg', 'aedes_aegypti_m_NEWORLEANS_image0019.jpg', 'anopheles_coluzzi_f_MOPTI_image0015.jpg', 'aedes_aegypti_m_NEWORLEANS_image0069.jpg', 'aedes_aegypti_m_NEWORLEANS_image0012.jpg', 'anopheles_albimanus_f_STECLA_image0032.jpg', 'anopheles_coluzzi_f_MOPTI_image0001.jpg', 'anopheles_coluzzi_m_MOPTI_image0012.jpg', 'anopheles_atroparvus_f_EBRO_image0001.jpg', 'anopheles_coluzzi_f_MOPTI_image0017.jpg', 'aedes_aegypti_m_NEWORLEANS_image0059.jpg', 'anopheles_coluzzi_f_MOPTI_image0025.jpg', 'anopheles_arabiensis_f_DONGOLA_image0027.jpg', 'anopheles_freeborni_f_F1_image0010.jpg', 'aedes_aegypti_f_NEWORLEANS_image0035.jpg', 'anopheles_arabiensis_f_DONGOLA_image0033.jpg', 'aedes_aegypti_m_NEWORLEANS_image0053.jpg', 'anopheles_coluzzi_f_MOPTI_image0041.jpg', 'anopheles_freeborni_f_F1_image0040.jpg', 'anopheles_coluzzi_f_MOPTI_image0042.jpg', 'aedes_aegypti_f_NEWORLEANS_image0025.jpg', 'aedes_aegypti_f_NEWORLEANS_image0114.jpg', 'anopheles_arabiensis_f_DONGOLA_image0100.jpg', 'aedes_aegypti_m_NEWORLEANS_image0016.jpg', 'anopheles_albimanus_m_STECLA_image0018.jpg', 'anopheles_arabiensis_f_DONGOLA_image0005.jpg', 'aedes_aegypti_f_NEWORLEANS_image0087.jpg', 'aedes_aegypti_f_NEWORLEANS_image0040.jpg', 'anopheles_coluzzi_f_MOPTI_image0044.jpg', 'aedes_aegypti_f_NEWORLEANS_image0059.jpg', 'anopheles_arabiensis_f_DONGOLA_image0061.jpg', 'anopheles_albimanus_f_STECLA_image0023.jpg', 'anopheles_albimanus_f_STECLA_image0007.jpg', 'anopheles_freeborni_m_F1_image0026.jpg', 'aedes_aegypti_m_NEWORLEANS_image0036.jpg', 'anopheles_albimanus_m_STECLA_image0023.jpg', 'aedes_aegypti_f_NEWORLEANS_image0006.jpg', 'anopheles_arabiensis_f_DONGOLA_image0077.jpg', 'aedes_aegypti_f_NEWORLEANS_image0054.jpg', 'aedes_aegypti_m_NEWORLEANS_image0063.jpg', 'anopheles_coluzzi_m_MOPTI_image0019.jpg', 'aedes_aegypti_m_NEWORLEANS_image0018.jpg', 'anopheles_freeborni_f_F1_image0044.jpg', 'aedes_aegypti_f_NEWORLEANS_image0112.jpg', 'aedes_aegypti_f_NEWORLEANS_image0077.jpg', 'anopheles_farauti_m_FAR1_image0037.jpg', 'aedes_aegypti_f_NEWORLEANS_image0111.jpg', 'anopheles_freeborni_m_F1_image0028.jpg', 'anopheles_freeborni_m_F1_image0011.jpg', 'aedes_aegypti_f_NEWORLEANS_image0139.jpg', 'aedes_aegypti_m_NEWORLEANS_image0022.jpg', 'aedes_aegypti_f_NEWORLEANS_image0053.jpg', 'anopheles_arabiensis_m_DONGOLA_image0029.jpg', 'anopheles_arabiensis_m_DONGOLA_image0037.jpg', 'anopheles_farauti_m_FAR1_image0027.jpg', 'anopheles_arabiensis_f_DONGOLA_image0051.jpg', 'anopheles_atroparvus_f_EBRO_image0033.jpg', 'anopheles_freeborni_m_F1_image0037.jpg', 'anopheles_atroparvus_f_EBRO_image0036.jpg', 'anopheles_arabiensis_f_DONGOLA_image0006.jpg', 'aedes_aegypti_f_NEWORLEANS_image0019.jpg', 'anopheles_albimanus_m_STECLA_image0024.jpg', 'aedes_aegypti_m_NEWORLEANS_image0055.jpg', 'anopheles_arabiensis_m_DONGOLA_image0021.jpg', 'anopheles_arabiensis_f_DONGOLA_image0091.jpg', 'anopheles_arabiensis_m_DONGOLA_image0001.jpg', 'anopheles_arabiensis_f_DONGOLA_image0055.jpg', 'anopheles_arabiensis_f_DONGOLA_image0004.jpg', 'anopheles_arabiensis_f_DONGOLA_image0086.jpg', 'aedes_aegypti_m_NEWORLEANS_image0001.jpg', 'aedes_aegypti_f_NEWORLEANS_image0129.jpg', 'anopheles_arabiensis_f_DONGOLA_image0058.jpg', 'aedes_aegypti_f_NEWORLEANS_image0050.jpg', 'anopheles_coluzzi_m_MOPTI_image0008.jpg', 'anopheles_arabiensis_f_DONGOLA_image0047.jpg', 'anopheles_atroparvus_f_EBRO_image0004.jpg', 'anopheles_arabiensis_m_DONGOLA_image0006.jpg', 'anopheles_arabiensis_m_DONGOLA_image0030.jpg', 'anopheles_albimanus_f_STECLA_image0030.jpg', 'anopheles_farauti_m_FAR1_image0026.jpg', 'aedes_aegypti_f_NEWORLEANS_image0011.jpg', 'anopheles_arabiensis_m_DONGOLA_image0028.jpg', 'aedes_aegypti_f_NEWORLEANS_image0045.jpg', 'aedes_aegypti_f_NEWORLEANS_image0009.jpg', 'aedes_aegypti_f_NEWORLEANS_image0056.jpg', 'anopheles_albimanus_f_STECLA_image0003.jpg', 'anopheles_freeborni_m_F1_image0005.jpg', 'anopheles_arabiensis_m_DONGOLA_image0038.jpg', 'aedes_aegypti_f_NEWORLEANS_image0044.jpg', 'anopheles_albimanus_f_STECLA_image0037.jpg', 'anopheles_freeborni_f_F1_image0032.jpg', 'anopheles_coluzzi_f_MOPTI_image0026.jpg', 'aedes_aegypti_m_NEWORLEANS_image0025.jpg', 'anopheles_arabiensis_f_DONGOLA_image0092.jpg', 'aedes_aegypti_m_NEWORLEANS_image0004.jpg', 'aedes_aegypti_f_NEWORLEANS_image0027.jpg', 'aedes_aegypti_m_NEWORLEANS_image0040.jpg', 'anopheles_coluzzi_f_MOPTI_image0002.jpg', 'anopheles_freeborni_f_F1_image0003.jpg', 'aedes_aegypti_m_NEWORLEANS_image0021.jpg', 'anopheles_arabiensis_f_DONGOLA_image0045.jpg', 'anopheles_freeborni_m_F1_image0031.jpg', 'anopheles_farauti_m_FAR1_image0031.jpg', 'anopheles_coluzzi_m_MOPTI_image0010.jpg', 'anopheles_freeborni_f_F1_image0004.jpg', 'anopheles_freeborni_m_F1_image0013.jpg', 'aedes_aegypti_f_NEWORLEANS_image0096.jpg', 'anopheles_albimanus_m_STECLA_image0004.jpg', 'anopheles_freeborni_f_F1_image0023.jpg', 'anopheles_arabiensis_f_DONGOLA_image0063.jpg', 'aedes_aegypti_f_NEWORLEANS_image0103.jpg', 'anopheles_freeborni_f_F1_image0045.jpg', 'anopheles_arabiensis_f_DONGOLA_image0069.jpg', 'anopheles_freeborni_f_F1_image0022.jpg', 'aedes_aegypti_f_NEWORLEANS_image0101.jpg', 'aedes_aegypti_f_NEWORLEANS_image0069.jpg', 'anopheles_arabiensis_f_DONGOLA_image0104.jpg', 'anopheles_arabiensis_f_DONGOLA_image0039.jpg', 'anopheles_arabiensis_f_DONGOLA_image0068.jpg', 'aedes_aegypti_f_NEWORLEANS_image0062.jpg', 'anopheles_arabiensis_m_DONGOLA_image0024.jpg', 'aedes_aegypti_f_NEWORLEANS_image0038.jpg', 'anopheles_coluzzi_m_MOPTI_image0015.jpg', 'anopheles_albimanus_f_STECLA_image0018.jpg', 'anopheles_arabiensis_m_DONGOLA_image0031.jpg', 'aedes_aegypti_m_NEWORLEANS_image0007.jpg', 'anopheles_arabiensis_m_DONGOLA_image0033.jpg', 'aedes_aegypti_m_NEWORLEANS_image0041.jpg', 'anopheles_arabiensis_f_DONGOLA_image0023.jpg', 'aedes_aegypti_f_NEWORLEANS_image0052.jpg', 'aedes_aegypti_f_NEWORLEANS_image0135.jpg', 'aedes_aegypti_f_NEWORLEANS_image0047.jpg', 'aedes_aegypti_f_NEWORLEANS_image0029.jpg', 'anopheles_freeborni_f_F1_image0030.jpg', 'anopheles_farauti_m_FAR1_image0041.jpg', 'anopheles_coluzzi_m_MOPTI_image0014.jpg', 'anopheles_farauti_m_FAR1_image0036.jpg', 'anopheles_atroparvus_f_EBRO_image0024.jpg', 'anopheles_arabiensis_f_DONGOLA_image0125.jpg', 'anopheles_coluzzi_f_MOPTI_image0014.jpg', 'anopheles_freeborni_f_F1_image0037.jpg', 'anopheles_atroparvus_f_EBRO_image0034.jpg', 'aedes_aegypti_f_NEWORLEANS_image0074.jpg', 'aedes_aegypti_m_NEWORLEANS_image0058.jpg', 'aedes_aegypti_m_NEWORLEANS_image0062.jpg', 'aedes_aegypti_f_NEWORLEANS_image0048.jpg', 'anopheles_freeborni_m_F1_image0033.jpg', 'anopheles_farauti_m_FAR1_image0009.jpg', 'anopheles_arabiensis_f_DONGOLA_image0062.jpg', 'aedes_aegypti_m_NEWORLEANS_image0031.jpg', 'aedes_aegypti_f_NEWORLEANS_image0119.jpg', 'aedes_aegypti_f_NEWORLEANS_image0041.jpg', 'anopheles_albimanus_f_STECLA_image0031.jpg', 'anopheles_freeborni_m_F1_image0018.jpg', 'anopheles_freeborni_f_F1_image0011.jpg', 'anopheles_arabiensis_m_DONGOLA_image0066.jpg', 'anopheles_freeborni_m_F1_image0036.jpg', 'anopheles_arabiensis_f_DONGOLA_image0083.jpg', 'anopheles_arabiensis_m_DONGOLA_image0067.jpg', 'aedes_aegypti_f_NEWORLEANS_image0065.jpg', 'anopheles_atroparvus_f_EBRO_image0022.jpg', 'aedes_aegypti_f_NEWORLEANS_image0017.jpg', 'anopheles_arabiensis_m_DONGOLA_image0060.jpg', 'anopheles_arabiensis_m_DONGOLA_image0039.jpg', 'anopheles_arabiensis_m_DONGOLA_image0052.jpg', 'anopheles_atroparvus_f_EBRO_image0012.jpg', 'aedes_aegypti_f_NEWORLEANS_image0075.jpg', 'anopheles_albimanus_f_STECLA_image0028.jpg', 'anopheles_albimanus_f_STECLA_image0036.jpg', 'aedes_aegypti_f_NEWORLEANS_image0086.jpg', 'anopheles_farauti_f_FAR1_image0008.jpg', 'aedes_aegypti_m_NEWORLEANS_image0030.jpg', 'anopheles_arabiensis_f_DONGOLA_image0078.jpg', 'anopheles_freeborni_m_F1_image0027.jpg', 'anopheles_arabiensis_f_DONGOLA_image0089.jpg', 'anopheles_freeborni_f_F1_image0034.jpg', 'anopheles_farauti_m_FAR1_image0029.jpg', 'anopheles_farauti_m_FAR1_image0045.jpg', 'anopheles_farauti_m_FAR1_image0014.jpg', 'aedes_aegypti_f_NEWORLEANS_image0109.jpg', 'aedes_aegypti_f_NEWORLEANS_image0055.jpg', 'aedes_aegypti_m_NEWORLEANS_image0013.jpg', 'anopheles_atroparvus_f_EBRO_image0031.jpg', 'aedes_aegypti_f_NEWORLEANS_image0091.jpg', 'anopheles_albimanus_m_STECLA_image0014.jpg', 'anopheles_atroparvus_f_EBRO_image0021.jpg', 'anopheles_albimanus_f_STECLA_image0027.jpg', 'anopheles_atroparvus_f_EBRO_image0035.jpg', 'anopheles_freeborni_f_F1_image0016.jpg', 'anopheles_farauti_m_FAR1_image0028.jpg', 'aedes_aegypti_f_NEWORLEANS_image0120.jpg', 'anopheles_arabiensis_f_DONGOLA_image0119.jpg', 'aedes_aegypti_m_NEWORLEANS_image0008.jpg', 'aedes_aegypti_f_NEWORLEANS_image0083.jpg', 'aedes_aegypti_f_NEWORLEANS_image0037.jpg', 'anopheles_coluzzi_m_MOPTI_image0013.jpg', 'anopheles_freeborni_m_F1_image0003.jpg', 'aedes_aegypti_m_NEWORLEANS_image0035.jpg', 'aedes_aegypti_f_NEWORLEANS_image0005.jpg', 'anopheles_albimanus_f_STECLA_image0039.jpg', 'anopheles_albimanus_m_STECLA_image0010.jpg', 'anopheles_freeborni_m_F1_image0006.jpg', 'anopheles_arabiensis_f_DONGOLA_image0082.jpg', 'anopheles_freeborni_f_F1_image0002.jpg', 'anopheles_albimanus_m_STECLA_image0001.jpg', 'anopheles_arabiensis_f_DONGOLA_image0109.jpg', 'anopheles_freeborni_m_F1_image0022.jpg', 'anopheles_freeborni_m_F1_image0048.jpg', 'aedes_aegypti_f_NEWORLEANS_image0016.jpg', 'aedes_aegypti_f_NEWORLEANS_image0024.jpg', 'aedes_aegypti_f_NEWORLEANS_image0046.jpg', 'anopheles_arabiensis_m_DONGOLA_image0004.jpg', 'anopheles_arabiensis_m_DONGOLA_image0056.jpg', 'anopheles_coluzzi_f_MOPTI_image0021.jpg', 'anopheles_coluzzi_f_MOPTI_image0031.jpg', 'anopheles_atroparvus_f_EBRO_image0003.jpg', 'aedes_aegypti_m_NEWORLEANS_image0060.jpg', 'anopheles_arabiensis_f_DONGOLA_image0056.jpg', 'anopheles_arabiensis_f_DONGOLA_image0071.jpg', 'anopheles_coluzzi_f_MOPTI_image0020.jpg', 'aedes_aegypti_m_NEWORLEANS_image0015.jpg', 'anopheles_albimanus_m_STECLA_image0009.jpg', 'anopheles_freeborni_m_F1_image0002.jpg', 'anopheles_freeborni_f_F1_image0038.jpg', 'anopheles_arabiensis_f_DONGOLA_image0094.jpg', 'anopheles_arabiensis_f_DONGOLA_image0034.jpg', 'anopheles_arabiensis_f_DONGOLA_image0096.jpg', 'anopheles_freeborni_m_F1_image0035.jpg', 'anopheles_freeborni_m_F1_image0023.jpg', 'anopheles_freeborni_m_F1_image0014.jpg', 'aedes_aegypti_m_NEWORLEANS_image0065.jpg', 'aedes_aegypti_f_NEWORLEANS_image0146.jpg', 'aedes_aegypti_f_NEWORLEANS_image0104.jpg', 'aedes_aegypti_m_NEWORLEANS_image0047.jpg', 'aedes_aegypti_f_NEWORLEANS_image0085.jpg', 'anopheles_arabiensis_f_DONGOLA_image0019.jpg', 'anopheles_arabiensis_m_DONGOLA_image0032.jpg', 'anopheles_coluzzi_f_MOPTI_image0003.jpg', 'anopheles_arabiensis_f_DONGOLA_image0057.jpg', 'aedes_aegypti_f_NEWORLEANS_image0015.jpg', 'aedes_aegypti_f_NEWORLEANS_image0078.jpg', 'anopheles_coluzzi_f_MOPTI_image0018.jpg', 'anopheles_farauti_f_FAR1_image0001.jpg', 'aedes_aegypti_f_NEWORLEANS_image0081.jpg', 'anopheles_freeborni_m_F1_image0024.jpg', 'anopheles_arabiensis_m_DONGOLA_image0012.jpg', 'aedes_aegypti_m_NEWORLEANS_image0045.jpg', 'anopheles_arabiensis_m_DONGOLA_image0047.jpg', 'anopheles_arabiensis_m_DONGOLA_image0059.jpg', 'anopheles_atroparvus_f_EBRO_image0006.jpg', 'aedes_aegypti_m_NEWORLEANS_image0020.jpg', 'anopheles_freeborni_f_F1_image0041.jpg', 'anopheles_arabiensis_f_DONGOLA_image0120.jpg', 'anopheles_albimanus_f_STECLA_image0026.jpg', 'anopheles_freeborni_f_F1_image0024.jpg', 'anopheles_arabiensis_f_DONGOLA_image0035.jpg', 'anopheles_albimanus_f_STECLA_image0038.jpg', 'anopheles_arabiensis_m_DONGOLA_image0055.jpg', 'aedes_aegypti_m_NEWORLEANS_image0024.jpg', 'anopheles_arabiensis_f_DONGOLA_image0108.jpg', 'aedes_aegypti_f_NEWORLEANS_image0108.jpg', 'anopheles_arabiensis_f_DONGOLA_image0084.jpg', 'anopheles_freeborni_m_F1_image0015.jpg', 'aedes_aegypti_f_NEWORLEANS_image0132.jpg', 'anopheles_coluzzi_f_MOPTI_image0034.jpg', 'anopheles_arabiensis_f_DONGOLA_image0116.jpg', 'anopheles_albimanus_m_STECLA_image0022.jpg', 'aedes_aegypti_f_NEWORLEANS_image0064.jpg', 'anopheles_arabiensis_m_DONGOLA_image0062.jpg', 'anopheles_albimanus_m_STECLA_image0016.jpg', 'anopheles_albimanus_f_STECLA_image0001.jpg', 'aedes_aegypti_f_NEWORLEANS_image0107.jpg', 'anopheles_arabiensis_m_DONGOLA_image0010.jpg', 'aedes_aegypti_f_NEWORLEANS_image0141.jpg', 'aedes_aegypti_f_NEWORLEANS_image0004.jpg', 'anopheles_arabiensis_f_DONGOLA_image0070.jpg', 'aedes_aegypti_m_NEWORLEANS_image0068.jpg', 'aedes_aegypti_f_NEWORLEANS_image0070.jpg', 'anopheles_coluzzi_f_MOPTI_image0048.jpg', 'anopheles_arabiensis_f_DONGOLA_image0054.jpg', 'anopheles_coluzzi_f_MOPTI_image0028.jpg', 'anopheles_arabiensis_f_DONGOLA_image0040.jpg', 'aedes_aegypti_f_NEWORLEANS_image0080.jpg', 'aedes_aegypti_f_NEWORLEANS_image0036.jpg', 'aedes_aegypti_f_NEWORLEANS_image0092.jpg', 'anopheles_arabiensis_f_DONGOLA_image0079.jpg', 'aedes_aegypti_f_NEWORLEANS_image0031.jpg', 'anopheles_arabiensis_m_DONGOLA_image0026.jpg', 'anopheles_arabiensis_f_DONGOLA_image0008.jpg', 'anopheles_coluzzi_f_MOPTI_image0032.jpg', 'anopheles_arabiensis_f_DONGOLA_image0099.jpg', 'anopheles_arabiensis_f_DONGOLA_image0037.jpg', 'anopheles_freeborni_m_F1_image0044.jpg', 'anopheles_farauti_m_FAR1_image0005.jpg', 'aedes_aegypti_f_NEWORLEANS_image0084.jpg', 'aedes_aegypti_f_NEWORLEANS_image0095.jpg', 'anopheles_farauti_f_FAR1_image0006.jpg', 'aedes_aegypti_f_NEWORLEANS_image0043.jpg', 'anopheles_farauti_m_FAR1_image0030.jpg', 'anopheles_freeborni_m_F1_image0008.jpg', 'aedes_aegypti_m_NEWORLEANS_image0037.jpg', 'anopheles_arabiensis_m_DONGOLA_image0025.jpg', 'aedes_aegypti_m_NEWORLEANS_image0014.jpg', 'anopheles_arabiensis_f_DONGOLA_image0095.jpg', 'anopheles_albimanus_m_STECLA_image0021.jpg', 'anopheles_albimanus_m_STECLA_image0015.jpg', 'aedes_aegypti_m_NEWORLEANS_image0006.jpg', 'anopheles_arabiensis_m_DONGOLA_image0045.jpg', 'anopheles_arabiensis_f_DONGOLA_image0018.jpg', 'anopheles_albimanus_f_STECLA_image0034.jpg', 'anopheles_albimanus_f_STECLA_image0015.jpg', 'anopheles_albimanus_f_STECLA_image0005.jpg', 'anopheles_freeborni_f_F1_image0035.jpg', 'anopheles_arabiensis_f_DONGOLA_image0087.jpg', 'aedes_aegypti_f_NEWORLEANS_image0147.jpg', 'anopheles_albimanus_m_STECLA_image0005.jpg', 'anopheles_freeborni_f_F1_image0033.jpg', 'anopheles_atroparvus_f_EBRO_image0027.jpg', 'aedes_aegypti_f_NEWORLEANS_image0042.jpg', 'anopheles_freeborni_m_F1_image0029.jpg', 'anopheles_arabiensis_m_DONGOLA_image0042.jpg', 'aedes_aegypti_m_NEWORLEANS_image0005.jpg', 'anopheles_freeborni_m_F1_image0017.jpg', 'anopheles_arabiensis_f_DONGOLA_image0074.jpg', 'aedes_aegypti_f_NEWORLEANS_image0106.jpg', 'anopheles_arabiensis_m_DONGOLA_image0040.jpg', 'anopheles_arabiensis_m_DONGOLA_image0034.jpg', 'anopheles_atroparvus_f_EBRO_image0015.jpg', 'anopheles_albimanus_f_STECLA_image0006.jpg', 'anopheles_farauti_m_FAR1_image0039.jpg', 'anopheles_albimanus_f_STECLA_image0024.jpg', 'anopheles_coluzzi_f_MOPTI_image0010.jpg', 'anopheles_farauti_m_FAR1_image0006.jpg', 'anopheles_coluzzi_f_MOPTI_image0023.jpg', 'aedes_aegypti_f_NEWORLEANS_image0032.jpg', 'anopheles_farauti_f_FAR1_image0002.jpg', 'anopheles_atroparvus_f_EBRO_image0018.jpg', 'aedes_aegypti_f_NEWORLEANS_image0097.jpg', 'aedes_aegypti_f_NEWORLEANS_image0140.jpg', 'anopheles_albimanus_m_STECLA_image0020.jpg', 'aedes_aegypti_m_NEWORLEANS_image0067.jpg', 'anopheles_arabiensis_f_DONGOLA_image0117.jpg', 'anopheles_farauti_m_FAR1_image0042.jpg', 'anopheles_farauti_f_FAR1_image0004.jpg', 'aedes_aegypti_f_NEWORLEANS_image0116.jpg', 'aedes_aegypti_f_NEWORLEANS_image0136.jpg', 'aedes_aegypti_m_NEWORLEANS_image0038.jpg', 'anopheles_arabiensis_f_DONGOLA_image0011.jpg', 'anopheles_arabiensis_f_DONGOLA_image0053.jpg', 'anopheles_farauti_m_FAR1_image0034.jpg', 'anopheles_coluzzi_f_MOPTI_image0046.jpg', 'anopheles_coluzzi_f_MOPTI_image0043.jpg', 'aedes_aegypti_m_NEWORLEANS_image0029.jpg', 'anopheles_arabiensis_m_DONGOLA_image0061.jpg', 'aedes_aegypti_f_NEWORLEANS_image0023.jpg', 'aedes_aegypti_f_NEWORLEANS_image0058.jpg', 'anopheles_arabiensis_m_DONGOLA_image0051.jpg', 'anopheles_coluzzi_f_MOPTI_image0011.jpg', 'anopheles_albimanus_f_STECLA_image0022.jpg', 'anopheles_arabiensis_f_DONGOLA_image0042.jpg', 'anopheles_farauti_m_FAR1_image0033.jpg', 'anopheles_arabiensis_m_DONGOLA_image0003.jpg', 'anopheles_arabiensis_f_DONGOLA_image0021.jpg', 'anopheles_arabiensis_f_DONGOLA_image0007.jpg', 'anopheles_arabiensis_f_DONGOLA_image0103.jpg', 'anopheles_arabiensis_m_DONGOLA_image0014.jpg', 'aedes_aegypti_f_NEWORLEANS_image0149.jpg', 'anopheles_arabiensis_f_DONGOLA_image0059.jpg', 'anopheles_coluzzi_m_MOPTI_image0016.jpg', 'anopheles_coluzzi_f_MOPTI_image0049.jpg', 'anopheles_farauti_f_FAR1_image0011.jpg', 'anopheles_freeborni_m_F1_image0047.jpg', 'anopheles_farauti_m_FAR1_image0044.jpg', 'anopheles_arabiensis_m_DONGOLA_image0002.jpg', 'anopheles_arabiensis_f_DONGOLA_image0028.jpg', 'anopheles_farauti_m_FAR1_image0003.jpg', 'anopheles_farauti_m_FAR1_image0017.jpg', 'anopheles_arabiensis_f_DONGOLA_image0002.jpg', 'anopheles_coluzzi_m_MOPTI_image0020.jpg', 'anopheles_freeborni_m_F1_image0001.jpg', 'anopheles_arabiensis_f_DONGOLA_image0032.jpg', 'anopheles_arabiensis_f_DONGOLA_image0001.jpg', 'anopheles_arabiensis_f_DONGOLA_image0029.jpg', 'anopheles_albimanus_f_STECLA_image0008.jpg', 'anopheles_albimanus_f_STECLA_image0012.jpg', 'anopheles_arabiensis_f_DONGOLA_image0031.jpg', 'aedes_aegypti_m_NEWORLEANS_image0033.jpg', 'anopheles_atroparvus_f_EBRO_image0013.jpg', 'aedes_aegypti_f_NEWORLEANS_image0125.jpg', 'anopheles_atroparvus_f_EBRO_image0008.jpg', 'anopheles_coluzzi_f_MOPTI_image0033.jpg', 'anopheles_albimanus_f_STECLA_image0004.jpg', 'anopheles_farauti_f_FAR1_image0003.jpg', 'anopheles_albimanus_f_STECLA_image0040.jpg', 'aedes_aegypti_m_NEWORLEANS_image0017.jpg', 'anopheles_arabiensis_m_DONGOLA_image0019.jpg', 'anopheles_freeborni_m_F1_image0046.jpg', 'anopheles_coluzzi_m_MOPTI_image0003.jpg', 'anopheles_freeborni_m_F1_image0040.jpg', 'anopheles_farauti_m_FAR1_image0015.jpg', 'anopheles_arabiensis_m_DONGOLA_image0008.jpg', 'anopheles_arabiensis_m_DONGOLA_image0011.jpg', 'anopheles_freeborni_f_F1_image0008.jpg', 'anopheles_coluzzi_f_MOPTI_image0045.jpg', 'anopheles_freeborni_f_F1_image0014.jpg', 'anopheles_freeborni_m_F1_image0019.jpg', 'anopheles_arabiensis_f_DONGOLA_image0017.jpg', 'anopheles_coluzzi_m_MOPTI_image0002.jpg', 'anopheles_atroparvus_f_EBRO_image0019.jpg', 'aedes_aegypti_f_NEWORLEANS_image0128.jpg', 'anopheles_freeborni_m_F1_image0016.jpg', 'aedes_aegypti_f_NEWORLEANS_image0122.jpg', 'anopheles_arabiensis_f_DONGOLA_image0048.jpg', 'anopheles_arabiensis_f_DONGOLA_image0066.jpg', 'anopheles_albimanus_f_STECLA_image0011.jpg', 'anopheles_coluzzi_f_MOPTI_image0007.jpg', 'aedes_aegypti_f_NEWORLEANS_image0051.jpg', 'aedes_aegypti_m_NEWORLEANS_image0009.jpg', 'aedes_aegypti_f_NEWORLEANS_image0127.jpg', 'anopheles_freeborni_m_F1_image0009.jpg', 'aedes_aegypti_m_NEWORLEANS_image0027.jpg', 'anopheles_freeborni_m_F1_image0021.jpg', 'anopheles_arabiensis_f_DONGOLA_image0016.jpg', 'anopheles_farauti_m_FAR1_image0040.jpg', 'anopheles_arabiensis_f_DONGOLA_image0107.jpg', 'anopheles_arabiensis_f_DONGOLA_image0003.jpg', 'anopheles_albimanus_f_STECLA_image0021.jpg', 'anopheles_freeborni_m_F1_image0032.jpg', 'anopheles_arabiensis_m_DONGOLA_image0048.jpg', 'anopheles_albimanus_f_STECLA_image0029.jpg', 'aedes_aegypti_f_NEWORLEANS_image0089.jpg', 'anopheles_arabiensis_f_DONGOLA_image0126.jpg', 'anopheles_coluzzi_m_MOPTI_image0021.jpg', 'anopheles_freeborni_m_F1_image0038.jpg', 'aedes_aegypti_m_NEWORLEANS_image0002.jpg', 'aedes_aegypti_f_NEWORLEANS_image0008.jpg', 'anopheles_arabiensis_f_DONGOLA_image0123.jpg', 'aedes_aegypti_f_NEWORLEANS_image0123.jpg', 'anopheles_arabiensis_f_DONGOLA_image0090.jpg', 'anopheles_albimanus_f_STECLA_image0016.jpg', 'anopheles_farauti_m_FAR1_image0012.jpg', 'aedes_aegypti_m_NEWORLEANS_image0028.jpg', 'aedes_aegypti_f_NEWORLEANS_image0018.jpg', 'anopheles_freeborni_f_F1_image0019.jpg', 'aedes_aegypti_m_NEWORLEANS_image0051.jpg', 'anopheles_arabiensis_f_DONGOLA_image0049.jpg', 'anopheles_freeborni_f_F1_image0039.jpg', 'anopheles_arabiensis_m_DONGOLA_image0027.jpg', 'aedes_aegypti_f_NEWORLEANS_image0071.jpg', 'aedes_aegypti_m_NEWORLEANS_image0057.jpg', 'anopheles_albimanus_m_STECLA_image0003.jpg', 'anopheles_coluzzi_f_MOPTI_image0040.jpg', 'anopheles_freeborni_m_F1_image0012.jpg', 'aedes_aegypti_f_NEWORLEANS_image0014.jpg', 'anopheles_arabiensis_m_DONGOLA_image0053.jpg', 'anopheles_arabiensis_f_DONGOLA_image0121.jpg', 'anopheles_arabiensis_f_DONGOLA_image0043.jpg', 'aedes_aegypti_f_NEWORLEANS_image0079.jpg', 'aedes_aegypti_f_NEWORLEANS_image0094.jpg', 'anopheles_farauti_m_FAR1_image0020.jpg', 'anopheles_arabiensis_f_DONGOLA_image0010.jpg', 'aedes_aegypti_m_NEWORLEANS_image0026.jpg', 'anopheles_coluzzi_f_MOPTI_image0039.jpg', 'aedes_aegypti_m_NEWORLEANS_image0056.jpg', 'anopheles_arabiensis_f_DONGOLA_image0115.jpg', 'anopheles_coluzzi_f_MOPTI_image0006.jpg', 'anopheles_arabiensis_m_DONGOLA_image0063.jpg', 'anopheles_farauti_m_FAR1_image0001.jpg', 'anopheles_arabiensis_f_DONGOLA_image0081.jpg', 'aedes_aegypti_m_NEWORLEANS_image0064.jpg', 'anopheles_coluzzi_f_MOPTI_image0022.jpg', 'aedes_aegypti_f_NEWORLEANS_image0099.jpg', 'anopheles_arabiensis_f_DONGOLA_image0015.jpg', 'anopheles_arabiensis_f_DONGOLA_image0097.jpg', 'anopheles_arabiensis_f_DONGOLA_image0124.jpg', 'anopheles_coluzzi_f_MOPTI_image0016.jpg', 'anopheles_albimanus_f_STECLA_image0020.jpg', 'anopheles_arabiensis_f_DONGOLA_image0022.jpg', 'aedes_aegypti_m_NEWORLEANS_image0043.jpg', 'anopheles_albimanus_f_STECLA_image0010.jpg', 'aedes_aegypti_f_NEWORLEANS_image0133.jpg', 'anopheles_farauti_m_FAR1_image0002.jpg', 'anopheles_coluzzi_f_MOPTI_image0052.jpg', 'anopheles_farauti_f_FAR1_image0010.jpg', 'anopheles_arabiensis_f_DONGOLA_image0009.jpg', 'aedes_aegypti_f_NEWORLEANS_image0067.jpg', 'aedes_aegypti_f_NEWORLEANS_image0026.jpg', 'anopheles_arabiensis_f_DONGOLA_image0020.jpg', 'anopheles_arabiensis_f_DONGOLA_image0085.jpg', 'anopheles_coluzzi_f_MOPTI_image0029.jpg', 'aedes_aegypti_f_NEWORLEANS_image0010.jpg', 'anopheles_farauti_m_FAR1_image0046.jpg', 'anopheles_freeborni_m_F1_image0025.jpg', 'anopheles_farauti_m_FAR1_image0032.jpg', 'anopheles_freeborni_f_F1_image0007.jpg', 'aedes_aegypti_m_NEWORLEANS_image0003.jpg', 'anopheles_arabiensis_m_DONGOLA_image0016.jpg', 'aedes_aegypti_f_NEWORLEANS_image0117.jpg', 'aedes_aegypti_f_NEWORLEANS_image0113.jpg', 'anopheles_freeborni_f_F1_image0029.jpg', 'anopheles_freeborni_f_F1_image0025.jpg', 'aedes_aegypti_f_NEWORLEANS_image0144.jpg', 'aedes_aegypti_f_NEWORLEANS_image0057.jpg', 'anopheles_freeborni_f_F1_image0043.jpg', 'aedes_aegypti_f_NEWORLEANS_image0060.jpg', 'aedes_aegypti_f_NEWORLEANS_image0030.jpg', 'anopheles_arabiensis_m_DONGOLA_image0017.jpg', 'aedes_aegypti_f_NEWORLEANS_image0003.jpg', 'anopheles_coluzzi_f_MOPTI_image0009.jpg', 'anopheles_arabiensis_f_DONGOLA_image0026.jpg', 'anopheles_atroparvus_f_EBRO_image0017.jpg', 'anopheles_coluzzi_m_MOPTI_image0006.jpg', 'aedes_aegypti_f_NEWORLEANS_image0124.jpg', 'aedes_aegypti_f_NEWORLEANS_image0061.jpg', 'aedes_aegypti_f_NEWORLEANS_image0034.jpg', 'aedes_aegypti_m_NEWORLEANS_image0032.jpg', 'aedes_aegypti_f_NEWORLEANS_image0150.jpg', 'anopheles_coluzzi_m_MOPTI_image0004.jpg', 'anopheles_arabiensis_m_DONGOLA_image0018.jpg', 'anopheles_freeborni_f_F1_image0013.jpg', 'anopheles_albimanus_m_STECLA_image0007.jpg', 'anopheles_arabiensis_f_DONGOLA_image0030.jpg', 'aedes_aegypti_m_NEWORLEANS_image0011.jpg', 'aedes_aegypti_f_NEWORLEANS_image0134.jpg', 'anopheles_albimanus_m_STECLA_image0011.jpg', 'anopheles_arabiensis_f_DONGOLA_image0080.jpg', 'anopheles_farauti_m_FAR1_image0019.jpg', 'aedes_aegypti_f_NEWORLEANS_image0002.jpg', 'anopheles_coluzzi_f_MOPTI_image0027.jpg', 'anopheles_arabiensis_f_DONGOLA_image0052.jpg', 'anopheles_freeborni_m_F1_image0034.jpg', 'aedes_aegypti_f_NEWORLEANS_image0001.jpg', 'anopheles_coluzzi_m_MOPTI_image0018.jpg', 'aedes_aegypti_f_NEWORLEANS_image0138.jpg', 'anopheles_arabiensis_m_DONGOLA_image0013.jpg', 'anopheles_freeborni_m_F1_image0030.jpg', 'aedes_aegypti_f_NEWORLEANS_image0068.jpg', 'anopheles_arabiensis_f_DONGOLA_image0072.jpg', 'anopheles_atroparvus_f_EBRO_image0032.jpg', 'anopheles_arabiensis_f_DONGOLA_image0088.jpg', 'anopheles_farauti_m_FAR1_image0010.jpg', 'anopheles_arabiensis_f_DONGOLA_image0112.jpg', 'anopheles_arabiensis_m_DONGOLA_image0054.jpg', 'anopheles_farauti_f_FAR1_image0009.jpg', 'anopheles_albimanus_m_STECLA_image0012.jpg', 'anopheles_freeborni_f_F1_image0015.jpg', 'aedes_aegypti_f_NEWORLEANS_image0073.jpg', 'anopheles_farauti_m_FAR1_image0011.jpg', 'anopheles_arabiensis_f_DONGOLA_image0118.jpg', 'aedes_aegypti_m_NEWORLEANS_image0034.jpg', 'anopheles_albimanus_f_STECLA_image0017.jpg', 'anopheles_arabiensis_f_DONGOLA_image0036.jpg', 'anopheles_farauti_m_FAR1_image0007.jpg', 'aedes_aegypti_m_NEWORLEANS_image0046.jpg', 'anopheles_arabiensis_f_DONGOLA_image0093.jpg', 'anopheles_coluzzi_f_MOPTI_image0035.jpg', 'anopheles_arabiensis_m_DONGOLA_image0057.jpg', 'anopheles_arabiensis_f_DONGOLA_image0024.jpg', 'anopheles_arabiensis_f_DONGOLA_image0014.jpg', 'anopheles_freeborni_m_F1_image0042.jpg', 'aedes_aegypti_m_NEWORLEANS_image0061.jpg', 'anopheles_farauti_f_FAR1_image0005.jpg', 'anopheles_freeborni_m_F1_image0052.jpg', 'anopheles_arabiensis_m_DONGOLA_image0036.jpg', 'anopheles_atroparvus_f_EBRO_image0014.jpg', 'anopheles_arabiensis_f_DONGOLA_image0013.jpg', 'aedes_aegypti_f_NEWORLEANS_image0012.jpg', 'anopheles_freeborni_m_F1_image0010.jpg', 'aedes_aegypti_m_NEWORLEANS_image0010.jpg', 'anopheles_arabiensis_f_DONGOLA_image0098.jpg', 'aedes_aegypti_f_NEWORLEANS_image0105.jpg', 'aedes_aegypti_f_NEWORLEANS_image0088.jpg', 'anopheles_atroparvus_f_EBRO_image0007.jpg', 'anopheles_arabiensis_m_DONGOLA_image0044.jpg', 'anopheles_albimanus_m_STECLA_image0017.jpg', 'anopheles_farauti_f_FAR1_image0007.jpg', 'anopheles_arabiensis_f_DONGOLA_image0114.jpg', 'aedes_aegypti_m_NEWORLEANS_image0023.jpg', 'aedes_aegypti_f_NEWORLEANS_image0093.jpg', 'anopheles_freeborni_m_F1_image0049.jpg', 'aedes_aegypti_f_NEWORLEANS_image0063.jpg', 'anopheles_atroparvus_f_EBRO_image0011.jpg', 'anopheles_arabiensis_f_DONGOLA_image0111.jpg', 'anopheles_coluzzi_f_MOPTI_image0019.jpg', 'aedes_aegypti_f_NEWORLEANS_image0121.jpg', 'anopheles_arabiensis_m_DONGOLA_image0046.jpg', 'aedes_aegypti_f_NEWORLEANS_image0082.jpg', 'anopheles_albimanus_m_STECLA_image0019.jpg', 'anopheles_farauti_m_FAR1_image0016.jpg', 'anopheles_farauti_m_FAR1_image0021.jpg', 'anopheles_atroparvus_f_EBRO_image0025.jpg', 'aedes_aegypti_m_NEWORLEANS_image0066.jpg', 'anopheles_farauti_m_FAR1_image0004.jpg', 'anopheles_coluzzi_m_MOPTI_image0022.jpg', 'anopheles_coluzzi_m_MOPTI_image0017.jpg', 'anopheles_atroparvus_f_EBRO_image0026.jpg', 'anopheles_arabiensis_f_DONGOLA_image0012.jpg', 'anopheles_farauti_m_FAR1_image0025.jpg', 'aedes_aegypti_f_NEWORLEANS_image0098.jpg', 'anopheles_coluzzi_m_MOPTI_image0007.jpg', 'anopheles_albimanus_m_STECLA_image0002.jpg', 'anopheles_freeborni_f_F1_image0027.jpg', 'anopheles_farauti_m_FAR1_image0022.jpg', 'aedes_aegypti_f_NEWORLEANS_image0151.jpg', 'anopheles_arabiensis_m_DONGOLA_image0023.jpg', 'anopheles_arabiensis_f_DONGOLA_image0075.jpg', 'anopheles_arabiensis_f_DONGOLA_image0025.jpg', 'aedes_aegypti_f_NEWORLEANS_image0126.jpg', 'anopheles_coluzzi_f_MOPTI_image0004.jpg', 'anopheles_arabiensis_f_DONGOLA_image0105.jpg', 'anopheles_arabiensis_m_DONGOLA_image0015.jpg', 'anopheles_arabiensis_f_DONGOLA_image0110.jpg', 'anopheles_arabiensis_m_DONGOLA_image0041.jpg', 'anopheles_coluzzi_m_MOPTI_image0005.jpg', 'anopheles_atroparvus_f_EBRO_image0030.jpg', 'anopheles_albimanus_f_STECLA_image0035.jpg', 'anopheles_farauti_m_FAR1_image0023.jpg', 'anopheles_coluzzi_f_MOPTI_image0037.jpg', 'aedes_aegypti_m_NEWORLEANS_image0044.jpg', 'anopheles_coluzzi_f_MOPTI_image0013.jpg', 'anopheles_atroparvus_f_EBRO_image0005.jpg', 'aedes_aegypti_m_NEWORLEANS_image0054.jpg', 'anopheles_coluzzi_m_MOPTI_image0001.jpg', 'anopheles_arabiensis_m_DONGOLA_image0065.jpg', 'aedes_aegypti_m_NEWORLEANS_image0052.jpg', 'anopheles_freeborni_m_F1_image0007.jpg', 'anopheles_freeborni_m_F1_image0039.jpg', 'anopheles_atroparvus_f_EBRO_image0028.jpg', 'aedes_aegypti_m_NEWORLEANS_image0048.jpg', 'aedes_aegypti_f_NEWORLEANS_image0039.jpg', 'anopheles_coluzzi_f_MOPTI_image0036.jpg', 'anopheles_farauti_m_FAR1_image0035.jpg', 'anopheles_arabiensis_f_DONGOLA_image0113.jpg', 'anopheles_freeborni_f_F1_image0001.jpg', 'anopheles_freeborni_f_F1_image0009.jpg', 'aedes_aegypti_f_NEWORLEANS_image0076.jpg', 'anopheles_freeborni_m_F1_image0050.jpg', 'anopheles_coluzzi_m_MOPTI_image0009.jpg', 'anopheles_atroparvus_f_EBRO_image0002.jpg', 'aedes_aegypti_f_NEWORLEANS_image0142.jpg', 'anopheles_albimanus_m_STECLA_image0006.jpg', 'anopheles_arabiensis_f_DONGOLA_image0041.jpg', 'aedes_aegypti_f_NEWORLEANS_image0130.jpg', 'anopheles_arabiensis_m_DONGOLA_image0043.jpg', 'anopheles_farauti_m_FAR1_image0043.jpg', 'anopheles_freeborni_f_F1_image0012.jpg', 'anopheles_arabiensis_m_DONGOLA_image0022.jpg', 'anopheles_freeborni_f_F1_image0042.jpg', 'anopheles_arabiensis_f_DONGOLA_image0122.jpg', 'anopheles_freeborni_f_F1_image0026.jpg', 'anopheles_arabiensis_f_DONGOLA_image0044.jpg', 'aedes_aegypti_f_NEWORLEANS_image0137.jpg', 'anopheles_coluzzi_f_MOPTI_image0047.jpg', 'anopheles_freeborni_m_F1_image0020.jpg', 'aedes_aegypti_f_NEWORLEANS_image0028.jpg', 'anopheles_freeborni_m_F1_image0051.jpg', 'anopheles_farauti_m_FAR1_image0018.jpg', 'anopheles_freeborni_f_F1_image0018.jpg', 'aedes_aegypti_f_NEWORLEANS_image0131.jpg', 'anopheles_coluzzi_f_MOPTI_image0051.jpg', 'anopheles_atroparvus_f_EBRO_image0009.jpg', 'anopheles_freeborni_m_F1_image0045.jpg', 'aedes_aegypti_f_NEWORLEANS_image0021.jpg', 'aedes_aegypti_f_NEWORLEANS_image0115.jpg', 'aedes_aegypti_f_NEWORLEANS_image0118.jpg', 'anopheles_albimanus_f_STECLA_image0033.jpg', 'anopheles_arabiensis_m_DONGOLA_image0050.jpg', 'aedes_aegypti_f_NEWORLEANS_image0033.jpg', 'anopheles_freeborni_f_F1_image0031.jpg', 'anopheles_albimanus_m_STECLA_image0013.jpg', 'anopheles_arabiensis_f_DONGOLA_image0046.jpg', 'anopheles_arabiensis_f_DONGOLA_image0073.jpg', 'anopheles_arabiensis_m_DONGOLA_image0064.jpg', 'aedes_aegypti_m_NEWORLEANS_image0050.jpg', 'anopheles_coluzzi_f_MOPTI_image0030.jpg', 'anopheles_freeborni_f_F1_image0028.jpg', 'aedes_aegypti_f_NEWORLEANS_image0022.jpg', 'aedes_aegypti_f_NEWORLEANS_image0110.jpg', 'anopheles_freeborni_f_F1_image0006.jpg', 'anopheles_atroparvus_f_EBRO_image0029.jpg', 'anopheles_atroparvus_f_EBRO_image0010.jpg', 'anopheles_arabiensis_m_DONGOLA_image0005.jpg', 'anopheles_coluzzi_f_MOPTI_image0038.jpg', 'aedes_aegypti_f_NEWORLEANS_image0020.jpg', 'anopheles_freeborni_f_F1_image0005.jpg', 'anopheles_freeborni_f_F1_image0021.jpg', 'anopheles_arabiensis_f_DONGOLA_image0102.jpg', 'anopheles_coluzzi_f_MOPTI_image0008.jpg', 'anopheles_albimanus_f_STECLA_image0019.jpg', 'aedes_aegypti_m_NEWORLEANS_image0042.jpg', 'anopheles_freeborni_m_F1_image0004.jpg', 'anopheles_albimanus_f_STECLA_image0013.jpg', 'anopheles_farauti_m_FAR1_image0024.jpg', 'anopheles_atroparvus_f_EBRO_image0016.jpg', 'anopheles_arabiensis_f_DONGOLA_image0101.jpg', 'anopheles_arabiensis_m_DONGOLA_image0020.jpg', 'anopheles_farauti_m_FAR1_image0038.jpg', 'anopheles_farauti_m_FAR1_image0013.jpg', 'anopheles_freeborni_f_F1_image0020.jpg']\n"
     ]
    }
   ],
   "source": [
    "# Get the list of all files and directories\n",
    "path = \"./M3_Database/\"\n",
    "dir_list = os.listdir(path)\n",
    " \n",
    "print(\"Files and directories in '\", path, \"' :\")\n",
    " \n",
    "# prints all files\n",
    "print(dir_list)"
   ]
  },
  {
   "cell_type": "code",
   "execution_count": 18,
   "id": "6eadefca",
   "metadata": {},
   "outputs": [
    {
     "name": "stdout",
     "output_type": "stream",
     "text": [
      "['aedes_aegypti_f_NEWORLEANS_image0072', 'aedes_aegypti_f_NEWORLEANS_image0007', 'anopheles_atroparvus_f_EBRO_image0020', 'aedes_aegypti_f_NEWORLEANS_image0143', 'anopheles_arabiensis_m_DONGOLA_image0049', 'anopheles_coluzzi_f_MOPTI_image0012', 'anopheles_albimanus_f_STECLA_image0009', 'anopheles_arabiensis_m_DONGOLA_image0009', 'aedes_aegypti_m_NEWORLEANS_image0049', 'anopheles_arabiensis_f_DONGOLA_image0067', 'aedes_aegypti_f_NEWORLEANS_image0049', 'anopheles_arabiensis_f_DONGOLA_image0050', 'anopheles_arabiensis_f_DONGOLA_image0076', 'anopheles_atroparvus_f_EBRO_image0023', 'anopheles_coluzzi_f_MOPTI_image0050', 'anopheles_arabiensis_f_DONGOLA_image0106', 'aedes_aegypti_f_NEWORLEANS_image0090', 'aedes_aegypti_f_NEWORLEANS_image0148', 'anopheles_farauti_m_FAR1_image0008', 'anopheles_arabiensis_f_DONGOLA_image0065', 'anopheles_arabiensis_f_DONGOLA_image0064', 'anopheles_coluzzi_f_MOPTI_image0024', 'aedes_aegypti_f_NEWORLEANS_image0013', 'anopheles_arabiensis_f_DONGOLA_image0060', 'anopheles_coluzzi_m_MOPTI_image0011', 'aedes_aegypti_f_NEWORLEANS_image0100', 'anopheles_arabiensis_f_DONGOLA_image0038', 'anopheles_arabiensis_m_DONGOLA_image0007', 'anopheles_freeborni_m_F1_image0041', 'anopheles_freeborni_f_F1_image0036', 'anopheles_albimanus_m_STECLA_image0008', 'anopheles_albimanus_f_STECLA_image0014', 'anopheles_arabiensis_m_DONGOLA_image0058', 'anopheles_albimanus_f_STECLA_image0002', 'anopheles_coluzzi_f_MOPTI_image0005', 'aedes_aegypti_f_NEWORLEANS_image0145', 'anopheles_albimanus_f_STECLA_image0025', 'anopheles_arabiensis_m_DONGOLA_image0035', 'aedes_aegypti_m_NEWORLEANS_image0039', 'anopheles_freeborni_f_F1_image0017', 'anopheles_freeborni_m_F1_image0043', 'aedes_aegypti_f_NEWORLEANS_image0102', 'aedes_aegypti_m_NEWORLEANS_image0019', 'anopheles_coluzzi_f_MOPTI_image0015', 'aedes_aegypti_m_NEWORLEANS_image0069', 'aedes_aegypti_m_NEWORLEANS_image0012', 'anopheles_albimanus_f_STECLA_image0032', 'anopheles_coluzzi_f_MOPTI_image0001', 'anopheles_coluzzi_m_MOPTI_image0012', 'anopheles_atroparvus_f_EBRO_image0001', 'anopheles_coluzzi_f_MOPTI_image0017', 'aedes_aegypti_m_NEWORLEANS_image0059', 'anopheles_coluzzi_f_MOPTI_image0025', 'anopheles_arabiensis_f_DONGOLA_image0027', 'anopheles_freeborni_f_F1_image0010', 'aedes_aegypti_f_NEWORLEANS_image0035', 'anopheles_arabiensis_f_DONGOLA_image0033', 'aedes_aegypti_m_NEWORLEANS_image0053', 'anopheles_coluzzi_f_MOPTI_image0041', 'anopheles_freeborni_f_F1_image0040', 'anopheles_coluzzi_f_MOPTI_image0042', 'aedes_aegypti_f_NEWORLEANS_image0025', 'aedes_aegypti_f_NEWORLEANS_image0114', 'anopheles_arabiensis_f_DONGOLA_image0100', 'aedes_aegypti_m_NEWORLEANS_image0016', 'anopheles_albimanus_m_STECLA_image0018', 'anopheles_arabiensis_f_DONGOLA_image0005', 'aedes_aegypti_f_NEWORLEANS_image0087', 'aedes_aegypti_f_NEWORLEANS_image0040', 'anopheles_coluzzi_f_MOPTI_image0044', 'aedes_aegypti_f_NEWORLEANS_image0059', 'anopheles_arabiensis_f_DONGOLA_image0061', 'anopheles_albimanus_f_STECLA_image0023', 'anopheles_albimanus_f_STECLA_image0007', 'anopheles_freeborni_m_F1_image0026', 'aedes_aegypti_m_NEWORLEANS_image0036', 'anopheles_albimanus_m_STECLA_image0023', 'aedes_aegypti_f_NEWORLEANS_image0006', 'anopheles_arabiensis_f_DONGOLA_image0077', 'aedes_aegypti_f_NEWORLEANS_image0054', 'aedes_aegypti_m_NEWORLEANS_image0063', 'anopheles_coluzzi_m_MOPTI_image0019', 'aedes_aegypti_m_NEWORLEANS_image0018', 'anopheles_freeborni_f_F1_image0044', 'aedes_aegypti_f_NEWORLEANS_image0112', 'aedes_aegypti_f_NEWORLEANS_image0077', 'anopheles_farauti_m_FAR1_image0037', 'aedes_aegypti_f_NEWORLEANS_image0111', 'anopheles_freeborni_m_F1_image0028', 'anopheles_freeborni_m_F1_image0011', 'aedes_aegypti_f_NEWORLEANS_image0139', 'aedes_aegypti_m_NEWORLEANS_image0022', 'aedes_aegypti_f_NEWORLEANS_image0053', 'anopheles_arabiensis_m_DONGOLA_image0029', 'anopheles_arabiensis_m_DONGOLA_image0037', 'anopheles_farauti_m_FAR1_image0027', 'anopheles_arabiensis_f_DONGOLA_image0051', 'anopheles_atroparvus_f_EBRO_image0033', 'anopheles_freeborni_m_F1_image0037', 'anopheles_atroparvus_f_EBRO_image0036', 'anopheles_arabiensis_f_DONGOLA_image0006', 'aedes_aegypti_f_NEWORLEANS_image0019', 'anopheles_albimanus_m_STECLA_image0024', 'aedes_aegypti_m_NEWORLEANS_image0055', 'anopheles_arabiensis_m_DONGOLA_image0021', 'anopheles_arabiensis_f_DONGOLA_image0091', 'anopheles_arabiensis_m_DONGOLA_image0001', 'anopheles_arabiensis_f_DONGOLA_image0055', 'anopheles_arabiensis_f_DONGOLA_image0004', 'anopheles_arabiensis_f_DONGOLA_image0086', 'aedes_aegypti_m_NEWORLEANS_image0001', 'aedes_aegypti_f_NEWORLEANS_image0129', 'anopheles_arabiensis_f_DONGOLA_image0058', 'aedes_aegypti_f_NEWORLEANS_image0050', 'anopheles_coluzzi_m_MOPTI_image0008', 'anopheles_arabiensis_f_DONGOLA_image0047', 'anopheles_atroparvus_f_EBRO_image0004', 'anopheles_arabiensis_m_DONGOLA_image0006', 'anopheles_arabiensis_m_DONGOLA_image0030', 'anopheles_albimanus_f_STECLA_image0030', 'anopheles_farauti_m_FAR1_image0026', 'aedes_aegypti_f_NEWORLEANS_image0011', 'anopheles_arabiensis_m_DONGOLA_image0028', 'aedes_aegypti_f_NEWORLEANS_image0045', 'aedes_aegypti_f_NEWORLEANS_image0009', 'aedes_aegypti_f_NEWORLEANS_image0056', 'anopheles_albimanus_f_STECLA_image0003', 'anopheles_freeborni_m_F1_image0005', 'anopheles_arabiensis_m_DONGOLA_image0038', 'aedes_aegypti_f_NEWORLEANS_image0044', 'anopheles_albimanus_f_STECLA_image0037', 'anopheles_freeborni_f_F1_image0032', 'anopheles_coluzzi_f_MOPTI_image0026', 'aedes_aegypti_m_NEWORLEANS_image0025', 'anopheles_arabiensis_f_DONGOLA_image0092', 'aedes_aegypti_m_NEWORLEANS_image0004', 'aedes_aegypti_f_NEWORLEANS_image0027', 'aedes_aegypti_m_NEWORLEANS_image0040', 'anopheles_coluzzi_f_MOPTI_image0002', 'anopheles_freeborni_f_F1_image0003', 'aedes_aegypti_m_NEWORLEANS_image0021', 'anopheles_arabiensis_f_DONGOLA_image0045', 'anopheles_freeborni_m_F1_image0031', 'anopheles_farauti_m_FAR1_image0031', 'anopheles_coluzzi_m_MOPTI_image0010', 'anopheles_freeborni_f_F1_image0004', 'anopheles_freeborni_m_F1_image0013', 'aedes_aegypti_f_NEWORLEANS_image0096', 'anopheles_albimanus_m_STECLA_image0004', 'anopheles_freeborni_f_F1_image0023', 'anopheles_arabiensis_f_DONGOLA_image0063', 'aedes_aegypti_f_NEWORLEANS_image0103', 'anopheles_freeborni_f_F1_image0045', 'anopheles_arabiensis_f_DONGOLA_image0069', 'anopheles_freeborni_f_F1_image0022', 'aedes_aegypti_f_NEWORLEANS_image0101', 'aedes_aegypti_f_NEWORLEANS_image0069', 'anopheles_arabiensis_f_DONGOLA_image0104', 'anopheles_arabiensis_f_DONGOLA_image0039', 'anopheles_arabiensis_f_DONGOLA_image0068', 'aedes_aegypti_f_NEWORLEANS_image0062', 'anopheles_arabiensis_m_DONGOLA_image0024', 'aedes_aegypti_f_NEWORLEANS_image0038', 'anopheles_coluzzi_m_MOPTI_image0015', 'anopheles_albimanus_f_STECLA_image0018', 'anopheles_arabiensis_m_DONGOLA_image0031', 'aedes_aegypti_m_NEWORLEANS_image0007', 'anopheles_arabiensis_m_DONGOLA_image0033', 'aedes_aegypti_m_NEWORLEANS_image0041', 'anopheles_arabiensis_f_DONGOLA_image0023', 'aedes_aegypti_f_NEWORLEANS_image0052', 'aedes_aegypti_f_NEWORLEANS_image0135', 'aedes_aegypti_f_NEWORLEANS_image0047', 'aedes_aegypti_f_NEWORLEANS_image0029', 'anopheles_freeborni_f_F1_image0030', 'anopheles_farauti_m_FAR1_image0041', 'anopheles_coluzzi_m_MOPTI_image0014', 'anopheles_farauti_m_FAR1_image0036', 'anopheles_atroparvus_f_EBRO_image0024', 'anopheles_arabiensis_f_DONGOLA_image0125', 'anopheles_coluzzi_f_MOPTI_image0014', 'anopheles_freeborni_f_F1_image0037', 'anopheles_atroparvus_f_EBRO_image0034', 'aedes_aegypti_f_NEWORLEANS_image0074', 'aedes_aegypti_m_NEWORLEANS_image0058', 'aedes_aegypti_m_NEWORLEANS_image0062', 'aedes_aegypti_f_NEWORLEANS_image0048', 'anopheles_freeborni_m_F1_image0033', 'anopheles_farauti_m_FAR1_image0009', 'anopheles_arabiensis_f_DONGOLA_image0062', 'aedes_aegypti_m_NEWORLEANS_image0031', 'aedes_aegypti_f_NEWORLEANS_image0119', 'aedes_aegypti_f_NEWORLEANS_image0041', 'anopheles_albimanus_f_STECLA_image0031', 'anopheles_freeborni_m_F1_image0018', 'anopheles_freeborni_f_F1_image0011', 'anopheles_arabiensis_m_DONGOLA_image0066', 'anopheles_freeborni_m_F1_image0036', 'anopheles_arabiensis_f_DONGOLA_image0083', 'anopheles_arabiensis_m_DONGOLA_image0067', 'aedes_aegypti_f_NEWORLEANS_image0065', 'anopheles_atroparvus_f_EBRO_image0022', 'aedes_aegypti_f_NEWORLEANS_image0017', 'anopheles_arabiensis_m_DONGOLA_image0060', 'anopheles_arabiensis_m_DONGOLA_image0039', 'anopheles_arabiensis_m_DONGOLA_image0052', 'anopheles_atroparvus_f_EBRO_image0012', 'aedes_aegypti_f_NEWORLEANS_image0075', 'anopheles_albimanus_f_STECLA_image0028', 'anopheles_albimanus_f_STECLA_image0036', 'aedes_aegypti_f_NEWORLEANS_image0086', 'anopheles_farauti_f_FAR1_image0008', 'aedes_aegypti_m_NEWORLEANS_image0030', 'anopheles_arabiensis_f_DONGOLA_image0078', 'anopheles_freeborni_m_F1_image0027', 'anopheles_arabiensis_f_DONGOLA_image0089', 'anopheles_freeborni_f_F1_image0034', 'anopheles_farauti_m_FAR1_image0029', 'anopheles_farauti_m_FAR1_image0045', 'anopheles_farauti_m_FAR1_image0014', 'aedes_aegypti_f_NEWORLEANS_image0109', 'aedes_aegypti_f_NEWORLEANS_image0055', 'aedes_aegypti_m_NEWORLEANS_image0013', 'anopheles_atroparvus_f_EBRO_image0031', 'aedes_aegypti_f_NEWORLEANS_image0091', 'anopheles_albimanus_m_STECLA_image0014', 'anopheles_atroparvus_f_EBRO_image0021', 'anopheles_albimanus_f_STECLA_image0027', 'anopheles_atroparvus_f_EBRO_image0035', 'anopheles_freeborni_f_F1_image0016', 'anopheles_farauti_m_FAR1_image0028', 'aedes_aegypti_f_NEWORLEANS_image0120', 'anopheles_arabiensis_f_DONGOLA_image0119', 'aedes_aegypti_m_NEWORLEANS_image0008', 'aedes_aegypti_f_NEWORLEANS_image0083', 'aedes_aegypti_f_NEWORLEANS_image0037', 'anopheles_coluzzi_m_MOPTI_image0013', 'anopheles_freeborni_m_F1_image0003', 'aedes_aegypti_m_NEWORLEANS_image0035', 'aedes_aegypti_f_NEWORLEANS_image0005', 'anopheles_albimanus_f_STECLA_image0039', 'anopheles_albimanus_m_STECLA_image0010', 'anopheles_freeborni_m_F1_image0006', 'anopheles_arabiensis_f_DONGOLA_image0082', 'anopheles_freeborni_f_F1_image0002', 'anopheles_albimanus_m_STECLA_image0001', 'anopheles_arabiensis_f_DONGOLA_image0109', 'anopheles_freeborni_m_F1_image0022', 'anopheles_freeborni_m_F1_image0048', 'aedes_aegypti_f_NEWORLEANS_image0016', 'aedes_aegypti_f_NEWORLEANS_image0024', 'aedes_aegypti_f_NEWORLEANS_image0046', 'anopheles_arabiensis_m_DONGOLA_image0004', 'anopheles_arabiensis_m_DONGOLA_image0056', 'anopheles_coluzzi_f_MOPTI_image0021', 'anopheles_coluzzi_f_MOPTI_image0031', 'anopheles_atroparvus_f_EBRO_image0003', 'aedes_aegypti_m_NEWORLEANS_image0060', 'anopheles_arabiensis_f_DONGOLA_image0056', 'anopheles_arabiensis_f_DONGOLA_image0071', 'anopheles_coluzzi_f_MOPTI_image0020', 'aedes_aegypti_m_NEWORLEANS_image0015', 'anopheles_albimanus_m_STECLA_image0009', 'anopheles_freeborni_m_F1_image0002', 'anopheles_freeborni_f_F1_image0038', 'anopheles_arabiensis_f_DONGOLA_image0094', 'anopheles_arabiensis_f_DONGOLA_image0034', 'anopheles_arabiensis_f_DONGOLA_image0096', 'anopheles_freeborni_m_F1_image0035', 'anopheles_freeborni_m_F1_image0023', 'anopheles_freeborni_m_F1_image0014', 'aedes_aegypti_m_NEWORLEANS_image0065', 'aedes_aegypti_f_NEWORLEANS_image0146', 'aedes_aegypti_f_NEWORLEANS_image0104', 'aedes_aegypti_m_NEWORLEANS_image0047', 'aedes_aegypti_f_NEWORLEANS_image0085', 'anopheles_arabiensis_f_DONGOLA_image0019', 'anopheles_arabiensis_m_DONGOLA_image0032', 'anopheles_coluzzi_f_MOPTI_image0003', 'anopheles_arabiensis_f_DONGOLA_image0057', 'aedes_aegypti_f_NEWORLEANS_image0015', 'aedes_aegypti_f_NEWORLEANS_image0078', 'anopheles_coluzzi_f_MOPTI_image0018', 'anopheles_farauti_f_FAR1_image0001', 'aedes_aegypti_f_NEWORLEANS_image0081', 'anopheles_freeborni_m_F1_image0024', 'anopheles_arabiensis_m_DONGOLA_image0012', 'aedes_aegypti_m_NEWORLEANS_image0045', 'anopheles_arabiensis_m_DONGOLA_image0047', 'anopheles_arabiensis_m_DONGOLA_image0059', 'anopheles_atroparvus_f_EBRO_image0006', 'aedes_aegypti_m_NEWORLEANS_image0020', 'anopheles_freeborni_f_F1_image0041', 'anopheles_arabiensis_f_DONGOLA_image0120', 'anopheles_albimanus_f_STECLA_image0026', 'anopheles_freeborni_f_F1_image0024', 'anopheles_arabiensis_f_DONGOLA_image0035', 'anopheles_albimanus_f_STECLA_image0038', 'anopheles_arabiensis_m_DONGOLA_image0055', 'aedes_aegypti_m_NEWORLEANS_image0024', 'anopheles_arabiensis_f_DONGOLA_image0108', 'aedes_aegypti_f_NEWORLEANS_image0108', 'anopheles_arabiensis_f_DONGOLA_image0084', 'anopheles_freeborni_m_F1_image0015', 'aedes_aegypti_f_NEWORLEANS_image0132', 'anopheles_coluzzi_f_MOPTI_image0034', 'anopheles_arabiensis_f_DONGOLA_image0116', 'anopheles_albimanus_m_STECLA_image0022', 'aedes_aegypti_f_NEWORLEANS_image0064', 'anopheles_arabiensis_m_DONGOLA_image0062', 'anopheles_albimanus_m_STECLA_image0016', 'anopheles_albimanus_f_STECLA_image0001', 'aedes_aegypti_f_NEWORLEANS_image0107', 'anopheles_arabiensis_m_DONGOLA_image0010', 'aedes_aegypti_f_NEWORLEANS_image0141', 'aedes_aegypti_f_NEWORLEANS_image0004', 'anopheles_arabiensis_f_DONGOLA_image0070', 'aedes_aegypti_m_NEWORLEANS_image0068', 'aedes_aegypti_f_NEWORLEANS_image0070', 'anopheles_coluzzi_f_MOPTI_image0048', 'anopheles_arabiensis_f_DONGOLA_image0054', 'anopheles_coluzzi_f_MOPTI_image0028', 'anopheles_arabiensis_f_DONGOLA_image0040', 'aedes_aegypti_f_NEWORLEANS_image0080', 'aedes_aegypti_f_NEWORLEANS_image0036', 'aedes_aegypti_f_NEWORLEANS_image0092', 'anopheles_arabiensis_f_DONGOLA_image0079', 'aedes_aegypti_f_NEWORLEANS_image0031', 'anopheles_arabiensis_m_DONGOLA_image0026', 'anopheles_arabiensis_f_DONGOLA_image0008', 'anopheles_coluzzi_f_MOPTI_image0032', 'anopheles_arabiensis_f_DONGOLA_image0099', 'anopheles_arabiensis_f_DONGOLA_image0037', 'anopheles_freeborni_m_F1_image0044', 'anopheles_farauti_m_FAR1_image0005', 'aedes_aegypti_f_NEWORLEANS_image0084', 'aedes_aegypti_f_NEWORLEANS_image0095', 'anopheles_farauti_f_FAR1_image0006', 'aedes_aegypti_f_NEWORLEANS_image0043', 'anopheles_farauti_m_FAR1_image0030', 'anopheles_freeborni_m_F1_image0008', 'aedes_aegypti_m_NEWORLEANS_image0037', 'anopheles_arabiensis_m_DONGOLA_image0025', 'aedes_aegypti_m_NEWORLEANS_image0014', 'anopheles_arabiensis_f_DONGOLA_image0095', 'anopheles_albimanus_m_STECLA_image0021', 'anopheles_albimanus_m_STECLA_image0015', 'aedes_aegypti_m_NEWORLEANS_image0006', 'anopheles_arabiensis_m_DONGOLA_image0045', 'anopheles_arabiensis_f_DONGOLA_image0018', 'anopheles_albimanus_f_STECLA_image0034', 'anopheles_albimanus_f_STECLA_image0015', 'anopheles_albimanus_f_STECLA_image0005', 'anopheles_freeborni_f_F1_image0035', 'anopheles_arabiensis_f_DONGOLA_image0087', 'aedes_aegypti_f_NEWORLEANS_image0147', 'anopheles_albimanus_m_STECLA_image0005', 'anopheles_freeborni_f_F1_image0033', 'anopheles_atroparvus_f_EBRO_image0027', 'aedes_aegypti_f_NEWORLEANS_image0042', 'anopheles_freeborni_m_F1_image0029', 'anopheles_arabiensis_m_DONGOLA_image0042', 'aedes_aegypti_m_NEWORLEANS_image0005', 'anopheles_freeborni_m_F1_image0017', 'anopheles_arabiensis_f_DONGOLA_image0074', 'aedes_aegypti_f_NEWORLEANS_image0106', 'anopheles_arabiensis_m_DONGOLA_image0040', 'anopheles_arabiensis_m_DONGOLA_image0034', 'anopheles_atroparvus_f_EBRO_image0015', 'anopheles_albimanus_f_STECLA_image0006', 'anopheles_farauti_m_FAR1_image0039', 'anopheles_albimanus_f_STECLA_image0024', 'anopheles_coluzzi_f_MOPTI_image0010', 'anopheles_farauti_m_FAR1_image0006', 'anopheles_coluzzi_f_MOPTI_image0023', 'aedes_aegypti_f_NEWORLEANS_image0032', 'anopheles_farauti_f_FAR1_image0002', 'anopheles_atroparvus_f_EBRO_image0018', 'aedes_aegypti_f_NEWORLEANS_image0097', 'aedes_aegypti_f_NEWORLEANS_image0140', 'anopheles_albimanus_m_STECLA_image0020', 'aedes_aegypti_m_NEWORLEANS_image0067', 'anopheles_arabiensis_f_DONGOLA_image0117', 'anopheles_farauti_m_FAR1_image0042', 'anopheles_farauti_f_FAR1_image0004', 'aedes_aegypti_f_NEWORLEANS_image0116', 'aedes_aegypti_f_NEWORLEANS_image0136', 'aedes_aegypti_m_NEWORLEANS_image0038', 'anopheles_arabiensis_f_DONGOLA_image0011', 'anopheles_arabiensis_f_DONGOLA_image0053', 'anopheles_farauti_m_FAR1_image0034', 'anopheles_coluzzi_f_MOPTI_image0046', 'anopheles_coluzzi_f_MOPTI_image0043', 'aedes_aegypti_m_NEWORLEANS_image0029', 'anopheles_arabiensis_m_DONGOLA_image0061', 'aedes_aegypti_f_NEWORLEANS_image0023', 'aedes_aegypti_f_NEWORLEANS_image0058', 'anopheles_arabiensis_m_DONGOLA_image0051', 'anopheles_coluzzi_f_MOPTI_image0011', 'anopheles_albimanus_f_STECLA_image0022', 'anopheles_arabiensis_f_DONGOLA_image0042', 'anopheles_farauti_m_FAR1_image0033', 'anopheles_arabiensis_m_DONGOLA_image0003', 'anopheles_arabiensis_f_DONGOLA_image0021', 'anopheles_arabiensis_f_DONGOLA_image0007', 'anopheles_arabiensis_f_DONGOLA_image0103', 'anopheles_arabiensis_m_DONGOLA_image0014', 'aedes_aegypti_f_NEWORLEANS_image0149', 'anopheles_arabiensis_f_DONGOLA_image0059', 'anopheles_coluzzi_m_MOPTI_image0016', 'anopheles_coluzzi_f_MOPTI_image0049', 'anopheles_farauti_f_FAR1_image0011', 'anopheles_freeborni_m_F1_image0047', 'anopheles_farauti_m_FAR1_image0044', 'anopheles_arabiensis_m_DONGOLA_image0002', 'anopheles_arabiensis_f_DONGOLA_image0028', 'anopheles_farauti_m_FAR1_image0003', 'anopheles_farauti_m_FAR1_image0017', 'anopheles_arabiensis_f_DONGOLA_image0002', 'anopheles_coluzzi_m_MOPTI_image0020', 'anopheles_freeborni_m_F1_image0001', 'anopheles_arabiensis_f_DONGOLA_image0032', 'anopheles_arabiensis_f_DONGOLA_image0001', 'anopheles_arabiensis_f_DONGOLA_image0029', 'anopheles_albimanus_f_STECLA_image0008', 'anopheles_albimanus_f_STECLA_image0012', 'anopheles_arabiensis_f_DONGOLA_image0031', 'aedes_aegypti_m_NEWORLEANS_image0033', 'anopheles_atroparvus_f_EBRO_image0013', 'aedes_aegypti_f_NEWORLEANS_image0125', 'anopheles_atroparvus_f_EBRO_image0008', 'anopheles_coluzzi_f_MOPTI_image0033', 'anopheles_albimanus_f_STECLA_image0004', 'anopheles_farauti_f_FAR1_image0003', 'anopheles_albimanus_f_STECLA_image0040', 'aedes_aegypti_m_NEWORLEANS_image0017', 'anopheles_arabiensis_m_DONGOLA_image0019', 'anopheles_freeborni_m_F1_image0046', 'anopheles_coluzzi_m_MOPTI_image0003', 'anopheles_freeborni_m_F1_image0040', 'anopheles_farauti_m_FAR1_image0015', 'anopheles_arabiensis_m_DONGOLA_image0008', 'anopheles_arabiensis_m_DONGOLA_image0011', 'anopheles_freeborni_f_F1_image0008', 'anopheles_coluzzi_f_MOPTI_image0045', 'anopheles_freeborni_f_F1_image0014', 'anopheles_freeborni_m_F1_image0019', 'anopheles_arabiensis_f_DONGOLA_image0017', 'anopheles_coluzzi_m_MOPTI_image0002', 'anopheles_atroparvus_f_EBRO_image0019', 'aedes_aegypti_f_NEWORLEANS_image0128', 'anopheles_freeborni_m_F1_image0016', 'aedes_aegypti_f_NEWORLEANS_image0122', 'anopheles_arabiensis_f_DONGOLA_image0048', 'anopheles_arabiensis_f_DONGOLA_image0066', 'anopheles_albimanus_f_STECLA_image0011', 'anopheles_coluzzi_f_MOPTI_image0007', 'aedes_aegypti_f_NEWORLEANS_image0051', 'aedes_aegypti_m_NEWORLEANS_image0009', 'aedes_aegypti_f_NEWORLEANS_image0127', 'anopheles_freeborni_m_F1_image0009', 'aedes_aegypti_m_NEWORLEANS_image0027', 'anopheles_freeborni_m_F1_image0021', 'anopheles_arabiensis_f_DONGOLA_image0016', 'anopheles_farauti_m_FAR1_image0040', 'anopheles_arabiensis_f_DONGOLA_image0107', 'anopheles_arabiensis_f_DONGOLA_image0003', 'anopheles_albimanus_f_STECLA_image0021', 'anopheles_freeborni_m_F1_image0032', 'anopheles_arabiensis_m_DONGOLA_image0048', 'anopheles_albimanus_f_STECLA_image0029', 'aedes_aegypti_f_NEWORLEANS_image0089', 'anopheles_arabiensis_f_DONGOLA_image0126', 'anopheles_coluzzi_m_MOPTI_image0021', 'anopheles_freeborni_m_F1_image0038', 'aedes_aegypti_m_NEWORLEANS_image0002', 'aedes_aegypti_f_NEWORLEANS_image0008', 'anopheles_arabiensis_f_DONGOLA_image0123', 'aedes_aegypti_f_NEWORLEANS_image0123', 'anopheles_arabiensis_f_DONGOLA_image0090', 'anopheles_albimanus_f_STECLA_image0016', 'anopheles_farauti_m_FAR1_image0012', 'aedes_aegypti_m_NEWORLEANS_image0028', 'aedes_aegypti_f_NEWORLEANS_image0018', 'anopheles_freeborni_f_F1_image0019', 'aedes_aegypti_m_NEWORLEANS_image0051', 'anopheles_arabiensis_f_DONGOLA_image0049', 'anopheles_freeborni_f_F1_image0039', 'anopheles_arabiensis_m_DONGOLA_image0027', 'aedes_aegypti_f_NEWORLEANS_image0071', 'aedes_aegypti_m_NEWORLEANS_image0057', 'anopheles_albimanus_m_STECLA_image0003', 'anopheles_coluzzi_f_MOPTI_image0040', 'anopheles_freeborni_m_F1_image0012', 'aedes_aegypti_f_NEWORLEANS_image0014', 'anopheles_arabiensis_m_DONGOLA_image0053', 'anopheles_arabiensis_f_DONGOLA_image0121', 'anopheles_arabiensis_f_DONGOLA_image0043', 'aedes_aegypti_f_NEWORLEANS_image0079', 'aedes_aegypti_f_NEWORLEANS_image0094', 'anopheles_farauti_m_FAR1_image0020', 'anopheles_arabiensis_f_DONGOLA_image0010', 'aedes_aegypti_m_NEWORLEANS_image0026', 'anopheles_coluzzi_f_MOPTI_image0039', 'aedes_aegypti_m_NEWORLEANS_image0056', 'anopheles_arabiensis_f_DONGOLA_image0115', 'anopheles_coluzzi_f_MOPTI_image0006', 'anopheles_arabiensis_m_DONGOLA_image0063', 'anopheles_farauti_m_FAR1_image0001', 'anopheles_arabiensis_f_DONGOLA_image0081', 'aedes_aegypti_m_NEWORLEANS_image0064', 'anopheles_coluzzi_f_MOPTI_image0022', 'aedes_aegypti_f_NEWORLEANS_image0099', 'anopheles_arabiensis_f_DONGOLA_image0015', 'anopheles_arabiensis_f_DONGOLA_image0097', 'anopheles_arabiensis_f_DONGOLA_image0124', 'anopheles_coluzzi_f_MOPTI_image0016', 'anopheles_albimanus_f_STECLA_image0020', 'anopheles_arabiensis_f_DONGOLA_image0022', 'aedes_aegypti_m_NEWORLEANS_image0043', 'anopheles_albimanus_f_STECLA_image0010', 'aedes_aegypti_f_NEWORLEANS_image0133', 'anopheles_farauti_m_FAR1_image0002', 'anopheles_coluzzi_f_MOPTI_image0052', 'anopheles_farauti_f_FAR1_image0010', 'anopheles_arabiensis_f_DONGOLA_image0009', 'aedes_aegypti_f_NEWORLEANS_image0067', 'aedes_aegypti_f_NEWORLEANS_image0026', 'anopheles_arabiensis_f_DONGOLA_image0020', 'anopheles_arabiensis_f_DONGOLA_image0085', 'anopheles_coluzzi_f_MOPTI_image0029', 'aedes_aegypti_f_NEWORLEANS_image0010', 'anopheles_farauti_m_FAR1_image0046', 'anopheles_freeborni_m_F1_image0025', 'anopheles_farauti_m_FAR1_image0032', 'anopheles_freeborni_f_F1_image0007', 'aedes_aegypti_m_NEWORLEANS_image0003', 'anopheles_arabiensis_m_DONGOLA_image0016', 'aedes_aegypti_f_NEWORLEANS_image0117', 'aedes_aegypti_f_NEWORLEANS_image0113', 'anopheles_freeborni_f_F1_image0029', 'anopheles_freeborni_f_F1_image0025', 'aedes_aegypti_f_NEWORLEANS_image0144', 'aedes_aegypti_f_NEWORLEANS_image0057', 'anopheles_freeborni_f_F1_image0043', 'aedes_aegypti_f_NEWORLEANS_image0060', 'aedes_aegypti_f_NEWORLEANS_image0030', 'anopheles_arabiensis_m_DONGOLA_image0017', 'aedes_aegypti_f_NEWORLEANS_image0003', 'anopheles_coluzzi_f_MOPTI_image0009', 'anopheles_arabiensis_f_DONGOLA_image0026', 'anopheles_atroparvus_f_EBRO_image0017', 'anopheles_coluzzi_m_MOPTI_image0006', 'aedes_aegypti_f_NEWORLEANS_image0124', 'aedes_aegypti_f_NEWORLEANS_image0061', 'aedes_aegypti_f_NEWORLEANS_image0034', 'aedes_aegypti_m_NEWORLEANS_image0032', 'aedes_aegypti_f_NEWORLEANS_image0150', 'anopheles_coluzzi_m_MOPTI_image0004', 'anopheles_arabiensis_m_DONGOLA_image0018', 'anopheles_freeborni_f_F1_image0013', 'anopheles_albimanus_m_STECLA_image0007', 'anopheles_arabiensis_f_DONGOLA_image0030', 'aedes_aegypti_m_NEWORLEANS_image0011', 'aedes_aegypti_f_NEWORLEANS_image0134', 'anopheles_albimanus_m_STECLA_image0011', 'anopheles_arabiensis_f_DONGOLA_image0080', 'anopheles_farauti_m_FAR1_image0019', 'aedes_aegypti_f_NEWORLEANS_image0002', 'anopheles_coluzzi_f_MOPTI_image0027', 'anopheles_arabiensis_f_DONGOLA_image0052', 'anopheles_freeborni_m_F1_image0034', 'aedes_aegypti_f_NEWORLEANS_image0001', 'anopheles_coluzzi_m_MOPTI_image0018', 'aedes_aegypti_f_NEWORLEANS_image0138', 'anopheles_arabiensis_m_DONGOLA_image0013', 'anopheles_freeborni_m_F1_image0030', 'aedes_aegypti_f_NEWORLEANS_image0068', 'anopheles_arabiensis_f_DONGOLA_image0072', 'anopheles_atroparvus_f_EBRO_image0032', 'anopheles_arabiensis_f_DONGOLA_image0088', 'anopheles_farauti_m_FAR1_image0010', 'anopheles_arabiensis_f_DONGOLA_image0112', 'anopheles_arabiensis_m_DONGOLA_image0054', 'anopheles_farauti_f_FAR1_image0009', 'anopheles_albimanus_m_STECLA_image0012', 'anopheles_freeborni_f_F1_image0015', 'aedes_aegypti_f_NEWORLEANS_image0073', 'anopheles_farauti_m_FAR1_image0011', 'anopheles_arabiensis_f_DONGOLA_image0118', 'aedes_aegypti_m_NEWORLEANS_image0034', 'anopheles_albimanus_f_STECLA_image0017', 'anopheles_arabiensis_f_DONGOLA_image0036', 'anopheles_farauti_m_FAR1_image0007', 'aedes_aegypti_m_NEWORLEANS_image0046', 'anopheles_arabiensis_f_DONGOLA_image0093', 'anopheles_coluzzi_f_MOPTI_image0035', 'anopheles_arabiensis_m_DONGOLA_image0057', 'anopheles_arabiensis_f_DONGOLA_image0024', 'anopheles_arabiensis_f_DONGOLA_image0014', 'anopheles_freeborni_m_F1_image0042', 'aedes_aegypti_m_NEWORLEANS_image0061', 'anopheles_farauti_f_FAR1_image0005', 'anopheles_freeborni_m_F1_image0052', 'anopheles_arabiensis_m_DONGOLA_image0036', 'anopheles_atroparvus_f_EBRO_image0014', 'anopheles_arabiensis_f_DONGOLA_image0013', 'aedes_aegypti_f_NEWORLEANS_image0012', 'anopheles_freeborni_m_F1_image0010', 'aedes_aegypti_m_NEWORLEANS_image0010', 'anopheles_arabiensis_f_DONGOLA_image0098', 'aedes_aegypti_f_NEWORLEANS_image0105', 'aedes_aegypti_f_NEWORLEANS_image0088', 'anopheles_atroparvus_f_EBRO_image0007', 'anopheles_arabiensis_m_DONGOLA_image0044', 'anopheles_albimanus_m_STECLA_image0017', 'anopheles_farauti_f_FAR1_image0007', 'anopheles_arabiensis_f_DONGOLA_image0114', 'aedes_aegypti_m_NEWORLEANS_image0023', 'aedes_aegypti_f_NEWORLEANS_image0093', 'anopheles_freeborni_m_F1_image0049', 'aedes_aegypti_f_NEWORLEANS_image0063', 'anopheles_atroparvus_f_EBRO_image0011', 'anopheles_arabiensis_f_DONGOLA_image0111', 'anopheles_coluzzi_f_MOPTI_image0019', 'aedes_aegypti_f_NEWORLEANS_image0121', 'anopheles_arabiensis_m_DONGOLA_image0046', 'aedes_aegypti_f_NEWORLEANS_image0082', 'anopheles_albimanus_m_STECLA_image0019', 'anopheles_farauti_m_FAR1_image0016', 'anopheles_farauti_m_FAR1_image0021', 'anopheles_atroparvus_f_EBRO_image0025', 'aedes_aegypti_m_NEWORLEANS_image0066', 'anopheles_farauti_m_FAR1_image0004', 'anopheles_coluzzi_m_MOPTI_image0022', 'anopheles_coluzzi_m_MOPTI_image0017', 'anopheles_atroparvus_f_EBRO_image0026', 'anopheles_arabiensis_f_DONGOLA_image0012', 'anopheles_farauti_m_FAR1_image0025', 'aedes_aegypti_f_NEWORLEANS_image0098', 'anopheles_coluzzi_m_MOPTI_image0007', 'anopheles_albimanus_m_STECLA_image0002', 'anopheles_freeborni_f_F1_image0027', 'anopheles_farauti_m_FAR1_image0022', 'aedes_aegypti_f_NEWORLEANS_image0151', 'anopheles_arabiensis_m_DONGOLA_image0023', 'anopheles_arabiensis_f_DONGOLA_image0075', 'anopheles_arabiensis_f_DONGOLA_image0025', 'aedes_aegypti_f_NEWORLEANS_image0126', 'anopheles_coluzzi_f_MOPTI_image0004', 'anopheles_arabiensis_f_DONGOLA_image0105', 'anopheles_arabiensis_m_DONGOLA_image0015', 'anopheles_arabiensis_f_DONGOLA_image0110', 'anopheles_arabiensis_m_DONGOLA_image0041', 'anopheles_coluzzi_m_MOPTI_image0005', 'anopheles_atroparvus_f_EBRO_image0030', 'anopheles_albimanus_f_STECLA_image0035', 'anopheles_farauti_m_FAR1_image0023', 'anopheles_coluzzi_f_MOPTI_image0037', 'aedes_aegypti_m_NEWORLEANS_image0044', 'anopheles_coluzzi_f_MOPTI_image0013', 'anopheles_atroparvus_f_EBRO_image0005', 'aedes_aegypti_m_NEWORLEANS_image0054', 'anopheles_coluzzi_m_MOPTI_image0001', 'anopheles_arabiensis_m_DONGOLA_image0065', 'aedes_aegypti_m_NEWORLEANS_image0052', 'anopheles_freeborni_m_F1_image0007', 'anopheles_freeborni_m_F1_image0039', 'anopheles_atroparvus_f_EBRO_image0028', 'aedes_aegypti_m_NEWORLEANS_image0048', 'aedes_aegypti_f_NEWORLEANS_image0039', 'anopheles_coluzzi_f_MOPTI_image0036', 'anopheles_farauti_m_FAR1_image0035', 'anopheles_arabiensis_f_DONGOLA_image0113', 'anopheles_freeborni_f_F1_image0001', 'anopheles_freeborni_f_F1_image0009', 'aedes_aegypti_f_NEWORLEANS_image0076', 'anopheles_freeborni_m_F1_image0050', 'anopheles_coluzzi_m_MOPTI_image0009', 'anopheles_atroparvus_f_EBRO_image0002', 'aedes_aegypti_f_NEWORLEANS_image0142', 'anopheles_albimanus_m_STECLA_image0006', 'anopheles_arabiensis_f_DONGOLA_image0041', 'aedes_aegypti_f_NEWORLEANS_image0130', 'anopheles_arabiensis_m_DONGOLA_image0043', 'anopheles_farauti_m_FAR1_image0043', 'anopheles_freeborni_f_F1_image0012', 'anopheles_arabiensis_m_DONGOLA_image0022', 'anopheles_freeborni_f_F1_image0042', 'anopheles_arabiensis_f_DONGOLA_image0122', 'anopheles_freeborni_f_F1_image0026', 'anopheles_arabiensis_f_DONGOLA_image0044', 'aedes_aegypti_f_NEWORLEANS_image0137', 'anopheles_coluzzi_f_MOPTI_image0047', 'anopheles_freeborni_m_F1_image0020', 'aedes_aegypti_f_NEWORLEANS_image0028', 'anopheles_freeborni_m_F1_image0051', 'anopheles_farauti_m_FAR1_image0018', 'anopheles_freeborni_f_F1_image0018', 'aedes_aegypti_f_NEWORLEANS_image0131', 'anopheles_coluzzi_f_MOPTI_image0051', 'anopheles_atroparvus_f_EBRO_image0009', 'anopheles_freeborni_m_F1_image0045', 'aedes_aegypti_f_NEWORLEANS_image0021', 'aedes_aegypti_f_NEWORLEANS_image0115', 'aedes_aegypti_f_NEWORLEANS_image0118', 'anopheles_albimanus_f_STECLA_image0033', 'anopheles_arabiensis_m_DONGOLA_image0050', 'aedes_aegypti_f_NEWORLEANS_image0033', 'anopheles_freeborni_f_F1_image0031', 'anopheles_albimanus_m_STECLA_image0013', 'anopheles_arabiensis_f_DONGOLA_image0046', 'anopheles_arabiensis_f_DONGOLA_image0073', 'anopheles_arabiensis_m_DONGOLA_image0064', 'aedes_aegypti_m_NEWORLEANS_image0050', 'anopheles_coluzzi_f_MOPTI_image0030', 'anopheles_freeborni_f_F1_image0028', 'aedes_aegypti_f_NEWORLEANS_image0022', 'aedes_aegypti_f_NEWORLEANS_image0110', 'anopheles_freeborni_f_F1_image0006', 'anopheles_atroparvus_f_EBRO_image0029', 'anopheles_atroparvus_f_EBRO_image0010', 'anopheles_arabiensis_m_DONGOLA_image0005', 'anopheles_coluzzi_f_MOPTI_image0038', 'aedes_aegypti_f_NEWORLEANS_image0020', 'anopheles_freeborni_f_F1_image0005', 'anopheles_freeborni_f_F1_image0021', 'anopheles_arabiensis_f_DONGOLA_image0102', 'anopheles_coluzzi_f_MOPTI_image0008', 'anopheles_albimanus_f_STECLA_image0019', 'aedes_aegypti_m_NEWORLEANS_image0042', 'anopheles_freeborni_m_F1_image0004', 'anopheles_albimanus_f_STECLA_image0013', 'anopheles_farauti_m_FAR1_image0024', 'anopheles_atroparvus_f_EBRO_image0016', 'anopheles_arabiensis_f_DONGOLA_image0101', 'anopheles_arabiensis_m_DONGOLA_image0020', 'anopheles_farauti_m_FAR1_image0038', 'anopheles_farauti_m_FAR1_image0013', 'anopheles_freeborni_f_F1_image0020']\n"
     ]
    }
   ],
   "source": [
    "image_names = []\n",
    "\n",
    "for i in dir_list:\n",
    "    image_names.append(i[:-4])\n",
    "\n",
    "print(image_names)"
   ]
  },
  {
   "cell_type": "code",
   "execution_count": 19,
   "id": "fe9d2855",
   "metadata": {},
   "outputs": [
    {
     "name": "stdout",
     "output_type": "stream",
     "text": [
      "Number of Male Mosquitos:  280\n",
      "Number of female mosquitos:  230\n"
     ]
    }
   ],
   "source": [
    "def check_if_substring(string, substr):\n",
    "    if substr in string:\n",
    "        return True\n",
    "    else:\n",
    "        return False\n",
    "\n",
    "male_mosquitos = []\n",
    "female_mosquitos = []\n",
    "male_mosquito_names = []\n",
    "female_mosquito_names = []\n",
    "\n",
    "# counter is used to pick 33% of female mosquiros. \n",
    "# this to get around 150 female mosquitos\n",
    "count = 0\n",
    "\n",
    "for i in dir_list:\n",
    "    if check_if_substring(i, \"_m_\"):\n",
    "        male_mosquitos.append(\"M3_Database/\" + i)\n",
    "        male_mosquito_names.append(i)\n",
    "    if check_if_substring(i, \"_f_\"):\n",
    "        if count %2 == 0:\n",
    "            female_mosquitos.append(\"M3_Database/\" + i)\n",
    "            female_mosquito_names.append(i)\n",
    "        count += 1\n",
    "\n",
    "# print(male_mosquitos)\n",
    "print(\"Number of Male Mosquitos: \", len(male_mosquitos))\n",
    "print(\"Number of female mosquitos: \", len(female_mosquitos))"
   ]
  },
  {
   "cell_type": "code",
   "execution_count": 20,
   "id": "0e4ac3a2",
   "metadata": {},
   "outputs": [
    {
     "name": "stdout",
     "output_type": "stream",
     "text": [
      "510\n"
     ]
    }
   ],
   "source": [
    "all_mosquitos = male_mosquitos + female_mosquitos\n",
    "print(len(all_mosquitos))"
   ]
  },
  {
   "cell_type": "code",
   "execution_count": 21,
   "id": "b0c0a8db",
   "metadata": {},
   "outputs": [],
   "source": [
    "male_female_df = pd.DataFrame()\n",
    "male_female_df['path'] = all_mosquitos\n",
    "\n",
    "# create corresponding labels for all the male images\n",
    "male_female_label = [\"M\"] * len(male_mosquitos) + [\"F\"] * len(female_mosquitos)\n",
    "male_female_df['label'] = male_female_label\n",
    "\n",
    "# male_df = male_df.set_index('path')\n"
   ]
  },
  {
   "cell_type": "code",
   "execution_count": 22,
   "id": "58ed87ae",
   "metadata": {},
   "outputs": [
    {
     "data": {
      "text/html": [
       "<div>\n",
       "<style scoped>\n",
       "    .dataframe tbody tr th:only-of-type {\n",
       "        vertical-align: middle;\n",
       "    }\n",
       "\n",
       "    .dataframe tbody tr th {\n",
       "        vertical-align: top;\n",
       "    }\n",
       "\n",
       "    .dataframe thead th {\n",
       "        text-align: right;\n",
       "    }\n",
       "</style>\n",
       "<table border=\"1\" class=\"dataframe\">\n",
       "  <thead>\n",
       "    <tr style=\"text-align: right;\">\n",
       "      <th></th>\n",
       "      <th>path</th>\n",
       "      <th>label</th>\n",
       "    </tr>\n",
       "  </thead>\n",
       "  <tbody>\n",
       "    <tr>\n",
       "      <th>0</th>\n",
       "      <td>M3_Database/anopheles_arabiensis_m_DONGOLA_ima...</td>\n",
       "      <td>M</td>\n",
       "    </tr>\n",
       "    <tr>\n",
       "      <th>1</th>\n",
       "      <td>M3_Database/anopheles_arabiensis_m_DONGOLA_ima...</td>\n",
       "      <td>M</td>\n",
       "    </tr>\n",
       "    <tr>\n",
       "      <th>2</th>\n",
       "      <td>M3_Database/aedes_aegypti_m_NEWORLEANS_image00...</td>\n",
       "      <td>M</td>\n",
       "    </tr>\n",
       "    <tr>\n",
       "      <th>3</th>\n",
       "      <td>M3_Database/anopheles_farauti_m_FAR1_image0008...</td>\n",
       "      <td>M</td>\n",
       "    </tr>\n",
       "    <tr>\n",
       "      <th>4</th>\n",
       "      <td>M3_Database/anopheles_coluzzi_m_MOPTI_image001...</td>\n",
       "      <td>M</td>\n",
       "    </tr>\n",
       "    <tr>\n",
       "      <th>...</th>\n",
       "      <td>...</td>\n",
       "      <td>...</td>\n",
       "    </tr>\n",
       "    <tr>\n",
       "      <th>505</th>\n",
       "      <td>M3_Database/aedes_aegypti_f_NEWORLEANS_image00...</td>\n",
       "      <td>F</td>\n",
       "    </tr>\n",
       "    <tr>\n",
       "      <th>506</th>\n",
       "      <td>M3_Database/anopheles_freeborni_f_F1_image0021...</td>\n",
       "      <td>F</td>\n",
       "    </tr>\n",
       "    <tr>\n",
       "      <th>507</th>\n",
       "      <td>M3_Database/anopheles_coluzzi_f_MOPTI_image000...</td>\n",
       "      <td>F</td>\n",
       "    </tr>\n",
       "    <tr>\n",
       "      <th>508</th>\n",
       "      <td>M3_Database/anopheles_albimanus_f_STECLA_image...</td>\n",
       "      <td>F</td>\n",
       "    </tr>\n",
       "    <tr>\n",
       "      <th>509</th>\n",
       "      <td>M3_Database/anopheles_arabiensis_f_DONGOLA_ima...</td>\n",
       "      <td>F</td>\n",
       "    </tr>\n",
       "  </tbody>\n",
       "</table>\n",
       "<p>510 rows × 2 columns</p>\n",
       "</div>"
      ],
      "text/plain": [
       "                                                  path label\n",
       "0    M3_Database/anopheles_arabiensis_m_DONGOLA_ima...     M\n",
       "1    M3_Database/anopheles_arabiensis_m_DONGOLA_ima...     M\n",
       "2    M3_Database/aedes_aegypti_m_NEWORLEANS_image00...     M\n",
       "3    M3_Database/anopheles_farauti_m_FAR1_image0008...     M\n",
       "4    M3_Database/anopheles_coluzzi_m_MOPTI_image001...     M\n",
       "..                                                 ...   ...\n",
       "505  M3_Database/aedes_aegypti_f_NEWORLEANS_image00...     F\n",
       "506  M3_Database/anopheles_freeborni_f_F1_image0021...     F\n",
       "507  M3_Database/anopheles_coluzzi_f_MOPTI_image000...     F\n",
       "508  M3_Database/anopheles_albimanus_f_STECLA_image...     F\n",
       "509  M3_Database/anopheles_arabiensis_f_DONGOLA_ima...     F\n",
       "\n",
       "[510 rows x 2 columns]"
      ]
     },
     "execution_count": 22,
     "metadata": {},
     "output_type": "execute_result"
    }
   ],
   "source": [
    "male_female_df"
   ]
  },
  {
   "cell_type": "code",
   "execution_count": 23,
   "id": "471a38ec",
   "metadata": {},
   "outputs": [
    {
     "name": "stdout",
     "output_type": "stream",
     "text": [
      "(280, 2)\n",
      "(230, 2)\n"
     ]
    }
   ],
   "source": [
    "# selecting rows based on condition\n",
    "male_df1 = male_female_df.loc[(male_female_df[\"label\"] == \"M\")]\n",
    "female_df1 = male_female_df.loc[(male_female_df[\"label\"] == \"F\")]\n",
    "\n",
    "print(male_df1.shape)\n",
    "print(female_df1.shape)"
   ]
  },
  {
   "cell_type": "code",
   "execution_count": 24,
   "id": "4b785995",
   "metadata": {},
   "outputs": [
    {
     "name": "stdout",
     "output_type": "stream",
     "text": [
      "(433, 2)\n",
      "(77, 2)\n"
     ]
    }
   ],
   "source": [
    "# one train and test split\n",
    "from sklearn.model_selection import train_test_split\n",
    "\n",
    "train_data1, test_data1 = train_test_split(male_df1, test_size=0.15)\n",
    "train_data2, test_data2 = train_test_split(female_df1, test_size=0.15)\n",
    "\n",
    "\n",
    "train_data = pd.concat([train_data1, train_data2], ignore_index=True)\n",
    "test_data = pd.concat([test_data1, test_data2], ignore_index=True)\n",
    "\n",
    "\n",
    "train_data = train_data.sample(frac=1).reset_index(drop=True)\n",
    "test_data = test_data.sample(frac=1).reset_index(drop=True)\n",
    "\n",
    "print(train_data.shape)\n",
    "print(test_data.shape)"
   ]
  },
  {
   "cell_type": "code",
   "execution_count": 25,
   "id": "4f247c65",
   "metadata": {},
   "outputs": [
    {
     "data": {
      "text/html": [
       "<div>\n",
       "<style scoped>\n",
       "    .dataframe tbody tr th:only-of-type {\n",
       "        vertical-align: middle;\n",
       "    }\n",
       "\n",
       "    .dataframe tbody tr th {\n",
       "        vertical-align: top;\n",
       "    }\n",
       "\n",
       "    .dataframe thead th {\n",
       "        text-align: right;\n",
       "    }\n",
       "</style>\n",
       "<table border=\"1\" class=\"dataframe\">\n",
       "  <thead>\n",
       "    <tr style=\"text-align: right;\">\n",
       "      <th></th>\n",
       "      <th>path</th>\n",
       "      <th>label</th>\n",
       "    </tr>\n",
       "  </thead>\n",
       "  <tbody>\n",
       "    <tr>\n",
       "      <th>0</th>\n",
       "      <td>M3_Database/anopheles_arabiensis_m_DONGOLA_ima...</td>\n",
       "      <td>M</td>\n",
       "    </tr>\n",
       "    <tr>\n",
       "      <th>1</th>\n",
       "      <td>M3_Database/anopheles_atroparvus_f_EBRO_image0...</td>\n",
       "      <td>F</td>\n",
       "    </tr>\n",
       "    <tr>\n",
       "      <th>2</th>\n",
       "      <td>M3_Database/anopheles_freeborni_f_F1_image0036...</td>\n",
       "      <td>F</td>\n",
       "    </tr>\n",
       "    <tr>\n",
       "      <th>3</th>\n",
       "      <td>M3_Database/anopheles_arabiensis_f_DONGOLA_ima...</td>\n",
       "      <td>F</td>\n",
       "    </tr>\n",
       "    <tr>\n",
       "      <th>4</th>\n",
       "      <td>M3_Database/anopheles_arabiensis_m_DONGOLA_ima...</td>\n",
       "      <td>M</td>\n",
       "    </tr>\n",
       "    <tr>\n",
       "      <th>...</th>\n",
       "      <td>...</td>\n",
       "      <td>...</td>\n",
       "    </tr>\n",
       "    <tr>\n",
       "      <th>428</th>\n",
       "      <td>M3_Database/aedes_aegypti_f_NEWORLEANS_image01...</td>\n",
       "      <td>F</td>\n",
       "    </tr>\n",
       "    <tr>\n",
       "      <th>429</th>\n",
       "      <td>M3_Database/aedes_aegypti_f_NEWORLEANS_image00...</td>\n",
       "      <td>F</td>\n",
       "    </tr>\n",
       "    <tr>\n",
       "      <th>430</th>\n",
       "      <td>M3_Database/anopheles_coluzzi_m_MOPTI_image001...</td>\n",
       "      <td>M</td>\n",
       "    </tr>\n",
       "    <tr>\n",
       "      <th>431</th>\n",
       "      <td>M3_Database/anopheles_freeborni_f_F1_image0015...</td>\n",
       "      <td>F</td>\n",
       "    </tr>\n",
       "    <tr>\n",
       "      <th>432</th>\n",
       "      <td>M3_Database/anopheles_freeborni_f_F1_image0021...</td>\n",
       "      <td>F</td>\n",
       "    </tr>\n",
       "  </tbody>\n",
       "</table>\n",
       "<p>433 rows × 2 columns</p>\n",
       "</div>"
      ],
      "text/plain": [
       "                                                  path label\n",
       "0    M3_Database/anopheles_arabiensis_m_DONGOLA_ima...     M\n",
       "1    M3_Database/anopheles_atroparvus_f_EBRO_image0...     F\n",
       "2    M3_Database/anopheles_freeborni_f_F1_image0036...     F\n",
       "3    M3_Database/anopheles_arabiensis_f_DONGOLA_ima...     F\n",
       "4    M3_Database/anopheles_arabiensis_m_DONGOLA_ima...     M\n",
       "..                                                 ...   ...\n",
       "428  M3_Database/aedes_aegypti_f_NEWORLEANS_image01...     F\n",
       "429  M3_Database/aedes_aegypti_f_NEWORLEANS_image00...     F\n",
       "430  M3_Database/anopheles_coluzzi_m_MOPTI_image001...     M\n",
       "431  M3_Database/anopheles_freeborni_f_F1_image0015...     F\n",
       "432  M3_Database/anopheles_freeborni_f_F1_image0021...     F\n",
       "\n",
       "[433 rows x 2 columns]"
      ]
     },
     "execution_count": 25,
     "metadata": {},
     "output_type": "execute_result"
    }
   ],
   "source": [
    "train_data"
   ]
  },
  {
   "cell_type": "code",
   "execution_count": 26,
   "id": "00131407",
   "metadata": {},
   "outputs": [],
   "source": [
    "from torchvision import transforms\n",
    "mosquito_transforms = transforms.Compose([\n",
    "    #transforms.ToPILImage(),\n",
    "    transforms.Resize([299,299]),\n",
    "    transforms.ToTensor(),\n",
    "    transforms.Normalize((0.485, 0.456, 0.406), (0.229, 0.224, 0.225))\n",
    "])\n"
   ]
  },
  {
   "cell_type": "code",
   "execution_count": 27,
   "id": "146c34b9",
   "metadata": {},
   "outputs": [],
   "source": [
    "from PIL import Image, ImageOps\n",
    "def make_M3_data(d):\n",
    "    data_path = \"M3_Database\"\n",
    "    data = []\n",
    "    label = []\n",
    "    paths = []\n",
    "    sex = []\n",
    "    F_count = 0\n",
    "    G_count = 0\n",
    "    male_count = 0 \n",
    "    female_count = 0\n",
    "    df = pd.DataFrame()\n",
    "    for i in range(d.shape[0]):\n",
    "        specimen = d.loc[i, 'path']\n",
    "        paths.append(specimen)\n",
    "        image = Image.open(specimen)\n",
    "        image = mosquito_transforms(image)\n",
    "        data.append(image)\n",
    "        if d.loc[i,'label'] == \"F\":\n",
    "            sex.append(0)\n",
    "            female_count += 1\n",
    "\n",
    "        if d.loc[i,'label'] == \"M\":\n",
    "            sex.append(1)\n",
    "            male_count += 1\n",
    "                    \n",
    "    stacked_data = torch.stack(data)\n",
    "    df['path'] = paths\n",
    "    df['gender'] = sex \n",
    "    print(\"female_count: \", female_count)\n",
    "    print(\"male_count: \", male_count)\n",
    "    d1={'gender':sex}\n",
    "                \n",
    "    return stacked_data, d1, df"
   ]
  },
  {
   "cell_type": "code",
   "execution_count": 28,
   "id": "d6ca52bc",
   "metadata": {},
   "outputs": [
    {
     "name": "stdout",
     "output_type": "stream",
     "text": [
      "Fold1: \n",
      "Validation: \n",
      "female_count:  39\n",
      "male_count:  48\n",
      "Train: \n",
      "female_count:  156\n",
      "male_count:  190\n",
      "Fold2: \n",
      "Validation: \n",
      "female_count:  39\n",
      "male_count:  48\n",
      "Train: \n",
      "female_count:  156\n",
      "male_count:  190\n",
      "Fold3: \n",
      "Validation: \n",
      "female_count:  39\n",
      "male_count:  48\n",
      "Train: \n",
      "female_count:  156\n",
      "male_count:  190\n",
      "Fold4: \n",
      "Validation: \n",
      "female_count:  39\n",
      "male_count:  47\n",
      "Train: \n",
      "female_count:  156\n",
      "male_count:  191\n",
      "Fold5: \n",
      "Validation: \n",
      "female_count:  39\n",
      "male_count:  47\n",
      "Train: \n",
      "female_count:  156\n",
      "male_count:  191\n"
     ]
    }
   ],
   "source": [
    "from sklearn.model_selection import StratifiedKFold\n",
    "skf = StratifiedKFold(n_splits=5, shuffle = True)\n",
    "target = train_data.loc[:,'label']\n",
    "count = 1\n",
    "for train_index, valid_index in skf.split(train_data, target):\n",
    "    print(f\"Fold{count}: \")\n",
    "    \n",
    "    train = train_data.loc[train_index,:]\n",
    "    valid = train_data.loc[valid_index,:]\n",
    "    train = train.reset_index(drop=True)\n",
    "    valid = valid.reset_index(drop=True)\n",
    "    print(\"Validation: \")\n",
    "    d, dic1, path_df = make_M3_data(valid)\n",
    "    torch.save(d,f\"data/sex/CV_1_M3/val_data_fold{count}.pt\")\n",
    "    np.save(f\"data/sex/CV_1_M3/val_label_fold{count}.npy\", dic1)\n",
    "    path_df.to_csv(f\"data/sex/CV_1_M3/val_datapath_fold{count}.csv\", index = False)\n",
    "    print(\"Train: \")\n",
    "    d2, dic2, path_df2 = make_M3_data(train)\n",
    "    torch.save(d2,f\"data/sex/CV_1_M3/train_data_fold{count}.pt\")\n",
    "    np.save(f\"data/sex/CV_1_M3/train_label_fold{count}.npy\", dic2)\n",
    "    path_df2.to_csv(f\"data/sex/CV_1_M3/train_datapath_fold{count}.csv\", index = False)\n",
    "    count += 1\n"
   ]
  },
  {
   "cell_type": "code",
   "execution_count": 29,
   "id": "577ddaff",
   "metadata": {},
   "outputs": [
    {
     "name": "stdout",
     "output_type": "stream",
     "text": [
      "female_count:  35\n",
      "male_count:  42\n"
     ]
    }
   ],
   "source": [
    "d, dic, path_df = make_M3_data(test_data)"
   ]
  },
  {
   "cell_type": "code",
   "execution_count": 30,
   "id": "316d50cd",
   "metadata": {},
   "outputs": [],
   "source": [
    "path_df.to_csv('data/sex/CV_1_M3/test_datapath.csv', index = False)\n",
    "torch.save(d,\"data/sex/CV_1_M3/test_data.pt\")\n",
    "np.save(\"data/sex/CV_1_M3/test_label.npy\", dic)"
   ]
  },
  {
   "cell_type": "code",
   "execution_count": null,
   "id": "6d2259eb",
   "metadata": {},
   "outputs": [],
   "source": []
  }
 ],
 "metadata": {
  "kernelspec": {
   "display_name": "multihead",
   "language": "python",
   "name": "multihead"
  },
  "language_info": {
   "codemirror_mode": {
    "name": "ipython",
    "version": 3
   },
   "file_extension": ".py",
   "mimetype": "text/x-python",
   "name": "python",
   "nbconvert_exporter": "python",
   "pygments_lexer": "ipython3",
   "version": "3.7.13"
  }
 },
 "nbformat": 4,
 "nbformat_minor": 5
}
