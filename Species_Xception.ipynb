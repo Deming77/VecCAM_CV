{
  "cells": [
    {
      "cell_type": "markdown",
      "id": "53a4a03c",
      "metadata": {
        "id": "53a4a03c"
      },
      "source": [
        "Species Classification\n",
        "\n",
        "0-funestus 1-gambiae 2-Anopheles_other 3-culex 4-All other"
      ]
    },
    {
      "cell_type": "code",
      "execution_count": null,
      "id": "6ccf7927",
      "metadata": {
        "id": "6ccf7927"
      },
      "outputs": [],
      "source": [
        "%matplotlib inline\n",
        "import numpy as np\n",
        "import pandas as pd\n",
        "import matplotlib.pyplot as plt\n",
        "import time\n",
        "import random\n",
        "import math\n",
        "import os\n",
        "from tqdm import tqdm\n",
        "import torch\n",
        "import torch.nn as nn\n",
        "import torch.nn.functional as F\n",
        "import torch.optim as optim\n",
        "import cv2\n",
        "import re"
      ]
    },
    {
      "cell_type": "code",
      "source": [
        "!pip install timm"
      ],
      "metadata": {
        "colab": {
          "base_uri": "https://localhost:8080/"
        },
        "id": "9otZYMntMbph",
        "outputId": "09bc8887-49df-499b-f86d-39f0911ee0bc"
      },
      "id": "9otZYMntMbph",
      "execution_count": null,
      "outputs": [
        {
          "output_type": "stream",
          "name": "stdout",
          "text": [
            "Looking in indexes: https://pypi.org/simple, https://us-python.pkg.dev/colab-wheels/public/simple/\n",
            "Collecting timm\n",
            "  Downloading timm-0.5.4-py3-none-any.whl (431 kB)\n",
            "\u001b[K     |████████████████████████████████| 431 kB 18.3 MB/s \n",
            "\u001b[?25hRequirement already satisfied: torch>=1.4 in /usr/local/lib/python3.7/dist-packages (from timm) (1.11.0+cu113)\n",
            "Requirement already satisfied: torchvision in /usr/local/lib/python3.7/dist-packages (from timm) (0.12.0+cu113)\n",
            "Requirement already satisfied: typing-extensions in /usr/local/lib/python3.7/dist-packages (from torch>=1.4->timm) (4.2.0)\n",
            "Requirement already satisfied: numpy in /usr/local/lib/python3.7/dist-packages (from torchvision->timm) (1.21.6)\n",
            "Requirement already satisfied: pillow!=8.3.*,>=5.3.0 in /usr/local/lib/python3.7/dist-packages (from torchvision->timm) (7.1.2)\n",
            "Requirement already satisfied: requests in /usr/local/lib/python3.7/dist-packages (from torchvision->timm) (2.23.0)\n",
            "Requirement already satisfied: urllib3!=1.25.0,!=1.25.1,<1.26,>=1.21.1 in /usr/local/lib/python3.7/dist-packages (from requests->torchvision->timm) (1.24.3)\n",
            "Requirement already satisfied: idna<3,>=2.5 in /usr/local/lib/python3.7/dist-packages (from requests->torchvision->timm) (2.10)\n",
            "Requirement already satisfied: certifi>=2017.4.17 in /usr/local/lib/python3.7/dist-packages (from requests->torchvision->timm) (2022.5.18.1)\n",
            "Requirement already satisfied: chardet<4,>=3.0.2 in /usr/local/lib/python3.7/dist-packages (from requests->torchvision->timm) (3.0.4)\n",
            "Installing collected packages: timm\n",
            "Successfully installed timm-0.5.4\n"
          ]
        }
      ]
    },
    {
      "cell_type": "code",
      "source": [
        "from google.colab import drive\n",
        "drive.mount('/content/drive')"
      ],
      "metadata": {
        "colab": {
          "base_uri": "https://localhost:8080/"
        },
        "id": "OgA1Ji_N2ZAM",
        "outputId": "7defb64e-4c84-4705-a259-236fddedf616"
      },
      "id": "OgA1Ji_N2ZAM",
      "execution_count": null,
      "outputs": [
        {
          "output_type": "stream",
          "name": "stdout",
          "text": [
            "Mounted at /content/drive\n"
          ]
        }
      ]
    },
    {
      "cell_type": "markdown",
      "id": "dmxZkl8gtZuc",
      "metadata": {
        "id": "dmxZkl8gtZuc"
      },
      "source": [
        "# Train and test "
      ]
    },
    {
      "cell_type": "code",
      "execution_count": null,
      "id": "8d934d48",
      "metadata": {
        "id": "8d934d48"
      },
      "outputs": [],
      "source": [
        "train_data = torch.load(\"/content/drive/MyDrive/CBID/EfficientNet/train_whole_data_fold2.pt\")\n",
        "train_label = torch.load(\"/content/drive/MyDrive/CBID/EfficientNet/train_whole_label_fold2.pt\")\n",
        "test_data = torch.load(\"/content/drive/MyDrive/CBID/EfficientNet/test_whole_data.pt\")\n",
        "test_label = torch.load(\"/content/drive/MyDrive/CBID/EfficientNet/test_whole_label.pt\")"
      ]
    },
    {
      "cell_type": "code",
      "execution_count": null,
      "id": "f79eafda",
      "metadata": {
        "id": "f79eafda",
        "outputId": "378b5e33-a1e0-4cae-ad1f-7f7950860dde",
        "colab": {
          "base_uri": "https://localhost:8080/"
        }
      },
      "outputs": [
        {
          "output_type": "stream",
          "name": "stdout",
          "text": [
            "running on the GPU\n"
          ]
        }
      ],
      "source": [
        "if torch.cuda.is_available():\n",
        "    device = torch.device(\"cuda:0\")\n",
        "    print (\"running on the GPU\")\n",
        "else:\n",
        "    device = torch.device(\"cpu\")\n",
        "    print (\"running on the cpu\")"
      ]
    },
    {
      "cell_type": "code",
      "execution_count": null,
      "id": "09bc0d6c",
      "metadata": {
        "id": "09bc0d6c"
      },
      "outputs": [],
      "source": [
        "from torch.utils.data import Dataset\n",
        "\n",
        "\n",
        "class VectorCamDataset(Dataset):\n",
        "    \n",
        "    \n",
        "    def __init__(self, data, labels, transform=None):\n",
        "        'Initialization'\n",
        "        self.labels = labels\n",
        "        self.data = data\n",
        "        self.transform = transform\n",
        "\n",
        "    def __len__(self):\n",
        "        'Denotes the total number of samples'\n",
        "        return len(self.data)\n",
        "\n",
        "    def __getitem__(self, index):\n",
        "        \n",
        "        'Generates one sample of data'\n",
        "\n",
        "        # Load data and get label\n",
        "        x = self.data[index]\n",
        "        y = self.labels[index]\n",
        "        if self.transform:\n",
        "            x = self.transform(x)\n",
        "\n",
        "        return x, y"
      ]
    },
    {
      "cell_type": "code",
      "execution_count": null,
      "id": "43415bc8",
      "metadata": {
        "id": "43415bc8"
      },
      "outputs": [],
      "source": [
        "from torchvision import transforms\n",
        "invTrans = transforms.Compose([ \n",
        "                                transforms.RandomHorizontalFlip(p=0.25),\n",
        "                                transforms.RandomVerticalFlip(p=0.25)\n",
        "                               \n",
        "                                #transforms.Normalize(mean = [ 0.5150, 0.7373, 1.1327 ],\n",
        "                                #                     std = [ 0.5055, 0.4621, 0.4949 ]),\n",
        "    \n",
        "                               ])"
      ]
    },
    {
      "cell_type": "code",
      "execution_count": null,
      "id": "3a00d7ad",
      "metadata": {
        "id": "3a00d7ad"
      },
      "outputs": [],
      "source": [
        "train_dataset=VectorCamDataset(train_data,train_label,transform=invTrans)\n",
        "test_dataset=VectorCamDataset(test_data,test_label)"
      ]
    },
    {
      "cell_type": "code",
      "execution_count": null,
      "id": "6a4372a0",
      "metadata": {
        "id": "6a4372a0"
      },
      "outputs": [],
      "source": [
        "x, y = train_dataset[1]"
      ]
    },
    {
      "cell_type": "code",
      "execution_count": null,
      "id": "97785617",
      "metadata": {
        "id": "97785617",
        "outputId": "fcfa4a3f-2c62-4485-eba4-94edf43447e4",
        "colab": {
          "base_uri": "https://localhost:8080/",
          "height": 304
        }
      },
      "outputs": [
        {
          "output_type": "stream",
          "name": "stderr",
          "text": [
            "Clipping input data to the valid range for imshow with RGB data ([0..1] for floats or [0..255] for integers).\n"
          ]
        },
        {
          "output_type": "execute_result",
          "data": {
            "text/plain": [
              "<matplotlib.image.AxesImage at 0x7fd9af522610>"
            ]
          },
          "metadata": {},
          "execution_count": 9
        },
        {
          "output_type": "display_data",
          "data": {
            "text/plain": [
              "<Figure size 432x288 with 1 Axes>"
            ],
            "image/png": "[encoded data removed]"
          },
          "metadata": {
            "needs_background": "light"
          }
        }
      ],
      "source": [
        "plt.imshow(torch.permute(x, (1, 2, 0)))"
      ]
    },
    {
      "cell_type": "code",
      "execution_count": null,
      "id": "95c5af8e",
      "metadata": {
        "id": "95c5af8e",
        "outputId": "270052ae-8ab1-4f74-d14a-acb11e361030",
        "colab": {
          "base_uri": "https://localhost:8080/"
        }
      },
      "outputs": [
        {
          "output_type": "stream",
          "name": "stdout",
          "text": [
            "[1285  466  444  894  325]\n",
            "tensor([0.0008, 0.0021, 0.0023, 0.0011, 0.0031])\n"
          ]
        },
        {
          "output_type": "stream",
          "name": "stderr",
          "text": [
            "/usr/local/lib/python3.7/dist-packages/ipykernel_launcher.py:3: UserWarning: To copy construct from a tensor, it is recommended to use sourceTensor.clone().detach() or sourceTensor.clone().detach().requires_grad_(True), rather than torch.tensor(sourceTensor).\n",
            "  This is separate from the ipykernel package so we can avoid doing imports until\n"
          ]
        }
      ],
      "source": [
        "from torch.utils.data import DataLoader,WeightedRandomSampler\n",
        "\n",
        "target_list = torch.tensor(train_dataset.labels)\n",
        "class_count = np.array([len(np.where(train_dataset.labels == t)[0]) for t in np.unique(train_dataset.labels)])\n",
        "print(class_count)\n",
        "class_weights = 1./torch.tensor(class_count, dtype=torch.float)\n",
        "print(class_weights)\n",
        "class_weights_all = class_weights[target_list]\n",
        "weighted_sampler = WeightedRandomSampler(\n",
        "    weights=class_weights_all,\n",
        "    num_samples=len(class_weights_all),\n",
        "    replacement=True\n",
        "    )"
      ]
    },
    {
      "cell_type": "code",
      "execution_count": null,
      "id": "e26af390",
      "metadata": {
        "id": "e26af390"
      },
      "outputs": [],
      "source": [
        "from torch.utils.data import DataLoader\n",
        "train_dataloader = DataLoader(train_dataset,sampler=weighted_sampler, batch_size = 32)\n",
        "test_dataloader = DataLoader(test_dataset,batch_size=32, shuffle=False)"
      ]
    },
    {
      "cell_type": "code",
      "execution_count": null,
      "id": "4ae21fed",
      "metadata": {
        "id": "4ae21fed",
        "outputId": "ac7be19f-19d4-47fd-ba04-c61affe0dfad",
        "colab": {
          "base_uri": "https://localhost:8080/"
        }
      },
      "outputs": [
        {
          "output_type": "stream",
          "name": "stdout",
          "text": [
            "batch index 0, 0/1: 7/5/11/5/4\n",
            "batch index 1, 0/1: 8/6/6/2/10\n",
            "batch index 2, 0/1: 7/6/7/4/8\n",
            "batch index 3, 0/1: 6/5/7/8/6\n",
            "batch index 4, 0/1: 11/4/3/4/10\n",
            "batch index 5, 0/1: 10/6/5/4/7\n",
            "batch index 6, 0/1: 6/10/5/5/6\n",
            "batch index 7, 0/1: 7/8/4/6/7\n",
            "batch index 8, 0/1: 6/4/9/7/6\n",
            "batch index 9, 0/1: 6/6/6/8/6\n",
            "batch index 10, 0/1: 3/10/5/7/7\n",
            "batch index 11, 0/1: 8/4/8/6/6\n",
            "batch index 12, 0/1: 2/10/5/8/7\n",
            "batch index 13, 0/1: 8/6/6/4/8\n",
            "batch index 14, 0/1: 7/11/9/3/2\n",
            "batch index 15, 0/1: 5/2/8/10/7\n",
            "batch index 16, 0/1: 11/2/8/7/4\n",
            "batch index 17, 0/1: 8/6/7/10/1\n",
            "batch index 18, 0/1: 5/9/4/8/6\n",
            "batch index 19, 0/1: 5/8/8/5/6\n",
            "batch index 20, 0/1: 7/3/12/3/7\n",
            "batch index 21, 0/1: 5/10/5/5/7\n",
            "batch index 22, 0/1: 2/6/5/13/6\n",
            "batch index 23, 0/1: 3/6/6/8/9\n",
            "batch index 24, 0/1: 10/7/8/4/3\n",
            "batch index 25, 0/1: 7/4/9/5/7\n",
            "batch index 26, 0/1: 3/7/11/7/4\n",
            "batch index 27, 0/1: 6/9/4/8/5\n",
            "batch index 28, 0/1: 8/3/7/8/6\n",
            "batch index 29, 0/1: 7/2/7/10/6\n",
            "batch index 30, 0/1: 4/9/10/3/6\n",
            "batch index 31, 0/1: 10/5/7/5/5\n",
            "batch index 32, 0/1: 6/3/7/12/4\n",
            "batch index 33, 0/1: 7/4/9/4/8\n",
            "batch index 34, 0/1: 6/8/3/7/8\n",
            "batch index 35, 0/1: 7/8/3/8/6\n",
            "batch index 36, 0/1: 6/5/6/9/6\n",
            "batch index 37, 0/1: 6/5/6/10/5\n",
            "batch index 38, 0/1: 6/6/9/5/6\n",
            "batch index 39, 0/1: 6/1/9/8/8\n",
            "batch index 40, 0/1: 9/5/8/7/3\n",
            "batch index 41, 0/1: 8/7/4/5/8\n",
            "batch index 42, 0/1: 10/5/7/7/3\n",
            "batch index 43, 0/1: 9/11/2/3/7\n",
            "batch index 44, 0/1: 6/8/3/8/7\n",
            "batch index 45, 0/1: 6/7/4/9/6\n",
            "batch index 46, 0/1: 10/5/7/3/7\n",
            "batch index 47, 0/1: 3/7/11/7/4\n",
            "batch index 48, 0/1: 6/10/9/3/4\n",
            "batch index 49, 0/1: 7/11/4/5/5\n",
            "batch index 50, 0/1: 6/4/5/7/10\n",
            "batch index 51, 0/1: 5/10/3/7/7\n",
            "batch index 52, 0/1: 9/8/8/2/5\n",
            "batch index 53, 0/1: 7/5/8/6/6\n",
            "batch index 54, 0/1: 8/4/6/8/6\n",
            "batch index 55, 0/1: 7/5/7/9/4\n",
            "batch index 56, 0/1: 9/8/4/6/5\n",
            "batch index 57, 0/1: 6/9/6/4/7\n",
            "batch index 58, 0/1: 10/4/5/6/7\n",
            "batch index 59, 0/1: 7/5/5/8/7\n",
            "batch index 60, 0/1: 6/5/7/6/8\n",
            "batch index 61, 0/1: 5/7/5/8/7\n",
            "batch index 62, 0/1: 9/5/5/6/7\n",
            "batch index 63, 0/1: 8/5/9/6/4\n",
            "batch index 64, 0/1: 12/2/6/4/8\n",
            "batch index 65, 0/1: 8/6/7/4/7\n",
            "batch index 66, 0/1: 4/5/6/9/8\n",
            "batch index 67, 0/1: 5/6/6/9/6\n",
            "batch index 68, 0/1: 8/5/9/4/6\n",
            "batch index 69, 0/1: 6/7/9/3/7\n",
            "batch index 70, 0/1: 4/5/6/15/2\n",
            "batch index 71, 0/1: 5/10/9/7/1\n",
            "batch index 72, 0/1: 5/7/7/7/6\n",
            "batch index 73, 0/1: 3/7/4/8/10\n",
            "batch index 74, 0/1: 4/9/10/4/5\n",
            "batch index 75, 0/1: 5/6/10/5/6\n",
            "batch index 76, 0/1: 3/7/5/10/7\n",
            "batch index 77, 0/1: 8/6/4/5/9\n",
            "batch index 78, 0/1: 9/2/6/9/6\n",
            "batch index 79, 0/1: 7/5/9/5/6\n",
            "batch index 80, 0/1: 4/7/4/9/8\n",
            "batch index 81, 0/1: 6/9/4/4/9\n",
            "batch index 82, 0/1: 6/3/8/6/9\n",
            "batch index 83, 0/1: 10/5/6/8/3\n",
            "batch index 84, 0/1: 7/7/5/6/7\n",
            "batch index 85, 0/1: 7/7/8/5/5\n",
            "batch index 86, 0/1: 5/5/8/6/8\n",
            "batch index 87, 0/1: 5/9/6/6/6\n",
            "batch index 88, 0/1: 5/9/7/5/6\n",
            "batch index 89, 0/1: 7/11/7/4/3\n",
            "batch index 90, 0/1: 6/6/4/7/9\n",
            "batch index 91, 0/1: 8/3/8/5/8\n",
            "batch index 92, 0/1: 7/4/10/6/5\n",
            "batch index 93, 0/1: 8/7/9/5/3\n",
            "batch index 94, 0/1: 11/7/4/7/3\n",
            "batch index 95, 0/1: 6/3/10/5/8\n",
            "batch index 96, 0/1: 8/7/4/9/4\n",
            "batch index 97, 0/1: 6/7/10/4/5\n",
            "batch index 98, 0/1: 8/7/10/5/2\n",
            "batch index 99, 0/1: 9/6/3/10/4\n",
            "batch index 100, 0/1: 6/10/6/7/3\n",
            "batch index 101, 0/1: 8/8/5/5/6\n",
            "batch index 102, 0/1: 4/5/7/8/8\n",
            "batch index 103, 0/1: 5/3/6/11/7\n",
            "batch index 104, 0/1: 9/5/6/8/4\n",
            "batch index 105, 0/1: 5/3/6/10/8\n",
            "batch index 106, 0/1: 3/4/3/5/7\n"
          ]
        }
      ],
      "source": [
        "for i, (data, target) in enumerate(train_dataloader):\n",
        "    print(\"batch index {}, 0/1: {}/{}/{}/{}/{}\".format(\n",
        "        i,\n",
        "        len(np.where(target.numpy() == 0)[0]),\n",
        "        len(np.where(target.numpy() == 1)[0]),\n",
        "        len(np.where(target.numpy() == 2)[0]),\n",
        "        len(np.where(target.numpy() == 3)[0]),\n",
        "        len(np.where(target.numpy() == 4)[0])))"
      ]
    },
    {
      "cell_type": "code",
      "execution_count": null,
      "id": "d873d017",
      "metadata": {
        "id": "d873d017",
        "colab": {
          "base_uri": "https://localhost:8080/"
        },
        "outputId": "bd44de0c-0ed4-4dde-8bf9-5c3d94ecf0b0"
      },
      "outputs": [
        {
          "output_type": "stream",
          "name": "stderr",
          "text": [
            "Downloading: \"https://github.com/rwightman/pytorch-image-models/releases/download/v0.1-cadene/xception-43020ad28.pth\" to /root/.cache/torch/hub/checkpoints/xception-43020ad28.pth\n"
          ]
        }
      ],
      "source": [
        "import timm\n",
        "model = timm.create_model('xception', pretrained=True)\n",
        "model.fc = nn.Linear(2048, 5)\n",
        "model = model.to(device)"
      ]
    },
    {
      "cell_type": "code",
      "execution_count": null,
      "id": "d56a8459",
      "metadata": {
        "id": "d56a8459"
      },
      "outputs": [],
      "source": [
        "EPOCHS = 20\n",
        "criterion = nn.CrossEntropyLoss()\n",
        "optimizer = optim.AdamW(model.parameters(),lr = 1e-4, weight_decay = 1e-5)\n",
        "#optimizer = optim.SGD(model.parameters(), lr=0.0001)\n",
        "#scheduler = torch.optim.lr_scheduler.StepLR(optimizer, step_size=10, gamma=0.15)"
      ]
    },
    {
      "cell_type": "code",
      "execution_count": null,
      "id": "f50004d7",
      "metadata": {
        "id": "f50004d7"
      },
      "outputs": [],
      "source": [
        "def focal_loss(inputs, targets, reduction=\"mean\"):\n",
        "    CE_loss = F.cross_entropy(inputs, targets, reduction=reduction)\n",
        "    pt = torch.exp(-CE_loss)  # prevents nans when probability 0\n",
        "    F_loss = 0.25 * (1 - pt) ** 5 * CE_loss\n",
        "    return F_loss.mean()"
      ]
    },
    {
      "cell_type": "code",
      "execution_count": null,
      "id": "e40b6281",
      "metadata": {
        "id": "e40b6281"
      },
      "outputs": [],
      "source": [
        "def train(model):\n",
        "    train_loss = []\n",
        "    valid_loss = []\n",
        "    train_acc = []\n",
        "    valid_acc = []\n",
        "\n",
        "    for epoch in range (EPOCHS+1):\n",
        "        print(epoch)\n",
        "        correct = 0\n",
        "        total = 0\n",
        "        train_ave_loss = 0\n",
        "        model.train()\n",
        "        for batch_X, batch_Y in train_dataloader:\n",
        "            \n",
        "            batch_X = batch_X.to(device)\n",
        "            batch_Y = batch_Y.to(device)\n",
        "\n",
        "            # zero gradient\n",
        "            optimizer.zero_grad()\n",
        "            # pass through\n",
        "            outputs = model(batch_X)\n",
        "\n",
        "            # compute loss and back propagate\n",
        "            loss = criterion(outputs, batch_Y)\n",
        "            #loss2 = criterion(aux_outputs, batch_Y)\n",
        "            #loss = loss1 + 0.4 * loss2\n",
        "            \n",
        "            loss.backward()\n",
        "            # optimize\n",
        "            optimizer.step()\n",
        "            \n",
        "            train_ave_loss += loss.data.item()\n",
        "            _, predicted = outputs.max(1)\n",
        "            total += batch_Y.size(0)\n",
        "            correct += predicted.eq(batch_Y).sum().item()\n",
        "            \n",
        "        \n",
        "        train_loss.append(train_ave_loss/len(train_dataloader))\n",
        "        train_acc.append(100.*correct/total)\n",
        "        print(f\"Epoch: {epoch},Train Loss: {train_ave_loss/len(train_dataloader)} | Train Acc: {100.*correct/total} ({correct}/{total})\")\n",
        "    \n",
        "        if epoch % 1 == 0:\n",
        "        \n",
        "            model.eval()\n",
        "            valid_correct = 0\n",
        "            valid_total = 0\n",
        "            valid_ave_loss = 0\n",
        "            with torch.no_grad():\n",
        "\n",
        "                for valid_batch_X, valid_batch_Y in test_dataloader:\n",
        "                    \n",
        "                    valid_batch_X = valid_batch_X.to(device)\n",
        "                    valid_batch_Y = valid_batch_Y.to(device)\n",
        "            \n",
        "                    valid_outputs = model(valid_batch_X)\n",
        "                    loss = criterion(valid_outputs, valid_batch_Y)\n",
        "                    valid_ave_loss += loss.data.item()\n",
        "        \n",
        "                    _, predicted = valid_outputs.max(1)\n",
        "\n",
        "                    valid_correct += predicted.eq(valid_batch_Y).sum().item()\n",
        "                    valid_total += valid_batch_Y.size(0)\n",
        "                    \n",
        "            valid_loss.append(valid_ave_loss/len(test_dataloader))\n",
        "            valid_acc.append(100.*valid_correct/valid_total)\n",
        "    \n",
        "            print(f\"Validation Loss: {valid_ave_loss/len(test_dataloader)} | Validation Acc: {100.*valid_correct/valid_total} ({valid_correct}/{valid_total})\")\n",
        "            #torch.save(model.state_dict(), \\\n",
        "            #   'drive/MyDrive/pretrain_data_path/pretrain_Inception{}.pt'.format(str(epoch//1+2)))\n",
        "        \n",
        "        #scheduler.step()\n",
        "        \n",
        "    return train_loss, valid_loss, train_acc, valid_acc\n",
        "\n",
        "        \n",
        "def test(model):\n",
        "    correct = 0 \n",
        "    total = 0\n",
        "    model.eval()\n",
        "    out = []\n",
        "    with torch.no_grad():\n",
        "        for inputs, labels in test_dataloader:\n",
        "            \n",
        "            inputs = inputs.to(device)\n",
        "            labels = labels.to(device)\n",
        "            \n",
        "            outputs = model(inputs)\n",
        "            #loss = criterion(outputs, test_y[i].to(device).long())\n",
        "            _, predicted = outputs.max(1)\n",
        "            out.append(predicted.cpu().detach().numpy())\n",
        "\n",
        "            correct += predicted.eq(labels).sum().item()\n",
        "            total += labels.size(0)\n",
        "    \n",
        "    print(\"Accuracy:\", round(correct/total, 3))\n",
        "    return out"
      ]
    },
    {
      "cell_type": "code",
      "execution_count": null,
      "id": "1da206ad",
      "metadata": {
        "id": "1da206ad",
        "outputId": "9fe0b02d-05d6-409a-dbac-7326969c755f",
        "colab": {
          "base_uri": "https://localhost:8080/"
        }
      },
      "outputs": [
        {
          "output_type": "stream",
          "name": "stdout",
          "text": [
            "0\n",
            "Epoch: 0,Train Loss: 0.7978318963095407 | Train Acc: 73.49150556531927 (2509/3414)\n",
            "Validation Loss: 0.3785936922738046 | Validation Acc: 87.3320537428023 (910/1042)\n",
            "1\n",
            "Epoch: 1,Train Loss: 0.24104626375798868 | Train Acc: 92.4721734036321 (3157/3414)\n",
            "Validation Loss: 0.3660257825571479 | Validation Acc: 87.3320537428023 (910/1042)\n",
            "2\n",
            "Epoch: 2,Train Loss: 0.14201045711742383 | Train Acc: 95.72349150556532 (3268/3414)\n",
            "Validation Loss: 0.273780540873607 | Validation Acc: 91.36276391554702 (952/1042)\n",
            "3\n",
            "Epoch: 3,Train Loss: 0.09642001512138365 | Train Acc: 96.95371997656707 (3310/3414)\n",
            "Validation Loss: 0.28195536667198845 | Validation Acc: 91.07485604606526 (949/1042)\n",
            "4\n",
            "Epoch: 4,Train Loss: 0.07152998026147067 | Train Acc: 97.74458113649678 (3337/3414)\n",
            "Validation Loss: 0.3235777659962575 | Validation Acc: 89.53934740882917 (933/1042)\n",
            "5\n",
            "Epoch: 5,Train Loss: 0.06958852461147531 | Train Acc: 98.12536613942589 (3350/3414)\n",
            "Validation Loss: 0.34004206565970724 | Validation Acc: 90.40307101727447 (942/1042)\n",
            "6\n",
            "Epoch: 6,Train Loss: 0.05070628521302454 | Train Acc: 98.44756883421206 (3361/3414)\n",
            "Validation Loss: 0.29225793739103456 | Validation Acc: 92.32245681381957 (962/1042)\n",
            "7\n",
            "Epoch: 7,Train Loss: 0.04043513652215773 | Train Acc: 98.68189806678383 (3369/3414)\n",
            "Validation Loss: 0.28540737156149454 | Validation Acc: 92.32245681381957 (962/1042)\n",
            "8\n",
            "Epoch: 8,Train Loss: 0.03330575848416051 | Train Acc: 99.03339191564147 (3381/3414)\n",
            "Validation Loss: 0.338794819488557 | Validation Acc: 91.26679462571977 (951/1042)\n",
            "9\n",
            "Epoch: 9,Train Loss: 0.030396415847658276 | Train Acc: 98.97480960749853 (3379/3414)\n",
            "Validation Loss: 0.3629095371756138 | Validation Acc: 91.07485604606526 (949/1042)\n",
            "10\n",
            "Epoch: 10,Train Loss: 0.036433680407337354 | Train Acc: 98.88693614528412 (3376/3414)\n",
            "Validation Loss: 0.38866906034562626 | Validation Acc: 90.88291746641075 (947/1042)\n",
            "11\n",
            "Epoch: 11,Train Loss: 0.022718254097075872 | Train Acc: 99.26772114821324 (3389/3414)\n",
            "Validation Loss: 0.37142608106616093 | Validation Acc: 92.03454894433781 (959/1042)\n",
            "12\n",
            "Epoch: 12,Train Loss: 0.024376303960664945 | Train Acc: 99.23842999414177 (3388/3414)\n",
            "Validation Loss: 0.3285794530070923 | Validation Acc: 91.26679462571977 (951/1042)\n",
            "13\n",
            "Epoch: 13,Train Loss: 0.022535471951754364 | Train Acc: 99.32630345635619 (3391/3414)\n",
            "Validation Loss: 0.4040212661634679 | Validation Acc: 91.36276391554702 (952/1042)\n",
            "14\n",
            "Epoch: 14,Train Loss: 0.03835144093603975 | Train Acc: 98.82835383714118 (3374/3414)\n",
            "Validation Loss: 0.41273128234950657 | Validation Acc: 90.59500959692899 (944/1042)\n",
            "15\n",
            "Epoch: 15,Train Loss: 0.018721455017814116 | Train Acc: 99.44346807264206 (3395/3414)\n",
            "Validation Loss: 0.3916426833426213 | Validation Acc: 92.32245681381957 (962/1042)\n",
            "16\n",
            "Epoch: 16,Train Loss: 0.01281628134294857 | Train Acc: 99.64850615114236 (3402/3414)\n",
            "Validation Loss: 0.39981262742499396 | Validation Acc: 91.8426103646833 (957/1042)\n",
            "17\n",
            "Epoch: 17,Train Loss: 0.013284181137231971 | Train Acc: 99.58992384299941 (3400/3414)\n",
            "Validation Loss: 0.40563700685081794 | Validation Acc: 90.49904030710172 (943/1042)\n",
            "18\n",
            "Epoch: 18,Train Loss: 0.020093423133785617 | Train Acc: 99.35559461042764 (3392/3414)\n",
            "Validation Loss: 0.40356783041815186 | Validation Acc: 92.22648752399232 (961/1042)\n",
            "19\n",
            "Epoch: 19,Train Loss: 0.02117794866033908 | Train Acc: 99.35559461042764 (3392/3414)\n",
            "Validation Loss: 0.42609008123293857 | Validation Acc: 89.0595009596929 (928/1042)\n",
            "20\n",
            "Epoch: 20,Train Loss: 0.01539273245698581 | Train Acc: 99.61921499707088 (3401/3414)\n",
            "Validation Loss: 0.43200257787424506 | Validation Acc: 90.59500959692899 (944/1042)\n"
          ]
        }
      ],
      "source": [
        "train_loss, valid_loss, train_acc, valid_acc = train(model)"
      ]
    },
    {
      "cell_type": "code",
      "execution_count": null,
      "id": "38d19c2e",
      "metadata": {
        "id": "38d19c2e",
        "colab": {
          "base_uri": "https://localhost:8080/"
        },
        "outputId": "a196b699-e38b-439d-bd65-184d0bacd9f2"
      },
      "outputs": [
        {
          "output_type": "stream",
          "name": "stdout",
          "text": [
            "Accuracy: 0.906\n"
          ]
        }
      ],
      "source": [
        " out = test(model)"
      ]
    },
    {
      "cell_type": "code",
      "execution_count": null,
      "id": "fe9bc918",
      "metadata": {
        "id": "fe9bc918"
      },
      "outputs": [],
      "source": [
        "out = np.concatenate(out).ravel()"
      ]
    },
    {
      "cell_type": "code",
      "execution_count": null,
      "id": "c6a23a2d",
      "metadata": {
        "id": "c6a23a2d",
        "colab": {
          "base_uri": "https://localhost:8080/"
        },
        "outputId": "92fd2f3a-32ee-402a-bdc4-18d4933da709"
      },
      "outputs": [
        {
          "output_type": "execute_result",
          "data": {
            "text/plain": [
              "array([2, 2, 2, ..., 0, 0, 0])"
            ]
          },
          "metadata": {},
          "execution_count": 23
        }
      ],
      "source": [
        "out"
      ]
    },
    {
      "cell_type": "code",
      "execution_count": null,
      "id": "702810dc",
      "metadata": {
        "id": "702810dc",
        "colab": {
          "base_uri": "https://localhost:8080/",
          "height": 738
        },
        "outputId": "99c64bf2-f4f2-4e96-f3ae-d480245d5732"
      },
      "outputs": [
        {
          "output_type": "stream",
          "name": "stdout",
          "text": [
            "              precision    recall  f1-score   support\n",
            "\n",
            "           0       0.95      0.96      0.95       410\n",
            "           1       0.82      0.84      0.83       159\n",
            "           2       0.77      0.91      0.84       151\n",
            "           3       0.97      0.92      0.94       252\n",
            "           4       1.00      0.71      0.83        70\n",
            "\n",
            "    accuracy                           0.91      1042\n",
            "   macro avg       0.90      0.87      0.88      1042\n",
            "weighted avg       0.91      0.91      0.91      1042\n",
            "\n"
          ]
        },
        {
          "output_type": "display_data",
          "data": {
            "text/plain": [
              "<Figure size 576x576 with 2 Axes>"
            ],
            "image/png": "[encoded data removed]"
          },
          "metadata": {
            "needs_background": "light"
          }
        }
      ],
      "source": [
        "import seaborn as sn\n",
        "from sklearn.metrics import classification_report\n",
        "from sklearn.metrics import confusion_matrix\n",
        "species_all = [\"AF\",\n",
        "        \"AG\",\n",
        "        \"A_other\",\n",
        "        \"Culex\",\n",
        "        \"Other\"]\n",
        "# print classification report\n",
        "print(classification_report(test_label, out))\n",
        "\n",
        "# make confusion matrix\n",
        "conf_mat = confusion_matrix(test_label, out)\n",
        "conf_mat = conf_mat / np.expand_dims(conf_mat.astype(np.float64).sum(axis=1),1)\n",
        "conf_mat = np.round(conf_mat, decimals=2)\n",
        "fig = plt.figure(figsize=(8,8))\n",
        "ax = plt.subplot()\n",
        "hm = sn.heatmap(conf_mat, annot=True, ax = ax, cmap=\"PuBu\", fmt='.2', annot_kws={\"size\": 35 / np.sqrt(len(conf_mat))})\n",
        "ax.set_yticklabels(hm.get_yticklabels(), rotation=90)\n",
        "ax.set_xlabel('Predicted labels', fontsize = 15);ax.set_ylabel('True labels', fontsize = 15); \n",
        "ax.xaxis.set_ticklabels(species_all); ax.yaxis.set_ticklabels(species_all)\n",
        "plt.xticks(rotation = 90)\n",
        "plt.yticks(rotation = 0)\n",
        "plt.savefig('/content/drive/MyDrive/CBID/EfficientNet/Species_Xception_with_augmentation4.jpg')\n",
        "plt.show();\n"
      ]
    },
    {
      "cell_type": "code",
      "execution_count": null,
      "id": "0c9de0d3",
      "metadata": {
        "id": "0c9de0d3"
      },
      "outputs": [],
      "source": [
        "torch.save(model.state_dict(), \\\n",
        "               '/content/drive/MyDrive/CBID/EfficientNet/Species_Xception_with_augmentation4.pt')"
      ]
    },
    {
      "cell_type": "code",
      "execution_count": null,
      "id": "e9b44bde",
      "metadata": {
        "id": "e9b44bde"
      },
      "outputs": [],
      "source": [
        ""
      ]
    }
  ],
  "metadata": {
    "colab": {
      "collapsed_sections": [],
      "name": "Species_Xception.ipynb",
      "provenance": []
    },
    "kernelspec": {
      "display_name": "torch",
      "language": "python",
      "name": "torch"
    },
    "language_info": {
      "codemirror_mode": {
        "name": "ipython",
        "version": 3
      },
      "file_extension": ".py",
      "mimetype": "text/x-python",
      "name": "python",
      "nbconvert_exporter": "python",
      "pygments_lexer": "ipython3",
      "version": "3.9.12"
    },
    "accelerator": "GPU"
  },
  "nbformat": 4,
  "nbformat_minor": 5
}