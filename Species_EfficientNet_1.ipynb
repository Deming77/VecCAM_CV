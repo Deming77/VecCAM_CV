{
  "cells": [
    {
      "cell_type": "markdown",
      "id": "53a4a03c",
      "metadata": {
        "id": "53a4a03c"
      },
      "source": [
        "Species Classification\n",
        "\n",
        "0-funestus 1-gambiae 2-Anopheles_other 3-culex 4-All other"
      ]
    },
    {
      "cell_type": "code",
      "execution_count": 19,
      "id": "6ccf7927",
      "metadata": {
        "id": "6ccf7927"
      },
      "outputs": [],
      "source": [
        "%matplotlib inline\n",
        "import numpy as np\n",
        "import pandas as pd\n",
        "import matplotlib.pyplot as plt\n",
        "import time\n",
        "import random\n",
        "import math\n",
        "import os\n",
        "from tqdm import tqdm\n",
        "import torch\n",
        "import torch.nn as nn\n",
        "import torch.nn.functional as F\n",
        "import torch.optim as optim\n",
        "import cv2\n",
        "import re"
      ]
    },
    {
      "cell_type": "code",
      "source": [
        "from google.colab import drive\n",
        "drive.mount('/content/drive')"
      ],
      "metadata": {
        "colab": {
          "base_uri": "https://localhost:8080/"
        },
        "id": "OgA1Ji_N2ZAM",
        "outputId": "9fd245ab-430c-4c91-c962-f59a0f1bd6ef"
      },
      "id": "OgA1Ji_N2ZAM",
      "execution_count": 20,
      "outputs": [
        {
          "output_type": "stream",
          "name": "stdout",
          "text": [
            "Drive already mounted at /content/drive; to attempt to forcibly remount, call drive.mount(\"/content/drive\", force_remount=True).\n"
          ]
        }
      ]
    },
    {
      "cell_type": "markdown",
      "id": "dmxZkl8gtZuc",
      "metadata": {
        "id": "dmxZkl8gtZuc"
      },
      "source": [
        "# Train and test "
      ]
    },
    {
      "cell_type": "code",
      "execution_count": 21,
      "id": "8d934d48",
      "metadata": {
        "id": "8d934d48"
      },
      "outputs": [],
      "source": [
        "train_data = torch.load(\"/content/drive/MyDrive/CBID/EfficientNet/train_whole_data_fold2.pt\")\n",
        "train_label = torch.load(\"/content/drive/MyDrive/CBID/EfficientNet/train_whole_label_fold2.pt\")\n",
        "test_data = torch.load(\"/content/drive/MyDrive/CBID/EfficientNet/test_whole_data.pt\")\n",
        "test_label = torch.load(\"/content/drive/MyDrive/CBID/EfficientNet/test_whole_label.pt\")"
      ]
    },
    {
      "cell_type": "code",
      "execution_count": 22,
      "id": "f79eafda",
      "metadata": {
        "id": "f79eafda",
        "outputId": "9e9d6d5d-d25d-4bf8-cc39-90e8b3410f78",
        "colab": {
          "base_uri": "https://localhost:8080/"
        }
      },
      "outputs": [
        {
          "output_type": "stream",
          "name": "stdout",
          "text": [
            "running on the GPU\n"
          ]
        }
      ],
      "source": [
        "if torch.cuda.is_available():\n",
        "    device = torch.device(\"cuda:0\")\n",
        "    print (\"running on the GPU\")\n",
        "else:\n",
        "    device = torch.device(\"cpu\")\n",
        "    print (\"running on the cpu\")"
      ]
    },
    {
      "cell_type": "code",
      "execution_count": 23,
      "id": "09bc0d6c",
      "metadata": {
        "id": "09bc0d6c"
      },
      "outputs": [],
      "source": [
        "from torch.utils.data import Dataset\n",
        "\n",
        "\n",
        "class VectorCamDataset(Dataset):\n",
        "    \n",
        "    \n",
        "    def __init__(self, data, labels, transform=None):\n",
        "        'Initialization'\n",
        "        self.labels = labels\n",
        "        self.data = data\n",
        "        self.transform = transform\n",
        "\n",
        "    def __len__(self):\n",
        "        'Denotes the total number of samples'\n",
        "        return len(self.data)\n",
        "\n",
        "    def __getitem__(self, index):\n",
        "        \n",
        "        'Generates one sample of data'\n",
        "\n",
        "        # Load data and get label\n",
        "        x = self.data[index]\n",
        "        y = self.labels[index]\n",
        "        if self.transform:\n",
        "            x = self.transform(x)\n",
        "\n",
        "        return x, y"
      ]
    },
    {
      "cell_type": "code",
      "execution_count": 24,
      "id": "43415bc8",
      "metadata": {
        "id": "43415bc8"
      },
      "outputs": [],
      "source": [
        "from torchvision import transforms\n",
        "invTrans = transforms.Compose([ \n",
        "                                transforms.RandomHorizontalFlip(p=0.25),\n",
        "                                transforms.RandomVerticalFlip(p=0.25)\n",
        "                                #transforms.Normalize(mean = [ 0.5150, 0.7373, 1.1327 ],\n",
        "                                #                     std = [ 0.5055, 0.4621, 0.4949 ]),\n",
        "    \n",
        "                               ])"
      ]
    },
    {
      "cell_type": "code",
      "execution_count": 25,
      "id": "3a00d7ad",
      "metadata": {
        "id": "3a00d7ad"
      },
      "outputs": [],
      "source": [
        "train_dataset=VectorCamDataset(train_data,train_label,transform=invTrans)\n",
        "test_dataset=VectorCamDataset(test_data,test_label)"
      ]
    },
    {
      "cell_type": "code",
      "execution_count": 26,
      "id": "6a4372a0",
      "metadata": {
        "id": "6a4372a0"
      },
      "outputs": [],
      "source": [
        "x, y = train_dataset[1]"
      ]
    },
    {
      "cell_type": "code",
      "execution_count": 27,
      "id": "97785617",
      "metadata": {
        "id": "97785617",
        "outputId": "5b444be0-246c-41e6-dc94-3b3929f64b7b",
        "colab": {
          "base_uri": "https://localhost:8080/",
          "height": 304
        }
      },
      "outputs": [
        {
          "output_type": "stream",
          "name": "stderr",
          "text": [
            "Clipping input data to the valid range for imshow with RGB data ([0..1] for floats or [0..255] for integers).\n"
          ]
        },
        {
          "output_type": "execute_result",
          "data": {
            "text/plain": [
              "<matplotlib.image.AxesImage at 0x7f0ffa1ba950>"
            ]
          },
          "metadata": {},
          "execution_count": 27
        },
        {
          "output_type": "display_data",
          "data": {
            "text/plain": [
              "<Figure size 432x288 with 1 Axes>"
            ],
            "image/png": "[encoded data removed]"
          },
          "metadata": {
            "needs_background": "light"
          }
        }
      ],
      "source": [
        "plt.imshow(torch.permute(x, (1, 2, 0)))"
      ]
    },
    {
      "cell_type": "code",
      "execution_count": 28,
      "id": "95c5af8e",
      "metadata": {
        "id": "95c5af8e",
        "outputId": "daf2d6b1-b08b-4ad9-bd12-a265b9312dd5",
        "colab": {
          "base_uri": "https://localhost:8080/"
        }
      },
      "outputs": [
        {
          "output_type": "stream",
          "name": "stdout",
          "text": [
            "[1285  466  444  894  325]\n",
            "tensor([0.0008, 0.0021, 0.0023, 0.0011, 0.0031])\n"
          ]
        },
        {
          "output_type": "stream",
          "name": "stderr",
          "text": [
            "/usr/local/lib/python3.7/dist-packages/ipykernel_launcher.py:3: UserWarning: To copy construct from a tensor, it is recommended to use sourceTensor.clone().detach() or sourceTensor.clone().detach().requires_grad_(True), rather than torch.tensor(sourceTensor).\n",
            "  This is separate from the ipykernel package so we can avoid doing imports until\n"
          ]
        }
      ],
      "source": [
        "from torch.utils.data import DataLoader,WeightedRandomSampler\n",
        "\n",
        "target_list = torch.tensor(train_dataset.labels)\n",
        "class_count = np.array([len(np.where(train_dataset.labels == t)[0]) for t in np.unique(train_dataset.labels)])\n",
        "print(class_count)\n",
        "class_weights = 1./torch.tensor(class_count, dtype=torch.float)\n",
        "print(class_weights)\n",
        "class_weights_all = class_weights[target_list]\n",
        "weighted_sampler = WeightedRandomSampler(\n",
        "    weights=class_weights_all,\n",
        "    num_samples=len(class_weights_all),\n",
        "    replacement=True\n",
        "    )"
      ]
    },
    {
      "cell_type": "code",
      "execution_count": 29,
      "id": "e26af390",
      "metadata": {
        "id": "e26af390"
      },
      "outputs": [],
      "source": [
        "from torch.utils.data import DataLoader\n",
        "train_dataloader = DataLoader(train_dataset,sampler=weighted_sampler, batch_size = 32)\n",
        "test_dataloader = DataLoader(test_dataset,batch_size=32, shuffle=False)"
      ]
    },
    {
      "cell_type": "code",
      "execution_count": 30,
      "id": "4ae21fed",
      "metadata": {
        "id": "4ae21fed",
        "outputId": "7b99aa34-c5b7-4766-827d-a7351490b07a",
        "colab": {
          "base_uri": "https://localhost:8080/"
        }
      },
      "outputs": [
        {
          "output_type": "stream",
          "name": "stdout",
          "text": [
            "batch index 0, 0/1: 6/9/6/5/6\n",
            "batch index 1, 0/1: 12/3/7/6/4\n",
            "batch index 2, 0/1: 3/12/3/10/4\n",
            "batch index 3, 0/1: 7/8/4/9/4\n",
            "batch index 4, 0/1: 4/7/5/10/6\n",
            "batch index 5, 0/1: 6/6/8/5/7\n",
            "batch index 6, 0/1: 7/9/9/3/4\n",
            "batch index 7, 0/1: 10/5/4/9/4\n",
            "batch index 8, 0/1: 7/5/5/8/7\n",
            "batch index 9, 0/1: 6/8/7/5/6\n",
            "batch index 10, 0/1: 9/3/10/6/4\n",
            "batch index 11, 0/1: 4/12/4/8/4\n",
            "batch index 12, 0/1: 5/4/3/13/7\n",
            "batch index 13, 0/1: 7/6/6/3/10\n",
            "batch index 14, 0/1: 4/5/5/9/9\n",
            "batch index 15, 0/1: 7/9/8/4/4\n",
            "batch index 16, 0/1: 11/9/7/3/2\n",
            "batch index 17, 0/1: 9/6/10/4/3\n",
            "batch index 18, 0/1: 7/7/5/6/7\n",
            "batch index 19, 0/1: 9/8/6/3/6\n",
            "batch index 20, 0/1: 6/8/5/6/7\n",
            "batch index 21, 0/1: 9/3/8/5/7\n",
            "batch index 22, 0/1: 4/10/8/4/6\n",
            "batch index 23, 0/1: 1/9/10/4/8\n",
            "batch index 24, 0/1: 8/2/7/10/5\n",
            "batch index 25, 0/1: 8/6/4/5/9\n",
            "batch index 26, 0/1: 10/7/6/4/5\n",
            "batch index 27, 0/1: 8/10/7/4/3\n",
            "batch index 28, 0/1: 6/9/5/5/7\n",
            "batch index 29, 0/1: 9/4/6/8/5\n",
            "batch index 30, 0/1: 6/5/8/5/8\n",
            "batch index 31, 0/1: 5/6/7/6/8\n",
            "batch index 32, 0/1: 7/6/2/9/8\n",
            "batch index 33, 0/1: 7/3/6/8/8\n",
            "batch index 34, 0/1: 1/12/7/5/7\n",
            "batch index 35, 0/1: 9/10/1/3/9\n",
            "batch index 36, 0/1: 6/8/7/4/7\n",
            "batch index 37, 0/1: 8/4/9/5/6\n",
            "batch index 38, 0/1: 5/8/6/6/7\n",
            "batch index 39, 0/1: 7/5/8/3/9\n",
            "batch index 40, 0/1: 2/6/8/9/7\n",
            "batch index 41, 0/1: 6/5/7/8/6\n",
            "batch index 42, 0/1: 6/6/7/9/4\n",
            "batch index 43, 0/1: 10/6/7/5/4\n",
            "batch index 44, 0/1: 4/8/8/6/6\n",
            "batch index 45, 0/1: 5/13/5/5/4\n",
            "batch index 46, 0/1: 5/6/8/5/8\n",
            "batch index 47, 0/1: 7/6/5/8/6\n",
            "batch index 48, 0/1: 5/6/8/9/4\n",
            "batch index 49, 0/1: 7/5/8/8/4\n",
            "batch index 50, 0/1: 7/4/7/5/9\n",
            "batch index 51, 0/1: 4/5/9/5/9\n",
            "batch index 52, 0/1: 2/11/8/3/8\n",
            "batch index 53, 0/1: 5/7/7/7/6\n",
            "batch index 54, 0/1: 7/6/9/7/3\n",
            "batch index 55, 0/1: 7/10/6/2/7\n",
            "batch index 56, 0/1: 7/6/2/7/10\n",
            "batch index 57, 0/1: 10/3/10/4/5\n",
            "batch index 58, 0/1: 2/8/5/9/8\n",
            "batch index 59, 0/1: 7/12/6/3/4\n",
            "batch index 60, 0/1: 9/2/6/7/8\n",
            "batch index 61, 0/1: 8/4/8/6/6\n",
            "batch index 62, 0/1: 9/8/5/5/5\n",
            "batch index 63, 0/1: 9/6/6/7/4\n",
            "batch index 64, 0/1: 6/8/6/6/6\n",
            "batch index 65, 0/1: 7/8/4/9/4\n",
            "batch index 66, 0/1: 7/7/8/6/4\n",
            "batch index 67, 0/1: 8/5/3/8/8\n",
            "batch index 68, 0/1: 5/5/6/9/7\n",
            "batch index 69, 0/1: 9/6/9/3/5\n",
            "batch index 70, 0/1: 9/5/5/5/8\n",
            "batch index 71, 0/1: 8/4/11/6/3\n",
            "batch index 72, 0/1: 5/4/10/3/10\n",
            "batch index 73, 0/1: 7/7/8/6/4\n",
            "batch index 74, 0/1: 9/1/5/9/8\n",
            "batch index 75, 0/1: 5/8/9/8/2\n",
            "batch index 76, 0/1: 4/7/7/8/6\n",
            "batch index 77, 0/1: 7/8/5/7/5\n",
            "batch index 78, 0/1: 3/8/7/7/7\n",
            "batch index 79, 0/1: 8/6/8/5/5\n",
            "batch index 80, 0/1: 6/9/8/8/1\n",
            "batch index 81, 0/1: 5/8/4/10/5\n",
            "batch index 82, 0/1: 9/3/7/9/4\n",
            "batch index 83, 0/1: 6/6/4/6/10\n",
            "batch index 84, 0/1: 5/6/7/4/10\n",
            "batch index 85, 0/1: 11/11/5/3/2\n",
            "batch index 86, 0/1: 6/7/8/4/7\n",
            "batch index 87, 0/1: 7/5/13/5/2\n",
            "batch index 88, 0/1: 7/5/7/10/3\n",
            "batch index 89, 0/1: 8/6/10/4/4\n",
            "batch index 90, 0/1: 6/8/8/8/2\n",
            "batch index 91, 0/1: 2/9/9/7/5\n",
            "batch index 92, 0/1: 2/11/6/5/8\n",
            "batch index 93, 0/1: 4/9/3/9/7\n",
            "batch index 94, 0/1: 5/5/9/4/9\n",
            "batch index 95, 0/1: 5/8/6/5/8\n",
            "batch index 96, 0/1: 5/6/5/9/7\n",
            "batch index 97, 0/1: 10/7/4/4/7\n",
            "batch index 98, 0/1: 8/5/7/5/7\n",
            "batch index 99, 0/1: 6/11/7/2/6\n",
            "batch index 100, 0/1: 6/8/4/11/3\n",
            "batch index 101, 0/1: 6/9/4/6/7\n",
            "batch index 102, 0/1: 7/6/12/5/2\n",
            "batch index 103, 0/1: 8/3/3/11/7\n",
            "batch index 104, 0/1: 5/4/6/8/9\n",
            "batch index 105, 0/1: 8/6/8/4/6\n",
            "batch index 106, 0/1: 4/6/4/5/3\n"
          ]
        }
      ],
      "source": [
        "for i, (data, target) in enumerate(train_dataloader):\n",
        "    print(\"batch index {}, 0/1: {}/{}/{}/{}/{}\".format(\n",
        "        i,\n",
        "        len(np.where(target.numpy() == 0)[0]),\n",
        "        len(np.where(target.numpy() == 1)[0]),\n",
        "        len(np.where(target.numpy() == 2)[0]),\n",
        "        len(np.where(target.numpy() == 3)[0]),\n",
        "        len(np.where(target.numpy() == 4)[0])))"
      ]
    },
    {
      "cell_type": "code",
      "execution_count": 31,
      "id": "d873d017",
      "metadata": {
        "id": "d873d017"
      },
      "outputs": [],
      "source": [
        "from torchvision import models\n",
        "model = models.efficientnet_b1(pretrained=False)\n",
        "model.fc = nn.Linear(2048, 5)\n",
        "#model.AuxLogits.fc = nn.Linear(768, 5)\n",
        "#model.load_state_dict(torch.load('/home/shrutihegde/Desktop/EfficientNet/Species_EfficientNet_with_augmentation.pt'))\n",
        "model = model.to(device)"
      ]
    },
    {
      "cell_type": "code",
      "execution_count": 32,
      "id": "d56a8459",
      "metadata": {
        "id": "d56a8459"
      },
      "outputs": [],
      "source": [
        "EPOCHS = 20\n",
        "criterion = nn.CrossEntropyLoss()\n",
        "optimizer = optim.Adam(model.parameters(),lr = 1e-4, weight_decay = 1e-5)\n",
        "#optimizer = optim.SGD(model.parameters(), lr=0.0001)\n",
        "#scheduler = torch.optim.lr_scheduler.StepLR(optimizer, step_size=10, gamma=0.15)"
      ]
    },
    {
      "cell_type": "code",
      "execution_count": 33,
      "id": "f50004d7",
      "metadata": {
        "id": "f50004d7"
      },
      "outputs": [],
      "source": [
        "def focal_loss(inputs, targets, reduction=\"mean\"):\n",
        "    CE_loss = F.cross_entropy(inputs, targets, reduction=reduction)\n",
        "    pt = torch.exp(-CE_loss)  # prevents nans when probability 0\n",
        "    F_loss = 0.25 * (1 - pt) ** 5 * CE_loss\n",
        "    return F_loss.mean()"
      ]
    },
    {
      "cell_type": "code",
      "execution_count": 34,
      "id": "e40b6281",
      "metadata": {
        "id": "e40b6281"
      },
      "outputs": [],
      "source": [
        "def train(model):\n",
        "    train_loss = []\n",
        "    valid_loss = []\n",
        "    train_acc = []\n",
        "    valid_acc = []\n",
        "\n",
        "    for epoch in range (EPOCHS+1):\n",
        "        print(epoch)\n",
        "        correct = 0\n",
        "        total = 0\n",
        "        train_ave_loss = 0\n",
        "        model.train()\n",
        "        for batch_X, batch_Y in train_dataloader:\n",
        "            \n",
        "            batch_X = batch_X.to(device)\n",
        "            batch_Y = batch_Y.to(device)\n",
        "\n",
        "            # zero gradient\n",
        "            optimizer.zero_grad()\n",
        "            # pass through\n",
        "            outputs = model(batch_X)\n",
        "\n",
        "            # compute loss and back propagate\n",
        "            loss = criterion(outputs, batch_Y)\n",
        "            #loss2 = criterion(aux_outputs, batch_Y)\n",
        "            #loss = loss1 + 0.4 * loss2\n",
        "            \n",
        "            loss.backward()\n",
        "            # optimize\n",
        "            optimizer.step()\n",
        "            \n",
        "            train_ave_loss += loss.data.item()\n",
        "            _, predicted = outputs.max(1)\n",
        "            total += batch_Y.size(0)\n",
        "            correct += predicted.eq(batch_Y).sum().item()\n",
        "            \n",
        "        \n",
        "        train_loss.append(train_ave_loss/len(train_dataloader))\n",
        "        train_acc.append(100.*correct/total)\n",
        "        print(f\"Epoch: {epoch},Train Loss: {train_ave_loss/len(train_dataloader)} | Train Acc: {100.*correct/total} ({correct}/{total})\")\n",
        "    \n",
        "        if epoch % 1 == 0:\n",
        "        \n",
        "            model.eval()\n",
        "            valid_correct = 0\n",
        "            valid_total = 0\n",
        "            valid_ave_loss = 0\n",
        "            with torch.no_grad():\n",
        "\n",
        "                for valid_batch_X, valid_batch_Y in test_dataloader:\n",
        "                    \n",
        "                    valid_batch_X = valid_batch_X.to(device)\n",
        "                    valid_batch_Y = valid_batch_Y.to(device)\n",
        "            \n",
        "                    valid_outputs = model(valid_batch_X)\n",
        "                    loss = criterion(valid_outputs, valid_batch_Y)\n",
        "                    valid_ave_loss += loss.data.item()\n",
        "        \n",
        "                    _, predicted = valid_outputs.max(1)\n",
        "\n",
        "                    valid_correct += predicted.eq(valid_batch_Y).sum().item()\n",
        "                    valid_total += valid_batch_Y.size(0)\n",
        "                    \n",
        "            valid_loss.append(valid_ave_loss/len(test_dataloader))\n",
        "            valid_acc.append(100.*valid_correct/valid_total)\n",
        "    \n",
        "            print(f\"Validation Loss: {valid_ave_loss/len(test_dataloader)} | Validation Acc: {100.*valid_correct/valid_total} ({valid_correct}/{valid_total})\")\n",
        "            #torch.save(model.state_dict(), \\\n",
        "            #   'drive/MyDrive/pretrain_data_path/pretrain_Inception{}.pt'.format(str(epoch//1+2)))\n",
        "        \n",
        "        #scheduler.step()\n",
        "        \n",
        "    return train_loss, valid_loss, train_acc, valid_acc\n",
        "\n",
        "        \n",
        "def test(model):\n",
        "    correct = 0 \n",
        "    total = 0\n",
        "    model.eval()\n",
        "    out = []\n",
        "    with torch.no_grad():\n",
        "        for inputs, labels in test_dataloader:\n",
        "            \n",
        "            inputs = inputs.to(device)\n",
        "            labels = labels.to(device)\n",
        "            \n",
        "            outputs = model(inputs)\n",
        "            #loss = criterion(outputs, test_y[i].to(device).long())\n",
        "            _, predicted = outputs.max(1)\n",
        "            out.append(predicted.cpu().detach().numpy())\n",
        "\n",
        "            correct += predicted.eq(labels).sum().item()\n",
        "            total += labels.size(0)\n",
        "    \n",
        "    print(\"Accuracy:\", round(correct/total, 3))\n",
        "    return out"
      ]
    },
    {
      "cell_type": "code",
      "execution_count": 35,
      "id": "1da206ad",
      "metadata": {
        "id": "1da206ad",
        "outputId": "7ad918b8-06f3-4f76-f323-e37de6a9fba2",
        "colab": {
          "base_uri": "https://localhost:8080/"
        }
      },
      "outputs": [
        {
          "output_type": "stream",
          "name": "stdout",
          "text": [
            "0\n",
            "Epoch: 0,Train Loss: 4.082131945084188 | Train Acc: 37.024018746338605 (1264/3414)\n",
            "Validation Loss: 1.9901242626435829 | Validation Acc: 59.021113243761995 (615/1042)\n",
            "1\n",
            "Epoch: 1,Train Loss: 1.308304631821463 | Train Acc: 57.8207381370826 (1974/3414)\n",
            "Validation Loss: 1.1861012797294692 | Validation Acc: 60.076775431861805 (626/1042)\n",
            "2\n",
            "Epoch: 2,Train Loss: 0.9567587754436743 | Train Acc: 62.565905096660806 (2136/3414)\n",
            "Validation Loss: 0.9242888102025697 | Validation Acc: 68.52207293666027 (714/1042)\n",
            "3\n",
            "Epoch: 3,Train Loss: 0.830606266438404 | Train Acc: 68.57059168131224 (2341/3414)\n",
            "Validation Loss: 0.740930520957618 | Validation Acc: 74.4721689059501 (776/1042)\n",
            "4\n",
            "Epoch: 4,Train Loss: 0.8070688515065987 | Train Acc: 69.800820152314 (2383/3414)\n",
            "Validation Loss: 0.7458678611808203 | Validation Acc: 72.55278310940498 (756/1042)\n",
            "5\n",
            "Epoch: 5,Train Loss: 0.7123301082125334 | Train Acc: 72.1734036321031 (2464/3414)\n",
            "Validation Loss: 0.6777816328191848 | Validation Acc: 74.85604606525912 (780/1042)\n",
            "6\n",
            "Epoch: 6,Train Loss: 0.6675508938660132 | Train Acc: 73.63796133567662 (2514/3414)\n",
            "Validation Loss: 0.67296481708234 | Validation Acc: 76.87140115163147 (801/1042)\n",
            "7\n",
            "Epoch: 7,Train Loss: 0.682012964910436 | Train Acc: 72.87639132981839 (2488/3414)\n",
            "Validation Loss: 0.6496471752779502 | Validation Acc: 77.35124760076775 (806/1042)\n",
            "8\n",
            "Epoch: 8,Train Loss: 0.6142450713108634 | Train Acc: 75.71763327475102 (2585/3414)\n",
            "Validation Loss: 0.5880013895362164 | Validation Acc: 79.94241842610364 (833/1042)\n",
            "9\n",
            "Epoch: 9,Train Loss: 0.6264504266676502 | Train Acc: 75.07322788517868 (2563/3414)\n",
            "Validation Loss: 0.6159507723694498 | Validation Acc: 79.36660268714012 (827/1042)\n",
            "10\n",
            "Epoch: 10,Train Loss: 0.5779477087693794 | Train Acc: 77.44581136496778 (2644/3414)\n",
            "Validation Loss: 0.6207452559011113 | Validation Acc: 77.73512476007677 (810/1042)\n",
            "11\n",
            "Epoch: 11,Train Loss: 0.5645914740651568 | Train Acc: 77.56297598125366 (2648/3414)\n",
            "Validation Loss: 0.5873587475454604 | Validation Acc: 79.27063339731286 (826/1042)\n",
            "12\n",
            "Epoch: 12,Train Loss: 0.5312118187685994 | Train Acc: 79.34973637961336 (2709/3414)\n",
            "Validation Loss: 0.5418639125471766 | Validation Acc: 81.86180422264876 (853/1042)\n",
            "13\n",
            "Epoch: 13,Train Loss: 0.49375326625097576 | Train Acc: 80.34563561804335 (2743/3414)\n",
            "Validation Loss: 0.5411937727282444 | Validation Acc: 82.24568138195778 (857/1042)\n",
            "14\n",
            "Epoch: 14,Train Loss: 0.5097471259743254 | Train Acc: 80.25776215582894 (2740/3414)\n",
            "Validation Loss: 0.5574866447484854 | Validation Acc: 79.84644913627639 (832/1042)\n",
            "15\n",
            "Epoch: 15,Train Loss: 0.45849523839549483 | Train Acc: 82.2788517867604 (2809/3414)\n",
            "Validation Loss: 0.5437626435957623 | Validation Acc: 79.84644913627639 (832/1042)\n",
            "16\n",
            "Epoch: 16,Train Loss: 0.45389518935546697 | Train Acc: 82.24956063268893 (2808/3414)\n",
            "Validation Loss: 0.5672706848356139 | Validation Acc: 80.9021113243762 (843/1042)\n",
            "17\n",
            "Epoch: 17,Train Loss: 0.45053060492065466 | Train Acc: 83.42120679554775 (2848/3414)\n",
            "Validation Loss: 0.5795097121912421 | Validation Acc: 81.57389635316699 (850/1042)\n",
            "18\n",
            "Epoch: 18,Train Loss: 0.4278461578014855 | Train Acc: 83.01113063854716 (2834/3414)\n",
            "Validation Loss: 0.6130975699206553 | Validation Acc: 80.23032629558541 (836/1042)\n",
            "19\n",
            "Epoch: 19,Train Loss: 0.4332623680896848 | Train Acc: 83.5676625659051 (2853/3414)\n",
            "Validation Loss: 0.598979281882445 | Validation Acc: 79.75047984644914 (831/1042)\n",
            "20\n",
            "Epoch: 20,Train Loss: 0.4242616054889198 | Train Acc: 84.5635618043351 (2887/3414)\n",
            "Validation Loss: 0.5375248207499019 | Validation Acc: 81.47792706333973 (849/1042)\n"
          ]
        }
      ],
      "source": [
        "train_loss, valid_loss, train_acc, valid_acc = train(model)"
      ]
    },
    {
      "cell_type": "code",
      "execution_count": 36,
      "id": "38d19c2e",
      "metadata": {
        "id": "38d19c2e",
        "colab": {
          "base_uri": "https://localhost:8080/"
        },
        "outputId": "4e34d0e7-1193-4b16-e621-b1a911f5133e"
      },
      "outputs": [
        {
          "output_type": "stream",
          "name": "stdout",
          "text": [
            "Accuracy: 0.815\n"
          ]
        }
      ],
      "source": [
        " out = test(model)"
      ]
    },
    {
      "cell_type": "code",
      "execution_count": 37,
      "id": "fe9bc918",
      "metadata": {
        "id": "fe9bc918"
      },
      "outputs": [],
      "source": [
        "out = np.concatenate(out).ravel()"
      ]
    },
    {
      "cell_type": "code",
      "execution_count": 38,
      "id": "c6a23a2d",
      "metadata": {
        "id": "c6a23a2d",
        "colab": {
          "base_uri": "https://localhost:8080/"
        },
        "outputId": "593be7b9-b3bd-4bc6-c0be-f603f0686e24"
      },
      "outputs": [
        {
          "output_type": "execute_result",
          "data": {
            "text/plain": [
              "array([2, 2, 2, ..., 0, 0, 0])"
            ]
          },
          "metadata": {},
          "execution_count": 38
        }
      ],
      "source": [
        "out"
      ]
    },
    {
      "cell_type": "code",
      "execution_count": 39,
      "id": "702810dc",
      "metadata": {
        "id": "702810dc",
        "colab": {
          "base_uri": "https://localhost:8080/",
          "height": 738
        },
        "outputId": "902d7d1c-54fd-46be-c200-f33987a440b5"
      },
      "outputs": [
        {
          "output_type": "stream",
          "name": "stdout",
          "text": [
            "              precision    recall  f1-score   support\n",
            "\n",
            "           0       0.88      0.96      0.92       410\n",
            "           1       0.62      0.62      0.62       159\n",
            "           2       0.73      0.66      0.69       151\n",
            "           3       0.87      0.82      0.84       252\n",
            "           4       0.87      0.74      0.80        70\n",
            "\n",
            "    accuracy                           0.81      1042\n",
            "   macro avg       0.79      0.76      0.77      1042\n",
            "weighted avg       0.81      0.81      0.81      1042\n",
            "\n"
          ]
        },
        {
          "output_type": "display_data",
          "data": {
            "text/plain": [
              "<Figure size 576x576 with 2 Axes>"
            ],
            "image/png": "[encoded data removed]"
          },
          "metadata": {
            "needs_background": "light"
          }
        }
      ],
      "source": [
        "import seaborn as sn\n",
        "from sklearn.metrics import classification_report\n",
        "from sklearn.metrics import confusion_matrix\n",
        "species_all = [\"AF\",\n",
        "        \"AG\",\n",
        "        \"A_other\",\n",
        "        \"Culex\",\n",
        "        \"Other\"]\n",
        "# print classification report\n",
        "print(classification_report(test_label, out))\n",
        "\n",
        "# make confusion matrix\n",
        "conf_mat = confusion_matrix(test_label, out)\n",
        "conf_mat = conf_mat / np.expand_dims(conf_mat.astype(np.float64).sum(axis=1),1)\n",
        "conf_mat = np.round(conf_mat, decimals=2)\n",
        "fig = plt.figure(figsize=(8,8))\n",
        "ax = plt.subplot()\n",
        "hm = sn.heatmap(conf_mat, annot=True, ax = ax, cmap=\"PuBu\", fmt='.2', annot_kws={\"size\": 35 / np.sqrt(len(conf_mat))})\n",
        "ax.set_yticklabels(hm.get_yticklabels(), rotation=90)\n",
        "ax.set_xlabel('Predicted labels', fontsize = 15);ax.set_ylabel('True labels', fontsize = 15); \n",
        "ax.xaxis.set_ticklabels(species_all); ax.yaxis.set_ticklabels(species_all)\n",
        "plt.xticks(rotation = 90)\n",
        "plt.yticks(rotation = 0)\n",
        "plt.savefig('/content/drive/MyDrive/CBID/EfficientNet/Species_EfficirntNet_with_augmentation.jpg')\n",
        "plt.show();\n"
      ]
    },
    {
      "cell_type": "code",
      "execution_count": 40,
      "id": "0c9de0d3",
      "metadata": {
        "id": "0c9de0d3"
      },
      "outputs": [],
      "source": [
        "torch.save(model.state_dict(), \\\n",
        "               '/content/drive/MyDrive/CBID/EfficientNet/Species_EfficientNet_with_augmentation.pt')"
      ]
    },
    {
      "cell_type": "code",
      "execution_count": 40,
      "id": "e9b44bde",
      "metadata": {
        "id": "e9b44bde"
      },
      "outputs": [],
      "source": [
        ""
      ]
    }
  ],
  "metadata": {
    "colab": {
      "collapsed_sections": [],
      "name": "Species_EfficientNet_1.ipynb",
      "provenance": []
    },
    "kernelspec": {
      "display_name": "torch",
      "language": "python",
      "name": "torch"
    },
    "language_info": {
      "codemirror_mode": {
        "name": "ipython",
        "version": 3
      },
      "file_extension": ".py",
      "mimetype": "text/x-python",
      "name": "python",
      "nbconvert_exporter": "python",
      "pygments_lexer": "ipython3",
      "version": "3.9.12"
    }
  },
  "nbformat": 4,
  "nbformat_minor": 5
}