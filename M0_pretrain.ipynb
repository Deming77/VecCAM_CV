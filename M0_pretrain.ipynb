{
  "nbformat": 4,
  "nbformat_minor": 0,
  "metadata": {
    "colab": {
      "name": "M0_pretrain.ipynb",
      "provenance": [],
      "collapsed_sections": []
    },
    "kernelspec": {
      "name": "python3",
      "display_name": "Python 3"
    },
    "language_info": {
      "name": "python"
    },
    "accelerator": "GPU",
    "widgets": {
      "application/vnd.jupyter.widget-state+json": {
        "7ae37b7f92a9410889aab6d794391fce": {
          "model_module": "@jupyter-widgets/controls",
          "model_name": "HBoxModel",
          "model_module_version": "1.5.0",
          "state": {
            "_view_name": "HBoxView",
            "_dom_classes": [],
            "_model_name": "HBoxModel",
            "_view_module": "@jupyter-widgets/controls",
            "_model_module_version": "1.5.0",
            "_view_count": null,
            "_view_module_version": "1.5.0",
            "box_style": "",
            "layout": "IPY_MODEL_51e6fe01ce3246dd89fcd4ba3f27c4b2",
            "_model_module": "@jupyter-widgets/controls",
            "children": [
              "IPY_MODEL_8b0ffcdfd8844dffbc775b4fcf1d9f42",
              "IPY_MODEL_958299425a9145bd92276b58d25ef1ea",
              "IPY_MODEL_4a219c09a86149fd88cd1b1e930fef18"
            ]
          }
        },
        "51e6fe01ce3246dd89fcd4ba3f27c4b2": {
          "model_module": "@jupyter-widgets/base",
          "model_name": "LayoutModel",
          "model_module_version": "1.2.0",
          "state": {
            "_view_name": "LayoutView",
            "grid_template_rows": null,
            "right": null,
            "justify_content": null,
            "_view_module": "@jupyter-widgets/base",
            "overflow": null,
            "_model_module_version": "1.2.0",
            "_view_count": null,
            "flex_flow": null,
            "width": null,
            "min_width": null,
            "border": null,
            "align_items": null,
            "bottom": null,
            "_model_module": "@jupyter-widgets/base",
            "top": null,
            "grid_column": null,
            "overflow_y": null,
            "overflow_x": null,
            "grid_auto_flow": null,
            "grid_area": null,
            "grid_template_columns": null,
            "flex": null,
            "_model_name": "LayoutModel",
            "justify_items": null,
            "grid_row": null,
            "max_height": null,
            "align_content": null,
            "visibility": null,
            "align_self": null,
            "height": null,
            "min_height": null,
            "padding": null,
            "grid_auto_rows": null,
            "grid_gap": null,
            "max_width": null,
            "order": null,
            "_view_module_version": "1.2.0",
            "grid_template_areas": null,
            "object_position": null,
            "object_fit": null,
            "grid_auto_columns": null,
            "margin": null,
            "display": null,
            "left": null
          }
        },
        "8b0ffcdfd8844dffbc775b4fcf1d9f42": {
          "model_module": "@jupyter-widgets/controls",
          "model_name": "HTMLModel",
          "model_module_version": "1.5.0",
          "state": {
            "_view_name": "HTMLView",
            "style": "IPY_MODEL_834022f5c9e34523b413dfc742ab2310",
            "_dom_classes": [],
            "description": "",
            "_model_name": "HTMLModel",
            "placeholder": "​",
            "_view_module": "@jupyter-widgets/controls",
            "_model_module_version": "1.5.0",
            "value": "100%",
            "_view_count": null,
            "_view_module_version": "1.5.0",
            "description_tooltip": null,
            "_model_module": "@jupyter-widgets/controls",
            "layout": "IPY_MODEL_0e386922a7f14713a23ec2203cc12438"
          }
        },
        "958299425a9145bd92276b58d25ef1ea": {
          "model_module": "@jupyter-widgets/controls",
          "model_name": "FloatProgressModel",
          "model_module_version": "1.5.0",
          "state": {
            "_view_name": "ProgressView",
            "style": "IPY_MODEL_8046b50209e3486288301a26aeb3402d",
            "_dom_classes": [],
            "description": "",
            "_model_name": "FloatProgressModel",
            "bar_style": "success",
            "max": 87319819,
            "_view_module": "@jupyter-widgets/controls",
            "_model_module_version": "1.5.0",
            "value": 87319819,
            "_view_count": null,
            "_view_module_version": "1.5.0",
            "orientation": "horizontal",
            "min": 0,
            "description_tooltip": null,
            "_model_module": "@jupyter-widgets/controls",
            "layout": "IPY_MODEL_0a28904db58a43a0ab3c161984d8e216"
          }
        },
        "4a219c09a86149fd88cd1b1e930fef18": {
          "model_module": "@jupyter-widgets/controls",
          "model_name": "HTMLModel",
          "model_module_version": "1.5.0",
          "state": {
            "_view_name": "HTMLView",
            "style": "IPY_MODEL_496a66fe76c445f6b7fc230c9edee568",
            "_dom_classes": [],
            "description": "",
            "_model_name": "HTMLModel",
            "placeholder": "​",
            "_view_module": "@jupyter-widgets/controls",
            "_model_module_version": "1.5.0",
            "value": " 83.3M/83.3M [00:01&lt;00:00, 51.0MB/s]",
            "_view_count": null,
            "_view_module_version": "1.5.0",
            "description_tooltip": null,
            "_model_module": "@jupyter-widgets/controls",
            "layout": "IPY_MODEL_15ef117791fc40ceae8e395a267e1b0d"
          }
        },
        "834022f5c9e34523b413dfc742ab2310": {
          "model_module": "@jupyter-widgets/controls",
          "model_name": "DescriptionStyleModel",
          "model_module_version": "1.5.0",
          "state": {
            "_view_name": "StyleView",
            "_model_name": "DescriptionStyleModel",
            "description_width": "",
            "_view_module": "@jupyter-widgets/base",
            "_model_module_version": "1.5.0",
            "_view_count": null,
            "_view_module_version": "1.2.0",
            "_model_module": "@jupyter-widgets/controls"
          }
        },
        "0e386922a7f14713a23ec2203cc12438": {
          "model_module": "@jupyter-widgets/base",
          "model_name": "LayoutModel",
          "model_module_version": "1.2.0",
          "state": {
            "_view_name": "LayoutView",
            "grid_template_rows": null,
            "right": null,
            "justify_content": null,
            "_view_module": "@jupyter-widgets/base",
            "overflow": null,
            "_model_module_version": "1.2.0",
            "_view_count": null,
            "flex_flow": null,
            "width": null,
            "min_width": null,
            "border": null,
            "align_items": null,
            "bottom": null,
            "_model_module": "@jupyter-widgets/base",
            "top": null,
            "grid_column": null,
            "overflow_y": null,
            "overflow_x": null,
            "grid_auto_flow": null,
            "grid_area": null,
            "grid_template_columns": null,
            "flex": null,
            "_model_name": "LayoutModel",
            "justify_items": null,
            "grid_row": null,
            "max_height": null,
            "align_content": null,
            "visibility": null,
            "align_self": null,
            "height": null,
            "min_height": null,
            "padding": null,
            "grid_auto_rows": null,
            "grid_gap": null,
            "max_width": null,
            "order": null,
            "_view_module_version": "1.2.0",
            "grid_template_areas": null,
            "object_position": null,
            "object_fit": null,
            "grid_auto_columns": null,
            "margin": null,
            "display": null,
            "left": null
          }
        },
        "8046b50209e3486288301a26aeb3402d": {
          "model_module": "@jupyter-widgets/controls",
          "model_name": "ProgressStyleModel",
          "model_module_version": "1.5.0",
          "state": {
            "_view_name": "StyleView",
            "_model_name": "ProgressStyleModel",
            "description_width": "",
            "_view_module": "@jupyter-widgets/base",
            "_model_module_version": "1.5.0",
            "_view_count": null,
            "_view_module_version": "1.2.0",
            "bar_color": null,
            "_model_module": "@jupyter-widgets/controls"
          }
        },
        "0a28904db58a43a0ab3c161984d8e216": {
          "model_module": "@jupyter-widgets/base",
          "model_name": "LayoutModel",
          "model_module_version": "1.2.0",
          "state": {
            "_view_name": "LayoutView",
            "grid_template_rows": null,
            "right": null,
            "justify_content": null,
            "_view_module": "@jupyter-widgets/base",
            "overflow": null,
            "_model_module_version": "1.2.0",
            "_view_count": null,
            "flex_flow": null,
            "width": null,
            "min_width": null,
            "border": null,
            "align_items": null,
            "bottom": null,
            "_model_module": "@jupyter-widgets/base",
            "top": null,
            "grid_column": null,
            "overflow_y": null,
            "overflow_x": null,
            "grid_auto_flow": null,
            "grid_area": null,
            "grid_template_columns": null,
            "flex": null,
            "_model_name": "LayoutModel",
            "justify_items": null,
            "grid_row": null,
            "max_height": null,
            "align_content": null,
            "visibility": null,
            "align_self": null,
            "height": null,
            "min_height": null,
            "padding": null,
            "grid_auto_rows": null,
            "grid_gap": null,
            "max_width": null,
            "order": null,
            "_view_module_version": "1.2.0",
            "grid_template_areas": null,
            "object_position": null,
            "object_fit": null,
            "grid_auto_columns": null,
            "margin": null,
            "display": null,
            "left": null
          }
        },
        "496a66fe76c445f6b7fc230c9edee568": {
          "model_module": "@jupyter-widgets/controls",
          "model_name": "DescriptionStyleModel",
          "model_module_version": "1.5.0",
          "state": {
            "_view_name": "StyleView",
            "_model_name": "DescriptionStyleModel",
            "description_width": "",
            "_view_module": "@jupyter-widgets/base",
            "_model_module_version": "1.5.0",
            "_view_count": null,
            "_view_module_version": "1.2.0",
            "_model_module": "@jupyter-widgets/controls"
          }
        },
        "15ef117791fc40ceae8e395a267e1b0d": {
          "model_module": "@jupyter-widgets/base",
          "model_name": "LayoutModel",
          "model_module_version": "1.2.0",
          "state": {
            "_view_name": "LayoutView",
            "grid_template_rows": null,
            "right": null,
            "justify_content": null,
            "_view_module": "@jupyter-widgets/base",
            "overflow": null,
            "_model_module_version": "1.2.0",
            "_view_count": null,
            "flex_flow": null,
            "width": null,
            "min_width": null,
            "border": null,
            "align_items": null,
            "bottom": null,
            "_model_module": "@jupyter-widgets/base",
            "top": null,
            "grid_column": null,
            "overflow_y": null,
            "overflow_x": null,
            "grid_auto_flow": null,
            "grid_area": null,
            "grid_template_columns": null,
            "flex": null,
            "_model_name": "LayoutModel",
            "justify_items": null,
            "grid_row": null,
            "max_height": null,
            "align_content": null,
            "visibility": null,
            "align_self": null,
            "height": null,
            "min_height": null,
            "padding": null,
            "grid_auto_rows": null,
            "grid_gap": null,
            "max_width": null,
            "order": null,
            "_view_module_version": "1.2.0",
            "grid_template_areas": null,
            "object_position": null,
            "object_fit": null,
            "grid_auto_columns": null,
            "margin": null,
            "display": null,
            "left": null
          }
        }
      }
    }
  },
  "cells": [
    {
      "cell_type": "code",
      "execution_count": null,
      "metadata": {
        "id": "ehquCRQviIiN"
      },
      "outputs": [],
      "source": [
        "%matplotlib inline\n",
        "import numpy as np\n",
        "import pandas as pd\n",
        "import matplotlib.pyplot as plt \n",
        "import time\n",
        "import random\n",
        "import math\n",
        "import os \n",
        "from tqdm import tqdm\n",
        "import torch\n",
        "import torch.nn as nn\n",
        "import torch.nn.functional as F\n",
        "import torch.optim as optim\n",
        "import cv2\n",
        "import re"
      ]
    },
    {
      "cell_type": "markdown",
      "source": [
        "#Read data"
      ],
      "metadata": {
        "id": "JtxxutZ2hjJI"
      }
    },
    {
      "cell_type": "code",
      "source": [
        "img = cv2.imread('drive/MyDrive/DatabaseBackup/anopheles/funestus/complex/JHU-004172_01m.jpg')"
      ],
      "metadata": {
        "id": "e9D7DcZhihRZ"
      },
      "execution_count": null,
      "outputs": []
    },
    {
      "cell_type": "code",
      "source": [
        "path = 'drive/MyDrive/DatabaseBackup/anopheles/funestus/complex/JHU-004172_01m.jpg'\n",
        "path.split(\"/\")[-3]"
      ],
      "metadata": {
        "colab": {
          "base_uri": "https://localhost:8080/",
          "height": 35
        },
        "id": "tbwWmaLVjDrZ",
        "outputId": "c459bf57-ff99-43e7-bc13-c2d390e30ad2"
      },
      "execution_count": null,
      "outputs": [
        {
          "output_type": "execute_result",
          "data": {
            "application/vnd.google.colaboratory.intrinsic+json": {
              "type": "string"
            },
            "text/plain": [
              "'funestus'"
            ]
          },
          "metadata": {},
          "execution_count": 6
        }
      ]
    },
    {
      "cell_type": "code",
      "source": [
        "def read_data(path):\n",
        "    category = path.split(\"/\")[-1]\n",
        "    df = pd.DataFrame()\n",
        "    # anopheles other\n",
        "    if category == \"anopheles\": \n",
        "        for x in os.walk(path):\n",
        "            if x[0].split(\"/\")[-2] != \"gambiae\" and x[0].split(\"/\")[-2] != \"funestus\":\n",
        "                file_names = []\n",
        "                last = \"\"\n",
        "                initial = True\n",
        "                for item in sorted(x[2]):\n",
        "                    if initial == True:\n",
        "                        last = item.split(\"_\")[0]\n",
        "                    if item.split(\"_\")[0] == last:\n",
        "                        file_names.append(os.path.join(x[0], item))\n",
        "                    else:\n",
        "                        df2 = pd.DataFrame([file_names])\n",
        "                        #print(df2)\n",
        "                        df = pd.concat([df, df2])\n",
        "                        file_names.clear()\n",
        "                        file_names.append(os.path.join(x[0], item))\n",
        "                    last = item.split(\"_\")[0]\n",
        "                    initial = False\n",
        "        \n",
        "    else: # all other categories\n",
        "\n",
        "        for x in os.walk(path):\n",
        "            file_names = []\n",
        "            last = \"\"\n",
        "            initial = True\n",
        "            for item in sorted(x[2]):\n",
        "                if initial == True:\n",
        "                    last = item.split(\"_\")[0]\n",
        "                if item.split(\"_\")[0] == last:\n",
        "                    file_names.append(os.path.join(x[0], item))\n",
        "                else:\n",
        "                    df2 = pd.DataFrame([file_names])\n",
        "                    #print(df2)\n",
        "                    df = pd.concat([df, df2])\n",
        "                    file_names.clear()\n",
        "                    file_names.append(os.path.join(x[0], item))\n",
        "                last = item.split(\"_\")[0]\n",
        "                initial = False\n",
        "    return df\n",
        "    "
      ],
      "metadata": {
        "id": "oAPjj-Be4Xor"
      },
      "execution_count": null,
      "outputs": []
    },
    {
      "cell_type": "code",
      "source": [
        "d = read_data('drive/MyDrive/DatabaseBackup/anopheles/gambiae')"
      ],
      "metadata": {
        "id": "n6jDFP8fFIcS"
      },
      "execution_count": null,
      "outputs": []
    },
    {
      "cell_type": "code",
      "source": [
        "print(d)"
      ],
      "metadata": {
        "colab": {
          "base_uri": "https://localhost:8080/"
        },
        "id": "hYHndrUPF8Eo",
        "outputId": "7037b298-e844-4110-8af0-7e4d4063b907"
      },
      "execution_count": null,
      "outputs": [
        {
          "output_type": "stream",
          "name": "stdout",
          "text": [
            "                                                   0   ...   20\n",
            "0   drive/MyDrive/DatabaseBackup/anopheles/gambiae...  ...  NaN\n",
            "0   drive/MyDrive/DatabaseBackup/anopheles/gambiae...  ...  NaN\n",
            "0   drive/MyDrive/DatabaseBackup/anopheles/gambiae...  ...  NaN\n",
            "0   drive/MyDrive/DatabaseBackup/anopheles/gambiae...  ...  NaN\n",
            "0   drive/MyDrive/DatabaseBackup/anopheles/gambiae...  ...  NaN\n",
            "..                                                ...  ...  ...\n",
            "0   drive/MyDrive/DatabaseBackup/anopheles/gambiae...  ...  NaN\n",
            "0   drive/MyDrive/DatabaseBackup/anopheles/gambiae...  ...  NaN\n",
            "0   drive/MyDrive/DatabaseBackup/anopheles/gambiae...  ...  NaN\n",
            "0   drive/MyDrive/DatabaseBackup/anopheles/gambiae...  ...  NaN\n",
            "0   drive/MyDrive/DatabaseBackup/anopheles/gambiae...  ...  NaN\n",
            "\n",
            "[330 rows x 21 columns]\n"
          ]
        }
      ]
    },
    {
      "cell_type": "code",
      "source": [
        "d.to_csv('drive/MyDrive/pretrain_data_path/AG.csv', index = False)"
      ],
      "metadata": {
        "id": "ePVOBHho6SF7"
      },
      "execution_count": null,
      "outputs": []
    },
    {
      "cell_type": "code",
      "source": [
        "d2 = read_data('drive/MyDrive/DatabaseBackup/anopheles/funestus')"
      ],
      "metadata": {
        "id": "ti9HPkfYZcRL"
      },
      "execution_count": null,
      "outputs": []
    },
    {
      "cell_type": "code",
      "source": [
        "print(d2)"
      ],
      "metadata": {
        "colab": {
          "base_uri": "https://localhost:8080/"
        },
        "id": "pvxNVtsua5DJ",
        "outputId": "bbffb0b5-d84f-4d1a-e220-bd3da40f2667"
      },
      "execution_count": null,
      "outputs": [
        {
          "output_type": "stream",
          "name": "stdout",
          "text": [
            "                                                   0   ...   19\n",
            "0   drive/MyDrive/DatabaseBackup/anopheles/funestu...  ...  NaN\n",
            "0   drive/MyDrive/DatabaseBackup/anopheles/funestu...  ...  NaN\n",
            "0   drive/MyDrive/DatabaseBackup/anopheles/funestu...  ...  NaN\n",
            "0   drive/MyDrive/DatabaseBackup/anopheles/funestu...  ...  NaN\n",
            "0   drive/MyDrive/DatabaseBackup/anopheles/funestu...  ...  NaN\n",
            "..                                                ...  ...  ...\n",
            "0   drive/MyDrive/DatabaseBackup/anopheles/funestu...  ...  NaN\n",
            "0   drive/MyDrive/DatabaseBackup/anopheles/funestu...  ...  NaN\n",
            "0   drive/MyDrive/DatabaseBackup/anopheles/funestu...  ...  NaN\n",
            "0   drive/MyDrive/DatabaseBackup/anopheles/funestu...  ...  NaN\n",
            "0   drive/MyDrive/DatabaseBackup/anopheles/funestu...  ...  NaN\n",
            "\n",
            "[198 rows x 20 columns]\n"
          ]
        }
      ]
    },
    {
      "cell_type": "code",
      "source": [
        "d2.to_csv('drive/MyDrive/pretrain_data_path/AF.csv', index = False)"
      ],
      "metadata": {
        "id": "qqINdzjOQmZx"
      },
      "execution_count": null,
      "outputs": []
    },
    {
      "cell_type": "code",
      "source": [
        "d3 = read_data('drive/MyDrive/DatabaseBackup/anopheles')"
      ],
      "metadata": {
        "id": "SHjMmRJGZhIC"
      },
      "execution_count": null,
      "outputs": []
    },
    {
      "cell_type": "code",
      "source": [
        "print(d3)"
      ],
      "metadata": {
        "colab": {
          "base_uri": "https://localhost:8080/"
        },
        "id": "UmlCbW30bA9C",
        "outputId": "27794c20-59a2-41d5-c74d-e5aa4d28154f"
      },
      "execution_count": null,
      "outputs": [
        {
          "output_type": "stream",
          "name": "stdout",
          "text": [
            "                                                   0   ...   27\n",
            "0   drive/MyDrive/DatabaseBackup/anopheles/crucian...  ...  NaN\n",
            "0   drive/MyDrive/DatabaseBackup/anopheles/crucian...  ...  NaN\n",
            "0   drive/MyDrive/DatabaseBackup/anopheles/crucian...  ...  NaN\n",
            "0   drive/MyDrive/DatabaseBackup/anopheles/crucian...  ...  NaN\n",
            "0   drive/MyDrive/DatabaseBackup/anopheles/crucian...  ...  NaN\n",
            "..                                                ...  ...  ...\n",
            "0   drive/MyDrive/DatabaseBackup/anopheles/punctip...  ...  NaN\n",
            "0   drive/MyDrive/DatabaseBackup/anopheles/punctip...  ...  NaN\n",
            "0   drive/MyDrive/DatabaseBackup/anopheles/punctip...  ...  NaN\n",
            "0   drive/MyDrive/DatabaseBackup/anopheles/punctip...  ...  NaN\n",
            "0   drive/MyDrive/DatabaseBackup/anopheles/punctip...  ...  NaN\n",
            "\n",
            "[882 rows x 28 columns]\n"
          ]
        }
      ]
    },
    {
      "cell_type": "code",
      "source": [
        "d3 = d3.sample(frac=1).reset_index(drop=True)\n",
        "print(d3)"
      ],
      "metadata": {
        "colab": {
          "base_uri": "https://localhost:8080/"
        },
        "id": "_FrY3e2ogSpO",
        "outputId": "cc4c1a40-b38d-4d06-e2f4-102242e6da5a"
      },
      "execution_count": null,
      "outputs": [
        {
          "output_type": "stream",
          "name": "stdout",
          "text": [
            "                                                    0   ...   27\n",
            "0    drive/MyDrive/DatabaseBackup/anopheles/stephen...  ...  NaN\n",
            "1    drive/MyDrive/DatabaseBackup/anopheles/freebor...  ...  NaN\n",
            "2    drive/MyDrive/DatabaseBackup/anopheles/spp/JHU...  ...  NaN\n",
            "3    drive/MyDrive/DatabaseBackup/anopheles/punctip...  ...  NaN\n",
            "4    drive/MyDrive/DatabaseBackup/anopheles/freebor...  ...  NaN\n",
            "..                                                 ...  ...  ...\n",
            "877  drive/MyDrive/DatabaseBackup/anopheles/stephen...  ...  NaN\n",
            "878  drive/MyDrive/DatabaseBackup/anopheles/coustan...  ...  NaN\n",
            "879  drive/MyDrive/DatabaseBackup/anopheles/stephen...  ...  NaN\n",
            "880  drive/MyDrive/DatabaseBackup/anopheles/stephen...  ...  NaN\n",
            "881  drive/MyDrive/DatabaseBackup/anopheles/stephen...  ...  NaN\n",
            "\n",
            "[882 rows x 28 columns]\n"
          ]
        }
      ]
    },
    {
      "cell_type": "code",
      "source": [
        "d3 = d3.head(400)\n",
        "print(d3)"
      ],
      "metadata": {
        "colab": {
          "base_uri": "https://localhost:8080/"
        },
        "id": "mHt4rbu8gb0x",
        "outputId": "0b4e86aa-ccab-4eba-bbc3-a17555c1ffcb"
      },
      "execution_count": null,
      "outputs": [
        {
          "output_type": "stream",
          "name": "stdout",
          "text": [
            "                                                    0   ...   27\n",
            "0    drive/MyDrive/DatabaseBackup/anopheles/stephen...  ...  NaN\n",
            "1    drive/MyDrive/DatabaseBackup/anopheles/freebor...  ...  NaN\n",
            "2    drive/MyDrive/DatabaseBackup/anopheles/spp/JHU...  ...  NaN\n",
            "3    drive/MyDrive/DatabaseBackup/anopheles/punctip...  ...  NaN\n",
            "4    drive/MyDrive/DatabaseBackup/anopheles/freebor...  ...  NaN\n",
            "..                                                 ...  ...  ...\n",
            "395  drive/MyDrive/DatabaseBackup/anopheles/punctip...  ...  NaN\n",
            "396  drive/MyDrive/DatabaseBackup/anopheles/quadrim...  ...  NaN\n",
            "397  drive/MyDrive/DatabaseBackup/anopheles/stephen...  ...  NaN\n",
            "398  drive/MyDrive/DatabaseBackup/anopheles/stephen...  ...  NaN\n",
            "399  drive/MyDrive/DatabaseBackup/anopheles/pseudop...  ...  NaN\n",
            "\n",
            "[400 rows x 28 columns]\n"
          ]
        }
      ]
    },
    {
      "cell_type": "code",
      "source": [
        "d3.to_csv('drive/MyDrive/pretrain_data_path/A_other_400.csv', index = False)"
      ],
      "metadata": {
        "id": "O6tK66UbQmPk"
      },
      "execution_count": null,
      "outputs": []
    },
    {
      "cell_type": "code",
      "source": [
        "d4 = read_data('drive/MyDrive/DatabaseBackup/culex')"
      ],
      "metadata": {
        "id": "i257oS7TZoDr"
      },
      "execution_count": null,
      "outputs": []
    },
    {
      "cell_type": "code",
      "source": [
        "print(d4)"
      ],
      "metadata": {
        "colab": {
          "base_uri": "https://localhost:8080/"
        },
        "id": "SduMQbw9bW9i",
        "outputId": "08202f18-82f1-48b3-f90a-40ac57986f7c"
      },
      "execution_count": null,
      "outputs": [
        {
          "output_type": "stream",
          "name": "stdout",
          "text": [
            "                                                   0   ...   42\n",
            "0   drive/MyDrive/DatabaseBackup/culex/coronator/J...  ...  NaN\n",
            "0   drive/MyDrive/DatabaseBackup/culex/coronator/J...  ...  NaN\n",
            "0   drive/MyDrive/DatabaseBackup/culex/coronator/J...  ...  NaN\n",
            "0   drive/MyDrive/DatabaseBackup/culex/coronator/J...  ...  NaN\n",
            "0   drive/MyDrive/DatabaseBackup/culex/coronator/J...  ...  NaN\n",
            "..                                                ...  ...  ...\n",
            "0   drive/MyDrive/DatabaseBackup/culex/tarsalis/JH...  ...  NaN\n",
            "0   drive/MyDrive/DatabaseBackup/culex/tarsalis/JH...  ...  NaN\n",
            "0   drive/MyDrive/DatabaseBackup/culex/tarsalis/JH...  ...  NaN\n",
            "0   drive/MyDrive/DatabaseBackup/culex/tarsalis/JH...  ...  NaN\n",
            "0   drive/MyDrive/DatabaseBackup/culex/tarsalis/JH...  ...  NaN\n",
            "\n",
            "[647 rows x 43 columns]\n"
          ]
        }
      ]
    },
    {
      "cell_type": "code",
      "source": [
        "d4 = d4.sample(frac=1).reset_index(drop=True)\n",
        "d4 = d4.head(420)\n",
        "print(d4)"
      ],
      "metadata": {
        "colab": {
          "base_uri": "https://localhost:8080/"
        },
        "id": "wwj-fdxegphb",
        "outputId": "798047a4-a26b-4ac0-8ab9-3c42f5c4dcf7"
      },
      "execution_count": null,
      "outputs": [
        {
          "output_type": "stream",
          "name": "stdout",
          "text": [
            "                                                    0   ...   42\n",
            "0    drive/MyDrive/DatabaseBackup/culex/nigripalpus...  ...  NaN\n",
            "1    drive/MyDrive/DatabaseBackup/culex/salinarius/...  ...  NaN\n",
            "2    drive/MyDrive/DatabaseBackup/culex/quinquefasc...  ...  NaN\n",
            "3    drive/MyDrive/DatabaseBackup/culex/nigripalpus...  ...  NaN\n",
            "4    drive/MyDrive/DatabaseBackup/culex/coronator/J...  ...  NaN\n",
            "..                                                 ...  ...  ...\n",
            "415  drive/MyDrive/DatabaseBackup/culex/quinquefasc...  ...  NaN\n",
            "416  drive/MyDrive/DatabaseBackup/culex/quinquefasc...  ...  NaN\n",
            "417  drive/MyDrive/DatabaseBackup/culex/quinquefasc...  ...  NaN\n",
            "418  drive/MyDrive/DatabaseBackup/culex/quinquefasc...  ...  NaN\n",
            "419  drive/MyDrive/DatabaseBackup/culex/pipiens/JHU...  ...  NaN\n",
            "\n",
            "[420 rows x 43 columns]\n"
          ]
        }
      ]
    },
    {
      "cell_type": "code",
      "source": [
        "d4.to_csv('drive/MyDrive/pretrain_data_path/culex_420.csv', index = False)"
      ],
      "metadata": {
        "id": "mEMwjGdyQmJH"
      },
      "execution_count": null,
      "outputs": []
    },
    {
      "cell_type": "code",
      "source": [
        "d5 = read_data('drive/MyDrive/DatabaseBackup/mansonia')"
      ],
      "metadata": {
        "id": "vZdJTx2cZong"
      },
      "execution_count": null,
      "outputs": []
    },
    {
      "cell_type": "code",
      "source": [
        "d6 = read_data('drive/MyDrive/DatabaseBackup/aedes')"
      ],
      "metadata": {
        "id": "A91UFNKRZzgU"
      },
      "execution_count": null,
      "outputs": []
    },
    {
      "cell_type": "code",
      "source": [
        "print(d5)\n",
        "print(d6)"
      ],
      "metadata": {
        "colab": {
          "base_uri": "https://localhost:8080/"
        },
        "id": "O4QYZ36abgFj",
        "outputId": "73fcd2d1-f46b-4a98-ba24-549103ce8241"
      },
      "execution_count": null,
      "outputs": [
        {
          "output_type": "stream",
          "name": "stdout",
          "text": [
            "                                                  0   ...                                                 22\n",
            "0  drive/MyDrive/DatabaseBackup/mansonia/titillan...  ...                                                NaN\n",
            "0  drive/MyDrive/DatabaseBackup/mansonia/titillan...  ...                                                NaN\n",
            "0  drive/MyDrive/DatabaseBackup/mansonia/titillan...  ...                                                NaN\n",
            "0  drive/MyDrive/DatabaseBackup/mansonia/titillan...  ...                                                NaN\n",
            "0  drive/MyDrive/DatabaseBackup/mansonia/titillan...  ...                                                NaN\n",
            "0  drive/MyDrive/DatabaseBackup/mansonia/titillan...  ...                                                NaN\n",
            "0  drive/MyDrive/DatabaseBackup/mansonia/titillan...  ...                                                NaN\n",
            "0  drive/MyDrive/DatabaseBackup/mansonia/titillan...  ...                                                NaN\n",
            "0  drive/MyDrive/DatabaseBackup/mansonia/titillan...  ...                                                NaN\n",
            "0  drive/MyDrive/DatabaseBackup/mansonia/titillan...  ...  drive/MyDrive/DatabaseBackup/mansonia/titillan...\n",
            "0  drive/MyDrive/DatabaseBackup/mansonia/titillan...  ...                                                NaN\n",
            "0  drive/MyDrive/DatabaseBackup/mansonia/titillan...  ...                                                NaN\n",
            "0  drive/MyDrive/DatabaseBackup/mansonia/titillan...  ...                                                NaN\n",
            "0  drive/MyDrive/DatabaseBackup/mansonia/titillan...  ...                                                NaN\n",
            "0  drive/MyDrive/DatabaseBackup/mansonia/titillan...  ...                                                NaN\n",
            "0  drive/MyDrive/DatabaseBackup/mansonia/titillan...  ...                                                NaN\n",
            "0  drive/MyDrive/DatabaseBackup/mansonia/titillan...  ...                                                NaN\n",
            "0  drive/MyDrive/DatabaseBackup/mansonia/titillan...  ...                                                NaN\n",
            "\n",
            "[18 rows x 23 columns]\n",
            "                                                   0   ...   58\n",
            "0   drive/MyDrive/DatabaseBackup/aedes/cinereus/JH...  ...  NaN\n",
            "0   drive/MyDrive/DatabaseBackup/aedes/cinereus/JH...  ...  NaN\n",
            "0   drive/MyDrive/DatabaseBackup/aedes/albopictus/...  ...  NaN\n",
            "0   drive/MyDrive/DatabaseBackup/aedes/albopictus/...  ...  NaN\n",
            "0   drive/MyDrive/DatabaseBackup/aedes/albopictus/...  ...  NaN\n",
            "..                                                ...  ...  ...\n",
            "0   drive/MyDrive/DatabaseBackup/aedes/taeniorhync...  ...  NaN\n",
            "0   drive/MyDrive/DatabaseBackup/aedes/taeniorhync...  ...  NaN\n",
            "0   drive/MyDrive/DatabaseBackup/aedes/taeniorhync...  ...  NaN\n",
            "0   drive/MyDrive/DatabaseBackup/aedes/taeniorhync...  ...  NaN\n",
            "0   drive/MyDrive/DatabaseBackup/aedes/taeniorhync...  ...  NaN\n",
            "\n",
            "[1095 rows x 59 columns]\n"
          ]
        }
      ]
    },
    {
      "cell_type": "code",
      "source": [
        "d7 = pd.concat([d5, d6])\n",
        "print(d7)"
      ],
      "metadata": {
        "colab": {
          "base_uri": "https://localhost:8080/"
        },
        "id": "FwMb_dztfwQb",
        "outputId": "8461d1df-92e1-4b5e-c3ed-7e3bcf030bff"
      },
      "execution_count": null,
      "outputs": [
        {
          "output_type": "stream",
          "name": "stdout",
          "text": [
            "                                                   0   ...   58\n",
            "0   drive/MyDrive/DatabaseBackup/mansonia/titillan...  ...  NaN\n",
            "0   drive/MyDrive/DatabaseBackup/mansonia/titillan...  ...  NaN\n",
            "0   drive/MyDrive/DatabaseBackup/mansonia/titillan...  ...  NaN\n",
            "0   drive/MyDrive/DatabaseBackup/mansonia/titillan...  ...  NaN\n",
            "0   drive/MyDrive/DatabaseBackup/mansonia/titillan...  ...  NaN\n",
            "..                                                ...  ...  ...\n",
            "0   drive/MyDrive/DatabaseBackup/aedes/taeniorhync...  ...  NaN\n",
            "0   drive/MyDrive/DatabaseBackup/aedes/taeniorhync...  ...  NaN\n",
            "0   drive/MyDrive/DatabaseBackup/aedes/taeniorhync...  ...  NaN\n",
            "0   drive/MyDrive/DatabaseBackup/aedes/taeniorhync...  ...  NaN\n",
            "0   drive/MyDrive/DatabaseBackup/aedes/taeniorhync...  ...  NaN\n",
            "\n",
            "[1113 rows x 59 columns]\n"
          ]
        }
      ]
    },
    {
      "cell_type": "code",
      "source": [
        "d7 = d7.sample(frac=1).reset_index(drop=True)\n",
        "d7 = d7.head(350)\n",
        "print(d7)"
      ],
      "metadata": {
        "colab": {
          "base_uri": "https://localhost:8080/"
        },
        "id": "f3alcYK7hAxt",
        "outputId": "0c875c8a-53a9-43e8-98d7-66496ed34d5a"
      },
      "execution_count": null,
      "outputs": [
        {
          "output_type": "stream",
          "name": "stdout",
          "text": [
            "                                                    0   ...   58\n",
            "0    drive/MyDrive/DatabaseBackup/mansonia/titillan...  ...  NaN\n",
            "1    drive/MyDrive/DatabaseBackup/aedes/sollicitans...  ...  NaN\n",
            "2    drive/MyDrive/DatabaseBackup/aedes/albopictus/...  ...  NaN\n",
            "3    drive/MyDrive/DatabaseBackup/aedes/japonicus/J...  ...  NaN\n",
            "4    drive/MyDrive/DatabaseBackup/aedes/spp/JHU-005...  ...  NaN\n",
            "..                                                 ...  ...  ...\n",
            "345  drive/MyDrive/DatabaseBackup/aedes/canadensis/...  ...  NaN\n",
            "346  drive/MyDrive/DatabaseBackup/aedes/sollicitans...  ...  NaN\n",
            "347  drive/MyDrive/DatabaseBackup/aedes/taeniorhync...  ...  NaN\n",
            "348  drive/MyDrive/DatabaseBackup/aedes/taeniorhync...  ...  NaN\n",
            "349  drive/MyDrive/DatabaseBackup/aedes/aegypti/JHU...  ...  NaN\n",
            "\n",
            "[350 rows x 59 columns]\n"
          ]
        }
      ]
    },
    {
      "cell_type": "code",
      "source": [
        "d7.to_csv('drive/MyDrive/pretrain_data_path/other_350.csv', index = False)"
      ],
      "metadata": {
        "id": "lpatuQFpQmBo"
      },
      "execution_count": null,
      "outputs": []
    },
    {
      "cell_type": "code",
      "source": [
        ""
      ],
      "metadata": {
        "id": "0E1WI1yS6eJy"
      },
      "execution_count": null,
      "outputs": []
    },
    {
      "cell_type": "code",
      "source": [
        "for x in os.walk('drive/MyDrive/DatabaseBackup/anopheles'):\n",
        "    print(x[0].split(\"/\")[-2])"
      ],
      "metadata": {
        "colab": {
          "base_uri": "https://localhost:8080/"
        },
        "id": "f_2i6QfH8jEr",
        "outputId": "b7208ff3-f50f-461c-c6e9-7aec5df4b067"
      },
      "execution_count": null,
      "outputs": [
        {
          "output_type": "stream",
          "name": "stdout",
          "text": [
            "DatabaseBackup\n",
            "anopheles\n",
            "crucians\n",
            "crucians\n",
            "crucians\n",
            "crucians\n",
            "crucians\n",
            "crucians\n",
            "anopheles\n",
            "anopheles\n",
            "anopheles\n",
            "anopheles\n",
            "gambiae\n",
            "gambiae\n",
            "gambiae\n",
            "gambiae\n",
            "anopheles\n",
            "anopheles\n",
            "anopheles\n",
            "cf-coustani\n",
            "anopheles\n",
            "anopheles\n",
            "funestus\n",
            "funestus\n",
            "funestus\n",
            "anopheles\n",
            "anopheles\n",
            "anopheles\n",
            "anopheles\n",
            "anopheles\n",
            "anopheles\n",
            "anopheles\n",
            "anopheles\n",
            "anopheles\n"
          ]
        }
      ]
    },
    {
      "cell_type": "code",
      "source": [
        ""
      ],
      "metadata": {
        "colab": {
          "base_uri": "https://localhost:8080/"
        },
        "id": "i8hcMZ1G8rOC",
        "outputId": "5ab7efc3-d280-4c3f-8508-a4e94aa0987a"
      },
      "execution_count": null,
      "outputs": [
        {
          "output_type": "stream",
          "name": "stdout",
          "text": [
            "drive/MyDrive/DatabaseBackup/anopheles/\n",
            "drive/MyDrive/DatabaseBackup/anopheles/crucians\n",
            "drive/MyDrive/DatabaseBackup/anopheles/crucians/a\n",
            "drive/MyDrive/DatabaseBackup/anopheles/crucians/c\n",
            "drive/MyDrive/DatabaseBackup/anopheles/crucians/e\n",
            "drive/MyDrive/DatabaseBackup/anopheles/crucians/complex\n",
            "drive/MyDrive/DatabaseBackup/anopheles/crucians/b\n",
            "drive/MyDrive/DatabaseBackup/anopheles/crucians/d\n",
            "drive/MyDrive/DatabaseBackup/anopheles/pharoensis\n",
            "drive/MyDrive/DatabaseBackup/anopheles/coustani\n",
            "drive/MyDrive/DatabaseBackup/anopheles/maculipalpis\n",
            "drive/MyDrive/DatabaseBackup/anopheles/gambiae\n",
            "drive/MyDrive/DatabaseBackup/anopheles/gambiae/arabiensis\n",
            "drive/MyDrive/DatabaseBackup/anopheles/gambiae/coluzzii\n",
            "drive/MyDrive/DatabaseBackup/anopheles/gambiae/complex\n",
            "drive/MyDrive/DatabaseBackup/anopheles/gambiae/ss\n",
            "drive/MyDrive/DatabaseBackup/anopheles/pretoriensis\n",
            "drive/MyDrive/DatabaseBackup/anopheles/freeborni\n",
            "drive/MyDrive/DatabaseBackup/anopheles/cf-coustani\n",
            "drive/MyDrive/DatabaseBackup/anopheles/cf-coustani/1\n",
            "drive/MyDrive/DatabaseBackup/anopheles/maculipennis\n",
            "drive/MyDrive/DatabaseBackup/anopheles/funestus\n",
            "drive/MyDrive/DatabaseBackup/anopheles/funestus/ss\n",
            "drive/MyDrive/DatabaseBackup/anopheles/funestus/rivulorum\n",
            "drive/MyDrive/DatabaseBackup/anopheles/funestus/complex\n",
            "drive/MyDrive/DatabaseBackup/anopheles/spp\n",
            "drive/MyDrive/DatabaseBackup/anopheles/stephensi\n",
            "drive/MyDrive/DatabaseBackup/anopheles/quadrimaculatus\n",
            "drive/MyDrive/DatabaseBackup/anopheles/ziemanni\n",
            "drive/MyDrive/DatabaseBackup/anopheles/tenebrosus\n",
            "drive/MyDrive/DatabaseBackup/anopheles/squamosus\n",
            "drive/MyDrive/DatabaseBackup/anopheles/rufipes\n",
            "drive/MyDrive/DatabaseBackup/anopheles/pseudopunctipennis\n",
            "drive/MyDrive/DatabaseBackup/anopheles/punctipennis\n"
          ]
        }
      ]
    },
    {
      "cell_type": "code",
      "source": [
        ""
      ],
      "metadata": {
        "colab": {
          "base_uri": "https://localhost:8080/"
        },
        "id": "wdYZH0Ym9etD",
        "outputId": "d5008233-7664-4022-cd08-da17ecd46780"
      },
      "execution_count": null,
      "outputs": [
        {
          "output_type": "execute_result",
          "data": {
            "text/plain": [
              "34"
            ]
          },
          "metadata": {},
          "execution_count": 36
        }
      ]
    },
    {
      "cell_type": "code",
      "source": [
        ""
      ],
      "metadata": {
        "colab": {
          "base_uri": "https://localhost:8080/"
        },
        "id": "XVw9Akcx-ALL",
        "outputId": "c495d5e4-f56e-4ace-b5ee-a8c881433000"
      },
      "execution_count": null,
      "outputs": [
        {
          "output_type": "execute_result",
          "data": {
            "text/plain": [
              "['JHU-000289_05d.jpg',\n",
              " 'JHU-000300_01m.jpg',\n",
              " 'JHU-000300_09d.jpg',\n",
              " 'JHU-000289_02d.jpg',\n",
              " 'JHU-000289_04d.jpg',\n",
              " 'JHU-000289_03m.jpg',\n",
              " 'JHU-000289_04m.jpg',\n",
              " 'JHU-000289_07d.jpg',\n",
              " 'JHU-001162_01p.jpg',\n",
              " 'JHU-000288_03m.jpg',\n",
              " 'JHU-000289_05m.jpg',\n",
              " 'JHU-000300_06m.jpg',\n",
              " 'JHU-000288_05d.jpg',\n",
              " 'JHU-001162_03m.jpg',\n",
              " 'JHU-000300_02d.jpg',\n",
              " 'JHU-000300_03m.jpg',\n",
              " 'JHU-000288_07d.jpg',\n",
              " 'JHU-001162_03p.jpg',\n",
              " 'JHU-000300_05d.jpg',\n",
              " 'JHU-000300_07d.jpg',\n",
              " 'JHU-000300_01d.jpg',\n",
              " 'JHU-000289_08d.jpg',\n",
              " 'JHU-000288_03d.jpg',\n",
              " 'JHU-000300_06d.jpg',\n",
              " 'JHU-000289_09d.jpg',\n",
              " 'JHU-000300_05m.jpg',\n",
              " 'JHU-000289_02m.jpg',\n",
              " 'JHU-000288_01m.jpg',\n",
              " 'JHU-000300_08d.jpg',\n",
              " 'JHU-000289_06d.jpg',\n",
              " 'JHU-001162_02p.jpg',\n",
              " 'JHU-000289_01m.jpg',\n",
              " 'JHU-000300_03d.jpg',\n",
              " 'JHU-000300_04d.jpg',\n",
              " 'JHU-001162_01m.jpg',\n",
              " 'JHU-000289_01d.jpg',\n",
              " 'JHU-000300_10d.jpg',\n",
              " 'JHU-000288_02m.jpg',\n",
              " 'JHU-000288_04d.jpg',\n",
              " 'JHU-001162_02m.jpg',\n",
              " 'JHU-000289_03d.jpg',\n",
              " 'JHU-000288_06d.jpg',\n",
              " 'JHU-000288_01d.jpg',\n",
              " 'JHU-000300_02m.jpg',\n",
              " 'JHU-000288_05m.jpg',\n",
              " 'JHU-000300_04m.jpg',\n",
              " 'JHU-000288_02d.jpg',\n",
              " 'JHU-000288_04m.jpg',\n",
              " 'JHU-000031_06p.jpg',\n",
              " 'JHU-000030_01p.jpg',\n",
              " 'JHU-000031_03p.jpg',\n",
              " 'JHU-000031_01p.jpg',\n",
              " 'JHU-000016_05p.jpg',\n",
              " 'JHU-000016_02p.jpg',\n",
              " 'JHU-000016_01p.jpg',\n",
              " 'JHU-000030_02p.jpg',\n",
              " 'JHU-000016_03p.jpg',\n",
              " 'JHU-000016_04p.jpg',\n",
              " 'JHU-000031_05p.jpg',\n",
              " 'JHU-000031_02p.jpg',\n",
              " 'JHU-000031_04p.jpg',\n",
              " 'JHU-001162_08d.jpg',\n",
              " 'JHU-001162_04d.jpg',\n",
              " 'JHU-001162_03d.jpg',\n",
              " 'JHU-001162_06d.jpg',\n",
              " 'JHU-001162_02d.jpg',\n",
              " 'JHU-001162_07d.jpg',\n",
              " 'JHU-001162_05d.jpg']"
            ]
          },
          "metadata": {},
          "execution_count": 39
        }
      ]
    },
    {
      "cell_type": "code",
      "source": [
        ""
      ],
      "metadata": {
        "id": "0dTJkYzZ_IZD"
      },
      "execution_count": null,
      "outputs": []
    },
    {
      "cell_type": "markdown",
      "source": [
        ""
      ],
      "metadata": {
        "id": "Al3NmjAohnLq"
      }
    },
    {
      "cell_type": "markdown",
      "source": [
        "# Train_test_split"
      ],
      "metadata": {
        "id": "64iYokPthpe2"
      }
    },
    {
      "cell_type": "code",
      "source": [
        "# if need to read data path\n",
        "d = pd.read_csv('drive/MyDrive/pretrain_data_path/AG.csv')\n",
        "d2 = pd.read_csv('drive/MyDrive/pretrain_data_path/AF.csv')\n",
        "d3 = pd.read_csv('drive/MyDrive/pretrain_data_path/A_other_400.csv')\n",
        "d4 = pd.read_csv('drive/MyDrive/pretrain_data_path/culex_420.csv')\n",
        "d5 = pd.read_csv('drive/MyDrive/pretrain_data_path/other_350.csv')"
      ],
      "metadata": {
        "id": "BltIe3FDiJfh"
      },
      "execution_count": null,
      "outputs": []
    },
    {
      "cell_type": "code",
      "source": [
        "print(d)\n",
        "print(d4)"
      ],
      "metadata": {
        "colab": {
          "base_uri": "https://localhost:8080/"
        },
        "id": "TX_0peHgjHfI",
        "outputId": "6e180519-91e5-4aae-d44a-8602401086f2"
      },
      "execution_count": null,
      "outputs": [
        {
          "output_type": "stream",
          "name": "stdout",
          "text": [
            "                                                     0  ...   20\n",
            "0    drive/MyDrive/DatabaseBackup/anopheles/gambiae...  ...  NaN\n",
            "1    drive/MyDrive/DatabaseBackup/anopheles/gambiae...  ...  NaN\n",
            "2    drive/MyDrive/DatabaseBackup/anopheles/gambiae...  ...  NaN\n",
            "3    drive/MyDrive/DatabaseBackup/anopheles/gambiae...  ...  NaN\n",
            "4    drive/MyDrive/DatabaseBackup/anopheles/gambiae...  ...  NaN\n",
            "..                                                 ...  ...  ...\n",
            "325  drive/MyDrive/DatabaseBackup/anopheles/gambiae...  ...  NaN\n",
            "326  drive/MyDrive/DatabaseBackup/anopheles/gambiae...  ...  NaN\n",
            "327  drive/MyDrive/DatabaseBackup/anopheles/gambiae...  ...  NaN\n",
            "328  drive/MyDrive/DatabaseBackup/anopheles/gambiae...  ...  NaN\n",
            "329  drive/MyDrive/DatabaseBackup/anopheles/gambiae...  ...  NaN\n",
            "\n",
            "[330 rows x 21 columns]\n",
            "                                                     0  ...   42\n",
            "0    drive/MyDrive/DatabaseBackup/culex/nigripalpus...  ...  NaN\n",
            "1    drive/MyDrive/DatabaseBackup/culex/salinarius/...  ...  NaN\n",
            "2    drive/MyDrive/DatabaseBackup/culex/quinquefasc...  ...  NaN\n",
            "3    drive/MyDrive/DatabaseBackup/culex/nigripalpus...  ...  NaN\n",
            "4    drive/MyDrive/DatabaseBackup/culex/coronator/J...  ...  NaN\n",
            "..                                                 ...  ...  ...\n",
            "415  drive/MyDrive/DatabaseBackup/culex/quinquefasc...  ...  NaN\n",
            "416  drive/MyDrive/DatabaseBackup/culex/quinquefasc...  ...  NaN\n",
            "417  drive/MyDrive/DatabaseBackup/culex/quinquefasc...  ...  NaN\n",
            "418  drive/MyDrive/DatabaseBackup/culex/quinquefasc...  ...  NaN\n",
            "419  drive/MyDrive/DatabaseBackup/culex/pipiens/JHU...  ...  NaN\n",
            "\n",
            "[420 rows x 43 columns]\n"
          ]
        }
      ]
    },
    {
      "cell_type": "code",
      "source": [
        "from sklearn.model_selection import train_test_split\n",
        "train_data1, test_data1 = train_test_split(d, test_size=0.2)\n",
        "train_data2, test_data2 = train_test_split(d2, test_size=0.2)\n",
        "train_data3, test_data3 = train_test_split(d3, test_size=0.2)\n",
        "train_data4, test_data4 = train_test_split(d4, test_size=0.2)\n",
        "train_data5, test_data5 = train_test_split(d5, test_size=0.2)"
      ],
      "metadata": {
        "id": "28kOTdPyhwaw"
      },
      "execution_count": null,
      "outputs": []
    },
    {
      "cell_type": "code",
      "source": [
        "print(train_data1)\n",
        "print(test_data5)"
      ],
      "metadata": {
        "colab": {
          "base_uri": "https://localhost:8080/"
        },
        "id": "g6vCFF3djTu1",
        "outputId": "f16581dc-8ea9-48c2-9cf8-39e181a7427e"
      },
      "execution_count": null,
      "outputs": [
        {
          "output_type": "stream",
          "name": "stdout",
          "text": [
            "                                                     0  ...   20\n",
            "154  drive/MyDrive/DatabaseBackup/anopheles/gambiae...  ...  NaN\n",
            "155  drive/MyDrive/DatabaseBackup/anopheles/gambiae...  ...  NaN\n",
            "137  drive/MyDrive/DatabaseBackup/anopheles/gambiae...  ...  NaN\n",
            "164  drive/MyDrive/DatabaseBackup/anopheles/gambiae...  ...  NaN\n",
            "210  drive/MyDrive/DatabaseBackup/anopheles/gambiae...  ...  NaN\n",
            "..                                                 ...  ...  ...\n",
            "102  drive/MyDrive/DatabaseBackup/anopheles/gambiae...  ...  NaN\n",
            "100  drive/MyDrive/DatabaseBackup/anopheles/gambiae...  ...  NaN\n",
            "66   drive/MyDrive/DatabaseBackup/anopheles/gambiae...  ...  NaN\n",
            "141  drive/MyDrive/DatabaseBackup/anopheles/gambiae...  ...  NaN\n",
            "153  drive/MyDrive/DatabaseBackup/anopheles/gambiae...  ...  NaN\n",
            "\n",
            "[264 rows x 21 columns]\n",
            "                                                     0  ...  58\n",
            "177  drive/MyDrive/DatabaseBackup/aedes/vexans/JHU-...  ... NaN\n",
            "22   drive/MyDrive/DatabaseBackup/aedes/taeniorhync...  ... NaN\n",
            "272  drive/MyDrive/DatabaseBackup/aedes/albopictus/...  ... NaN\n",
            "112  drive/MyDrive/DatabaseBackup/aedes/aegypti/JHU...  ... NaN\n",
            "124  drive/MyDrive/DatabaseBackup/aedes/infirmatus/...  ... NaN\n",
            "..                                                 ...  ...  ..\n",
            "132  drive/MyDrive/DatabaseBackup/aedes/japonicus/J...  ... NaN\n",
            "156  drive/MyDrive/DatabaseBackup/aedes/albopictus/...  ... NaN\n",
            "117  drive/MyDrive/DatabaseBackup/aedes/vexans/JHU-...  ... NaN\n",
            "2    drive/MyDrive/DatabaseBackup/aedes/albopictus/...  ... NaN\n",
            "189  drive/MyDrive/DatabaseBackup/aedes/aegypti/JHU...  ... NaN\n",
            "\n",
            "[70 rows x 59 columns]\n"
          ]
        }
      ]
    },
    {
      "cell_type": "code",
      "source": [
        "from torchvision import transforms\n",
        "mosquito_transforms = transforms.Compose([\n",
        "    #transforms.ToPILImage(),\n",
        "    transforms.Resize([299,299]),\n",
        "    transforms.ToTensor(),\n",
        "    transforms.Normalize((0.485, 0.456, 0.406), (0.229, 0.224, 0.225))\n",
        "])"
      ],
      "metadata": {
        "id": "s1h1LB3EqxcY"
      },
      "execution_count": null,
      "outputs": []
    },
    {
      "cell_type": "code",
      "source": [
        "train_data6, test_data6 = train_test_split(test_data5, test_size=0.2)\n",
        "print(train_data6.shape)"
      ],
      "metadata": {
        "colab": {
          "base_uri": "https://localhost:8080/"
        },
        "id": "5o3LOLmoqxU1",
        "outputId": "3ebd4acc-b957-407c-faff-204ebc437deb"
      },
      "execution_count": null,
      "outputs": [
        {
          "output_type": "stream",
          "name": "stdout",
          "text": [
            "(56, 59)\n"
          ]
        }
      ]
    },
    {
      "cell_type": "code",
      "source": [
        "train_data6 = seperate_df_and_label(train_data6)\n",
        "test_data6 = seperate_df_and_label(test_data6)"
      ],
      "metadata": {
        "id": "1ZubRXCjqxN3"
      },
      "execution_count": null,
      "outputs": []
    },
    {
      "cell_type": "code",
      "source": [
        "train_data6"
      ],
      "metadata": {
        "colab": {
          "base_uri": "https://localhost:8080/",
          "height": 423
        },
        "id": "5_NGw7ylrGsi",
        "outputId": "a893271a-0fcd-4af7-e228-bb9f0b60a08c"
      },
      "execution_count": null,
      "outputs": [
        {
          "output_type": "execute_result",
          "data": {
            "text/html": [
              "\n",
              "  <div id=\"df-772d941d-8ebf-45a0-9ab0-7be612592424\">\n",
              "    <div class=\"colab-df-container\">\n",
              "      <div>\n",
              "<style scoped>\n",
              "    .dataframe tbody tr th:only-of-type {\n",
              "        vertical-align: middle;\n",
              "    }\n",
              "\n",
              "    .dataframe tbody tr th {\n",
              "        vertical-align: top;\n",
              "    }\n",
              "\n",
              "    .dataframe thead th {\n",
              "        text-align: right;\n",
              "    }\n",
              "</style>\n",
              "<table border=\"1\" class=\"dataframe\">\n",
              "  <thead>\n",
              "    <tr style=\"text-align: right;\">\n",
              "      <th></th>\n",
              "      <th>path</th>\n",
              "      <th>label</th>\n",
              "    </tr>\n",
              "  </thead>\n",
              "  <tbody>\n",
              "    <tr>\n",
              "      <th>0</th>\n",
              "      <td>drive/MyDrive/DatabaseBackup/aedes/trivittatus...</td>\n",
              "      <td>4</td>\n",
              "    </tr>\n",
              "    <tr>\n",
              "      <th>1</th>\n",
              "      <td>drive/MyDrive/DatabaseBackup/aedes/trivittatus...</td>\n",
              "      <td>4</td>\n",
              "    </tr>\n",
              "    <tr>\n",
              "      <th>2</th>\n",
              "      <td>drive/MyDrive/DatabaseBackup/aedes/trivittatus...</td>\n",
              "      <td>4</td>\n",
              "    </tr>\n",
              "    <tr>\n",
              "      <th>3</th>\n",
              "      <td>drive/MyDrive/DatabaseBackup/aedes/trivittatus...</td>\n",
              "      <td>4</td>\n",
              "    </tr>\n",
              "    <tr>\n",
              "      <th>4</th>\n",
              "      <td>drive/MyDrive/DatabaseBackup/aedes/trivittatus...</td>\n",
              "      <td>4</td>\n",
              "    </tr>\n",
              "    <tr>\n",
              "      <th>...</th>\n",
              "      <td>...</td>\n",
              "      <td>...</td>\n",
              "    </tr>\n",
              "    <tr>\n",
              "      <th>279</th>\n",
              "      <td>drive/MyDrive/DatabaseBackup/aedes/japonicus/J...</td>\n",
              "      <td>4</td>\n",
              "    </tr>\n",
              "    <tr>\n",
              "      <th>280</th>\n",
              "      <td>drive/MyDrive/DatabaseBackup/aedes/japonicus/J...</td>\n",
              "      <td>4</td>\n",
              "    </tr>\n",
              "    <tr>\n",
              "      <th>281</th>\n",
              "      <td>drive/MyDrive/DatabaseBackup/aedes/japonicus/J...</td>\n",
              "      <td>4</td>\n",
              "    </tr>\n",
              "    <tr>\n",
              "      <th>282</th>\n",
              "      <td>drive/MyDrive/DatabaseBackup/aedes/japonicus/J...</td>\n",
              "      <td>4</td>\n",
              "    </tr>\n",
              "    <tr>\n",
              "      <th>283</th>\n",
              "      <td>drive/MyDrive/DatabaseBackup/aedes/japonicus/J...</td>\n",
              "      <td>4</td>\n",
              "    </tr>\n",
              "  </tbody>\n",
              "</table>\n",
              "<p>284 rows × 2 columns</p>\n",
              "</div>\n",
              "      <button class=\"colab-df-convert\" onclick=\"convertToInteractive('df-772d941d-8ebf-45a0-9ab0-7be612592424')\"\n",
              "              title=\"Convert this dataframe to an interactive table.\"\n",
              "              style=\"display:none;\">\n",
              "        \n",
              "  <svg xmlns=\"http://www.w3.org/2000/svg\" height=\"24px\"viewBox=\"0 0 24 24\"\n",
              "       width=\"24px\">\n",
              "    <path d=\"M0 0h24v24H0V0z\" fill=\"none\"/>\n",
              "    <path d=\"M18.56 5.44l.94 2.06.94-2.06 2.06-.94-2.06-.94-.94-2.06-.94 2.06-2.06.94zm-11 1L8.5 8.5l.94-2.06 2.06-.94-2.06-.94L8.5 2.5l-.94 2.06-2.06.94zm10 10l.94 2.06.94-2.06 2.06-.94-2.06-.94-.94-2.06-.94 2.06-2.06.94z\"/><path d=\"M17.41 7.96l-1.37-1.37c-.4-.4-.92-.59-1.43-.59-.52 0-1.04.2-1.43.59L10.3 9.45l-7.72 7.72c-.78.78-.78 2.05 0 2.83L4 21.41c.39.39.9.59 1.41.59.51 0 1.02-.2 1.41-.59l7.78-7.78 2.81-2.81c.8-.78.8-2.07 0-2.86zM5.41 20L4 18.59l7.72-7.72 1.47 1.35L5.41 20z\"/>\n",
              "  </svg>\n",
              "      </button>\n",
              "      \n",
              "  <style>\n",
              "    .colab-df-container {\n",
              "      display:flex;\n",
              "      flex-wrap:wrap;\n",
              "      gap: 12px;\n",
              "    }\n",
              "\n",
              "    .colab-df-convert {\n",
              "      background-color: #E8F0FE;\n",
              "      border: none;\n",
              "      border-radius: 50%;\n",
              "      cursor: pointer;\n",
              "      display: none;\n",
              "      fill: #1967D2;\n",
              "      height: 32px;\n",
              "      padding: 0 0 0 0;\n",
              "      width: 32px;\n",
              "    }\n",
              "\n",
              "    .colab-df-convert:hover {\n",
              "      background-color: #E2EBFA;\n",
              "      box-shadow: 0px 1px 2px rgba(60, 64, 67, 0.3), 0px 1px 3px 1px rgba(60, 64, 67, 0.15);\n",
              "      fill: #174EA6;\n",
              "    }\n",
              "\n",
              "    [theme=dark] .colab-df-convert {\n",
              "      background-color: #3B4455;\n",
              "      fill: #D2E3FC;\n",
              "    }\n",
              "\n",
              "    [theme=dark] .colab-df-convert:hover {\n",
              "      background-color: #434B5C;\n",
              "      box-shadow: 0px 1px 3px 1px rgba(0, 0, 0, 0.15);\n",
              "      filter: drop-shadow(0px 1px 2px rgba(0, 0, 0, 0.3));\n",
              "      fill: #FFFFFF;\n",
              "    }\n",
              "  </style>\n",
              "\n",
              "      <script>\n",
              "        const buttonEl =\n",
              "          document.querySelector('#df-772d941d-8ebf-45a0-9ab0-7be612592424 button.colab-df-convert');\n",
              "        buttonEl.style.display =\n",
              "          google.colab.kernel.accessAllowed ? 'block' : 'none';\n",
              "\n",
              "        async function convertToInteractive(key) {\n",
              "          const element = document.querySelector('#df-772d941d-8ebf-45a0-9ab0-7be612592424');\n",
              "          const dataTable =\n",
              "            await google.colab.kernel.invokeFunction('convertToInteractive',\n",
              "                                                     [key], {});\n",
              "          if (!dataTable) return;\n",
              "\n",
              "          const docLinkHtml = 'Like what you see? Visit the ' +\n",
              "            '<a target=\"_blank\" href=https://colab.research.google.com/notebooks/data_table.ipynb>data table notebook</a>'\n",
              "            + ' to learn more about interactive tables.';\n",
              "          element.innerHTML = '';\n",
              "          dataTable['output_type'] = 'display_data';\n",
              "          await google.colab.output.renderOutput(dataTable, element);\n",
              "          const docLink = document.createElement('div');\n",
              "          docLink.innerHTML = docLinkHtml;\n",
              "          element.appendChild(docLink);\n",
              "        }\n",
              "      </script>\n",
              "    </div>\n",
              "  </div>\n",
              "  "
            ],
            "text/plain": [
              "                                                  path  label\n",
              "0    drive/MyDrive/DatabaseBackup/aedes/trivittatus...      4\n",
              "1    drive/MyDrive/DatabaseBackup/aedes/trivittatus...      4\n",
              "2    drive/MyDrive/DatabaseBackup/aedes/trivittatus...      4\n",
              "3    drive/MyDrive/DatabaseBackup/aedes/trivittatus...      4\n",
              "4    drive/MyDrive/DatabaseBackup/aedes/trivittatus...      4\n",
              "..                                                 ...    ...\n",
              "279  drive/MyDrive/DatabaseBackup/aedes/japonicus/J...      4\n",
              "280  drive/MyDrive/DatabaseBackup/aedes/japonicus/J...      4\n",
              "281  drive/MyDrive/DatabaseBackup/aedes/japonicus/J...      4\n",
              "282  drive/MyDrive/DatabaseBackup/aedes/japonicus/J...      4\n",
              "283  drive/MyDrive/DatabaseBackup/aedes/japonicus/J...      4\n",
              "\n",
              "[284 rows x 2 columns]"
            ]
          },
          "metadata": {},
          "execution_count": 20
        }
      ]
    },
    {
      "cell_type": "code",
      "source": [
        "test_data6"
      ],
      "metadata": {
        "colab": {
          "base_uri": "https://localhost:8080/",
          "height": 1000
        },
        "id": "bWwoKmJMuL2b",
        "outputId": "54ffbd4c-df21-4fc9-fe4a-cedba62474b9"
      },
      "execution_count": null,
      "outputs": [
        {
          "output_type": "execute_result",
          "data": {
            "text/html": [
              "\n",
              "  <div id=\"df-e47b6317-9f18-475c-b847-f6536004d96f\">\n",
              "    <div class=\"colab-df-container\">\n",
              "      <div>\n",
              "<style scoped>\n",
              "    .dataframe tbody tr th:only-of-type {\n",
              "        vertical-align: middle;\n",
              "    }\n",
              "\n",
              "    .dataframe tbody tr th {\n",
              "        vertical-align: top;\n",
              "    }\n",
              "\n",
              "    .dataframe thead th {\n",
              "        text-align: right;\n",
              "    }\n",
              "</style>\n",
              "<table border=\"1\" class=\"dataframe\">\n",
              "  <thead>\n",
              "    <tr style=\"text-align: right;\">\n",
              "      <th></th>\n",
              "      <th>path</th>\n",
              "      <th>label</th>\n",
              "    </tr>\n",
              "  </thead>\n",
              "  <tbody>\n",
              "    <tr>\n",
              "      <th>0</th>\n",
              "      <td>drive/MyDrive/DatabaseBackup/aedes/aegypti/JHU...</td>\n",
              "      <td>4</td>\n",
              "    </tr>\n",
              "    <tr>\n",
              "      <th>1</th>\n",
              "      <td>drive/MyDrive/DatabaseBackup/aedes/aegypti/JHU...</td>\n",
              "      <td>4</td>\n",
              "    </tr>\n",
              "    <tr>\n",
              "      <th>2</th>\n",
              "      <td>drive/MyDrive/DatabaseBackup/aedes/aegypti/JHU...</td>\n",
              "      <td>4</td>\n",
              "    </tr>\n",
              "    <tr>\n",
              "      <th>3</th>\n",
              "      <td>drive/MyDrive/DatabaseBackup/aedes/aegypti/JHU...</td>\n",
              "      <td>4</td>\n",
              "    </tr>\n",
              "    <tr>\n",
              "      <th>4</th>\n",
              "      <td>drive/MyDrive/DatabaseBackup/aedes/aegypti/JHU...</td>\n",
              "      <td>4</td>\n",
              "    </tr>\n",
              "    <tr>\n",
              "      <th>5</th>\n",
              "      <td>drive/MyDrive/DatabaseBackup/aedes/infirmatus/...</td>\n",
              "      <td>4</td>\n",
              "    </tr>\n",
              "    <tr>\n",
              "      <th>6</th>\n",
              "      <td>drive/MyDrive/DatabaseBackup/aedes/infirmatus/...</td>\n",
              "      <td>4</td>\n",
              "    </tr>\n",
              "    <tr>\n",
              "      <th>7</th>\n",
              "      <td>drive/MyDrive/DatabaseBackup/aedes/infirmatus/...</td>\n",
              "      <td>4</td>\n",
              "    </tr>\n",
              "    <tr>\n",
              "      <th>8</th>\n",
              "      <td>drive/MyDrive/DatabaseBackup/aedes/infirmatus/...</td>\n",
              "      <td>4</td>\n",
              "    </tr>\n",
              "    <tr>\n",
              "      <th>9</th>\n",
              "      <td>drive/MyDrive/DatabaseBackup/aedes/infirmatus/...</td>\n",
              "      <td>4</td>\n",
              "    </tr>\n",
              "    <tr>\n",
              "      <th>10</th>\n",
              "      <td>drive/MyDrive/DatabaseBackup/aedes/infirmatus/...</td>\n",
              "      <td>4</td>\n",
              "    </tr>\n",
              "    <tr>\n",
              "      <th>11</th>\n",
              "      <td>drive/MyDrive/DatabaseBackup/aedes/infirmatus/...</td>\n",
              "      <td>4</td>\n",
              "    </tr>\n",
              "    <tr>\n",
              "      <th>12</th>\n",
              "      <td>drive/MyDrive/DatabaseBackup/aedes/infirmatus/...</td>\n",
              "      <td>4</td>\n",
              "    </tr>\n",
              "    <tr>\n",
              "      <th>13</th>\n",
              "      <td>drive/MyDrive/DatabaseBackup/aedes/albopictus/...</td>\n",
              "      <td>4</td>\n",
              "    </tr>\n",
              "    <tr>\n",
              "      <th>14</th>\n",
              "      <td>drive/MyDrive/DatabaseBackup/aedes/albopictus/...</td>\n",
              "      <td>4</td>\n",
              "    </tr>\n",
              "    <tr>\n",
              "      <th>15</th>\n",
              "      <td>drive/MyDrive/DatabaseBackup/aedes/albopictus/...</td>\n",
              "      <td>4</td>\n",
              "    </tr>\n",
              "    <tr>\n",
              "      <th>16</th>\n",
              "      <td>drive/MyDrive/DatabaseBackup/aedes/albopictus/...</td>\n",
              "      <td>4</td>\n",
              "    </tr>\n",
              "    <tr>\n",
              "      <th>17</th>\n",
              "      <td>drive/MyDrive/DatabaseBackup/aedes/albopictus/...</td>\n",
              "      <td>4</td>\n",
              "    </tr>\n",
              "    <tr>\n",
              "      <th>18</th>\n",
              "      <td>drive/MyDrive/DatabaseBackup/aedes/dorsalis/JH...</td>\n",
              "      <td>4</td>\n",
              "    </tr>\n",
              "    <tr>\n",
              "      <th>19</th>\n",
              "      <td>drive/MyDrive/DatabaseBackup/aedes/dorsalis/JH...</td>\n",
              "      <td>4</td>\n",
              "    </tr>\n",
              "    <tr>\n",
              "      <th>20</th>\n",
              "      <td>drive/MyDrive/DatabaseBackup/aedes/dorsalis/JH...</td>\n",
              "      <td>4</td>\n",
              "    </tr>\n",
              "    <tr>\n",
              "      <th>21</th>\n",
              "      <td>drive/MyDrive/DatabaseBackup/aedes/dorsalis/JH...</td>\n",
              "      <td>4</td>\n",
              "    </tr>\n",
              "    <tr>\n",
              "      <th>22</th>\n",
              "      <td>drive/MyDrive/DatabaseBackup/aedes/dorsalis/JH...</td>\n",
              "      <td>4</td>\n",
              "    </tr>\n",
              "    <tr>\n",
              "      <th>23</th>\n",
              "      <td>drive/MyDrive/DatabaseBackup/aedes/dorsalis/JH...</td>\n",
              "      <td>4</td>\n",
              "    </tr>\n",
              "    <tr>\n",
              "      <th>24</th>\n",
              "      <td>drive/MyDrive/DatabaseBackup/aedes/dorsalis/JH...</td>\n",
              "      <td>4</td>\n",
              "    </tr>\n",
              "    <tr>\n",
              "      <th>25</th>\n",
              "      <td>drive/MyDrive/DatabaseBackup/aedes/dorsalis/JH...</td>\n",
              "      <td>4</td>\n",
              "    </tr>\n",
              "    <tr>\n",
              "      <th>26</th>\n",
              "      <td>drive/MyDrive/DatabaseBackup/aedes/dorsalis/JH...</td>\n",
              "      <td>4</td>\n",
              "    </tr>\n",
              "    <tr>\n",
              "      <th>27</th>\n",
              "      <td>drive/MyDrive/DatabaseBackup/aedes/dorsalis/JH...</td>\n",
              "      <td>4</td>\n",
              "    </tr>\n",
              "    <tr>\n",
              "      <th>28</th>\n",
              "      <td>drive/MyDrive/DatabaseBackup/aedes/dorsalis/JH...</td>\n",
              "      <td>4</td>\n",
              "    </tr>\n",
              "    <tr>\n",
              "      <th>29</th>\n",
              "      <td>drive/MyDrive/DatabaseBackup/aedes/dorsalis/JH...</td>\n",
              "      <td>4</td>\n",
              "    </tr>\n",
              "    <tr>\n",
              "      <th>30</th>\n",
              "      <td>drive/MyDrive/DatabaseBackup/aedes/dorsalis/JH...</td>\n",
              "      <td>4</td>\n",
              "    </tr>\n",
              "    <tr>\n",
              "      <th>31</th>\n",
              "      <td>drive/MyDrive/DatabaseBackup/aedes/dorsalis/JH...</td>\n",
              "      <td>4</td>\n",
              "    </tr>\n",
              "    <tr>\n",
              "      <th>32</th>\n",
              "      <td>drive/MyDrive/DatabaseBackup/aedes/aegypti/JHU...</td>\n",
              "      <td>4</td>\n",
              "    </tr>\n",
              "    <tr>\n",
              "      <th>33</th>\n",
              "      <td>drive/MyDrive/DatabaseBackup/aedes/aegypti/JHU...</td>\n",
              "      <td>4</td>\n",
              "    </tr>\n",
              "    <tr>\n",
              "      <th>34</th>\n",
              "      <td>drive/MyDrive/DatabaseBackup/aedes/aegypti/JHU...</td>\n",
              "      <td>4</td>\n",
              "    </tr>\n",
              "    <tr>\n",
              "      <th>35</th>\n",
              "      <td>drive/MyDrive/DatabaseBackup/aedes/aegypti/JHU...</td>\n",
              "      <td>4</td>\n",
              "    </tr>\n",
              "    <tr>\n",
              "      <th>36</th>\n",
              "      <td>drive/MyDrive/DatabaseBackup/aedes/aegypti/JHU...</td>\n",
              "      <td>4</td>\n",
              "    </tr>\n",
              "    <tr>\n",
              "      <th>37</th>\n",
              "      <td>drive/MyDrive/DatabaseBackup/aedes/aegypti/JHU...</td>\n",
              "      <td>4</td>\n",
              "    </tr>\n",
              "    <tr>\n",
              "      <th>38</th>\n",
              "      <td>drive/MyDrive/DatabaseBackup/aedes/aegypti/JHU...</td>\n",
              "      <td>4</td>\n",
              "    </tr>\n",
              "    <tr>\n",
              "      <th>39</th>\n",
              "      <td>drive/MyDrive/DatabaseBackup/aedes/aegypti/JHU...</td>\n",
              "      <td>4</td>\n",
              "    </tr>\n",
              "    <tr>\n",
              "      <th>40</th>\n",
              "      <td>drive/MyDrive/DatabaseBackup/aedes/aegypti/JHU...</td>\n",
              "      <td>4</td>\n",
              "    </tr>\n",
              "    <tr>\n",
              "      <th>41</th>\n",
              "      <td>drive/MyDrive/DatabaseBackup/aedes/japonicus/J...</td>\n",
              "      <td>4</td>\n",
              "    </tr>\n",
              "    <tr>\n",
              "      <th>42</th>\n",
              "      <td>drive/MyDrive/DatabaseBackup/aedes/japonicus/J...</td>\n",
              "      <td>4</td>\n",
              "    </tr>\n",
              "    <tr>\n",
              "      <th>43</th>\n",
              "      <td>drive/MyDrive/DatabaseBackup/aedes/japonicus/J...</td>\n",
              "      <td>4</td>\n",
              "    </tr>\n",
              "    <tr>\n",
              "      <th>44</th>\n",
              "      <td>drive/MyDrive/DatabaseBackup/aedes/japonicus/J...</td>\n",
              "      <td>4</td>\n",
              "    </tr>\n",
              "    <tr>\n",
              "      <th>45</th>\n",
              "      <td>drive/MyDrive/DatabaseBackup/aedes/taeniorhync...</td>\n",
              "      <td>4</td>\n",
              "    </tr>\n",
              "    <tr>\n",
              "      <th>46</th>\n",
              "      <td>drive/MyDrive/DatabaseBackup/aedes/taeniorhync...</td>\n",
              "      <td>4</td>\n",
              "    </tr>\n",
              "    <tr>\n",
              "      <th>47</th>\n",
              "      <td>drive/MyDrive/DatabaseBackup/aedes/taeniorhync...</td>\n",
              "      <td>4</td>\n",
              "    </tr>\n",
              "    <tr>\n",
              "      <th>48</th>\n",
              "      <td>drive/MyDrive/DatabaseBackup/aedes/taeniorhync...</td>\n",
              "      <td>4</td>\n",
              "    </tr>\n",
              "    <tr>\n",
              "      <th>49</th>\n",
              "      <td>drive/MyDrive/DatabaseBackup/aedes/taeniorhync...</td>\n",
              "      <td>4</td>\n",
              "    </tr>\n",
              "    <tr>\n",
              "      <th>50</th>\n",
              "      <td>drive/MyDrive/DatabaseBackup/aedes/taeniorhync...</td>\n",
              "      <td>4</td>\n",
              "    </tr>\n",
              "    <tr>\n",
              "      <th>51</th>\n",
              "      <td>drive/MyDrive/DatabaseBackup/aedes/aegypti/JHU...</td>\n",
              "      <td>4</td>\n",
              "    </tr>\n",
              "    <tr>\n",
              "      <th>52</th>\n",
              "      <td>drive/MyDrive/DatabaseBackup/aedes/aegypti/JHU...</td>\n",
              "      <td>4</td>\n",
              "    </tr>\n",
              "    <tr>\n",
              "      <th>53</th>\n",
              "      <td>drive/MyDrive/DatabaseBackup/aedes/aegypti/JHU...</td>\n",
              "      <td>4</td>\n",
              "    </tr>\n",
              "    <tr>\n",
              "      <th>54</th>\n",
              "      <td>drive/MyDrive/DatabaseBackup/aedes/aegypti/JHU...</td>\n",
              "      <td>4</td>\n",
              "    </tr>\n",
              "  </tbody>\n",
              "</table>\n",
              "</div>\n",
              "      <button class=\"colab-df-convert\" onclick=\"convertToInteractive('df-e47b6317-9f18-475c-b847-f6536004d96f')\"\n",
              "              title=\"Convert this dataframe to an interactive table.\"\n",
              "              style=\"display:none;\">\n",
              "        \n",
              "  <svg xmlns=\"http://www.w3.org/2000/svg\" height=\"24px\"viewBox=\"0 0 24 24\"\n",
              "       width=\"24px\">\n",
              "    <path d=\"M0 0h24v24H0V0z\" fill=\"none\"/>\n",
              "    <path d=\"M18.56 5.44l.94 2.06.94-2.06 2.06-.94-2.06-.94-.94-2.06-.94 2.06-2.06.94zm-11 1L8.5 8.5l.94-2.06 2.06-.94-2.06-.94L8.5 2.5l-.94 2.06-2.06.94zm10 10l.94 2.06.94-2.06 2.06-.94-2.06-.94-.94-2.06-.94 2.06-2.06.94z\"/><path d=\"M17.41 7.96l-1.37-1.37c-.4-.4-.92-.59-1.43-.59-.52 0-1.04.2-1.43.59L10.3 9.45l-7.72 7.72c-.78.78-.78 2.05 0 2.83L4 21.41c.39.39.9.59 1.41.59.51 0 1.02-.2 1.41-.59l7.78-7.78 2.81-2.81c.8-.78.8-2.07 0-2.86zM5.41 20L4 18.59l7.72-7.72 1.47 1.35L5.41 20z\"/>\n",
              "  </svg>\n",
              "      </button>\n",
              "      \n",
              "  <style>\n",
              "    .colab-df-container {\n",
              "      display:flex;\n",
              "      flex-wrap:wrap;\n",
              "      gap: 12px;\n",
              "    }\n",
              "\n",
              "    .colab-df-convert {\n",
              "      background-color: #E8F0FE;\n",
              "      border: none;\n",
              "      border-radius: 50%;\n",
              "      cursor: pointer;\n",
              "      display: none;\n",
              "      fill: #1967D2;\n",
              "      height: 32px;\n",
              "      padding: 0 0 0 0;\n",
              "      width: 32px;\n",
              "    }\n",
              "\n",
              "    .colab-df-convert:hover {\n",
              "      background-color: #E2EBFA;\n",
              "      box-shadow: 0px 1px 2px rgba(60, 64, 67, 0.3), 0px 1px 3px 1px rgba(60, 64, 67, 0.15);\n",
              "      fill: #174EA6;\n",
              "    }\n",
              "\n",
              "    [theme=dark] .colab-df-convert {\n",
              "      background-color: #3B4455;\n",
              "      fill: #D2E3FC;\n",
              "    }\n",
              "\n",
              "    [theme=dark] .colab-df-convert:hover {\n",
              "      background-color: #434B5C;\n",
              "      box-shadow: 0px 1px 3px 1px rgba(0, 0, 0, 0.15);\n",
              "      filter: drop-shadow(0px 1px 2px rgba(0, 0, 0, 0.3));\n",
              "      fill: #FFFFFF;\n",
              "    }\n",
              "  </style>\n",
              "\n",
              "      <script>\n",
              "        const buttonEl =\n",
              "          document.querySelector('#df-e47b6317-9f18-475c-b847-f6536004d96f button.colab-df-convert');\n",
              "        buttonEl.style.display =\n",
              "          google.colab.kernel.accessAllowed ? 'block' : 'none';\n",
              "\n",
              "        async function convertToInteractive(key) {\n",
              "          const element = document.querySelector('#df-e47b6317-9f18-475c-b847-f6536004d96f');\n",
              "          const dataTable =\n",
              "            await google.colab.kernel.invokeFunction('convertToInteractive',\n",
              "                                                     [key], {});\n",
              "          if (!dataTable) return;\n",
              "\n",
              "          const docLinkHtml = 'Like what you see? Visit the ' +\n",
              "            '<a target=\"_blank\" href=https://colab.research.google.com/notebooks/data_table.ipynb>data table notebook</a>'\n",
              "            + ' to learn more about interactive tables.';\n",
              "          element.innerHTML = '';\n",
              "          dataTable['output_type'] = 'display_data';\n",
              "          await google.colab.output.renderOutput(dataTable, element);\n",
              "          const docLink = document.createElement('div');\n",
              "          docLink.innerHTML = docLinkHtml;\n",
              "          element.appendChild(docLink);\n",
              "        }\n",
              "      </script>\n",
              "    </div>\n",
              "  </div>\n",
              "  "
            ],
            "text/plain": [
              "                                                 path  label\n",
              "0   drive/MyDrive/DatabaseBackup/aedes/aegypti/JHU...      4\n",
              "1   drive/MyDrive/DatabaseBackup/aedes/aegypti/JHU...      4\n",
              "2   drive/MyDrive/DatabaseBackup/aedes/aegypti/JHU...      4\n",
              "3   drive/MyDrive/DatabaseBackup/aedes/aegypti/JHU...      4\n",
              "4   drive/MyDrive/DatabaseBackup/aedes/aegypti/JHU...      4\n",
              "5   drive/MyDrive/DatabaseBackup/aedes/infirmatus/...      4\n",
              "6   drive/MyDrive/DatabaseBackup/aedes/infirmatus/...      4\n",
              "7   drive/MyDrive/DatabaseBackup/aedes/infirmatus/...      4\n",
              "8   drive/MyDrive/DatabaseBackup/aedes/infirmatus/...      4\n",
              "9   drive/MyDrive/DatabaseBackup/aedes/infirmatus/...      4\n",
              "10  drive/MyDrive/DatabaseBackup/aedes/infirmatus/...      4\n",
              "11  drive/MyDrive/DatabaseBackup/aedes/infirmatus/...      4\n",
              "12  drive/MyDrive/DatabaseBackup/aedes/infirmatus/...      4\n",
              "13  drive/MyDrive/DatabaseBackup/aedes/albopictus/...      4\n",
              "14  drive/MyDrive/DatabaseBackup/aedes/albopictus/...      4\n",
              "15  drive/MyDrive/DatabaseBackup/aedes/albopictus/...      4\n",
              "16  drive/MyDrive/DatabaseBackup/aedes/albopictus/...      4\n",
              "17  drive/MyDrive/DatabaseBackup/aedes/albopictus/...      4\n",
              "18  drive/MyDrive/DatabaseBackup/aedes/dorsalis/JH...      4\n",
              "19  drive/MyDrive/DatabaseBackup/aedes/dorsalis/JH...      4\n",
              "20  drive/MyDrive/DatabaseBackup/aedes/dorsalis/JH...      4\n",
              "21  drive/MyDrive/DatabaseBackup/aedes/dorsalis/JH...      4\n",
              "22  drive/MyDrive/DatabaseBackup/aedes/dorsalis/JH...      4\n",
              "23  drive/MyDrive/DatabaseBackup/aedes/dorsalis/JH...      4\n",
              "24  drive/MyDrive/DatabaseBackup/aedes/dorsalis/JH...      4\n",
              "25  drive/MyDrive/DatabaseBackup/aedes/dorsalis/JH...      4\n",
              "26  drive/MyDrive/DatabaseBackup/aedes/dorsalis/JH...      4\n",
              "27  drive/MyDrive/DatabaseBackup/aedes/dorsalis/JH...      4\n",
              "28  drive/MyDrive/DatabaseBackup/aedes/dorsalis/JH...      4\n",
              "29  drive/MyDrive/DatabaseBackup/aedes/dorsalis/JH...      4\n",
              "30  drive/MyDrive/DatabaseBackup/aedes/dorsalis/JH...      4\n",
              "31  drive/MyDrive/DatabaseBackup/aedes/dorsalis/JH...      4\n",
              "32  drive/MyDrive/DatabaseBackup/aedes/aegypti/JHU...      4\n",
              "33  drive/MyDrive/DatabaseBackup/aedes/aegypti/JHU...      4\n",
              "34  drive/MyDrive/DatabaseBackup/aedes/aegypti/JHU...      4\n",
              "35  drive/MyDrive/DatabaseBackup/aedes/aegypti/JHU...      4\n",
              "36  drive/MyDrive/DatabaseBackup/aedes/aegypti/JHU...      4\n",
              "37  drive/MyDrive/DatabaseBackup/aedes/aegypti/JHU...      4\n",
              "38  drive/MyDrive/DatabaseBackup/aedes/aegypti/JHU...      4\n",
              "39  drive/MyDrive/DatabaseBackup/aedes/aegypti/JHU...      4\n",
              "40  drive/MyDrive/DatabaseBackup/aedes/aegypti/JHU...      4\n",
              "41  drive/MyDrive/DatabaseBackup/aedes/japonicus/J...      4\n",
              "42  drive/MyDrive/DatabaseBackup/aedes/japonicus/J...      4\n",
              "43  drive/MyDrive/DatabaseBackup/aedes/japonicus/J...      4\n",
              "44  drive/MyDrive/DatabaseBackup/aedes/japonicus/J...      4\n",
              "45  drive/MyDrive/DatabaseBackup/aedes/taeniorhync...      4\n",
              "46  drive/MyDrive/DatabaseBackup/aedes/taeniorhync...      4\n",
              "47  drive/MyDrive/DatabaseBackup/aedes/taeniorhync...      4\n",
              "48  drive/MyDrive/DatabaseBackup/aedes/taeniorhync...      4\n",
              "49  drive/MyDrive/DatabaseBackup/aedes/taeniorhync...      4\n",
              "50  drive/MyDrive/DatabaseBackup/aedes/taeniorhync...      4\n",
              "51  drive/MyDrive/DatabaseBackup/aedes/aegypti/JHU...      4\n",
              "52  drive/MyDrive/DatabaseBackup/aedes/aegypti/JHU...      4\n",
              "53  drive/MyDrive/DatabaseBackup/aedes/aegypti/JHU...      4\n",
              "54  drive/MyDrive/DatabaseBackup/aedes/aegypti/JHU...      4"
            ]
          },
          "metadata": {},
          "execution_count": 21
        }
      ]
    },
    {
      "cell_type": "code",
      "source": [
        "train_data6.to_csv('drive/MyDrive/pretrain_data_path/train_other_path.csv', index = False)\n",
        "test_data6.to_csv('drive/MyDrive/pretrain_data_path/test_other_path.csv', index = False)"
      ],
      "metadata": {
        "id": "SQbHNuj3rGml"
      },
      "execution_count": null,
      "outputs": []
    },
    {
      "cell_type": "code",
      "source": [
        "def read_data(path):\n",
        "    data = []\n",
        "    label = []\n",
        "    for i in range(path.shape[0]):\n",
        "        image = Image.open(path.loc[i,'path'])\n",
        "        image = mosquito_transforms(image)\n",
        "        data.append(image)\n",
        "    stacked_data = torch.stack(data)\n",
        "    label = path.loc[:,'label']\n",
        "    return stacked_data, label\n"
      ],
      "metadata": {
        "id": "8OWSEiztsP5M"
      },
      "execution_count": null,
      "outputs": []
    },
    {
      "cell_type": "code",
      "source": [
        "train_other_data, train_other_label = read_data(train_data6)\n",
        "test_other_data, test_other_label = read_data(test_data6)\n",
        "print(train_other_data.shape)\n",
        "print(test_other_data.shape)"
      ],
      "metadata": {
        "colab": {
          "base_uri": "https://localhost:8080/"
        },
        "id": "VeflMGp_sPyz",
        "outputId": "3bf19d58-d406-4f93-a208-89d2214febee"
      },
      "execution_count": null,
      "outputs": [
        {
          "output_type": "stream",
          "name": "stdout",
          "text": [
            "torch.Size([284, 3, 299, 299])\n",
            "torch.Size([55, 3, 299, 299])\n"
          ]
        }
      ]
    },
    {
      "cell_type": "code",
      "source": [
        "print(torch.tensor(train_other_label).shape)\n",
        "print(torch.tensor(test_other_label).shape)"
      ],
      "metadata": {
        "colab": {
          "base_uri": "https://localhost:8080/"
        },
        "id": "lPC52lIBua0q",
        "outputId": "7e54f47f-1d8c-4bee-c8cf-01d9487599fe"
      },
      "execution_count": null,
      "outputs": [
        {
          "output_type": "stream",
          "name": "stdout",
          "text": [
            "torch.Size([284])\n",
            "torch.Size([55])\n"
          ]
        }
      ]
    },
    {
      "cell_type": "code",
      "source": [
        "#torch.save(train_other_data, \"drive/MyDrive/pretrain_data_path/train_other_data.pt\")\n",
        "#torch.save(torch.tensor(train_other_label), \"drive/MyDrive/pretrain_data_path/train_other_label.pt\")\n",
        "#torch.save(test_other_data, \"drive/MyDrive/pretrain_data_path/test_other_data.pt\")\n",
        "torch.save(torch.tensor(test_other_label), \"drive/MyDrive/pretrain_data_path/test_other_label.pt\")"
      ],
      "metadata": {
        "id": "AV5cfr-JvqSE"
      },
      "execution_count": null,
      "outputs": []
    },
    {
      "cell_type": "code",
      "source": [
        "train_data = pd.concat([train_data1, train_data2, train_data3, train_data4, train_data5], ignore_index=True)\n",
        "test_data = pd.concat([test_data1, test_data2, test_data3, test_data4, test_data5], ignore_index=True)\n",
        "print(train_data.shape)\n",
        "print(test_data.shape)"
      ],
      "metadata": {
        "colab": {
          "base_uri": "https://localhost:8080/"
        },
        "id": "kiQJGIFPjcT8",
        "outputId": "15a5f267-b1fb-4eb8-a9de-54edc79aa4a4"
      },
      "execution_count": null,
      "outputs": [
        {
          "output_type": "stream",
          "name": "stdout",
          "text": [
            "(1358, 59)\n",
            "(340, 59)\n"
          ]
        }
      ]
    },
    {
      "cell_type": "code",
      "source": [
        "train_data = train_data.sample(frac=1).reset_index(drop=True)\n",
        "test_data = test_data.sample(frac=1).reset_index(drop=True)\n",
        "print(train_data.shape)\n",
        "print(test_data.shape)"
      ],
      "metadata": {
        "colab": {
          "base_uri": "https://localhost:8080/"
        },
        "id": "lMCgSSRejcPs",
        "outputId": "57649a61-079e-44df-9ff0-607a406b4f52"
      },
      "execution_count": null,
      "outputs": [
        {
          "output_type": "stream",
          "name": "stdout",
          "text": [
            "(1358, 59)\n",
            "(340, 59)\n"
          ]
        }
      ]
    },
    {
      "cell_type": "code",
      "source": [
        ""
      ],
      "metadata": {
        "id": "Wo8IItA1vvsN"
      },
      "execution_count": null,
      "outputs": []
    },
    {
      "cell_type": "code",
      "source": [
        "train_data.head()"
      ],
      "metadata": {
        "colab": {
          "base_uri": "https://localhost:8080/",
          "height": 270
        },
        "id": "Y2fFQn_0jcLB",
        "outputId": "94e94801-bbb5-4251-a6a6-6e28a331b3c1"
      },
      "execution_count": null,
      "outputs": [
        {
          "output_type": "execute_result",
          "data": {
            "text/html": [
              "\n",
              "  <div id=\"df-ebbdfe6c-413c-4518-a016-9544ecda559b\">\n",
              "    <div class=\"colab-df-container\">\n",
              "      <div>\n",
              "<style scoped>\n",
              "    .dataframe tbody tr th:only-of-type {\n",
              "        vertical-align: middle;\n",
              "    }\n",
              "\n",
              "    .dataframe tbody tr th {\n",
              "        vertical-align: top;\n",
              "    }\n",
              "\n",
              "    .dataframe thead th {\n",
              "        text-align: right;\n",
              "    }\n",
              "</style>\n",
              "<table border=\"1\" class=\"dataframe\">\n",
              "  <thead>\n",
              "    <tr style=\"text-align: right;\">\n",
              "      <th></th>\n",
              "      <th>0</th>\n",
              "      <th>1</th>\n",
              "      <th>2</th>\n",
              "      <th>3</th>\n",
              "      <th>4</th>\n",
              "      <th>5</th>\n",
              "      <th>6</th>\n",
              "      <th>7</th>\n",
              "      <th>8</th>\n",
              "      <th>9</th>\n",
              "      <th>10</th>\n",
              "      <th>11</th>\n",
              "      <th>12</th>\n",
              "      <th>13</th>\n",
              "      <th>14</th>\n",
              "      <th>15</th>\n",
              "      <th>16</th>\n",
              "      <th>17</th>\n",
              "      <th>18</th>\n",
              "      <th>19</th>\n",
              "      <th>20</th>\n",
              "      <th>21</th>\n",
              "      <th>22</th>\n",
              "      <th>23</th>\n",
              "      <th>24</th>\n",
              "      <th>25</th>\n",
              "      <th>26</th>\n",
              "      <th>27</th>\n",
              "      <th>28</th>\n",
              "      <th>29</th>\n",
              "      <th>30</th>\n",
              "      <th>31</th>\n",
              "      <th>32</th>\n",
              "      <th>33</th>\n",
              "      <th>34</th>\n",
              "      <th>35</th>\n",
              "      <th>36</th>\n",
              "      <th>37</th>\n",
              "      <th>38</th>\n",
              "      <th>39</th>\n",
              "      <th>40</th>\n",
              "      <th>41</th>\n",
              "      <th>42</th>\n",
              "      <th>43</th>\n",
              "      <th>44</th>\n",
              "      <th>45</th>\n",
              "      <th>46</th>\n",
              "      <th>47</th>\n",
              "      <th>48</th>\n",
              "      <th>49</th>\n",
              "      <th>50</th>\n",
              "      <th>51</th>\n",
              "      <th>52</th>\n",
              "      <th>53</th>\n",
              "      <th>54</th>\n",
              "      <th>55</th>\n",
              "      <th>56</th>\n",
              "      <th>57</th>\n",
              "      <th>58</th>\n",
              "    </tr>\n",
              "  </thead>\n",
              "  <tbody>\n",
              "    <tr>\n",
              "      <th>0</th>\n",
              "      <td>drive/MyDrive/DatabaseBackup/aedes/aegypti/JHU...</td>\n",
              "      <td>drive/MyDrive/DatabaseBackup/aedes/aegypti/JHU...</td>\n",
              "      <td>drive/MyDrive/DatabaseBackup/aedes/aegypti/JHU...</td>\n",
              "      <td>drive/MyDrive/DatabaseBackup/aedes/aegypti/JHU...</td>\n",
              "      <td>drive/MyDrive/DatabaseBackup/aedes/aegypti/JHU...</td>\n",
              "      <td>drive/MyDrive/DatabaseBackup/aedes/aegypti/JHU...</td>\n",
              "      <td>drive/MyDrive/DatabaseBackup/aedes/aegypti/JHU...</td>\n",
              "      <td>drive/MyDrive/DatabaseBackup/aedes/aegypti/JHU...</td>\n",
              "      <td>drive/MyDrive/DatabaseBackup/aedes/aegypti/JHU...</td>\n",
              "      <td>drive/MyDrive/DatabaseBackup/aedes/aegypti/JHU...</td>\n",
              "      <td>drive/MyDrive/DatabaseBackup/aedes/aegypti/JHU...</td>\n",
              "      <td>drive/MyDrive/DatabaseBackup/aedes/aegypti/JHU...</td>\n",
              "      <td>drive/MyDrive/DatabaseBackup/aedes/aegypti/JHU...</td>\n",
              "      <td>NaN</td>\n",
              "      <td>NaN</td>\n",
              "      <td>NaN</td>\n",
              "      <td>NaN</td>\n",
              "      <td>NaN</td>\n",
              "      <td>NaN</td>\n",
              "      <td>NaN</td>\n",
              "      <td>NaN</td>\n",
              "      <td>NaN</td>\n",
              "      <td>NaN</td>\n",
              "      <td>NaN</td>\n",
              "      <td>NaN</td>\n",
              "      <td>NaN</td>\n",
              "      <td>NaN</td>\n",
              "      <td>NaN</td>\n",
              "      <td>NaN</td>\n",
              "      <td>NaN</td>\n",
              "      <td>NaN</td>\n",
              "      <td>NaN</td>\n",
              "      <td>NaN</td>\n",
              "      <td>NaN</td>\n",
              "      <td>NaN</td>\n",
              "      <td>NaN</td>\n",
              "      <td>NaN</td>\n",
              "      <td>NaN</td>\n",
              "      <td>NaN</td>\n",
              "      <td>NaN</td>\n",
              "      <td>NaN</td>\n",
              "      <td>NaN</td>\n",
              "      <td>NaN</td>\n",
              "      <td>NaN</td>\n",
              "      <td>NaN</td>\n",
              "      <td>NaN</td>\n",
              "      <td>NaN</td>\n",
              "      <td>NaN</td>\n",
              "      <td>NaN</td>\n",
              "      <td>NaN</td>\n",
              "      <td>NaN</td>\n",
              "      <td>NaN</td>\n",
              "      <td>NaN</td>\n",
              "      <td>NaN</td>\n",
              "      <td>NaN</td>\n",
              "      <td>NaN</td>\n",
              "      <td>NaN</td>\n",
              "      <td>NaN</td>\n",
              "      <td>NaN</td>\n",
              "    </tr>\n",
              "    <tr>\n",
              "      <th>1</th>\n",
              "      <td>drive/MyDrive/DatabaseBackup/anopheles/stephen...</td>\n",
              "      <td>drive/MyDrive/DatabaseBackup/anopheles/stephen...</td>\n",
              "      <td>drive/MyDrive/DatabaseBackup/anopheles/stephen...</td>\n",
              "      <td>drive/MyDrive/DatabaseBackup/anopheles/stephen...</td>\n",
              "      <td>NaN</td>\n",
              "      <td>NaN</td>\n",
              "      <td>NaN</td>\n",
              "      <td>NaN</td>\n",
              "      <td>NaN</td>\n",
              "      <td>NaN</td>\n",
              "      <td>NaN</td>\n",
              "      <td>NaN</td>\n",
              "      <td>NaN</td>\n",
              "      <td>NaN</td>\n",
              "      <td>NaN</td>\n",
              "      <td>NaN</td>\n",
              "      <td>NaN</td>\n",
              "      <td>NaN</td>\n",
              "      <td>NaN</td>\n",
              "      <td>NaN</td>\n",
              "      <td>NaN</td>\n",
              "      <td>NaN</td>\n",
              "      <td>NaN</td>\n",
              "      <td>NaN</td>\n",
              "      <td>NaN</td>\n",
              "      <td>NaN</td>\n",
              "      <td>NaN</td>\n",
              "      <td>NaN</td>\n",
              "      <td>NaN</td>\n",
              "      <td>NaN</td>\n",
              "      <td>NaN</td>\n",
              "      <td>NaN</td>\n",
              "      <td>NaN</td>\n",
              "      <td>NaN</td>\n",
              "      <td>NaN</td>\n",
              "      <td>NaN</td>\n",
              "      <td>NaN</td>\n",
              "      <td>NaN</td>\n",
              "      <td>NaN</td>\n",
              "      <td>NaN</td>\n",
              "      <td>NaN</td>\n",
              "      <td>NaN</td>\n",
              "      <td>NaN</td>\n",
              "      <td>NaN</td>\n",
              "      <td>NaN</td>\n",
              "      <td>NaN</td>\n",
              "      <td>NaN</td>\n",
              "      <td>NaN</td>\n",
              "      <td>NaN</td>\n",
              "      <td>NaN</td>\n",
              "      <td>NaN</td>\n",
              "      <td>NaN</td>\n",
              "      <td>NaN</td>\n",
              "      <td>NaN</td>\n",
              "      <td>NaN</td>\n",
              "      <td>NaN</td>\n",
              "      <td>NaN</td>\n",
              "      <td>NaN</td>\n",
              "      <td>NaN</td>\n",
              "    </tr>\n",
              "    <tr>\n",
              "      <th>2</th>\n",
              "      <td>drive/MyDrive/DatabaseBackup/anopheles/freebor...</td>\n",
              "      <td>drive/MyDrive/DatabaseBackup/anopheles/freebor...</td>\n",
              "      <td>drive/MyDrive/DatabaseBackup/anopheles/freebor...</td>\n",
              "      <td>drive/MyDrive/DatabaseBackup/anopheles/freebor...</td>\n",
              "      <td>drive/MyDrive/DatabaseBackup/anopheles/freebor...</td>\n",
              "      <td>drive/MyDrive/DatabaseBackup/anopheles/freebor...</td>\n",
              "      <td>drive/MyDrive/DatabaseBackup/anopheles/freebor...</td>\n",
              "      <td>drive/MyDrive/DatabaseBackup/anopheles/freebor...</td>\n",
              "      <td>drive/MyDrive/DatabaseBackup/anopheles/freebor...</td>\n",
              "      <td>drive/MyDrive/DatabaseBackup/anopheles/freebor...</td>\n",
              "      <td>drive/MyDrive/DatabaseBackup/anopheles/freebor...</td>\n",
              "      <td>drive/MyDrive/DatabaseBackup/anopheles/freebor...</td>\n",
              "      <td>drive/MyDrive/DatabaseBackup/anopheles/freebor...</td>\n",
              "      <td>drive/MyDrive/DatabaseBackup/anopheles/freebor...</td>\n",
              "      <td>drive/MyDrive/DatabaseBackup/anopheles/freebor...</td>\n",
              "      <td>NaN</td>\n",
              "      <td>NaN</td>\n",
              "      <td>NaN</td>\n",
              "      <td>NaN</td>\n",
              "      <td>NaN</td>\n",
              "      <td>NaN</td>\n",
              "      <td>NaN</td>\n",
              "      <td>NaN</td>\n",
              "      <td>NaN</td>\n",
              "      <td>NaN</td>\n",
              "      <td>NaN</td>\n",
              "      <td>NaN</td>\n",
              "      <td>NaN</td>\n",
              "      <td>NaN</td>\n",
              "      <td>NaN</td>\n",
              "      <td>NaN</td>\n",
              "      <td>NaN</td>\n",
              "      <td>NaN</td>\n",
              "      <td>NaN</td>\n",
              "      <td>NaN</td>\n",
              "      <td>NaN</td>\n",
              "      <td>NaN</td>\n",
              "      <td>NaN</td>\n",
              "      <td>NaN</td>\n",
              "      <td>NaN</td>\n",
              "      <td>NaN</td>\n",
              "      <td>NaN</td>\n",
              "      <td>NaN</td>\n",
              "      <td>NaN</td>\n",
              "      <td>NaN</td>\n",
              "      <td>NaN</td>\n",
              "      <td>NaN</td>\n",
              "      <td>NaN</td>\n",
              "      <td>NaN</td>\n",
              "      <td>NaN</td>\n",
              "      <td>NaN</td>\n",
              "      <td>NaN</td>\n",
              "      <td>NaN</td>\n",
              "      <td>NaN</td>\n",
              "      <td>NaN</td>\n",
              "      <td>NaN</td>\n",
              "      <td>NaN</td>\n",
              "      <td>NaN</td>\n",
              "      <td>NaN</td>\n",
              "    </tr>\n",
              "    <tr>\n",
              "      <th>3</th>\n",
              "      <td>drive/MyDrive/DatabaseBackup/anopheles/gambiae...</td>\n",
              "      <td>drive/MyDrive/DatabaseBackup/anopheles/gambiae...</td>\n",
              "      <td>drive/MyDrive/DatabaseBackup/anopheles/gambiae...</td>\n",
              "      <td>drive/MyDrive/DatabaseBackup/anopheles/gambiae...</td>\n",
              "      <td>drive/MyDrive/DatabaseBackup/anopheles/gambiae...</td>\n",
              "      <td>drive/MyDrive/DatabaseBackup/anopheles/gambiae...</td>\n",
              "      <td>drive/MyDrive/DatabaseBackup/anopheles/gambiae...</td>\n",
              "      <td>drive/MyDrive/DatabaseBackup/anopheles/gambiae...</td>\n",
              "      <td>drive/MyDrive/DatabaseBackup/anopheles/gambiae...</td>\n",
              "      <td>drive/MyDrive/DatabaseBackup/anopheles/gambiae...</td>\n",
              "      <td>drive/MyDrive/DatabaseBackup/anopheles/gambiae...</td>\n",
              "      <td>drive/MyDrive/DatabaseBackup/anopheles/gambiae...</td>\n",
              "      <td>drive/MyDrive/DatabaseBackup/anopheles/gambiae...</td>\n",
              "      <td>NaN</td>\n",
              "      <td>NaN</td>\n",
              "      <td>NaN</td>\n",
              "      <td>NaN</td>\n",
              "      <td>NaN</td>\n",
              "      <td>NaN</td>\n",
              "      <td>NaN</td>\n",
              "      <td>NaN</td>\n",
              "      <td>NaN</td>\n",
              "      <td>NaN</td>\n",
              "      <td>NaN</td>\n",
              "      <td>NaN</td>\n",
              "      <td>NaN</td>\n",
              "      <td>NaN</td>\n",
              "      <td>NaN</td>\n",
              "      <td>NaN</td>\n",
              "      <td>NaN</td>\n",
              "      <td>NaN</td>\n",
              "      <td>NaN</td>\n",
              "      <td>NaN</td>\n",
              "      <td>NaN</td>\n",
              "      <td>NaN</td>\n",
              "      <td>NaN</td>\n",
              "      <td>NaN</td>\n",
              "      <td>NaN</td>\n",
              "      <td>NaN</td>\n",
              "      <td>NaN</td>\n",
              "      <td>NaN</td>\n",
              "      <td>NaN</td>\n",
              "      <td>NaN</td>\n",
              "      <td>NaN</td>\n",
              "      <td>NaN</td>\n",
              "      <td>NaN</td>\n",
              "      <td>NaN</td>\n",
              "      <td>NaN</td>\n",
              "      <td>NaN</td>\n",
              "      <td>NaN</td>\n",
              "      <td>NaN</td>\n",
              "      <td>NaN</td>\n",
              "      <td>NaN</td>\n",
              "      <td>NaN</td>\n",
              "      <td>NaN</td>\n",
              "      <td>NaN</td>\n",
              "      <td>NaN</td>\n",
              "      <td>NaN</td>\n",
              "      <td>NaN</td>\n",
              "    </tr>\n",
              "    <tr>\n",
              "      <th>4</th>\n",
              "      <td>drive/MyDrive/DatabaseBackup/culex/restuans/JH...</td>\n",
              "      <td>drive/MyDrive/DatabaseBackup/culex/restuans/JH...</td>\n",
              "      <td>drive/MyDrive/DatabaseBackup/culex/restuans/JH...</td>\n",
              "      <td>drive/MyDrive/DatabaseBackup/culex/restuans/JH...</td>\n",
              "      <td>drive/MyDrive/DatabaseBackup/culex/restuans/JH...</td>\n",
              "      <td>drive/MyDrive/DatabaseBackup/culex/restuans/JH...</td>\n",
              "      <td>drive/MyDrive/DatabaseBackup/culex/restuans/JH...</td>\n",
              "      <td>drive/MyDrive/DatabaseBackup/culex/restuans/JH...</td>\n",
              "      <td>drive/MyDrive/DatabaseBackup/culex/restuans/JH...</td>\n",
              "      <td>drive/MyDrive/DatabaseBackup/culex/restuans/JH...</td>\n",
              "      <td>drive/MyDrive/DatabaseBackup/culex/restuans/JH...</td>\n",
              "      <td>drive/MyDrive/DatabaseBackup/culex/restuans/JH...</td>\n",
              "      <td>drive/MyDrive/DatabaseBackup/culex/restuans/JH...</td>\n",
              "      <td>drive/MyDrive/DatabaseBackup/culex/restuans/JH...</td>\n",
              "      <td>drive/MyDrive/DatabaseBackup/culex/restuans/JH...</td>\n",
              "      <td>drive/MyDrive/DatabaseBackup/culex/restuans/JH...</td>\n",
              "      <td>drive/MyDrive/DatabaseBackup/culex/restuans/JH...</td>\n",
              "      <td>drive/MyDrive/DatabaseBackup/culex/restuans/JH...</td>\n",
              "      <td>NaN</td>\n",
              "      <td>NaN</td>\n",
              "      <td>NaN</td>\n",
              "      <td>NaN</td>\n",
              "      <td>NaN</td>\n",
              "      <td>NaN</td>\n",
              "      <td>NaN</td>\n",
              "      <td>NaN</td>\n",
              "      <td>NaN</td>\n",
              "      <td>NaN</td>\n",
              "      <td>NaN</td>\n",
              "      <td>NaN</td>\n",
              "      <td>NaN</td>\n",
              "      <td>NaN</td>\n",
              "      <td>NaN</td>\n",
              "      <td>NaN</td>\n",
              "      <td>NaN</td>\n",
              "      <td>NaN</td>\n",
              "      <td>NaN</td>\n",
              "      <td>NaN</td>\n",
              "      <td>NaN</td>\n",
              "      <td>NaN</td>\n",
              "      <td>NaN</td>\n",
              "      <td>NaN</td>\n",
              "      <td>NaN</td>\n",
              "      <td>NaN</td>\n",
              "      <td>NaN</td>\n",
              "      <td>NaN</td>\n",
              "      <td>NaN</td>\n",
              "      <td>NaN</td>\n",
              "      <td>NaN</td>\n",
              "      <td>NaN</td>\n",
              "      <td>NaN</td>\n",
              "      <td>NaN</td>\n",
              "      <td>NaN</td>\n",
              "      <td>NaN</td>\n",
              "      <td>NaN</td>\n",
              "      <td>NaN</td>\n",
              "      <td>NaN</td>\n",
              "      <td>NaN</td>\n",
              "      <td>NaN</td>\n",
              "    </tr>\n",
              "  </tbody>\n",
              "</table>\n",
              "</div>\n",
              "      <button class=\"colab-df-convert\" onclick=\"convertToInteractive('df-ebbdfe6c-413c-4518-a016-9544ecda559b')\"\n",
              "              title=\"Convert this dataframe to an interactive table.\"\n",
              "              style=\"display:none;\">\n",
              "        \n",
              "  <svg xmlns=\"http://www.w3.org/2000/svg\" height=\"24px\"viewBox=\"0 0 24 24\"\n",
              "       width=\"24px\">\n",
              "    <path d=\"M0 0h24v24H0V0z\" fill=\"none\"/>\n",
              "    <path d=\"M18.56 5.44l.94 2.06.94-2.06 2.06-.94-2.06-.94-.94-2.06-.94 2.06-2.06.94zm-11 1L8.5 8.5l.94-2.06 2.06-.94-2.06-.94L8.5 2.5l-.94 2.06-2.06.94zm10 10l.94 2.06.94-2.06 2.06-.94-2.06-.94-.94-2.06-.94 2.06-2.06.94z\"/><path d=\"M17.41 7.96l-1.37-1.37c-.4-.4-.92-.59-1.43-.59-.52 0-1.04.2-1.43.59L10.3 9.45l-7.72 7.72c-.78.78-.78 2.05 0 2.83L4 21.41c.39.39.9.59 1.41.59.51 0 1.02-.2 1.41-.59l7.78-7.78 2.81-2.81c.8-.78.8-2.07 0-2.86zM5.41 20L4 18.59l7.72-7.72 1.47 1.35L5.41 20z\"/>\n",
              "  </svg>\n",
              "      </button>\n",
              "      \n",
              "  <style>\n",
              "    .colab-df-container {\n",
              "      display:flex;\n",
              "      flex-wrap:wrap;\n",
              "      gap: 12px;\n",
              "    }\n",
              "\n",
              "    .colab-df-convert {\n",
              "      background-color: #E8F0FE;\n",
              "      border: none;\n",
              "      border-radius: 50%;\n",
              "      cursor: pointer;\n",
              "      display: none;\n",
              "      fill: #1967D2;\n",
              "      height: 32px;\n",
              "      padding: 0 0 0 0;\n",
              "      width: 32px;\n",
              "    }\n",
              "\n",
              "    .colab-df-convert:hover {\n",
              "      background-color: #E2EBFA;\n",
              "      box-shadow: 0px 1px 2px rgba(60, 64, 67, 0.3), 0px 1px 3px 1px rgba(60, 64, 67, 0.15);\n",
              "      fill: #174EA6;\n",
              "    }\n",
              "\n",
              "    [theme=dark] .colab-df-convert {\n",
              "      background-color: #3B4455;\n",
              "      fill: #D2E3FC;\n",
              "    }\n",
              "\n",
              "    [theme=dark] .colab-df-convert:hover {\n",
              "      background-color: #434B5C;\n",
              "      box-shadow: 0px 1px 3px 1px rgba(0, 0, 0, 0.15);\n",
              "      filter: drop-shadow(0px 1px 2px rgba(0, 0, 0, 0.3));\n",
              "      fill: #FFFFFF;\n",
              "    }\n",
              "  </style>\n",
              "\n",
              "      <script>\n",
              "        const buttonEl =\n",
              "          document.querySelector('#df-ebbdfe6c-413c-4518-a016-9544ecda559b button.colab-df-convert');\n",
              "        buttonEl.style.display =\n",
              "          google.colab.kernel.accessAllowed ? 'block' : 'none';\n",
              "\n",
              "        async function convertToInteractive(key) {\n",
              "          const element = document.querySelector('#df-ebbdfe6c-413c-4518-a016-9544ecda559b');\n",
              "          const dataTable =\n",
              "            await google.colab.kernel.invokeFunction('convertToInteractive',\n",
              "                                                     [key], {});\n",
              "          if (!dataTable) return;\n",
              "\n",
              "          const docLinkHtml = 'Like what you see? Visit the ' +\n",
              "            '<a target=\"_blank\" href=https://colab.research.google.com/notebooks/data_table.ipynb>data table notebook</a>'\n",
              "            + ' to learn more about interactive tables.';\n",
              "          element.innerHTML = '';\n",
              "          dataTable['output_type'] = 'display_data';\n",
              "          await google.colab.output.renderOutput(dataTable, element);\n",
              "          const docLink = document.createElement('div');\n",
              "          docLink.innerHTML = docLinkHtml;\n",
              "          element.appendChild(docLink);\n",
              "        }\n",
              "      </script>\n",
              "    </div>\n",
              "  </div>\n",
              "  "
            ],
            "text/plain": [
              "                                                   0  ...  58\n",
              "0  drive/MyDrive/DatabaseBackup/aedes/aegypti/JHU...  ... NaN\n",
              "1  drive/MyDrive/DatabaseBackup/anopheles/stephen...  ... NaN\n",
              "2  drive/MyDrive/DatabaseBackup/anopheles/freebor...  ... NaN\n",
              "3  drive/MyDrive/DatabaseBackup/anopheles/gambiae...  ... NaN\n",
              "4  drive/MyDrive/DatabaseBackup/culex/restuans/JH...  ... NaN\n",
              "\n",
              "[5 rows x 59 columns]"
            ]
          },
          "metadata": {},
          "execution_count": 9
        }
      ]
    },
    {
      "cell_type": "code",
      "source": [
        "from PIL import Image, ImageOps\n",
        "\n",
        "def seperate_df_and_label(df):\n",
        "    data_list = []\n",
        "    label_list = []\n",
        "    df_return = pd.DataFrame()\n",
        "    \n",
        "    for i in range(df.shape[0]):\n",
        "        for j in range(df.shape[1]):\n",
        "            if pd.isnull(df.iloc[i,j]) == False:\n",
        "                #img = Image.open(df.iloc[i,j])\n",
        "                #img = ImageOps.grayscale(img)\n",
        "                #df.iloc[i,j].endswith('m.jpg')\n",
        "                if  df.iloc[i,j].endswith('d.jpg'):\n",
        "                    data_list.append(df.iloc[i,j])\n",
        "                    if df.iloc[i,j].split(\"/\")[3] == \"anopheles\":\n",
        "                        if df.iloc[i,j].split(\"/\")[4] == \"gambiae\":\n",
        "                            label_list.append(0)\n",
        "                        elif df.iloc[i,j].split(\"/\")[4] == \"funestus\":\n",
        "                            label_list.append(1)\n",
        "                        else:\n",
        "                            label_list.append(2)\n",
        "                    elif df.iloc[i,j].split(\"/\")[3] == \"culex\":\n",
        "                        label_list.append(3)\n",
        "                    else:\n",
        "                        label_list.append(4)\n",
        "    df_return['path'] = data_list\n",
        "    df_return['label'] = label_list\n",
        "s\n",
        "    return df_return"
      ],
      "metadata": {
        "id": "suo8FBzfjcFO"
      },
      "execution_count": null,
      "outputs": []
    },
    {
      "cell_type": "code",
      "source": [
        "train_data_new= seperate_df_and_label(train_data)"
      ],
      "metadata": {
        "id": "nvFE4rD4sOdL"
      },
      "execution_count": null,
      "outputs": []
    },
    {
      "cell_type": "code",
      "source": [
        "train_data_new.to_csv('drive/MyDrive/pretrain_data_path/train2.csv', index = False)"
      ],
      "metadata": {
        "id": "jpOfdeDftIan"
      },
      "execution_count": null,
      "outputs": []
    },
    {
      "cell_type": "code",
      "source": [
        "test_data_new = seperate_df_and_label(test_data)"
      ],
      "metadata": {
        "id": "DThJWKaXsQ5n"
      },
      "execution_count": null,
      "outputs": []
    },
    {
      "cell_type": "code",
      "source": [
        "test_data_new"
      ],
      "metadata": {
        "colab": {
          "base_uri": "https://localhost:8080/",
          "height": 423
        },
        "id": "AG0xBsYzs_sz",
        "outputId": "53373c4b-4de3-4e0f-843e-f50aec9831d5"
      },
      "execution_count": null,
      "outputs": [
        {
          "output_type": "execute_result",
          "data": {
            "text/html": [
              "\n",
              "  <div id=\"df-29e1ba03-e77b-4d85-a320-95209a7d5ce5\">\n",
              "    <div class=\"colab-df-container\">\n",
              "      <div>\n",
              "<style scoped>\n",
              "    .dataframe tbody tr th:only-of-type {\n",
              "        vertical-align: middle;\n",
              "    }\n",
              "\n",
              "    .dataframe tbody tr th {\n",
              "        vertical-align: top;\n",
              "    }\n",
              "\n",
              "    .dataframe thead th {\n",
              "        text-align: right;\n",
              "    }\n",
              "</style>\n",
              "<table border=\"1\" class=\"dataframe\">\n",
              "  <thead>\n",
              "    <tr style=\"text-align: right;\">\n",
              "      <th></th>\n",
              "      <th>path</th>\n",
              "      <th>label</th>\n",
              "    </tr>\n",
              "  </thead>\n",
              "  <tbody>\n",
              "    <tr>\n",
              "      <th>0</th>\n",
              "      <td>drive/MyDrive/DatabaseBackup/anopheles/gambiae...</td>\n",
              "      <td>0</td>\n",
              "    </tr>\n",
              "    <tr>\n",
              "      <th>1</th>\n",
              "      <td>drive/MyDrive/DatabaseBackup/anopheles/gambiae...</td>\n",
              "      <td>0</td>\n",
              "    </tr>\n",
              "    <tr>\n",
              "      <th>2</th>\n",
              "      <td>drive/MyDrive/DatabaseBackup/anopheles/gambiae...</td>\n",
              "      <td>0</td>\n",
              "    </tr>\n",
              "    <tr>\n",
              "      <th>3</th>\n",
              "      <td>drive/MyDrive/DatabaseBackup/anopheles/gambiae...</td>\n",
              "      <td>0</td>\n",
              "    </tr>\n",
              "    <tr>\n",
              "      <th>4</th>\n",
              "      <td>drive/MyDrive/DatabaseBackup/anopheles/gambiae...</td>\n",
              "      <td>0</td>\n",
              "    </tr>\n",
              "    <tr>\n",
              "      <th>...</th>\n",
              "      <td>...</td>\n",
              "      <td>...</td>\n",
              "    </tr>\n",
              "    <tr>\n",
              "      <th>2345</th>\n",
              "      <td>drive/MyDrive/DatabaseBackup/aedes/flavescens/...</td>\n",
              "      <td>4</td>\n",
              "    </tr>\n",
              "    <tr>\n",
              "      <th>2346</th>\n",
              "      <td>drive/MyDrive/DatabaseBackup/culex/quinquefasc...</td>\n",
              "      <td>3</td>\n",
              "    </tr>\n",
              "    <tr>\n",
              "      <th>2347</th>\n",
              "      <td>drive/MyDrive/DatabaseBackup/culex/quinquefasc...</td>\n",
              "      <td>3</td>\n",
              "    </tr>\n",
              "    <tr>\n",
              "      <th>2348</th>\n",
              "      <td>drive/MyDrive/DatabaseBackup/culex/quinquefasc...</td>\n",
              "      <td>3</td>\n",
              "    </tr>\n",
              "    <tr>\n",
              "      <th>2349</th>\n",
              "      <td>drive/MyDrive/DatabaseBackup/culex/quinquefasc...</td>\n",
              "      <td>3</td>\n",
              "    </tr>\n",
              "  </tbody>\n",
              "</table>\n",
              "<p>2350 rows × 2 columns</p>\n",
              "</div>\n",
              "      <button class=\"colab-df-convert\" onclick=\"convertToInteractive('df-29e1ba03-e77b-4d85-a320-95209a7d5ce5')\"\n",
              "              title=\"Convert this dataframe to an interactive table.\"\n",
              "              style=\"display:none;\">\n",
              "        \n",
              "  <svg xmlns=\"http://www.w3.org/2000/svg\" height=\"24px\"viewBox=\"0 0 24 24\"\n",
              "       width=\"24px\">\n",
              "    <path d=\"M0 0h24v24H0V0z\" fill=\"none\"/>\n",
              "    <path d=\"M18.56 5.44l.94 2.06.94-2.06 2.06-.94-2.06-.94-.94-2.06-.94 2.06-2.06.94zm-11 1L8.5 8.5l.94-2.06 2.06-.94-2.06-.94L8.5 2.5l-.94 2.06-2.06.94zm10 10l.94 2.06.94-2.06 2.06-.94-2.06-.94-.94-2.06-.94 2.06-2.06.94z\"/><path d=\"M17.41 7.96l-1.37-1.37c-.4-.4-.92-.59-1.43-.59-.52 0-1.04.2-1.43.59L10.3 9.45l-7.72 7.72c-.78.78-.78 2.05 0 2.83L4 21.41c.39.39.9.59 1.41.59.51 0 1.02-.2 1.41-.59l7.78-7.78 2.81-2.81c.8-.78.8-2.07 0-2.86zM5.41 20L4 18.59l7.72-7.72 1.47 1.35L5.41 20z\"/>\n",
              "  </svg>\n",
              "      </button>\n",
              "      \n",
              "  <style>\n",
              "    .colab-df-container {\n",
              "      display:flex;\n",
              "      flex-wrap:wrap;\n",
              "      gap: 12px;\n",
              "    }\n",
              "\n",
              "    .colab-df-convert {\n",
              "      background-color: #E8F0FE;\n",
              "      border: none;\n",
              "      border-radius: 50%;\n",
              "      cursor: pointer;\n",
              "      display: none;\n",
              "      fill: #1967D2;\n",
              "      height: 32px;\n",
              "      padding: 0 0 0 0;\n",
              "      width: 32px;\n",
              "    }\n",
              "\n",
              "    .colab-df-convert:hover {\n",
              "      background-color: #E2EBFA;\n",
              "      box-shadow: 0px 1px 2px rgba(60, 64, 67, 0.3), 0px 1px 3px 1px rgba(60, 64, 67, 0.15);\n",
              "      fill: #174EA6;\n",
              "    }\n",
              "\n",
              "    [theme=dark] .colab-df-convert {\n",
              "      background-color: #3B4455;\n",
              "      fill: #D2E3FC;\n",
              "    }\n",
              "\n",
              "    [theme=dark] .colab-df-convert:hover {\n",
              "      background-color: #434B5C;\n",
              "      box-shadow: 0px 1px 3px 1px rgba(0, 0, 0, 0.15);\n",
              "      filter: drop-shadow(0px 1px 2px rgba(0, 0, 0, 0.3));\n",
              "      fill: #FFFFFF;\n",
              "    }\n",
              "  </style>\n",
              "\n",
              "      <script>\n",
              "        const buttonEl =\n",
              "          document.querySelector('#df-29e1ba03-e77b-4d85-a320-95209a7d5ce5 button.colab-df-convert');\n",
              "        buttonEl.style.display =\n",
              "          google.colab.kernel.accessAllowed ? 'block' : 'none';\n",
              "\n",
              "        async function convertToInteractive(key) {\n",
              "          const element = document.querySelector('#df-29e1ba03-e77b-4d85-a320-95209a7d5ce5');\n",
              "          const dataTable =\n",
              "            await google.colab.kernel.invokeFunction('convertToInteractive',\n",
              "                                                     [key], {});\n",
              "          if (!dataTable) return;\n",
              "\n",
              "          const docLinkHtml = 'Like what you see? Visit the ' +\n",
              "            '<a target=\"_blank\" href=https://colab.research.google.com/notebooks/data_table.ipynb>data table notebook</a>'\n",
              "            + ' to learn more about interactive tables.';\n",
              "          element.innerHTML = '';\n",
              "          dataTable['output_type'] = 'display_data';\n",
              "          await google.colab.output.renderOutput(dataTable, element);\n",
              "          const docLink = document.createElement('div');\n",
              "          docLink.innerHTML = docLinkHtml;\n",
              "          element.appendChild(docLink);\n",
              "        }\n",
              "      </script>\n",
              "    </div>\n",
              "  </div>\n",
              "  "
            ],
            "text/plain": [
              "                                                   path  label\n",
              "0     drive/MyDrive/DatabaseBackup/anopheles/gambiae...      0\n",
              "1     drive/MyDrive/DatabaseBackup/anopheles/gambiae...      0\n",
              "2     drive/MyDrive/DatabaseBackup/anopheles/gambiae...      0\n",
              "3     drive/MyDrive/DatabaseBackup/anopheles/gambiae...      0\n",
              "4     drive/MyDrive/DatabaseBackup/anopheles/gambiae...      0\n",
              "...                                                 ...    ...\n",
              "2345  drive/MyDrive/DatabaseBackup/aedes/flavescens/...      4\n",
              "2346  drive/MyDrive/DatabaseBackup/culex/quinquefasc...      3\n",
              "2347  drive/MyDrive/DatabaseBackup/culex/quinquefasc...      3\n",
              "2348  drive/MyDrive/DatabaseBackup/culex/quinquefasc...      3\n",
              "2349  drive/MyDrive/DatabaseBackup/culex/quinquefasc...      3\n",
              "\n",
              "[2350 rows x 2 columns]"
            ]
          },
          "metadata": {},
          "execution_count": 20
        }
      ]
    },
    {
      "cell_type": "code",
      "source": [
        "test_data_new.to_csv('drive/MyDrive/pretrain_data_path/test2.csv', index = False)"
      ],
      "metadata": {
        "id": "Kf36oh07tNk1"
      },
      "execution_count": null,
      "outputs": []
    },
    {
      "cell_type": "code",
      "source": [
        ""
      ],
      "metadata": {
        "id": "eh7tDjiltTEo"
      },
      "execution_count": null,
      "outputs": []
    },
    {
      "cell_type": "markdown",
      "source": [
        "# Train and test"
      ],
      "metadata": {
        "id": "RVS49HaetVgF"
      }
    },
    {
      "cell_type": "code",
      "source": [
        "# if need to read train and test datapath \n",
        "train_df = pd.read_csv('drive/MyDrive/pretrain_data_path/train2.csv')\n",
        "test_df = pd.read_csv('drive/MyDrive/pretrain_data_path/test2.csv')"
      ],
      "metadata": {
        "id": "xL5_u5nNtaHT"
      },
      "execution_count": null,
      "outputs": []
    },
    {
      "cell_type": "code",
      "source": [
        "print(train_df.shape)\n",
        "print(test_df.shape)"
      ],
      "metadata": {
        "colab": {
          "base_uri": "https://localhost:8080/"
        },
        "id": "IM4xE133wK4Y",
        "outputId": "a4aa80de-aa1a-475e-e5c4-214496a56313"
      },
      "execution_count": null,
      "outputs": [
        {
          "output_type": "stream",
          "name": "stdout",
          "text": [
            "(9551, 2)\n",
            "(2350, 2)\n"
          ]
        }
      ]
    },
    {
      "cell_type": "code",
      "source": [
        "from PIL import Image\n",
        "from torch.utils.data import Dataset\n",
        "class MosquitoDataset(Dataset):\n",
        "    def __init__(self, data_df, transform=None):\n",
        "        \n",
        "        self.transform = transform\n",
        "        data_df.sample(frac = 1).reset_index(inplace=True, drop=True)\n",
        "        # shuffle the paths\n",
        "        self.data_df = data_df\n",
        "\n",
        "    def __len__(self):\n",
        "        return self.data_df.shape[0]\n",
        "\n",
        "    def __getitem__(self, idx):\n",
        "        \n",
        "        img_path = self.data_df.loc[idx,'path']\n",
        "        #image = cv2.imread(img_path)\n",
        "        #image = cv2.cvtColor(image, cv2.COLOR_BGR2RGB)\n",
        "        image = Image.open(img_path)\n",
        "\n",
        "        label = self.data_df.loc[idx,'label']\n",
        "\n",
        "        if self.transform:\n",
        "            image = self.transform(image)\n",
        "        \n",
        "        return image, label"
      ],
      "metadata": {
        "id": "r9gYoTLiuZDD"
      },
      "execution_count": null,
      "outputs": []
    },
    {
      "cell_type": "code",
      "source": [
        "from torchvision import transforms\n",
        "mosquito_transforms = transforms.Compose([\n",
        "    #transforms.ToPILImage(),\n",
        "    transforms.Resize([299,299]),\n",
        "    transforms.ToTensor(),\n",
        "    transforms.Normalize((0.485, 0.456, 0.406), (0.229, 0.224, 0.225))\n",
        "])"
      ],
      "metadata": {
        "id": "zuYADIOtuZdC"
      },
      "execution_count": null,
      "outputs": []
    },
    {
      "cell_type": "code",
      "source": [
        "train_dataset = MosquitoDataset(train_df, mosquito_transforms)\n",
        "test_dataset = MosquitoDataset(test_df, mosquito_transforms)"
      ],
      "metadata": {
        "id": "wwMmgUysuZYf"
      },
      "execution_count": null,
      "outputs": []
    },
    {
      "cell_type": "code",
      "source": [
        "train_dataset[1]"
      ],
      "metadata": {
        "colab": {
          "base_uri": "https://localhost:8080/"
        },
        "id": "spTh6reTuZTx",
        "outputId": "5d2a8cce-8328-4bcb-9047-79e7fd91808d"
      },
      "execution_count": null,
      "outputs": [
        {
          "output_type": "execute_result",
          "data": {
            "text/plain": [
              "(tensor([[[-1.4329, -1.3987, -1.3815,  ..., -0.7479, -0.7479, -0.7993],\n",
              "          [-1.3987, -1.3987, -1.3815,  ..., -0.7137, -0.7137, -0.7822],\n",
              "          [-1.3644, -1.3644, -1.3473,  ..., -0.7137, -0.7479, -0.8507],\n",
              "          ...,\n",
              "          [ 0.3138,  0.3481,  0.3823,  ...,  0.2282,  0.2111,  0.2111],\n",
              "          [ 0.3138,  0.3481,  0.3823,  ...,  0.2282,  0.2111,  0.2282],\n",
              "          [ 0.3138,  0.3481,  0.3823,  ...,  0.2111,  0.2282,  0.2453]],\n",
              " \n",
              "         [[-1.3529, -1.3529, -1.3704,  ..., -0.9328, -0.9328, -0.9853],\n",
              "          [-1.3529, -1.3529, -1.3704,  ..., -0.8978, -0.8978, -0.9678],\n",
              "          [-1.3529, -1.3529, -1.3529,  ..., -0.8978, -0.9328, -1.0378],\n",
              "          ...,\n",
              "          [ 0.2052,  0.2402,  0.2927,  ...,  0.0651,  0.0476,  0.0476],\n",
              "          [ 0.2052,  0.2402,  0.2927,  ...,  0.0651,  0.0476,  0.0651],\n",
              "          [ 0.2052,  0.2402,  0.2927,  ...,  0.0476,  0.0651,  0.0826]],\n",
              " \n",
              "         [[-1.2119, -1.2119, -1.2119,  ..., -0.5321, -0.5321, -0.5844],\n",
              "          [-1.2119, -1.2119, -1.2119,  ..., -0.4973, -0.4973, -0.5670],\n",
              "          [-1.1944, -1.1944, -1.1944,  ..., -0.4973, -0.5321, -0.6367],\n",
              "          ...,\n",
              "          [ 0.6879,  0.7228,  0.7751,  ...,  0.6182,  0.6008,  0.6008],\n",
              "          [ 0.6879,  0.7228,  0.7751,  ...,  0.6182,  0.6008,  0.6182],\n",
              "          [ 0.6879,  0.7228,  0.7751,  ...,  0.6008,  0.6182,  0.6356]]]), 4)"
            ]
          },
          "metadata": {},
          "execution_count": 7
        }
      ]
    },
    {
      "cell_type": "code",
      "source": [
        "im = train_dataset[7][0]\n",
        "plt.imshow(im.permute(1, 2, 0))"
      ],
      "metadata": {
        "colab": {
          "base_uri": "https://localhost:8080/",
          "height": 304
        },
        "id": "gR_wag33uZQN",
        "outputId": "29e76961-7323-45a7-f293-99f0f80fa174"
      },
      "execution_count": null,
      "outputs": [
        {
          "output_type": "stream",
          "name": "stderr",
          "text": [
            "Clipping input data to the valid range for imshow with RGB data ([0..1] for floats or [0..255] for integers).\n"
          ]
        },
        {
          "output_type": "execute_result",
          "data": {
            "text/plain": [
              "<matplotlib.image.AxesImage at 0x7f7ba21948d0>"
            ]
          },
          "metadata": {},
          "execution_count": 7
        },
        {
          "output_type": "display_data",
          "data": {
            "image/png": "[encoded data removed]",
            "text/plain": [
              "<Figure size 432x288 with 1 Axes>"
            ]
          },
          "metadata": {
            "needs_background": "light"
          }
        }
      ]
    },
    {
      "cell_type": "code",
      "source": [
        "from torch.utils.data import DataLoader,WeightedRandomSampler\n",
        "\n",
        "target_list = torch.tensor(train_df['label'])\n",
        "print(target_list.shape)\n",
        "class_count = np.array([len(np.where(target_list == t)[0]) for t in np.unique(target_list)])\n",
        "print(class_count)\n",
        "class_weights = 1./torch.tensor(class_count, dtype=torch.float)\n",
        "print(class_weights)\n",
        "class_weights_all = class_weights[target_list]\n",
        "print(class_weights_all.shape)\n",
        "weighted_sampler = WeightedRandomSampler(\n",
        "    weights=class_weights_all,\n",
        "    num_samples=len(class_weights_all)\n",
        "    )"
      ],
      "metadata": {
        "colab": {
          "base_uri": "https://localhost:8080/"
        },
        "id": "YecpAqPduZGy",
        "outputId": "920d7bfe-3ef2-4082-ec89-c2a26dbb0b32"
      },
      "execution_count": null,
      "outputs": [
        {
          "output_type": "stream",
          "name": "stdout",
          "text": [
            "torch.Size([9551])\n",
            "[1187  806 2181 2770 2607]\n",
            "tensor([0.0008, 0.0012, 0.0005, 0.0004, 0.0004])\n",
            "torch.Size([9551])\n"
          ]
        }
      ]
    },
    {
      "cell_type": "code",
      "source": [
        "train_dataloader = DataLoader(train_dataset, sampler=weighted_sampler, batch_size=100)\n",
        "#valid_dataloader = DataLoader(valid_dataset ,batch_size=32, shuffle=False)\n",
        "test_dataloader = DataLoader(test_dataset, batch_size=100)"
      ],
      "metadata": {
        "id": "s4xRju7gwC6T"
      },
      "execution_count": null,
      "outputs": []
    },
    {
      "cell_type": "code",
      "source": [
        "if torch.cuda.is_available():\n",
        "    device = torch.device(\"cuda:0\")\n",
        "    print (\"running on the GPU\")\n",
        "else:\n",
        "    device = torch.device(\"cpu\")\n",
        "    print (\"running on the cpu\")"
      ],
      "metadata": {
        "colab": {
          "base_uri": "https://localhost:8080/"
        },
        "id": "axIkRAjwwC1K",
        "outputId": "77c12bdb-f5b2-48f6-f6a6-a7bb5b050749"
      },
      "execution_count": null,
      "outputs": [
        {
          "output_type": "stream",
          "name": "stdout",
          "text": [
            "running on the GPU\n"
          ]
        }
      ]
    },
    {
      "cell_type": "code",
      "source": [
        "from torchvision import models\n",
        "model = models.resnet34(pretrained=True)\n",
        "num_ftrs = model.fc.in_features\n",
        "model.fc = nn.Linear(num_ftrs, 5)\n",
        "model = model.to(device)"
      ],
      "metadata": {
        "colab": {
          "base_uri": "https://localhost:8080/",
          "height": 86,
          "referenced_widgets": [
            "7ae37b7f92a9410889aab6d794391fce",
            "51e6fe01ce3246dd89fcd4ba3f27c4b2",
            "8b0ffcdfd8844dffbc775b4fcf1d9f42",
            "958299425a9145bd92276b58d25ef1ea",
            "4a219c09a86149fd88cd1b1e930fef18",
            "834022f5c9e34523b413dfc742ab2310",
            "0e386922a7f14713a23ec2203cc12438",
            "8046b50209e3486288301a26aeb3402d",
            "0a28904db58a43a0ab3c161984d8e216",
            "496a66fe76c445f6b7fc230c9edee568",
            "15ef117791fc40ceae8e395a267e1b0d"
          ]
        },
        "id": "42AMHmC3wCuE",
        "outputId": "2ed834f3-9b40-4f0e-baf1-081a1a927e3a"
      },
      "execution_count": null,
      "outputs": [
        {
          "output_type": "stream",
          "name": "stderr",
          "text": [
            "Downloading: \"https://download.pytorch.org/models/resnet34-b627a593.pth\" to /root/.cache/torch/hub/checkpoints/resnet34-b627a593.pth\n"
          ]
        },
        {
          "output_type": "display_data",
          "data": {
            "application/vnd.jupyter.widget-view+json": {
              "model_id": "7ae37b7f92a9410889aab6d794391fce",
              "version_minor": 0,
              "version_major": 2
            },
            "text/plain": [
              "  0%|          | 0.00/83.3M [00:00<?, ?B/s]"
            ]
          },
          "metadata": {}
        }
      ]
    },
    {
      "cell_type": "code",
      "source": [
        "from torchvision import models\n",
        "model = models.inception_v3(pretrained=True)\n",
        "model.fc = nn.Linear(2048, 5)\n",
        "model.AuxLogits.fc = nn.Linear(768, 5)\n",
        "model = model.to(device)"
      ],
      "metadata": {
        "id": "nXdIIvpm2UUo"
      },
      "execution_count": null,
      "outputs": []
    },
    {
      "cell_type": "code",
      "source": [
        "from torchvision import models\n",
        "model = models.inception_v3(pretrained=True)\n",
        "model.fc = nn.Linear(2048, 5)\n",
        "model.AuxLogits.fc = nn.Linear(768, 5)\n",
        "model.load_state_dict(torch.load('drive/MyDrive/pretrain_data_path/pretrain_Inception1.pt'))\n",
        "model = model.to(device)"
      ],
      "metadata": {
        "id": "HF8wafpDlXJb"
      },
      "execution_count": null,
      "outputs": []
    },
    {
      "cell_type": "code",
      "source": [
        "EPOCHS = 7\n",
        "criterion = nn.CrossEntropyLoss()\n",
        "#optimizer = optim.SGD(model.parameters(), lr=0.001, weight_decay = 1e-4)\n",
        "#scheduler = torch.optim.lr_scheduler.StepLR(optimizer, step_size=50, gamma=0.15)\n",
        "optimizer = optim.Adam(model.parameters(),lr = 1e-4, weight_decay = 1e-4)\n",
        "#optimizer = optim.Adam(net.parameters(), lr = 1e-6, weight_decay = 1e-4)"
      ],
      "metadata": {
        "id": "M6ncCqx1w06P"
      },
      "execution_count": null,
      "outputs": []
    },
    {
      "cell_type": "markdown",
      "source": [
        ""
      ],
      "metadata": {
        "id": "V2NJ5eq02Rjm"
      }
    },
    {
      "cell_type": "code",
      "source": [
        "def train(model):\n",
        "    train_loss = []\n",
        "    valid_loss = []\n",
        "    train_acc = []\n",
        "    valid_acc = []\n",
        "\n",
        "    for epoch in range (EPOCHS+1):\n",
        "\n",
        "        correct = 0\n",
        "        total = 0\n",
        "        train_ave_loss = 0\n",
        "        model.train()\n",
        "        for batch_X, batch_Y in train_dataloader:\n",
        "            \n",
        "            batch_X = batch_X.to(device)\n",
        "            batch_Y = batch_Y.to(device)\n",
        "\n",
        "            # zero gradient\n",
        "            optimizer.zero_grad()\n",
        "            # pass through\n",
        "            outputs, aux_outputs = model(batch_X)\n",
        "          \n",
        "            \n",
        "            # compute loss and back propagate\n",
        "            loss1 = criterion(outputs, batch_Y)\n",
        "            loss2 = criterion(aux_outputs, batch_Y)\n",
        "            loss = loss1 + 0.4 * loss2\n",
        "            \n",
        "            loss.backward()\n",
        "            # optimize\n",
        "            optimizer.step()\n",
        "            \n",
        "            train_ave_loss += loss.data.item()\n",
        "            _, predicted = outputs.max(1)\n",
        "            total += batch_Y.size(0)\n",
        "            correct += predicted.eq(batch_Y).sum().item()\n",
        "            \n",
        "        \n",
        "        train_loss.append(train_ave_loss/len(train_dataloader))\n",
        "        train_acc.append(100.*correct/total)\n",
        "        print(f\"Epoch: {epoch},Train Loss: {train_ave_loss/len(train_dataloader)} | Train Acc: {100.*correct/total} ({correct}/{total})\")\n",
        "    \n",
        "        if epoch % 1 == 0:\n",
        "        \n",
        "            model.eval()\n",
        "            valid_correct = 0\n",
        "            valid_total = 0\n",
        "            valid_ave_loss = 0\n",
        "            with torch.no_grad():\n",
        "\n",
        "                for valid_batch_X, valid_batch_Y in test_dataloader:\n",
        "                    \n",
        "                    valid_batch_X = valid_batch_X.to(device)\n",
        "                    valid_batch_Y = valid_batch_Y.to(device)\n",
        "            \n",
        "                    valid_outputs = model(valid_batch_X)\n",
        "                    loss = criterion(valid_outputs, valid_batch_Y)\n",
        "                    valid_ave_loss += loss.data.item()\n",
        "        \n",
        "                    _, predicted = valid_outputs.max(1)\n",
        "\n",
        "                    valid_correct += predicted.eq(valid_batch_Y).sum().item()\n",
        "                    valid_total += valid_batch_Y.size(0)\n",
        "                    \n",
        "            valid_loss.append(valid_ave_loss/len(test_dataloader))\n",
        "            valid_acc.append(100.*valid_correct/valid_total)\n",
        "    \n",
        "            print(f\"Validation Loss: {valid_ave_loss/len(test_dataloader)} | Validation Acc: {100.*valid_correct/valid_total} ({valid_correct}/{valid_total})\")\n",
        "            torch.save(model.state_dict(), \\\n",
        "               'drive/MyDrive/pretrain_data_path/pretrain_Inception{}.pt'.format(str(epoch//1+2)))\n",
        "        \n",
        "        #scheduler.step()\n",
        "        \n",
        "    return train_loss, valid_loss, train_acc, valid_acc\n",
        "\n",
        "        \n",
        "def test(model):\n",
        "    correct = 0 \n",
        "    total = 0\n",
        "    model.eval()\n",
        "    out = []\n",
        "    with torch.no_grad():\n",
        "        for inputs, labels in test_dataloader:\n",
        "            \n",
        "            inputs = inputs.to(device)\n",
        "            labels = labels.to(device)\n",
        "            \n",
        "            outputs = model(inputs)\n",
        "            #loss = criterion(outputs, test_y[i].to(device).long())\n",
        "            _, predicted = outputs.max(1)\n",
        "            out.append(predicted.cpu().detach().numpy())\n",
        "\n",
        "            correct += predicted.eq(labels).sum().item()\n",
        "            total += labels.size(0)\n",
        "    \n",
        "    print(\"Accuracy:\", round(correct/total, 3))\n",
        "    return out"
      ],
      "metadata": {
        "id": "ttt-sqzow01h"
      },
      "execution_count": null,
      "outputs": []
    },
    {
      "cell_type": "code",
      "source": [
        "train_loss, valid_loss, train_acc, valid_acc = train(model)"
      ],
      "metadata": {
        "colab": {
          "base_uri": "https://localhost:8080/",
          "height": 518
        },
        "id": "BvDe8To3xhKd",
        "outputId": "2a5e97dc-c46a-4ace-cb3f-585e038eb24f"
      },
      "execution_count": null,
      "outputs": [
        {
          "output_type": "stream",
          "name": "stdout",
          "text": [
            "Epoch: 0,Train Loss: 0.06832043469573061 | Train Acc: 98.41901371584127 (9400/9551)\n",
            "Validation Loss: 0.5379417672132453 | Validation Acc: 85.19148936170212 (2002/2350)\n",
            "Epoch: 1,Train Loss: 0.0417702259340634 | Train Acc: 99.15192126478902 (9470/9551)\n",
            "Validation Loss: 0.5701862725739678 | Validation Acc: 86.08510638297872 (2023/2350)\n",
            "Epoch: 2,Train Loss: 0.025501446648074005 | Train Acc: 99.43461417652601 (9497/9551)\n",
            "Validation Loss: 0.48406704685961205 | Validation Acc: 88.08510638297872 (2070/2350)\n",
            "Epoch: 3,Train Loss: 0.0224016241869928 | Train Acc: 99.53931525494713 (9507/9551)\n",
            "Validation Loss: 0.5295262423654398 | Validation Acc: 87.82978723404256 (2064/2350)\n",
            "Epoch: 4,Train Loss: 0.015235234597639646 | Train Acc: 99.69636687257879 (9522/9551)\n",
            "Validation Loss: 0.5915184059801201 | Validation Acc: 86.68085106382979 (2037/2350)\n",
            "Epoch: 5,Train Loss: 0.03749884818413799 | Train Acc: 99.17286148047324 (9472/9551)\n",
            "Validation Loss: 0.6530865274059275 | Validation Acc: 84.93617021276596 (1996/2350)\n"
          ]
        },
        {
          "output_type": "error",
          "ename": "KeyboardInterrupt",
          "evalue": "ignored",
          "traceback": [
            "\u001b[0;31m---------------------------------------------------------------------------\u001b[0m",
            "\u001b[0;31mKeyboardInterrupt\u001b[0m                         Traceback (most recent call last)",
            "\u001b[0;32m<ipython-input-17-75ec426b3a83>\u001b[0m in \u001b[0;36m<module>\u001b[0;34m()\u001b[0m\n\u001b[0;32m----> 1\u001b[0;31m \u001b[0mtrain_loss\u001b[0m\u001b[0;34m,\u001b[0m \u001b[0mvalid_loss\u001b[0m\u001b[0;34m,\u001b[0m \u001b[0mtrain_acc\u001b[0m\u001b[0;34m,\u001b[0m \u001b[0mvalid_acc\u001b[0m \u001b[0;34m=\u001b[0m \u001b[0mtrain\u001b[0m\u001b[0;34m(\u001b[0m\u001b[0mmodel\u001b[0m\u001b[0;34m)\u001b[0m\u001b[0;34m\u001b[0m\u001b[0;34m\u001b[0m\u001b[0m\n\u001b[0m",
            "\u001b[0;32m<ipython-input-13-3132aca77a33>\u001b[0m in \u001b[0;36mtrain\u001b[0;34m(model)\u001b[0m\n\u001b[1;32m     11\u001b[0m         \u001b[0mtrain_ave_loss\u001b[0m \u001b[0;34m=\u001b[0m \u001b[0;36m0\u001b[0m\u001b[0;34m\u001b[0m\u001b[0;34m\u001b[0m\u001b[0m\n\u001b[1;32m     12\u001b[0m         \u001b[0mmodel\u001b[0m\u001b[0;34m.\u001b[0m\u001b[0mtrain\u001b[0m\u001b[0;34m(\u001b[0m\u001b[0;34m)\u001b[0m\u001b[0;34m\u001b[0m\u001b[0;34m\u001b[0m\u001b[0m\n\u001b[0;32m---> 13\u001b[0;31m         \u001b[0;32mfor\u001b[0m \u001b[0mbatch_X\u001b[0m\u001b[0;34m,\u001b[0m \u001b[0mbatch_Y\u001b[0m \u001b[0;32min\u001b[0m \u001b[0mtrain_dataloader\u001b[0m\u001b[0;34m:\u001b[0m\u001b[0;34m\u001b[0m\u001b[0;34m\u001b[0m\u001b[0m\n\u001b[0m\u001b[1;32m     14\u001b[0m \u001b[0;34m\u001b[0m\u001b[0m\n\u001b[1;32m     15\u001b[0m             \u001b[0mbatch_X\u001b[0m \u001b[0;34m=\u001b[0m \u001b[0mbatch_X\u001b[0m\u001b[0;34m.\u001b[0m\u001b[0mto\u001b[0m\u001b[0;34m(\u001b[0m\u001b[0mdevice\u001b[0m\u001b[0;34m)\u001b[0m\u001b[0;34m\u001b[0m\u001b[0;34m\u001b[0m\u001b[0m\n",
            "\u001b[0;32m/usr/local/lib/python3.7/dist-packages/torch/utils/data/dataloader.py\u001b[0m in \u001b[0;36m__next__\u001b[0;34m(self)\u001b[0m\n\u001b[1;32m    519\u001b[0m             \u001b[0;32mif\u001b[0m \u001b[0mself\u001b[0m\u001b[0;34m.\u001b[0m\u001b[0m_sampler_iter\u001b[0m \u001b[0;32mis\u001b[0m \u001b[0;32mNone\u001b[0m\u001b[0;34m:\u001b[0m\u001b[0;34m\u001b[0m\u001b[0;34m\u001b[0m\u001b[0m\n\u001b[1;32m    520\u001b[0m                 \u001b[0mself\u001b[0m\u001b[0;34m.\u001b[0m\u001b[0m_reset\u001b[0m\u001b[0;34m(\u001b[0m\u001b[0;34m)\u001b[0m\u001b[0;34m\u001b[0m\u001b[0;34m\u001b[0m\u001b[0m\n\u001b[0;32m--> 521\u001b[0;31m             \u001b[0mdata\u001b[0m \u001b[0;34m=\u001b[0m \u001b[0mself\u001b[0m\u001b[0;34m.\u001b[0m\u001b[0m_next_data\u001b[0m\u001b[0;34m(\u001b[0m\u001b[0;34m)\u001b[0m\u001b[0;34m\u001b[0m\u001b[0;34m\u001b[0m\u001b[0m\n\u001b[0m\u001b[1;32m    522\u001b[0m             \u001b[0mself\u001b[0m\u001b[0;34m.\u001b[0m\u001b[0m_num_yielded\u001b[0m \u001b[0;34m+=\u001b[0m \u001b[0;36m1\u001b[0m\u001b[0;34m\u001b[0m\u001b[0;34m\u001b[0m\u001b[0m\n\u001b[1;32m    523\u001b[0m             \u001b[0;32mif\u001b[0m \u001b[0mself\u001b[0m\u001b[0;34m.\u001b[0m\u001b[0m_dataset_kind\u001b[0m \u001b[0;34m==\u001b[0m \u001b[0m_DatasetKind\u001b[0m\u001b[0;34m.\u001b[0m\u001b[0mIterable\u001b[0m \u001b[0;32mand\u001b[0m\u001b[0;31m \u001b[0m\u001b[0;31m\\\u001b[0m\u001b[0;34m\u001b[0m\u001b[0;34m\u001b[0m\u001b[0m\n",
            "\u001b[0;32m/usr/local/lib/python3.7/dist-packages/torch/utils/data/dataloader.py\u001b[0m in \u001b[0;36m_next_data\u001b[0;34m(self)\u001b[0m\n\u001b[1;32m    559\u001b[0m     \u001b[0;32mdef\u001b[0m \u001b[0m_next_data\u001b[0m\u001b[0;34m(\u001b[0m\u001b[0mself\u001b[0m\u001b[0;34m)\u001b[0m\u001b[0;34m:\u001b[0m\u001b[0;34m\u001b[0m\u001b[0;34m\u001b[0m\u001b[0m\n\u001b[1;32m    560\u001b[0m         \u001b[0mindex\u001b[0m \u001b[0;34m=\u001b[0m \u001b[0mself\u001b[0m\u001b[0;34m.\u001b[0m\u001b[0m_next_index\u001b[0m\u001b[0;34m(\u001b[0m\u001b[0;34m)\u001b[0m  \u001b[0;31m# may raise StopIteration\u001b[0m\u001b[0;34m\u001b[0m\u001b[0;34m\u001b[0m\u001b[0m\n\u001b[0;32m--> 561\u001b[0;31m         \u001b[0mdata\u001b[0m \u001b[0;34m=\u001b[0m \u001b[0mself\u001b[0m\u001b[0;34m.\u001b[0m\u001b[0m_dataset_fetcher\u001b[0m\u001b[0;34m.\u001b[0m\u001b[0mfetch\u001b[0m\u001b[0;34m(\u001b[0m\u001b[0mindex\u001b[0m\u001b[0;34m)\u001b[0m  \u001b[0;31m# may raise StopIteration\u001b[0m\u001b[0;34m\u001b[0m\u001b[0;34m\u001b[0m\u001b[0m\n\u001b[0m\u001b[1;32m    562\u001b[0m         \u001b[0;32mif\u001b[0m \u001b[0mself\u001b[0m\u001b[0;34m.\u001b[0m\u001b[0m_pin_memory\u001b[0m\u001b[0;34m:\u001b[0m\u001b[0;34m\u001b[0m\u001b[0;34m\u001b[0m\u001b[0m\n\u001b[1;32m    563\u001b[0m             \u001b[0mdata\u001b[0m \u001b[0;34m=\u001b[0m \u001b[0m_utils\u001b[0m\u001b[0;34m.\u001b[0m\u001b[0mpin_memory\u001b[0m\u001b[0;34m.\u001b[0m\u001b[0mpin_memory\u001b[0m\u001b[0;34m(\u001b[0m\u001b[0mdata\u001b[0m\u001b[0;34m)\u001b[0m\u001b[0;34m\u001b[0m\u001b[0;34m\u001b[0m\u001b[0m\n",
            "\u001b[0;32m/usr/local/lib/python3.7/dist-packages/torch/utils/data/_utils/fetch.py\u001b[0m in \u001b[0;36mfetch\u001b[0;34m(self, possibly_batched_index)\u001b[0m\n\u001b[1;32m     47\u001b[0m     \u001b[0;32mdef\u001b[0m \u001b[0mfetch\u001b[0m\u001b[0;34m(\u001b[0m\u001b[0mself\u001b[0m\u001b[0;34m,\u001b[0m \u001b[0mpossibly_batched_index\u001b[0m\u001b[0;34m)\u001b[0m\u001b[0;34m:\u001b[0m\u001b[0;34m\u001b[0m\u001b[0;34m\u001b[0m\u001b[0m\n\u001b[1;32m     48\u001b[0m         \u001b[0;32mif\u001b[0m \u001b[0mself\u001b[0m\u001b[0;34m.\u001b[0m\u001b[0mauto_collation\u001b[0m\u001b[0;34m:\u001b[0m\u001b[0;34m\u001b[0m\u001b[0;34m\u001b[0m\u001b[0m\n\u001b[0;32m---> 49\u001b[0;31m             \u001b[0mdata\u001b[0m \u001b[0;34m=\u001b[0m \u001b[0;34m[\u001b[0m\u001b[0mself\u001b[0m\u001b[0;34m.\u001b[0m\u001b[0mdataset\u001b[0m\u001b[0;34m[\u001b[0m\u001b[0midx\u001b[0m\u001b[0;34m]\u001b[0m \u001b[0;32mfor\u001b[0m \u001b[0midx\u001b[0m \u001b[0;32min\u001b[0m \u001b[0mpossibly_batched_index\u001b[0m\u001b[0;34m]\u001b[0m\u001b[0;34m\u001b[0m\u001b[0;34m\u001b[0m\u001b[0m\n\u001b[0m\u001b[1;32m     50\u001b[0m         \u001b[0;32melse\u001b[0m\u001b[0;34m:\u001b[0m\u001b[0;34m\u001b[0m\u001b[0;34m\u001b[0m\u001b[0m\n\u001b[1;32m     51\u001b[0m             \u001b[0mdata\u001b[0m \u001b[0;34m=\u001b[0m \u001b[0mself\u001b[0m\u001b[0;34m.\u001b[0m\u001b[0mdataset\u001b[0m\u001b[0;34m[\u001b[0m\u001b[0mpossibly_batched_index\u001b[0m\u001b[0;34m]\u001b[0m\u001b[0;34m\u001b[0m\u001b[0;34m\u001b[0m\u001b[0m\n",
            "\u001b[0;32m/usr/local/lib/python3.7/dist-packages/torch/utils/data/_utils/fetch.py\u001b[0m in \u001b[0;36m<listcomp>\u001b[0;34m(.0)\u001b[0m\n\u001b[1;32m     47\u001b[0m     \u001b[0;32mdef\u001b[0m \u001b[0mfetch\u001b[0m\u001b[0;34m(\u001b[0m\u001b[0mself\u001b[0m\u001b[0;34m,\u001b[0m \u001b[0mpossibly_batched_index\u001b[0m\u001b[0;34m)\u001b[0m\u001b[0;34m:\u001b[0m\u001b[0;34m\u001b[0m\u001b[0;34m\u001b[0m\u001b[0m\n\u001b[1;32m     48\u001b[0m         \u001b[0;32mif\u001b[0m \u001b[0mself\u001b[0m\u001b[0;34m.\u001b[0m\u001b[0mauto_collation\u001b[0m\u001b[0;34m:\u001b[0m\u001b[0;34m\u001b[0m\u001b[0;34m\u001b[0m\u001b[0m\n\u001b[0;32m---> 49\u001b[0;31m             \u001b[0mdata\u001b[0m \u001b[0;34m=\u001b[0m \u001b[0;34m[\u001b[0m\u001b[0mself\u001b[0m\u001b[0;34m.\u001b[0m\u001b[0mdataset\u001b[0m\u001b[0;34m[\u001b[0m\u001b[0midx\u001b[0m\u001b[0;34m]\u001b[0m \u001b[0;32mfor\u001b[0m \u001b[0midx\u001b[0m \u001b[0;32min\u001b[0m \u001b[0mpossibly_batched_index\u001b[0m\u001b[0;34m]\u001b[0m\u001b[0;34m\u001b[0m\u001b[0;34m\u001b[0m\u001b[0m\n\u001b[0m\u001b[1;32m     50\u001b[0m         \u001b[0;32melse\u001b[0m\u001b[0;34m:\u001b[0m\u001b[0;34m\u001b[0m\u001b[0;34m\u001b[0m\u001b[0m\n\u001b[1;32m     51\u001b[0m             \u001b[0mdata\u001b[0m \u001b[0;34m=\u001b[0m \u001b[0mself\u001b[0m\u001b[0;34m.\u001b[0m\u001b[0mdataset\u001b[0m\u001b[0;34m[\u001b[0m\u001b[0mpossibly_batched_index\u001b[0m\u001b[0;34m]\u001b[0m\u001b[0;34m\u001b[0m\u001b[0;34m\u001b[0m\u001b[0m\n",
            "\u001b[0;32m<ipython-input-4-de2232197a42>\u001b[0m in \u001b[0;36m__getitem__\u001b[0;34m(self, idx)\u001b[0m\n\u001b[1;32m     22\u001b[0m \u001b[0;34m\u001b[0m\u001b[0m\n\u001b[1;32m     23\u001b[0m         \u001b[0;32mif\u001b[0m \u001b[0mself\u001b[0m\u001b[0;34m.\u001b[0m\u001b[0mtransform\u001b[0m\u001b[0;34m:\u001b[0m\u001b[0;34m\u001b[0m\u001b[0;34m\u001b[0m\u001b[0m\n\u001b[0;32m---> 24\u001b[0;31m             \u001b[0mimage\u001b[0m \u001b[0;34m=\u001b[0m \u001b[0mself\u001b[0m\u001b[0;34m.\u001b[0m\u001b[0mtransform\u001b[0m\u001b[0;34m(\u001b[0m\u001b[0mimage\u001b[0m\u001b[0;34m)\u001b[0m\u001b[0;34m\u001b[0m\u001b[0;34m\u001b[0m\u001b[0m\n\u001b[0m\u001b[1;32m     25\u001b[0m \u001b[0;34m\u001b[0m\u001b[0m\n\u001b[1;32m     26\u001b[0m         \u001b[0;32mreturn\u001b[0m \u001b[0mimage\u001b[0m\u001b[0;34m,\u001b[0m \u001b[0mlabel\u001b[0m\u001b[0;34m\u001b[0m\u001b[0;34m\u001b[0m\u001b[0m\n",
            "\u001b[0;32m/usr/local/lib/python3.7/dist-packages/torchvision/transforms/transforms.py\u001b[0m in \u001b[0;36m__call__\u001b[0;34m(self, img)\u001b[0m\n\u001b[1;32m     59\u001b[0m     \u001b[0;32mdef\u001b[0m \u001b[0m__call__\u001b[0m\u001b[0;34m(\u001b[0m\u001b[0mself\u001b[0m\u001b[0;34m,\u001b[0m \u001b[0mimg\u001b[0m\u001b[0;34m)\u001b[0m\u001b[0;34m:\u001b[0m\u001b[0;34m\u001b[0m\u001b[0;34m\u001b[0m\u001b[0m\n\u001b[1;32m     60\u001b[0m         \u001b[0;32mfor\u001b[0m \u001b[0mt\u001b[0m \u001b[0;32min\u001b[0m \u001b[0mself\u001b[0m\u001b[0;34m.\u001b[0m\u001b[0mtransforms\u001b[0m\u001b[0;34m:\u001b[0m\u001b[0;34m\u001b[0m\u001b[0;34m\u001b[0m\u001b[0m\n\u001b[0;32m---> 61\u001b[0;31m             \u001b[0mimg\u001b[0m \u001b[0;34m=\u001b[0m \u001b[0mt\u001b[0m\u001b[0;34m(\u001b[0m\u001b[0mimg\u001b[0m\u001b[0;34m)\u001b[0m\u001b[0;34m\u001b[0m\u001b[0;34m\u001b[0m\u001b[0m\n\u001b[0m\u001b[1;32m     62\u001b[0m         \u001b[0;32mreturn\u001b[0m \u001b[0mimg\u001b[0m\u001b[0;34m\u001b[0m\u001b[0;34m\u001b[0m\u001b[0m\n\u001b[1;32m     63\u001b[0m \u001b[0;34m\u001b[0m\u001b[0m\n",
            "\u001b[0;32m/usr/local/lib/python3.7/dist-packages/torch/nn/modules/module.py\u001b[0m in \u001b[0;36m_call_impl\u001b[0;34m(self, *input, **kwargs)\u001b[0m\n\u001b[1;32m   1100\u001b[0m         if not (self._backward_hooks or self._forward_hooks or self._forward_pre_hooks or _global_backward_hooks\n\u001b[1;32m   1101\u001b[0m                 or _global_forward_hooks or _global_forward_pre_hooks):\n\u001b[0;32m-> 1102\u001b[0;31m             \u001b[0;32mreturn\u001b[0m \u001b[0mforward_call\u001b[0m\u001b[0;34m(\u001b[0m\u001b[0;34m*\u001b[0m\u001b[0minput\u001b[0m\u001b[0;34m,\u001b[0m \u001b[0;34m**\u001b[0m\u001b[0mkwargs\u001b[0m\u001b[0;34m)\u001b[0m\u001b[0;34m\u001b[0m\u001b[0;34m\u001b[0m\u001b[0m\n\u001b[0m\u001b[1;32m   1103\u001b[0m         \u001b[0;31m# Do not call functions when jit is used\u001b[0m\u001b[0;34m\u001b[0m\u001b[0;34m\u001b[0m\u001b[0;34m\u001b[0m\u001b[0m\n\u001b[1;32m   1104\u001b[0m         \u001b[0mfull_backward_hooks\u001b[0m\u001b[0;34m,\u001b[0m \u001b[0mnon_full_backward_hooks\u001b[0m \u001b[0;34m=\u001b[0m \u001b[0;34m[\u001b[0m\u001b[0;34m]\u001b[0m\u001b[0;34m,\u001b[0m \u001b[0;34m[\u001b[0m\u001b[0;34m]\u001b[0m\u001b[0;34m\u001b[0m\u001b[0;34m\u001b[0m\u001b[0m\n",
            "\u001b[0;32m/usr/local/lib/python3.7/dist-packages/torchvision/transforms/transforms.py\u001b[0m in \u001b[0;36mforward\u001b[0;34m(self, img)\u001b[0m\n\u001b[1;32m    302\u001b[0m             \u001b[0mPIL\u001b[0m \u001b[0mImage\u001b[0m \u001b[0;32mor\u001b[0m \u001b[0mTensor\u001b[0m\u001b[0;34m:\u001b[0m \u001b[0mRescaled\u001b[0m \u001b[0mimage\u001b[0m\u001b[0;34m.\u001b[0m\u001b[0;34m\u001b[0m\u001b[0;34m\u001b[0m\u001b[0m\n\u001b[1;32m    303\u001b[0m         \"\"\"\n\u001b[0;32m--> 304\u001b[0;31m         \u001b[0;32mreturn\u001b[0m \u001b[0mF\u001b[0m\u001b[0;34m.\u001b[0m\u001b[0mresize\u001b[0m\u001b[0;34m(\u001b[0m\u001b[0mimg\u001b[0m\u001b[0;34m,\u001b[0m \u001b[0mself\u001b[0m\u001b[0;34m.\u001b[0m\u001b[0msize\u001b[0m\u001b[0;34m,\u001b[0m \u001b[0mself\u001b[0m\u001b[0;34m.\u001b[0m\u001b[0minterpolation\u001b[0m\u001b[0;34m,\u001b[0m \u001b[0mself\u001b[0m\u001b[0;34m.\u001b[0m\u001b[0mmax_size\u001b[0m\u001b[0;34m,\u001b[0m \u001b[0mself\u001b[0m\u001b[0;34m.\u001b[0m\u001b[0mantialias\u001b[0m\u001b[0;34m)\u001b[0m\u001b[0;34m\u001b[0m\u001b[0;34m\u001b[0m\u001b[0m\n\u001b[0m\u001b[1;32m    305\u001b[0m \u001b[0;34m\u001b[0m\u001b[0m\n\u001b[1;32m    306\u001b[0m     \u001b[0;32mdef\u001b[0m \u001b[0m__repr__\u001b[0m\u001b[0;34m(\u001b[0m\u001b[0mself\u001b[0m\u001b[0;34m)\u001b[0m\u001b[0;34m:\u001b[0m\u001b[0;34m\u001b[0m\u001b[0;34m\u001b[0m\u001b[0m\n",
            "\u001b[0;32m/usr/local/lib/python3.7/dist-packages/torchvision/transforms/functional.py\u001b[0m in \u001b[0;36mresize\u001b[0;34m(img, size, interpolation, max_size, antialias)\u001b[0m\n\u001b[1;32m    417\u001b[0m             )\n\u001b[1;32m    418\u001b[0m         \u001b[0mpil_interpolation\u001b[0m \u001b[0;34m=\u001b[0m \u001b[0mpil_modes_mapping\u001b[0m\u001b[0;34m[\u001b[0m\u001b[0minterpolation\u001b[0m\u001b[0;34m]\u001b[0m\u001b[0;34m\u001b[0m\u001b[0;34m\u001b[0m\u001b[0m\n\u001b[0;32m--> 419\u001b[0;31m         \u001b[0;32mreturn\u001b[0m \u001b[0mF_pil\u001b[0m\u001b[0;34m.\u001b[0m\u001b[0mresize\u001b[0m\u001b[0;34m(\u001b[0m\u001b[0mimg\u001b[0m\u001b[0;34m,\u001b[0m \u001b[0msize\u001b[0m\u001b[0;34m=\u001b[0m\u001b[0msize\u001b[0m\u001b[0;34m,\u001b[0m \u001b[0minterpolation\u001b[0m\u001b[0;34m=\u001b[0m\u001b[0mpil_interpolation\u001b[0m\u001b[0;34m,\u001b[0m \u001b[0mmax_size\u001b[0m\u001b[0;34m=\u001b[0m\u001b[0mmax_size\u001b[0m\u001b[0;34m)\u001b[0m\u001b[0;34m\u001b[0m\u001b[0;34m\u001b[0m\u001b[0m\n\u001b[0m\u001b[1;32m    420\u001b[0m \u001b[0;34m\u001b[0m\u001b[0m\n\u001b[1;32m    421\u001b[0m     \u001b[0;32mreturn\u001b[0m \u001b[0mF_t\u001b[0m\u001b[0;34m.\u001b[0m\u001b[0mresize\u001b[0m\u001b[0;34m(\u001b[0m\u001b[0mimg\u001b[0m\u001b[0;34m,\u001b[0m \u001b[0msize\u001b[0m\u001b[0;34m=\u001b[0m\u001b[0msize\u001b[0m\u001b[0;34m,\u001b[0m \u001b[0minterpolation\u001b[0m\u001b[0;34m=\u001b[0m\u001b[0minterpolation\u001b[0m\u001b[0;34m.\u001b[0m\u001b[0mvalue\u001b[0m\u001b[0;34m,\u001b[0m \u001b[0mmax_size\u001b[0m\u001b[0;34m=\u001b[0m\u001b[0mmax_size\u001b[0m\u001b[0;34m,\u001b[0m \u001b[0mantialias\u001b[0m\u001b[0;34m=\u001b[0m\u001b[0mantialias\u001b[0m\u001b[0;34m)\u001b[0m\u001b[0;34m\u001b[0m\u001b[0;34m\u001b[0m\u001b[0m\n",
            "\u001b[0;32m/usr/local/lib/python3.7/dist-packages/torchvision/transforms/functional_pil.py\u001b[0m in \u001b[0;36mresize\u001b[0;34m(img, size, interpolation, max_size)\u001b[0m\n\u001b[1;32m    263\u001b[0m                 \u001b[0;34m\"i.e. size should be an int or a sequence of length 1 in torchscript mode.\"\u001b[0m\u001b[0;34m\u001b[0m\u001b[0;34m\u001b[0m\u001b[0m\n\u001b[1;32m    264\u001b[0m             )\n\u001b[0;32m--> 265\u001b[0;31m         \u001b[0;32mreturn\u001b[0m \u001b[0mimg\u001b[0m\u001b[0;34m.\u001b[0m\u001b[0mresize\u001b[0m\u001b[0;34m(\u001b[0m\u001b[0msize\u001b[0m\u001b[0;34m[\u001b[0m\u001b[0;34m:\u001b[0m\u001b[0;34m:\u001b[0m\u001b[0;34m-\u001b[0m\u001b[0;36m1\u001b[0m\u001b[0;34m]\u001b[0m\u001b[0;34m,\u001b[0m \u001b[0minterpolation\u001b[0m\u001b[0;34m)\u001b[0m\u001b[0;34m\u001b[0m\u001b[0;34m\u001b[0m\u001b[0m\n\u001b[0m\u001b[1;32m    266\u001b[0m \u001b[0;34m\u001b[0m\u001b[0m\n\u001b[1;32m    267\u001b[0m \u001b[0;34m\u001b[0m\u001b[0m\n",
            "\u001b[0;32m/usr/local/lib/python3.7/dist-packages/PIL/Image.py\u001b[0m in \u001b[0;36mresize\u001b[0;34m(self, size, resample, box, reducing_gap)\u001b[0m\n\u001b[1;32m   1884\u001b[0m             \u001b[0;32mreturn\u001b[0m \u001b[0mim\u001b[0m\u001b[0;34m.\u001b[0m\u001b[0mconvert\u001b[0m\u001b[0;34m(\u001b[0m\u001b[0mself\u001b[0m\u001b[0;34m.\u001b[0m\u001b[0mmode\u001b[0m\u001b[0;34m)\u001b[0m\u001b[0;34m\u001b[0m\u001b[0;34m\u001b[0m\u001b[0m\n\u001b[1;32m   1885\u001b[0m \u001b[0;34m\u001b[0m\u001b[0m\n\u001b[0;32m-> 1886\u001b[0;31m         \u001b[0mself\u001b[0m\u001b[0;34m.\u001b[0m\u001b[0mload\u001b[0m\u001b[0;34m(\u001b[0m\u001b[0;34m)\u001b[0m\u001b[0;34m\u001b[0m\u001b[0;34m\u001b[0m\u001b[0m\n\u001b[0m\u001b[1;32m   1887\u001b[0m \u001b[0;34m\u001b[0m\u001b[0m\n\u001b[1;32m   1888\u001b[0m         \u001b[0;32mif\u001b[0m \u001b[0mreducing_gap\u001b[0m \u001b[0;32mis\u001b[0m \u001b[0;32mnot\u001b[0m \u001b[0;32mNone\u001b[0m \u001b[0;32mand\u001b[0m \u001b[0mresample\u001b[0m \u001b[0;34m!=\u001b[0m \u001b[0mNEAREST\u001b[0m\u001b[0;34m:\u001b[0m\u001b[0;34m\u001b[0m\u001b[0;34m\u001b[0m\u001b[0m\n",
            "\u001b[0;32m/usr/local/lib/python3.7/dist-packages/PIL/ImageFile.py\u001b[0m in \u001b[0;36mload\u001b[0;34m(self)\u001b[0m\n\u001b[1;32m    249\u001b[0m \u001b[0;34m\u001b[0m\u001b[0m\n\u001b[1;32m    250\u001b[0m                             \u001b[0mb\u001b[0m \u001b[0;34m=\u001b[0m \u001b[0mb\u001b[0m \u001b[0;34m+\u001b[0m \u001b[0ms\u001b[0m\u001b[0;34m\u001b[0m\u001b[0;34m\u001b[0m\u001b[0m\n\u001b[0;32m--> 251\u001b[0;31m                             \u001b[0mn\u001b[0m\u001b[0;34m,\u001b[0m \u001b[0merr_code\u001b[0m \u001b[0;34m=\u001b[0m \u001b[0mdecoder\u001b[0m\u001b[0;34m.\u001b[0m\u001b[0mdecode\u001b[0m\u001b[0;34m(\u001b[0m\u001b[0mb\u001b[0m\u001b[0;34m)\u001b[0m\u001b[0;34m\u001b[0m\u001b[0;34m\u001b[0m\u001b[0m\n\u001b[0m\u001b[1;32m    252\u001b[0m                             \u001b[0;32mif\u001b[0m \u001b[0mn\u001b[0m \u001b[0;34m<\u001b[0m \u001b[0;36m0\u001b[0m\u001b[0;34m:\u001b[0m\u001b[0;34m\u001b[0m\u001b[0;34m\u001b[0m\u001b[0m\n\u001b[1;32m    253\u001b[0m                                 \u001b[0;32mbreak\u001b[0m\u001b[0;34m\u001b[0m\u001b[0;34m\u001b[0m\u001b[0m\n",
            "\u001b[0;31mKeyboardInterrupt\u001b[0m: "
          ]
        }
      ]
    },
    {
      "cell_type": "code",
      "source": [
        " out = test(model)"
      ],
      "metadata": {
        "colab": {
          "base_uri": "https://localhost:8080/"
        },
        "id": "XcEteuqkxioA",
        "outputId": "88a374c2-1132-4fb1-aea3-a958eb52ea42"
      },
      "execution_count": null,
      "outputs": [
        {
          "output_type": "stream",
          "name": "stdout",
          "text": [
            "Accuracy: 0.88\n"
          ]
        }
      ]
    },
    {
      "cell_type": "code",
      "source": [
        "out = np.concatenate(out).ravel()"
      ],
      "metadata": {
        "id": "EsQchA6Wxoe2"
      },
      "execution_count": null,
      "outputs": []
    },
    {
      "cell_type": "code",
      "source": [
        "import seaborn as sn\n",
        "from sklearn.metrics import classification_report\n",
        "from sklearn.metrics import confusion_matrix\n",
        "species_all = [\"AG\",\n",
        "        \"AF\",\n",
        "        \"A_other\",\n",
        "        \"Culex\",\n",
        "        \"Other\"]\n",
        "# print classification report\n",
        "print(classification_report(test_df['label'], out))\n",
        "\n",
        "# make confusion matrix\n",
        "conf_mat = confusion_matrix(test_df['label'], out)\n",
        "conf_mat = conf_mat / np.expand_dims(conf_mat.astype(np.float64).sum(axis=1),1)\n",
        "conf_mat = np.round(conf_mat, decimals=2)\n",
        "fig = plt.figure(figsize=(8,8))\n",
        "ax = plt.subplot()\n",
        "hm = sn.heatmap(conf_mat, annot=True, ax = ax, cmap=\"PuBu\", fmt='.2', annot_kws={\"size\": 35 / np.sqrt(len(conf_mat))})\n",
        "ax.set_yticklabels(hm.get_yticklabels(), rotation=90)\n",
        "ax.set_xlabel('Predicted labels', fontsize = 15);ax.set_ylabel('True labels', fontsize = 15); \n",
        "ax.xaxis.set_ticklabels(species_all); ax.yaxis.set_ticklabels(species_all)\n",
        "plt.xticks(rotation = 90)\n",
        "plt.yticks(rotation = 0)\n",
        "plt.savefig('drive/MyDrive/pretrain_data_path/pretrain_Inception3.jpg')\n",
        "plt.show();\n"
      ],
      "metadata": {
        "colab": {
          "base_uri": "https://localhost:8080/",
          "height": 738
        },
        "id": "dQbAfeOjxwf4",
        "outputId": "2e8b31b2-79dc-4409-a1d5-fae13dd5c3f5"
      },
      "execution_count": null,
      "outputs": [
        {
          "output_type": "stream",
          "name": "stdout",
          "text": [
            "              precision    recall  f1-score   support\n",
            "\n",
            "           0       0.96      0.91      0.94       318\n",
            "           1       0.87      0.97      0.91       187\n",
            "           2       0.87      0.91      0.89       507\n",
            "           3       0.88      0.88      0.88       714\n",
            "           4       0.85      0.82      0.83       624\n",
            "\n",
            "    accuracy                           0.88      2350\n",
            "   macro avg       0.89      0.90      0.89      2350\n",
            "weighted avg       0.88      0.88      0.88      2350\n",
            "\n"
          ]
        },
        {
          "output_type": "display_data",
          "data": {
            "image/png": "[encoded data removed]",
            "text/plain": [
              "<Figure size 576x576 with 2 Axes>"
            ]
          },
          "metadata": {
            "needs_background": "light"
          }
        }
      ]
    },
    {
      "cell_type": "code",
      "source": [
        "torch.save(model.state_dict(), \\\n",
        "               'drive/MyDrive/pretrain_data_path/Pretrain_state_dict_Inception.pt')"
      ],
      "metadata": {
        "id": "EwtZyebtzAOq"
      },
      "execution_count": null,
      "outputs": []
    }
  ]
}