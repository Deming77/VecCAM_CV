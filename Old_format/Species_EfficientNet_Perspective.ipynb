{
  "cells": [
    {
      "cell_type": "markdown",
      "id": "53a4a03c",
      "metadata": {
        "id": "53a4a03c"
      },
      "source": [
        "Species Classification\n",
        "\n",
        "0-funestus 1-gambiae 2-Anopheles_other 3-culex 4-All other"
      ]
    },
    {
      "cell_type": "code",
      "execution_count": null,
      "id": "6ccf7927",
      "metadata": {
        "id": "6ccf7927"
      },
      "outputs": [],
      "source": [
        "%matplotlib inline\n",
        "import numpy as np\n",
        "import pandas as pd\n",
        "import matplotlib.pyplot as plt\n",
        "import time\n",
        "import random\n",
        "import math\n",
        "import os\n",
        "from tqdm import tqdm\n",
        "import torch\n",
        "import torch.nn as nn\n",
        "import torch.nn.functional as F\n",
        "import torch.optim as optim\n",
        "import cv2\n",
        "import re"
      ]
    },
    {
      "cell_type": "code",
      "source": [
        "from google.colab import drive\n",
        "drive.mount('/content/drive')"
      ],
      "metadata": {
        "id": "OgA1Ji_N2ZAM",
        "outputId": "1c23504a-832a-4a18-e90a-5112423dd222",
        "colab": {
          "base_uri": "https://localhost:8080/"
        }
      },
      "id": "OgA1Ji_N2ZAM",
      "execution_count": null,
      "outputs": [
        {
          "output_type": "stream",
          "name": "stdout",
          "text": [
            "Drive already mounted at /content/drive; to attempt to forcibly remount, call drive.mount(\"/content/drive\", force_remount=True).\n"
          ]
        }
      ]
    },
    {
      "cell_type": "markdown",
      "id": "dmxZkl8gtZuc",
      "metadata": {
        "id": "dmxZkl8gtZuc"
      },
      "source": [
        "# Train and test "
      ]
    },
    {
      "cell_type": "code",
      "execution_count": null,
      "id": "8d934d48",
      "metadata": {
        "id": "8d934d48"
      },
      "outputs": [],
      "source": [
        "train_data = torch.load(\"/content/drive/MyDrive/CBID/EfficientNet/train_whole_data_fold2.pt\")\n",
        "train_label = torch.load(\"/content/drive/MyDrive/CBID/EfficientNet/train_whole_label_fold2.pt\")\n",
        "test_data = torch.load(\"/content/drive/MyDrive/CBID/EfficientNet/test_whole_data.pt\")\n",
        "test_label = torch.load(\"/content/drive/MyDrive/CBID/EfficientNet/test_whole_label.pt\")"
      ]
    },
    {
      "cell_type": "code",
      "execution_count": null,
      "id": "f79eafda",
      "metadata": {
        "id": "f79eafda",
        "outputId": "6cce997c-1729-4e54-b289-5a8bc603f7a4",
        "colab": {
          "base_uri": "https://localhost:8080/"
        }
      },
      "outputs": [
        {
          "output_type": "stream",
          "name": "stdout",
          "text": [
            "running on the GPU\n"
          ]
        }
      ],
      "source": [
        "if torch.cuda.is_available():\n",
        "    device = torch.device(\"cuda:0\")\n",
        "    print (\"running on the GPU\")\n",
        "else:\n",
        "    device = torch.device(\"cpu\")\n",
        "    print (\"running on the cpu\")"
      ]
    },
    {
      "cell_type": "code",
      "execution_count": null,
      "id": "09bc0d6c",
      "metadata": {
        "id": "09bc0d6c"
      },
      "outputs": [],
      "source": [
        "from torch.utils.data import Dataset\n",
        "\n",
        "\n",
        "class VectorCamDataset(Dataset):\n",
        "    \n",
        "    \n",
        "    def __init__(self, data, labels, transform=None):\n",
        "        'Initialization'\n",
        "        self.labels = labels\n",
        "        self.data = data\n",
        "        self.transform = transform\n",
        "\n",
        "    def __len__(self):\n",
        "        'Denotes the total number of samples'\n",
        "        return len(self.data)\n",
        "\n",
        "    def __getitem__(self, index):\n",
        "        \n",
        "        'Generates one sample of data'\n",
        "\n",
        "        # Load data and get label\n",
        "        x = self.data[index]\n",
        "        y = self.labels[index]\n",
        "        if self.transform:\n",
        "            x = self.transform(x)\n",
        "\n",
        "        return x, y"
      ]
    },
    {
      "cell_type": "code",
      "execution_count": null,
      "id": "43415bc8",
      "metadata": {
        "id": "43415bc8"
      },
      "outputs": [],
      "source": [
        "from torchvision import transforms\n",
        "invTrans = transforms.Compose([ \n",
        "                                transforms.RandomHorizontalFlip(p=0.25),\n",
        "                                transforms.RandomVerticalFlip(p=0.25),\n",
        "                                transforms.RandomRotation(degrees=(-45,45), fill=(0,)),\n",
        "                                transforms.RandomPerspective(distortion_scale=0.2),\n",
        "                                #transforms.RandomAffine(degrees=(20,80),translate=(0.1,0.3),scale=(0.7,0.9)),\n",
        "                                transforms.ColorJitter()\n",
        "                               \n",
        "                               \n",
        "                                #transforms.Normalize(mean = [ 0.5150, 0.7373, 1.1327 ],\n",
        "                                #                     std = [ 0.5055, 0.4621, 0.4949 ]),\n",
        "    \n",
        "                               ])"
      ]
    },
    {
      "cell_type": "code",
      "execution_count": null,
      "id": "3a00d7ad",
      "metadata": {
        "id": "3a00d7ad"
      },
      "outputs": [],
      "source": [
        "train_dataset=VectorCamDataset(train_data,train_label,transform=invTrans)\n",
        "test_dataset=VectorCamDataset(test_data,test_label)"
      ]
    },
    {
      "cell_type": "code",
      "execution_count": null,
      "id": "6a4372a0",
      "metadata": {
        "id": "6a4372a0"
      },
      "outputs": [],
      "source": [
        "x, y = train_dataset[1]"
      ]
    },
    {
      "cell_type": "code",
      "execution_count": null,
      "id": "97785617",
      "metadata": {
        "id": "97785617",
        "outputId": "5492a9d4-fe2f-4c3b-b4bb-eb663bc86b47",
        "colab": {
          "base_uri": "https://localhost:8080/",
          "height": 304
        }
      },
      "outputs": [
        {
          "output_type": "stream",
          "name": "stderr",
          "text": [
            "Clipping input data to the valid range for imshow with RGB data ([0..1] for floats or [0..255] for integers).\n"
          ]
        },
        {
          "output_type": "execute_result",
          "data": {
            "text/plain": [
              "<matplotlib.image.AxesImage at 0x7f42b7349b10>"
            ]
          },
          "metadata": {},
          "execution_count": 9
        },
        {
          "output_type": "display_data",
          "data": {
            "text/plain": [
              "<Figure size 432x288 with 1 Axes>"
            ],
            "image/png": "[encoded data removed]"
          },
          "metadata": {
            "needs_background": "light"
          }
        }
      ],
      "source": [
        "plt.imshow(torch.permute(x, (1, 2, 0)))"
      ]
    },
    {
      "cell_type": "code",
      "execution_count": null,
      "id": "95c5af8e",
      "metadata": {
        "id": "95c5af8e",
        "outputId": "ba3a0d35-58d8-4d38-bbe4-abe99faed62f",
        "colab": {
          "base_uri": "https://localhost:8080/"
        }
      },
      "outputs": [
        {
          "output_type": "stream",
          "name": "stdout",
          "text": [
            "[1285  466  444  894  325]\n",
            "tensor([0.0008, 0.0021, 0.0023, 0.0011, 0.0031])\n"
          ]
        },
        {
          "output_type": "stream",
          "name": "stderr",
          "text": [
            "/usr/local/lib/python3.7/dist-packages/ipykernel_launcher.py:3: UserWarning: To copy construct from a tensor, it is recommended to use sourceTensor.clone().detach() or sourceTensor.clone().detach().requires_grad_(True), rather than torch.tensor(sourceTensor).\n",
            "  This is separate from the ipykernel package so we can avoid doing imports until\n"
          ]
        }
      ],
      "source": [
        "from torch.utils.data import DataLoader,WeightedRandomSampler\n",
        "\n",
        "target_list = torch.tensor(train_dataset.labels)\n",
        "class_count = np.array([len(np.where(train_dataset.labels == t)[0]) for t in np.unique(train_dataset.labels)])\n",
        "print(class_count)\n",
        "class_weights = 1./torch.tensor(class_count, dtype=torch.float)\n",
        "print(class_weights)\n",
        "class_weights_all = class_weights[target_list]\n",
        "weighted_sampler = WeightedRandomSampler(\n",
        "    weights=class_weights_all,\n",
        "    num_samples=len(class_weights_all),\n",
        "    replacement=True\n",
        "    )"
      ]
    },
    {
      "cell_type": "code",
      "execution_count": null,
      "id": "e26af390",
      "metadata": {
        "id": "e26af390"
      },
      "outputs": [],
      "source": [
        "from torch.utils.data import DataLoader\n",
        "train_dataloader = DataLoader(train_dataset,sampler=weighted_sampler, batch_size = 32)\n",
        "test_dataloader = DataLoader(test_dataset,batch_size=32, shuffle=False)"
      ]
    },
    {
      "cell_type": "code",
      "execution_count": null,
      "id": "4ae21fed",
      "metadata": {
        "id": "4ae21fed",
        "outputId": "a798a6b9-3906-4298-eb1d-fc245710da4c",
        "colab": {
          "base_uri": "https://localhost:8080/"
        }
      },
      "outputs": [
        {
          "output_type": "stream",
          "name": "stdout",
          "text": [
            "batch index 0, 0/1: 11/1/8/5/7\n",
            "batch index 1, 0/1: 5/4/3/11/9\n",
            "batch index 2, 0/1: 6/8/7/7/4\n",
            "batch index 3, 0/1: 4/10/5/4/9\n",
            "batch index 4, 0/1: 7/8/4/7/6\n",
            "batch index 5, 0/1: 8/3/8/7/6\n",
            "batch index 6, 0/1: 2/8/8/5/9\n",
            "batch index 7, 0/1: 4/2/7/12/7\n",
            "batch index 8, 0/1: 8/5/12/3/4\n",
            "batch index 9, 0/1: 6/10/2/9/5\n",
            "batch index 10, 0/1: 7/7/9/4/5\n",
            "batch index 11, 0/1: 6/7/8/4/7\n",
            "batch index 12, 0/1: 8/6/8/8/2\n",
            "batch index 13, 0/1: 6/4/2/6/14\n",
            "batch index 14, 0/1: 4/7/7/7/7\n",
            "batch index 15, 0/1: 10/8/7/5/2\n",
            "batch index 16, 0/1: 6/6/8/6/6\n",
            "batch index 17, 0/1: 7/5/6/7/7\n",
            "batch index 18, 0/1: 9/6/5/7/5\n",
            "batch index 19, 0/1: 10/7/4/4/7\n",
            "batch index 20, 0/1: 8/3/7/8/6\n",
            "batch index 21, 0/1: 8/6/4/4/10\n",
            "batch index 22, 0/1: 4/5/10/7/6\n",
            "batch index 23, 0/1: 7/5/7/6/7\n",
            "batch index 24, 0/1: 7/6/6/7/6\n",
            "batch index 25, 0/1: 6/9/6/8/3\n",
            "batch index 26, 0/1: 9/9/7/5/2\n",
            "batch index 27, 0/1: 7/5/6/7/7\n",
            "batch index 28, 0/1: 5/4/10/8/5\n",
            "batch index 29, 0/1: 4/6/6/4/12\n",
            "batch index 30, 0/1: 5/5/11/3/8\n",
            "batch index 31, 0/1: 9/11/4/4/4\n",
            "batch index 32, 0/1: 6/7/7/4/8\n",
            "batch index 33, 0/1: 4/7/11/5/5\n",
            "batch index 34, 0/1: 12/6/7/4/3\n",
            "batch index 35, 0/1: 6/5/9/8/4\n",
            "batch index 36, 0/1: 5/4/5/9/9\n",
            "batch index 37, 0/1: 5/5/7/11/4\n",
            "batch index 38, 0/1: 7/6/5/11/3\n",
            "batch index 39, 0/1: 4/6/7/11/4\n",
            "batch index 40, 0/1: 6/8/6/6/6\n",
            "batch index 41, 0/1: 3/9/8/4/8\n",
            "batch index 42, 0/1: 7/8/8/4/5\n",
            "batch index 43, 0/1: 3/11/5/7/6\n",
            "batch index 44, 0/1: 5/5/10/4/8\n",
            "batch index 45, 0/1: 9/10/4/5/4\n",
            "batch index 46, 0/1: 4/3/14/6/5\n",
            "batch index 47, 0/1: 3/8/7/8/6\n",
            "batch index 48, 0/1: 3/8/11/6/4\n",
            "batch index 49, 0/1: 6/5/5/9/7\n",
            "batch index 50, 0/1: 9/6/5/7/5\n",
            "batch index 51, 0/1: 3/1/7/11/10\n",
            "batch index 52, 0/1: 9/5/4/6/8\n",
            "batch index 53, 0/1: 5/6/7/7/7\n",
            "batch index 54, 0/1: 7/6/6/5/8\n",
            "batch index 55, 0/1: 7/6/8/5/6\n",
            "batch index 56, 0/1: 5/9/3/6/9\n",
            "batch index 57, 0/1: 7/6/5/7/7\n",
            "batch index 58, 0/1: 8/8/6/4/6\n",
            "batch index 59, 0/1: 6/7/8/7/4\n",
            "batch index 60, 0/1: 6/8/6/5/7\n",
            "batch index 61, 0/1: 5/5/8/5/9\n",
            "batch index 62, 0/1: 6/5/6/7/8\n",
            "batch index 63, 0/1: 7/8/8/6/3\n",
            "batch index 64, 0/1: 3/9/12/5/3\n",
            "batch index 65, 0/1: 8/4/5/10/5\n",
            "batch index 66, 0/1: 5/7/5/7/8\n",
            "batch index 67, 0/1: 4/5/7/8/8\n",
            "batch index 68, 0/1: 9/4/12/3/4\n",
            "batch index 69, 0/1: 3/9/8/5/7\n",
            "batch index 70, 0/1: 5/5/7/7/8\n",
            "batch index 71, 0/1: 6/9/4/7/6\n",
            "batch index 72, 0/1: 13/3/2/4/10\n",
            "batch index 73, 0/1: 10/5/4/3/10\n",
            "batch index 74, 0/1: 4/9/6/9/4\n",
            "batch index 75, 0/1: 5/7/10/2/8\n",
            "batch index 76, 0/1: 7/12/1/8/4\n",
            "batch index 77, 0/1: 4/9/4/8/7\n",
            "batch index 78, 0/1: 7/6/4/6/9\n",
            "batch index 79, 0/1: 7/7/10/4/4\n",
            "batch index 80, 0/1: 5/7/6/8/6\n",
            "batch index 81, 0/1: 6/10/7/6/3\n",
            "batch index 82, 0/1: 5/8/7/6/6\n",
            "batch index 83, 0/1: 11/3/7/5/6\n",
            "batch index 84, 0/1: 7/9/9/5/2\n",
            "batch index 85, 0/1: 6/10/7/5/4\n",
            "batch index 86, 0/1: 7/5/8/8/4\n",
            "batch index 87, 0/1: 10/1/7/8/6\n",
            "batch index 88, 0/1: 2/9/13/5/3\n",
            "batch index 89, 0/1: 7/8/8/3/6\n",
            "batch index 90, 0/1: 7/4/5/11/5\n",
            "batch index 91, 0/1: 7/6/7/4/8\n",
            "batch index 92, 0/1: 6/8/7/4/7\n",
            "batch index 93, 0/1: 10/6/6/4/6\n",
            "batch index 94, 0/1: 10/2/5/8/7\n",
            "batch index 95, 0/1: 8/7/3/6/8\n",
            "batch index 96, 0/1: 9/6/9/2/6\n",
            "batch index 97, 0/1: 10/3/6/6/7\n",
            "batch index 98, 0/1: 8/8/5/6/5\n",
            "batch index 99, 0/1: 9/7/2/10/4\n",
            "batch index 100, 0/1: 6/6/11/5/4\n",
            "batch index 101, 0/1: 6/6/8/8/4\n",
            "batch index 102, 0/1: 7/8/5/5/7\n",
            "batch index 103, 0/1: 5/8/7/11/1\n",
            "batch index 104, 0/1: 3/8/4/10/7\n",
            "batch index 105, 0/1: 7/10/7/4/4\n",
            "batch index 106, 0/1: 4/6/6/3/3\n"
          ]
        }
      ],
      "source": [
        "for i, (data, target) in enumerate(train_dataloader):\n",
        "    print(\"batch index {}, 0/1: {}/{}/{}/{}/{}\".format(\n",
        "        i,\n",
        "        len(np.where(target.numpy() == 0)[0]),\n",
        "        len(np.where(target.numpy() == 1)[0]),\n",
        "        len(np.where(target.numpy() == 2)[0]),\n",
        "        len(np.where(target.numpy() == 3)[0]),\n",
        "        len(np.where(target.numpy() == 4)[0])))"
      ]
    },
    {
      "cell_type": "code",
      "execution_count": null,
      "id": "d873d017",
      "metadata": {
        "id": "d873d017"
      },
      "outputs": [],
      "source": [
        "from torchvision import models\n",
        "model = models.efficientnet_b1(pretrained=True)\n",
        "model.fc = nn.Linear(2048, 5)\n",
        "model = model.to(device)"
      ]
    },
    {
      "cell_type": "code",
      "execution_count": null,
      "id": "d56a8459",
      "metadata": {
        "id": "d56a8459"
      },
      "outputs": [],
      "source": [
        "EPOCHS = 50\n",
        "criterion = nn.CrossEntropyLoss()\n",
        "optimizer = optim.AdamW(model.parameters(),lr = 1e-4, weight_decay = 1e-5)\n",
        "#optimizer = optim.SGD(model.parameters(), lr=0.0001)\n",
        "#scheduler = torch.optim.lr_scheduler.StepLR(optimizer, step_size=10, gamma=0.15)"
      ]
    },
    {
      "cell_type": "code",
      "execution_count": null,
      "id": "f50004d7",
      "metadata": {
        "id": "f50004d7"
      },
      "outputs": [],
      "source": [
        "def focal_loss(inputs, targets, reduction=\"mean\"):\n",
        "    CE_loss = F.cross_entropy(inputs, targets, reduction=reduction)\n",
        "    pt = torch.exp(-CE_loss)  # prevents nans when probability 0\n",
        "    F_loss = 0.25 * (1 - pt) ** 5 * CE_loss\n",
        "    return F_loss.mean()"
      ]
    },
    {
      "cell_type": "code",
      "execution_count": null,
      "id": "e40b6281",
      "metadata": {
        "id": "e40b6281"
      },
      "outputs": [],
      "source": [
        "def train(model):\n",
        "    train_loss = []\n",
        "    valid_loss = []\n",
        "    train_acc = []\n",
        "    valid_acc = []\n",
        "\n",
        "    for epoch in range (EPOCHS+1):\n",
        "        print(epoch)\n",
        "        correct = 0\n",
        "        total = 0\n",
        "        train_ave_loss = 0\n",
        "        model.train()\n",
        "        for batch_X, batch_Y in train_dataloader:\n",
        "            \n",
        "            batch_X = batch_X.to(device)\n",
        "            batch_Y = batch_Y.to(device)\n",
        "\n",
        "            # zero gradient\n",
        "            optimizer.zero_grad()\n",
        "            # pass through\n",
        "            outputs = model(batch_X)\n",
        "\n",
        "            # compute loss and back propagate\n",
        "            loss = criterion(outputs, batch_Y)\n",
        "            #loss2 = criterion(aux_outputs, batch_Y)\n",
        "            #loss = loss1 + 0.4 * loss2\n",
        "            \n",
        "            loss.backward()\n",
        "            # optimize\n",
        "            optimizer.step()\n",
        "            \n",
        "            train_ave_loss += loss.data.item()\n",
        "            _, predicted = outputs.max(1)\n",
        "            total += batch_Y.size(0)\n",
        "            correct += predicted.eq(batch_Y).sum().item()\n",
        "            \n",
        "        \n",
        "        train_loss.append(train_ave_loss/len(train_dataloader))\n",
        "        train_acc.append(100.*correct/total)\n",
        "        print(f\"Epoch: {epoch},Train Loss: {train_ave_loss/len(train_dataloader)} | Train Acc: {100.*correct/total} ({correct}/{total})\")\n",
        "    \n",
        "        if epoch % 1 == 0:\n",
        "        \n",
        "            model.eval()\n",
        "            valid_correct = 0\n",
        "            valid_total = 0\n",
        "            valid_ave_loss = 0\n",
        "            with torch.no_grad():\n",
        "\n",
        "                for valid_batch_X, valid_batch_Y in test_dataloader:\n",
        "                    \n",
        "                    valid_batch_X = valid_batch_X.to(device)\n",
        "                    valid_batch_Y = valid_batch_Y.to(device)\n",
        "            \n",
        "                    valid_outputs = model(valid_batch_X)\n",
        "                    loss = criterion(valid_outputs, valid_batch_Y)\n",
        "                    valid_ave_loss += loss.data.item()\n",
        "        \n",
        "                    _, predicted = valid_outputs.max(1)\n",
        "\n",
        "                    valid_correct += predicted.eq(valid_batch_Y).sum().item()\n",
        "                    valid_total += valid_batch_Y.size(0)\n",
        "                    \n",
        "            valid_loss.append(valid_ave_loss/len(test_dataloader))\n",
        "            valid_acc.append(100.*valid_correct/valid_total)\n",
        "    \n",
        "            print(f\"Validation Loss: {valid_ave_loss/len(test_dataloader)} | Validation Acc: {100.*valid_correct/valid_total} ({valid_correct}/{valid_total})\")\n",
        "            #torch.save(model.state_dict(), \\\n",
        "            #   'drive/MyDrive/pretrain_data_path/pretrain_Inception{}.pt'.format(str(epoch//1+2)))\n",
        "        \n",
        "        #scheduler.step()\n",
        "        \n",
        "    return train_loss, valid_loss, train_acc, valid_acc\n",
        "\n",
        "        \n",
        "def test(model):\n",
        "    correct = 0 \n",
        "    total = 0\n",
        "    model.eval()\n",
        "    out = []\n",
        "    with torch.no_grad():\n",
        "        for inputs, labels in test_dataloader:\n",
        "            \n",
        "            inputs = inputs.to(device)\n",
        "            labels = labels.to(device)\n",
        "            \n",
        "            outputs = model(inputs)\n",
        "            #loss = criterion(outputs, test_y[i].to(device).long())\n",
        "            _, predicted = outputs.max(1)\n",
        "            out.append(predicted.cpu().detach().numpy())\n",
        "\n",
        "            correct += predicted.eq(labels).sum().item()\n",
        "            total += labels.size(0)\n",
        "    \n",
        "    print(\"Accuracy:\", round(correct/total, 3))\n",
        "    return out"
      ]
    },
    {
      "cell_type": "code",
      "execution_count": null,
      "id": "1da206ad",
      "metadata": {
        "id": "1da206ad",
        "outputId": "8885983c-aaf1-4d4f-8822-8576e323d1a6",
        "colab": {
          "base_uri": "https://localhost:8080/"
        }
      },
      "outputs": [
        {
          "output_type": "stream",
          "name": "stdout",
          "text": [
            "0\n",
            "Epoch: 0,Train Loss: 2.497914690837682 | Train Acc: 53.28060925600469 (1819/3414)\n",
            "Validation Loss: 0.8394689185149742 | Validation Acc: 73.89635316698656 (770/1042)\n",
            "1\n",
            "Epoch: 1,Train Loss: 0.5745406025481001 | Train Acc: 80.31634446397189 (2742/3414)\n",
            "Validation Loss: 0.5374162343866897 | Validation Acc: 84.35700575815738 (879/1042)\n",
            "2\n",
            "Epoch: 2,Train Loss: 0.3829862889006873 | Train Acc: 86.76039835969537 (2962/3414)\n",
            "Validation Loss: 0.4354176175583041 | Validation Acc: 87.04414587332053 (907/1042)\n",
            "3\n",
            "Epoch: 3,Train Loss: 0.28531427563072365 | Train Acc: 89.39660222612771 (3052/3414)\n",
            "Validation Loss: 0.37369566144083033 | Validation Acc: 89.53934740882917 (933/1042)\n",
            "4\n",
            "Epoch: 4,Train Loss: 0.25442754727936234 | Train Acc: 90.53895723491506 (3091/3414)\n",
            "Validation Loss: 0.3417673134668307 | Validation Acc: 89.9232245681382 (937/1042)\n",
            "5\n",
            "Epoch: 5,Train Loss: 0.19942904221955862 | Train Acc: 92.91154071470416 (3172/3414)\n",
            "Validation Loss: 0.3275172707243738 | Validation Acc: 90.978886756238 (948/1042)\n",
            "6\n",
            "Epoch: 6,Train Loss: 0.18209232971350722 | Train Acc: 93.87814879906269 (3205/3414)\n",
            "Validation Loss: 0.3043930358676748 | Validation Acc: 91.45873320537429 (953/1042)\n",
            "7\n",
            "Epoch: 7,Train Loss: 0.152815216960751 | Train Acc: 94.63971880492092 (3231/3414)\n",
            "Validation Loss: 0.3509416430553591 | Validation Acc: 91.65067178502879 (955/1042)\n",
            "8\n",
            "Epoch: 8,Train Loss: 0.13053477453677176 | Train Acc: 95.43057996485061 (3258/3414)\n",
            "Validation Loss: 0.34763772536958143 | Validation Acc: 90.88291746641075 (947/1042)\n",
            "9\n",
            "Epoch: 9,Train Loss: 0.11728491769912087 | Train Acc: 95.8406561218512 (3272/3414)\n",
            "Validation Loss: 0.3429279691737258 | Validation Acc: 90.7869481765835 (946/1042)\n",
            "10\n",
            "Epoch: 10,Train Loss: 0.12722874804460835 | Train Acc: 95.72349150556532 (3268/3414)\n",
            "Validation Loss: 0.30325375691013917 | Validation Acc: 92.13051823416507 (960/1042)\n",
            "11\n",
            "Epoch: 11,Train Loss: 0.0875439962685526 | Train Acc: 96.77797305213825 (3304/3414)\n",
            "Validation Loss: 0.28516012037906685 | Validation Acc: 93.57005758157389 (975/1042)\n",
            "12\n",
            "Epoch: 12,Train Loss: 0.0886558724053761 | Train Acc: 96.98301113063854 (3311/3414)\n",
            "Validation Loss: 0.33746997002074774 | Validation Acc: 92.03454894433781 (959/1042)\n",
            "13\n",
            "Epoch: 13,Train Loss: 0.08025295369840602 | Train Acc: 97.30521382542472 (3322/3414)\n",
            "Validation Loss: 0.3169626750080197 | Validation Acc: 92.61036468330134 (965/1042)\n",
            "14\n",
            "Epoch: 14,Train Loss: 0.06801851898449186 | Train Acc: 97.51025190392501 (3329/3414)\n",
            "Validation Loss: 0.3125921233246724 | Validation Acc: 93.09021113243762 (970/1042)\n",
            "15\n",
            "Epoch: 15,Train Loss: 0.08085260248664662 | Train Acc: 97.27592267135326 (3321/3414)\n",
            "Validation Loss: 0.2919364651086543 | Validation Acc: 92.80230326295586 (967/1042)\n",
            "16\n",
            "Epoch: 16,Train Loss: 0.06117761703904405 | Train Acc: 98.15465729349737 (3351/3414)\n",
            "Validation Loss: 0.32594770485902147 | Validation Acc: 92.89827255278311 (968/1042)\n",
            "17\n",
            "Epoch: 17,Train Loss: 0.06448136234468842 | Train Acc: 97.7152899824253 (3336/3414)\n",
            "Validation Loss: 0.32589115665618784 | Validation Acc: 91.8426103646833 (957/1042)\n",
            "18\n",
            "Epoch: 18,Train Loss: 0.05669549061855841 | Train Acc: 97.86174575278265 (3341/3414)\n",
            "Validation Loss: 0.3829729945802793 | Validation Acc: 91.45873320537429 (953/1042)\n",
            "19\n",
            "Epoch: 19,Train Loss: 0.06726014424032732 | Train Acc: 97.56883421206796 (3331/3414)\n",
            "Validation Loss: 0.3372768903129988 | Validation Acc: 91.55470249520154 (954/1042)\n",
            "20\n",
            "Epoch: 20,Train Loss: 0.05546895156518739 | Train Acc: 98.18394844756884 (3352/3414)\n",
            "Validation Loss: 0.32035818970832747 | Validation Acc: 92.99424184261036 (969/1042)\n",
            "21\n",
            "Epoch: 21,Train Loss: 0.0422032577188024 | Train Acc: 98.59402460456943 (3366/3414)\n",
            "Validation Loss: 0.3299997398139429 | Validation Acc: 92.41842610364684 (963/1042)\n",
            "22\n",
            "Epoch: 22,Train Loss: 0.04836002236045027 | Train Acc: 98.33040421792619 (3357/3414)\n",
            "Validation Loss: 0.29529474587241455 | Validation Acc: 93.66602687140116 (976/1042)\n",
            "23\n",
            "Epoch: 23,Train Loss: 0.041386777426281544 | Train Acc: 98.50615114235501 (3363/3414)\n",
            "Validation Loss: 0.3663548010217985 | Validation Acc: 91.55470249520154 (954/1042)\n",
            "24\n",
            "Epoch: 24,Train Loss: 0.04913234951520756 | Train Acc: 98.33040421792619 (3357/3414)\n",
            "Validation Loss: 0.3897942603972765 | Validation Acc: 91.07485604606526 (949/1042)\n",
            "25\n",
            "Epoch: 25,Train Loss: 0.030914587660683928 | Train Acc: 98.88693614528412 (3376/3414)\n",
            "Validation Loss: 0.41204211272380425 | Validation Acc: 91.36276391554702 (952/1042)\n",
            "26\n",
            "Epoch: 26,Train Loss: 0.03953824813475519 | Train Acc: 98.50615114235501 (3363/3414)\n",
            "Validation Loss: 0.35577434691461374 | Validation Acc: 92.80230326295586 (967/1042)\n",
            "27\n",
            "Epoch: 27,Train Loss: 0.0350210198215383 | Train Acc: 98.9162272993556 (3377/3414)\n",
            "Validation Loss: 0.3551031503514175 | Validation Acc: 92.41842610364684 (963/1042)\n",
            "28\n",
            "Epoch: 28,Train Loss: 0.0365453349210422 | Train Acc: 98.76977152899825 (3372/3414)\n",
            "Validation Loss: 0.37305107740791177 | Validation Acc: 91.93857965451056 (958/1042)\n",
            "29\n",
            "Epoch: 29,Train Loss: 0.03151297463521918 | Train Acc: 99.06268306971295 (3382/3414)\n",
            "Validation Loss: 0.36153183574270137 | Validation Acc: 92.61036468330134 (965/1042)\n",
            "30\n",
            "Epoch: 30,Train Loss: 0.029996192043322947 | Train Acc: 99.00410076157 (3380/3414)\n",
            "Validation Loss: 0.32169870863083017 | Validation Acc: 93.85796545105566 (978/1042)\n",
            "31\n",
            "Epoch: 31,Train Loss: 0.03664907273644947 | Train Acc: 98.94551845342707 (3378/3414)\n",
            "Validation Loss: 0.3767189261592593 | Validation Acc: 92.41842610364684 (963/1042)\n",
            "32\n",
            "Epoch: 32,Train Loss: 0.023513958839455916 | Train Acc: 99.15055653192736 (3385/3414)\n",
            "Validation Loss: 0.38793605684407917 | Validation Acc: 93.37811900191939 (973/1042)\n",
            "33\n",
            "Epoch: 33,Train Loss: 0.023662125647163766 | Train Acc: 99.09197422378442 (3383/3414)\n",
            "Validation Loss: 0.39450804317488236 | Validation Acc: 93.47408829174664 (974/1042)\n",
            "34\n",
            "Epoch: 34,Train Loss: 0.02596014279493557 | Train Acc: 99.15055653192736 (3385/3414)\n",
            "Validation Loss: 0.3902477975895057 | Validation Acc: 93.47408829174664 (974/1042)\n",
            "35\n",
            "Epoch: 35,Train Loss: 0.01941205009330656 | Train Acc: 99.53134153485648 (3398/3414)\n",
            "Validation Loss: 0.3789659779605713 | Validation Acc: 93.57005758157389 (975/1042)\n",
            "36\n",
            "Epoch: 36,Train Loss: 0.02845380197618609 | Train Acc: 99.23842999414177 (3388/3414)\n",
            "Validation Loss: 0.38790223220580217 | Validation Acc: 93.57005758157389 (975/1042)\n",
            "37\n",
            "Epoch: 37,Train Loss: 0.025179532055457983 | Train Acc: 99.15055653192736 (3385/3414)\n",
            "Validation Loss: 0.3506152519011349 | Validation Acc: 92.99424184261036 (969/1042)\n",
            "38\n",
            "Epoch: 38,Train Loss: 0.03408498887791925 | Train Acc: 99.03339191564147 (3381/3414)\n",
            "Validation Loss: 0.40087058168798895 | Validation Acc: 93.09021113243762 (970/1042)\n",
            "39\n",
            "Epoch: 39,Train Loss: 0.03123121713853885 | Train Acc: 98.9162272993556 (3377/3414)\n",
            "Validation Loss: 0.37185444747446483 | Validation Acc: 93.47408829174664 (974/1042)\n",
            "40\n",
            "Epoch: 40,Train Loss: 0.027571140751503756 | Train Acc: 99.03339191564147 (3381/3414)\n",
            "Validation Loss: 0.3994367495132048 | Validation Acc: 92.03454894433781 (959/1042)\n",
            "41\n",
            "Epoch: 41,Train Loss: 0.02618263959781284 | Train Acc: 99.2091388400703 (3387/3414)\n",
            "Validation Loss: 0.3529665305990916 | Validation Acc: 93.76199616122841 (977/1042)\n",
            "42\n",
            "Epoch: 42,Train Loss: 0.022289450028497797 | Train Acc: 99.29701230228471 (3390/3414)\n",
            "Validation Loss: 0.44155089878790243 | Validation Acc: 92.32245681381957 (962/1042)\n",
            "43\n",
            "Epoch: 43,Train Loss: 0.02027030285283549 | Train Acc: 99.23842999414177 (3388/3414)\n",
            "Validation Loss: 0.3975698075379996 | Validation Acc: 93.57005758157389 (975/1042)\n",
            "44\n",
            "Epoch: 44,Train Loss: 0.01974603877741208 | Train Acc: 99.35559461042764 (3392/3414)\n",
            "Validation Loss: 0.42574449730384667 | Validation Acc: 93.09021113243762 (970/1042)\n",
            "45\n",
            "Epoch: 45,Train Loss: 0.02568198125303514 | Train Acc: 99.06268306971295 (3382/3414)\n",
            "Validation Loss: 0.365649118179907 | Validation Acc: 93.28214971209214 (972/1042)\n",
            "46\n",
            "Epoch: 46,Train Loss: 0.01595907504278644 | Train Acc: 99.47275922671353 (3396/3414)\n",
            "Validation Loss: 0.40977032879576464 | Validation Acc: 92.89827255278311 (968/1042)\n",
            "47\n",
            "Epoch: 47,Train Loss: 0.022790036167896127 | Train Acc: 99.26772114821324 (3389/3414)\n",
            "Validation Loss: 0.36300389430353636 | Validation Acc: 92.13051823416507 (960/1042)\n",
            "48\n",
            "Epoch: 48,Train Loss: 0.0186962867518789 | Train Acc: 99.35559461042764 (3392/3414)\n",
            "Validation Loss: 0.3572846405227038 | Validation Acc: 93.76199616122841 (977/1042)\n",
            "49\n",
            "Epoch: 49,Train Loss: 0.016544380169209512 | Train Acc: 99.58992384299941 (3400/3414)\n",
            "Validation Loss: 0.39098913447058736 | Validation Acc: 92.80230326295586 (967/1042)\n",
            "50\n",
            "Epoch: 50,Train Loss: 0.021097709351218148 | Train Acc: 99.23842999414177 (3388/3414)\n",
            "Validation Loss: 0.3523757040942738 | Validation Acc: 93.57005758157389 (975/1042)\n"
          ]
        }
      ],
      "source": [
        "train_loss, valid_loss, train_acc, valid_acc = train(model)"
      ]
    },
    {
      "cell_type": "code",
      "execution_count": null,
      "id": "38d19c2e",
      "metadata": {
        "id": "38d19c2e",
        "colab": {
          "base_uri": "https://localhost:8080/"
        },
        "outputId": "1f4c5ca1-b043-439e-b5f7-a952214e0ac2"
      },
      "outputs": [
        {
          "output_type": "stream",
          "name": "stdout",
          "text": [
            "Accuracy: 0.936\n"
          ]
        }
      ],
      "source": [
        " out = test(model)"
      ]
    },
    {
      "cell_type": "code",
      "execution_count": null,
      "id": "fe9bc918",
      "metadata": {
        "id": "fe9bc918"
      },
      "outputs": [],
      "source": [
        "out = np.concatenate(out).ravel()"
      ]
    },
    {
      "cell_type": "code",
      "execution_count": null,
      "id": "c6a23a2d",
      "metadata": {
        "id": "c6a23a2d",
        "colab": {
          "base_uri": "https://localhost:8080/"
        },
        "outputId": "92025715-2ca5-42a6-a667-ec7471000132"
      },
      "outputs": [
        {
          "output_type": "execute_result",
          "data": {
            "text/plain": [
              "array([2, 2, 2, ..., 4, 4, 4])"
            ]
          },
          "metadata": {},
          "execution_count": 20
        }
      ],
      "source": [
        "out"
      ]
    },
    {
      "cell_type": "code",
      "execution_count": null,
      "id": "702810dc",
      "metadata": {
        "id": "702810dc",
        "colab": {
          "base_uri": "https://localhost:8080/",
          "height": 738
        },
        "outputId": "74d0d3d5-0e19-49e1-da20-060110464bbd"
      },
      "outputs": [
        {
          "output_type": "stream",
          "name": "stdout",
          "text": [
            "              precision    recall  f1-score   support\n",
            "\n",
            "           0       0.96      0.96      0.96       410\n",
            "           1       0.85      0.88      0.87       159\n",
            "           2       0.90      0.88      0.89       151\n",
            "           3       0.97      0.98      0.98       252\n",
            "           4       0.92      0.86      0.89        70\n",
            "\n",
            "    accuracy                           0.94      1042\n",
            "   macro avg       0.92      0.91      0.92      1042\n",
            "weighted avg       0.94      0.94      0.94      1042\n",
            "\n"
          ]
        },
        {
          "output_type": "display_data",
          "data": {
            "text/plain": [
              "<Figure size 576x576 with 2 Axes>"
            ],
            "image/png": "[encoded data removed]"
          },
          "metadata": {
            "needs_background": "light"
          }
        }
      ],
      "source": [
        "import seaborn as sn\n",
        "from sklearn.metrics import classification_report\n",
        "from sklearn.metrics import confusion_matrix\n",
        "species_all = [\"AF\",\n",
        "        \"AG\",\n",
        "        \"A_other\",\n",
        "        \"Culex\",\n",
        "        \"Other\"]\n",
        "# print classification report\n",
        "print(classification_report(test_label, out))\n",
        "\n",
        "# make confusion matrix\n",
        "conf_mat = confusion_matrix(test_label, out)\n",
        "conf_mat = conf_mat / np.expand_dims(conf_mat.astype(np.float64).sum(axis=1),1)\n",
        "conf_mat = np.round(conf_mat, decimals=2)\n",
        "fig = plt.figure(figsize=(8,8))\n",
        "ax = plt.subplot()\n",
        "hm = sn.heatmap(conf_mat, annot=True, ax = ax, cmap=\"PuBu\", fmt='.2', annot_kws={\"size\": 35 / np.sqrt(len(conf_mat))})\n",
        "ax.set_yticklabels(hm.get_yticklabels(), rotation=90)\n",
        "ax.set_xlabel('Predicted labels', fontsize = 15);ax.set_ylabel('True labels', fontsize = 15); \n",
        "ax.xaxis.set_ticklabels(species_all); ax.yaxis.set_ticklabels(species_all)\n",
        "plt.xticks(rotation = 90)\n",
        "plt.yticks(rotation = 0)\n",
        "plt.savefig('/content/drive/MyDrive/CBID/EfficientNet/Species_EfficientNet_perspective.jpg')\n",
        "plt.show();\n"
      ]
    },
    {
      "cell_type": "code",
      "execution_count": null,
      "id": "0c9de0d3",
      "metadata": {
        "id": "0c9de0d3"
      },
      "outputs": [],
      "source": [
        "torch.save(model.state_dict(), \\\n",
        "               '/content/drive/MyDrive/CBID/EfficientNet/Species_EfficientNet_perspective.pt')"
      ]
    },
    {
      "cell_type": "code",
      "execution_count": null,
      "id": "e9b44bde",
      "metadata": {
        "id": "e9b44bde"
      },
      "outputs": [],
      "source": [
        ""
      ]
    }
  ],
  "metadata": {
    "colab": {
      "collapsed_sections": [],
      "name": "Species_EfficientNet_Perspective.ipynb",
      "provenance": []
    },
    "kernelspec": {
      "display_name": "torch",
      "language": "python",
      "name": "torch"
    },
    "language_info": {
      "codemirror_mode": {
        "name": "ipython",
        "version": 3
      },
      "file_extension": ".py",
      "mimetype": "text/x-python",
      "name": "python",
      "nbconvert_exporter": "python",
      "pygments_lexer": "ipython3",
      "version": "3.9.12"
    },
    "accelerator": "GPU"
  },
  "nbformat": 4,
  "nbformat_minor": 5
}
