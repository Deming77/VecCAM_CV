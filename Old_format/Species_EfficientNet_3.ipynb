{
  "cells": [
    {
      "cell_type": "markdown",
      "id": "53a4a03c",
      "metadata": {
        "id": "53a4a03c"
      },
      "source": [
        "Species Classification\n",
        "\n",
        "0-funestus 1-gambiae 2-Anopheles_other 3-culex 4-All other"
      ]
    },
    {
      "cell_type": "code",
      "execution_count": 1,
      "id": "6ccf7927",
      "metadata": {
        "id": "6ccf7927"
      },
      "outputs": [],
      "source": [
        "%matplotlib inline\n",
        "import numpy as np\n",
        "import pandas as pd\n",
        "import matplotlib.pyplot as plt\n",
        "import time\n",
        "import random\n",
        "import math\n",
        "import os\n",
        "from tqdm import tqdm\n",
        "import torch\n",
        "import torch.nn as nn\n",
        "import torch.nn.functional as F\n",
        "import torch.optim as optim\n",
        "import cv2\n",
        "import re"
      ]
    },
    {
      "cell_type": "code",
      "source": [
        "from google.colab import drive\n",
        "drive.mount('/content/drive')"
      ],
      "metadata": {
        "colab": {
          "base_uri": "https://localhost:8080/"
        },
        "id": "OgA1Ji_N2ZAM",
        "outputId": "68c68f9a-c165-4b69-ac75-aa839b012d47"
      },
      "id": "OgA1Ji_N2ZAM",
      "execution_count": 2,
      "outputs": [
        {
          "output_type": "stream",
          "name": "stdout",
          "text": [
            "Mounted at /content/drive\n"
          ]
        }
      ]
    },
    {
      "cell_type": "markdown",
      "id": "dmxZkl8gtZuc",
      "metadata": {
        "id": "dmxZkl8gtZuc"
      },
      "source": [
        "# Train and test "
      ]
    },
    {
      "cell_type": "code",
      "execution_count": 3,
      "id": "8d934d48",
      "metadata": {
        "id": "8d934d48"
      },
      "outputs": [],
      "source": [
        "train_data = torch.load(\"/content/drive/MyDrive/CBID/EfficientNet/train_whole_data_fold2.pt\")\n",
        "train_label = torch.load(\"/content/drive/MyDrive/CBID/EfficientNet/train_whole_label_fold2.pt\")\n",
        "test_data = torch.load(\"/content/drive/MyDrive/CBID/EfficientNet/test_whole_data.pt\")\n",
        "test_label = torch.load(\"/content/drive/MyDrive/CBID/EfficientNet/test_whole_label.pt\")"
      ]
    },
    {
      "cell_type": "code",
      "execution_count": 4,
      "id": "f79eafda",
      "metadata": {
        "id": "f79eafda",
        "outputId": "2174f0ba-58e8-48f4-99fe-e83d0dcee9ce",
        "colab": {
          "base_uri": "https://localhost:8080/"
        }
      },
      "outputs": [
        {
          "output_type": "stream",
          "name": "stdout",
          "text": [
            "running on the GPU\n"
          ]
        }
      ],
      "source": [
        "if torch.cuda.is_available():\n",
        "    device = torch.device(\"cuda:0\")\n",
        "    print (\"running on the GPU\")\n",
        "else:\n",
        "    device = torch.device(\"cpu\")\n",
        "    print (\"running on the cpu\")"
      ]
    },
    {
      "cell_type": "code",
      "execution_count": 5,
      "id": "09bc0d6c",
      "metadata": {
        "id": "09bc0d6c"
      },
      "outputs": [],
      "source": [
        "from torch.utils.data import Dataset\n",
        "\n",
        "\n",
        "class VectorCamDataset(Dataset):\n",
        "    \n",
        "    \n",
        "    def __init__(self, data, labels, transform=None):\n",
        "        'Initialization'\n",
        "        self.labels = labels\n",
        "        self.data = data\n",
        "        self.transform = transform\n",
        "\n",
        "    def __len__(self):\n",
        "        'Denotes the total number of samples'\n",
        "        return len(self.data)\n",
        "\n",
        "    def __getitem__(self, index):\n",
        "        \n",
        "        'Generates one sample of data'\n",
        "\n",
        "        # Load data and get label\n",
        "        x = self.data[index]\n",
        "        y = self.labels[index]\n",
        "        if self.transform:\n",
        "            x = self.transform(x)\n",
        "\n",
        "        return x, y"
      ]
    },
    {
      "cell_type": "code",
      "execution_count": 6,
      "id": "43415bc8",
      "metadata": {
        "id": "43415bc8"
      },
      "outputs": [],
      "source": [
        "from torchvision import transforms\n",
        "invTrans = transforms.Compose([ \n",
        "                                transforms.RandomHorizontalFlip(p=0.25),\n",
        "                                transforms.RandomVerticalFlip(p=0.25)\n",
        "                                #transforms.Normalize(mean = [ 0.5150, 0.7373, 1.1327 ],\n",
        "                                #                     std = [ 0.5055, 0.4621, 0.4949 ]),\n",
        "    \n",
        "                               ])"
      ]
    },
    {
      "cell_type": "code",
      "execution_count": 7,
      "id": "3a00d7ad",
      "metadata": {
        "id": "3a00d7ad"
      },
      "outputs": [],
      "source": [
        "train_dataset=VectorCamDataset(train_data,train_label,transform=invTrans)\n",
        "test_dataset=VectorCamDataset(test_data,test_label)"
      ]
    },
    {
      "cell_type": "code",
      "execution_count": 8,
      "id": "6a4372a0",
      "metadata": {
        "id": "6a4372a0"
      },
      "outputs": [],
      "source": [
        "x, y = train_dataset[1]"
      ]
    },
    {
      "cell_type": "code",
      "execution_count": 9,
      "id": "97785617",
      "metadata": {
        "id": "97785617",
        "outputId": "33ad4d56-4a24-4aed-d0c1-156c18ee3650",
        "colab": {
          "base_uri": "https://localhost:8080/",
          "height": 304
        }
      },
      "outputs": [
        {
          "output_type": "stream",
          "name": "stderr",
          "text": [
            "Clipping input data to the valid range for imshow with RGB data ([0..1] for floats or [0..255] for integers).\n"
          ]
        },
        {
          "output_type": "execute_result",
          "data": {
            "text/plain": [
              "<matplotlib.image.AxesImage at 0x7f4ce6ab9c50>"
            ]
          },
          "metadata": {},
          "execution_count": 9
        },
        {
          "output_type": "display_data",
          "data": {
            "text/plain": [
              "<Figure size 432x288 with 1 Axes>"
            ],
            "image/png": "[encoded data removed]"
          },
          "metadata": {
            "needs_background": "light"
          }
        }
      ],
      "source": [
        "plt.imshow(torch.permute(x, (1, 2, 0)))"
      ]
    },
    {
      "cell_type": "code",
      "execution_count": 10,
      "id": "95c5af8e",
      "metadata": {
        "id": "95c5af8e",
        "outputId": "6baa764f-9d27-4117-c954-8a8fb0abc2e1",
        "colab": {
          "base_uri": "https://localhost:8080/"
        }
      },
      "outputs": [
        {
          "output_type": "stream",
          "name": "stdout",
          "text": [
            "[1285  466  444  894  325]\n",
            "tensor([0.0008, 0.0021, 0.0023, 0.0011, 0.0031])\n"
          ]
        },
        {
          "output_type": "stream",
          "name": "stderr",
          "text": [
            "/usr/local/lib/python3.7/dist-packages/ipykernel_launcher.py:3: UserWarning: To copy construct from a tensor, it is recommended to use sourceTensor.clone().detach() or sourceTensor.clone().detach().requires_grad_(True), rather than torch.tensor(sourceTensor).\n",
            "  This is separate from the ipykernel package so we can avoid doing imports until\n"
          ]
        }
      ],
      "source": [
        "from torch.utils.data import DataLoader,WeightedRandomSampler\n",
        "\n",
        "target_list = torch.tensor(train_dataset.labels)\n",
        "class_count = np.array([len(np.where(train_dataset.labels == t)[0]) for t in np.unique(train_dataset.labels)])\n",
        "print(class_count)\n",
        "class_weights = 1./torch.tensor(class_count, dtype=torch.float)\n",
        "print(class_weights)\n",
        "class_weights_all = class_weights[target_list]\n",
        "weighted_sampler = WeightedRandomSampler(\n",
        "    weights=class_weights_all,\n",
        "    num_samples=len(class_weights_all),\n",
        "    replacement=True\n",
        "    )"
      ]
    },
    {
      "cell_type": "code",
      "execution_count": 11,
      "id": "e26af390",
      "metadata": {
        "id": "e26af390"
      },
      "outputs": [],
      "source": [
        "from torch.utils.data import DataLoader\n",
        "train_dataloader = DataLoader(train_dataset,sampler=weighted_sampler, batch_size = 32)\n",
        "test_dataloader = DataLoader(test_dataset,batch_size=32, shuffle=False)"
      ]
    },
    {
      "cell_type": "code",
      "execution_count": 12,
      "id": "4ae21fed",
      "metadata": {
        "id": "4ae21fed",
        "outputId": "e4594d22-4551-43f3-94e0-f97cf7224720",
        "colab": {
          "base_uri": "https://localhost:8080/"
        }
      },
      "outputs": [
        {
          "output_type": "stream",
          "name": "stdout",
          "text": [
            "batch index 0, 0/1: 7/6/7/3/9\n",
            "batch index 1, 0/1: 4/5/6/9/8\n",
            "batch index 2, 0/1: 4/7/6/8/7\n",
            "batch index 3, 0/1: 6/6/6/8/6\n",
            "batch index 4, 0/1: 4/6/6/8/8\n",
            "batch index 5, 0/1: 2/9/6/12/3\n",
            "batch index 6, 0/1: 8/5/4/8/7\n",
            "batch index 7, 0/1: 10/4/5/7/6\n",
            "batch index 8, 0/1: 9/6/3/9/5\n",
            "batch index 9, 0/1: 8/5/5/9/5\n",
            "batch index 10, 0/1: 4/6/8/8/6\n",
            "batch index 11, 0/1: 6/7/6/8/5\n",
            "batch index 12, 0/1: 4/9/7/8/4\n",
            "batch index 13, 0/1: 9/4/5/8/6\n",
            "batch index 14, 0/1: 3/11/10/4/4\n",
            "batch index 15, 0/1: 3/8/5/7/9\n",
            "batch index 16, 0/1: 8/10/7/5/2\n",
            "batch index 17, 0/1: 4/7/8/6/7\n",
            "batch index 18, 0/1: 7/8/6/4/7\n",
            "batch index 19, 0/1: 11/3/2/7/9\n",
            "batch index 20, 0/1: 3/7/11/6/5\n",
            "batch index 21, 0/1: 10/5/8/6/3\n",
            "batch index 22, 0/1: 5/7/7/6/7\n",
            "batch index 23, 0/1: 3/8/6/7/8\n",
            "batch index 24, 0/1: 9/4/8/8/3\n",
            "batch index 25, 0/1: 4/6/7/11/4\n",
            "batch index 26, 0/1: 7/8/5/6/6\n",
            "batch index 27, 0/1: 6/4/8/7/7\n",
            "batch index 28, 0/1: 5/7/5/9/6\n",
            "batch index 29, 0/1: 5/8/8/6/5\n",
            "batch index 30, 0/1: 5/8/5/5/9\n",
            "batch index 31, 0/1: 10/4/5/7/6\n",
            "batch index 32, 0/1: 7/5/9/7/4\n",
            "batch index 33, 0/1: 4/6/7/6/9\n",
            "batch index 34, 0/1: 6/4/5/8/9\n",
            "batch index 35, 0/1: 7/7/5/3/10\n",
            "batch index 36, 0/1: 10/9/4/3/6\n",
            "batch index 37, 0/1: 7/7/8/3/7\n",
            "batch index 38, 0/1: 3/7/8/8/6\n",
            "batch index 39, 0/1: 5/5/9/6/7\n",
            "batch index 40, 0/1: 5/10/4/6/7\n",
            "batch index 41, 0/1: 9/6/7/6/4\n",
            "batch index 42, 0/1: 5/10/7/5/5\n",
            "batch index 43, 0/1: 6/5/5/10/6\n",
            "batch index 44, 0/1: 2/7/9/5/9\n",
            "batch index 45, 0/1: 6/6/12/4/4\n",
            "batch index 46, 0/1: 8/6/5/8/5\n",
            "batch index 47, 0/1: 7/10/3/10/2\n",
            "batch index 48, 0/1: 8/6/8/3/7\n",
            "batch index 49, 0/1: 12/7/6/5/2\n",
            "batch index 50, 0/1: 7/5/6/8/6\n",
            "batch index 51, 0/1: 12/3/6/7/4\n",
            "batch index 52, 0/1: 9/5/5/8/5\n",
            "batch index 53, 0/1: 4/8/8/6/6\n",
            "batch index 54, 0/1: 5/7/7/8/5\n",
            "batch index 55, 0/1: 2/13/2/10/5\n",
            "batch index 56, 0/1: 6/12/4/7/3\n",
            "batch index 57, 0/1: 10/8/5/5/4\n",
            "batch index 58, 0/1: 6/7/6/4/9\n",
            "batch index 59, 0/1: 6/11/7/2/6\n",
            "batch index 60, 0/1: 6/5/7/9/5\n",
            "batch index 61, 0/1: 7/3/7/7/8\n",
            "batch index 62, 0/1: 6/4/7/8/7\n",
            "batch index 63, 0/1: 11/3/4/6/8\n",
            "batch index 64, 0/1: 9/3/4/9/7\n",
            "batch index 65, 0/1: 5/9/6/7/5\n",
            "batch index 66, 0/1: 8/2/7/7/8\n",
            "batch index 67, 0/1: 5/5/8/7/7\n",
            "batch index 68, 0/1: 10/4/5/4/9\n",
            "batch index 69, 0/1: 5/8/9/3/7\n",
            "batch index 70, 0/1: 6/6/6/6/8\n",
            "batch index 71, 0/1: 6/4/12/5/5\n",
            "batch index 72, 0/1: 7/7/4/3/11\n",
            "batch index 73, 0/1: 12/6/3/7/4\n",
            "batch index 74, 0/1: 5/9/6/5/7\n",
            "batch index 75, 0/1: 7/9/2/8/6\n",
            "batch index 76, 0/1: 3/11/7/5/6\n",
            "batch index 77, 0/1: 5/3/8/7/9\n",
            "batch index 78, 0/1: 9/7/9/3/4\n",
            "batch index 79, 0/1: 7/4/5/6/10\n",
            "batch index 80, 0/1: 4/3/8/12/5\n",
            "batch index 81, 0/1: 8/5/2/11/6\n",
            "batch index 82, 0/1: 10/5/6/4/7\n",
            "batch index 83, 0/1: 9/6/8/4/5\n",
            "batch index 84, 0/1: 7/8/2/6/9\n",
            "batch index 85, 0/1: 7/7/8/8/2\n",
            "batch index 86, 0/1: 4/3/10/4/11\n",
            "batch index 87, 0/1: 7/8/4/7/6\n",
            "batch index 88, 0/1: 6/9/4/9/4\n",
            "batch index 89, 0/1: 3/4/11/7/7\n",
            "batch index 90, 0/1: 9/3/4/9/7\n",
            "batch index 91, 0/1: 7/7/4/5/9\n",
            "batch index 92, 0/1: 6/5/11/7/3\n",
            "batch index 93, 0/1: 7/7/7/6/5\n",
            "batch index 94, 0/1: 5/6/10/7/4\n",
            "batch index 95, 0/1: 3/9/8/5/7\n",
            "batch index 96, 0/1: 8/6/6/8/4\n",
            "batch index 97, 0/1: 6/8/6/3/9\n",
            "batch index 98, 0/1: 9/6/7/5/5\n",
            "batch index 99, 0/1: 7/6/6/6/7\n",
            "batch index 100, 0/1: 4/6/6/8/8\n",
            "batch index 101, 0/1: 9/5/11/4/3\n",
            "batch index 102, 0/1: 6/8/6/7/5\n",
            "batch index 103, 0/1: 8/6/7/6/5\n",
            "batch index 104, 0/1: 5/4/10/8/5\n",
            "batch index 105, 0/1: 7/7/8/5/5\n",
            "batch index 106, 0/1: 3/4/3/5/7\n"
          ]
        }
      ],
      "source": [
        "for i, (data, target) in enumerate(train_dataloader):\n",
        "    print(\"batch index {}, 0/1: {}/{}/{}/{}/{}\".format(\n",
        "        i,\n",
        "        len(np.where(target.numpy() == 0)[0]),\n",
        "        len(np.where(target.numpy() == 1)[0]),\n",
        "        len(np.where(target.numpy() == 2)[0]),\n",
        "        len(np.where(target.numpy() == 3)[0]),\n",
        "        len(np.where(target.numpy() == 4)[0])))"
      ]
    },
    {
      "cell_type": "code",
      "execution_count": 13,
      "id": "d873d017",
      "metadata": {
        "id": "d873d017"
      },
      "outputs": [],
      "source": [
        "from torchvision import models\n",
        "model = models.efficientnet_b1(pretrained=False)\n",
        "model.fc = nn.Linear(2048, 5)\n",
        "#model.AuxLogits.fc = nn.Linear(768, 5)\n",
        "#model.load_state_dict(torch.load('/home/shrutihegde/Desktop/EfficientNet/Species_EfficientNet_with_augmentation3.pt'))\n",
        "model = model.to(device)"
      ]
    },
    {
      "cell_type": "code",
      "execution_count": 15,
      "id": "d56a8459",
      "metadata": {
        "id": "d56a8459"
      },
      "outputs": [],
      "source": [
        "EPOCHS = 20\n",
        "criterion = nn.CrossEntropyLoss()\n",
        "#optimizer = optim.Adam(model.parameters(),lr = 0.001, weight_decay = 1e-5)\n",
        "optimizer = optim.SGD(model.parameters(),lr=1e-4, momentum=0.9)\n",
        "#optimizer = optim.SGD(model.parameters(), lr=0.0001)\n",
        "#scheduler = torch.optim.lr_scheduler.StepLR(optimizer, step_size=10, gamma=0.15)"
      ]
    },
    {
      "cell_type": "code",
      "execution_count": 16,
      "id": "f50004d7",
      "metadata": {
        "id": "f50004d7"
      },
      "outputs": [],
      "source": [
        "def focal_loss(inputs, targets, reduction=\"mean\"):\n",
        "    CE_loss = F.cross_entropy(inputs, targets, reduction=reduction)\n",
        "    pt = torch.exp(-CE_loss)  # prevents nans when probability 0\n",
        "    F_loss = 0.25 * (1 - pt) ** 5 * CE_loss\n",
        "    return F_loss.mean()"
      ]
    },
    {
      "cell_type": "code",
      "execution_count": 17,
      "id": "e40b6281",
      "metadata": {
        "id": "e40b6281"
      },
      "outputs": [],
      "source": [
        "def train(model):\n",
        "    train_loss = []\n",
        "    valid_loss = []\n",
        "    train_acc = []\n",
        "    valid_acc = []\n",
        "\n",
        "    for epoch in range (EPOCHS+1):\n",
        "        print(epoch)\n",
        "        correct = 0\n",
        "        total = 0\n",
        "        train_ave_loss = 0\n",
        "        model.train()\n",
        "        for batch_X, batch_Y in train_dataloader:\n",
        "            \n",
        "            batch_X = batch_X.to(device)\n",
        "            batch_Y = batch_Y.to(device)\n",
        "\n",
        "            # zero gradient\n",
        "            optimizer.zero_grad()\n",
        "            # pass through\n",
        "            outputs = model(batch_X)\n",
        "\n",
        "            # compute loss and back propagate\n",
        "            loss = criterion(outputs, batch_Y)\n",
        "            #loss2 = criterion(aux_outputs, batch_Y)\n",
        "            #loss = loss1 + 0.4 * loss2\n",
        "            \n",
        "            loss.backward()\n",
        "            # optimize\n",
        "            optimizer.step()\n",
        "            \n",
        "            train_ave_loss += loss.data.item()\n",
        "            _, predicted = outputs.max(1)\n",
        "            total += batch_Y.size(0)\n",
        "            correct += predicted.eq(batch_Y).sum().item()\n",
        "            \n",
        "        \n",
        "        train_loss.append(train_ave_loss/len(train_dataloader))\n",
        "        train_acc.append(100.*correct/total)\n",
        "        print(f\"Epoch: {epoch},Train Loss: {train_ave_loss/len(train_dataloader)} | Train Acc: {100.*correct/total} ({correct}/{total})\")\n",
        "    \n",
        "        if epoch % 1 == 0:\n",
        "        \n",
        "            model.eval()\n",
        "            valid_correct = 0\n",
        "            valid_total = 0\n",
        "            valid_ave_loss = 0\n",
        "            with torch.no_grad():\n",
        "\n",
        "                for valid_batch_X, valid_batch_Y in test_dataloader:\n",
        "                    \n",
        "                    valid_batch_X = valid_batch_X.to(device)\n",
        "                    valid_batch_Y = valid_batch_Y.to(device)\n",
        "            \n",
        "                    valid_outputs = model(valid_batch_X)\n",
        "                    loss = criterion(valid_outputs, valid_batch_Y)\n",
        "                    valid_ave_loss += loss.data.item()\n",
        "        \n",
        "                    _, predicted = valid_outputs.max(1)\n",
        "\n",
        "                    valid_correct += predicted.eq(valid_batch_Y).sum().item()\n",
        "                    valid_total += valid_batch_Y.size(0)\n",
        "                    \n",
        "            valid_loss.append(valid_ave_loss/len(test_dataloader))\n",
        "            valid_acc.append(100.*valid_correct/valid_total)\n",
        "    \n",
        "            print(f\"Validation Loss: {valid_ave_loss/len(test_dataloader)} | Validation Acc: {100.*valid_correct/valid_total} ({valid_correct}/{valid_total})\")\n",
        "            #torch.save(model.state_dict(), \\\n",
        "            #   'drive/MyDrive/pretrain_data_path/pretrain_Inception{}.pt'.format(str(epoch//1+2)))\n",
        "        \n",
        "        #scheduler.step()\n",
        "        \n",
        "    return train_loss, valid_loss, train_acc, valid_acc\n",
        "\n",
        "        \n",
        "def test(model):\n",
        "    correct = 0 \n",
        "    total = 0\n",
        "    model.eval()\n",
        "    out = []\n",
        "    with torch.no_grad():\n",
        "        for inputs, labels in test_dataloader:\n",
        "            \n",
        "            inputs = inputs.to(device)\n",
        "            labels = labels.to(device)\n",
        "            \n",
        "            outputs = model(inputs)\n",
        "            #loss = criterion(outputs, test_y[i].to(device).long())\n",
        "            _, predicted = outputs.max(1)\n",
        "            out.append(predicted.cpu().detach().numpy())\n",
        "\n",
        "            correct += predicted.eq(labels).sum().item()\n",
        "            total += labels.size(0)\n",
        "    \n",
        "    print(\"Accuracy:\", round(correct/total, 3))\n",
        "    return out"
      ]
    },
    {
      "cell_type": "code",
      "execution_count": 18,
      "id": "1da206ad",
      "metadata": {
        "id": "1da206ad",
        "outputId": "7e754c14-8be6-4ea8-f96d-1ebb3e9cf826",
        "colab": {
          "base_uri": "https://localhost:8080/"
        }
      },
      "outputs": [
        {
          "output_type": "stream",
          "name": "stdout",
          "text": [
            "0\n",
            "Epoch: 0,Train Loss: 6.546259068997107 | Train Acc: 14.997070884592853 (512/3414)\n",
            "Validation Loss: 6.642184416453044 | Validation Acc: 14.395393474088293 (150/1042)\n",
            "1\n",
            "Epoch: 1,Train Loss: 5.703972437671411 | Train Acc: 31.487990626830697 (1075/3414)\n",
            "Validation Loss: 6.056914676319469 | Validation Acc: 50.8637236084453 (530/1042)\n",
            "2\n",
            "Epoch: 2,Train Loss: 4.931057181313773 | Train Acc: 31.75161101347393 (1084/3414)\n",
            "Validation Loss: 5.261467702461012 | Validation Acc: 52.20729366602687 (544/1042)\n",
            "3\n",
            "Epoch: 3,Train Loss: 4.108855726562928 | Train Acc: 34.387814879906266 (1174/3414)\n",
            "Validation Loss: 4.176152301557137 | Validation Acc: 54.60652591170825 (569/1042)\n",
            "4\n",
            "Epoch: 4,Train Loss: 3.360842352715608 | Train Acc: 36.438195664909195 (1244/3414)\n",
            "Validation Loss: 3.3924541256644507 | Validation Acc: 44.72168905950096 (466/1042)\n",
            "5\n",
            "Epoch: 5,Train Loss: 2.7070941546252953 | Train Acc: 40.27533684827182 (1375/3414)\n",
            "Validation Loss: 2.7417651902545583 | Validation Acc: 36.756238003838774 (383/1042)\n",
            "6\n",
            "Epoch: 6,Train Loss: 2.24279281469149 | Train Acc: 45.07908611599297 (1539/3414)\n",
            "Validation Loss: 2.163298538236907 | Validation Acc: 53.6468330134357 (559/1042)\n",
            "7\n",
            "Epoch: 7,Train Loss: 1.9698944336900086 | Train Acc: 47.715289982425304 (1629/3414)\n",
            "Validation Loss: 1.792102123751785 | Validation Acc: 51.91938579654511 (541/1042)\n",
            "8\n",
            "Epoch: 8,Train Loss: 1.753271526265367 | Train Acc: 51.49384885764499 (1758/3414)\n",
            "Validation Loss: 1.6529850950746825 | Validation Acc: 54.510556621881 (568/1042)\n",
            "9\n",
            "Epoch: 9,Train Loss: 1.6024748922508454 | Train Acc: 55.887521968365554 (1908/3414)\n",
            "Validation Loss: 1.6483883198463556 | Validation Acc: 53.93474088291747 (562/1042)\n",
            "10\n",
            "Epoch: 10,Train Loss: 1.525118696355374 | Train Acc: 56.2390158172232 (1920/3414)\n",
            "Validation Loss: 1.2995943106485135 | Validation Acc: 59.30902111324376 (618/1042)\n",
            "11\n",
            "Epoch: 11,Train Loss: 1.3594402659719236 | Train Acc: 59.343878148799064 (2026/3414)\n",
            "Validation Loss: 1.5023972764611244 | Validation Acc: 53.26295585412668 (555/1042)\n",
            "12\n",
            "Epoch: 12,Train Loss: 1.2783725116854516 | Train Acc: 60.54481546572935 (2067/3414)\n",
            "Validation Loss: 1.4689704861604806 | Validation Acc: 62.284069097888676 (649/1042)\n",
            "13\n",
            "Epoch: 13,Train Loss: 1.2394956562006585 | Train Acc: 61.33567662565905 (2094/3414)\n",
            "Validation Loss: 1.148994506760077 | Validation Acc: 62.284069097888676 (649/1042)\n",
            "14\n",
            "Epoch: 14,Train Loss: 1.1614609739490758 | Train Acc: 62.41944932630346 (2131/3414)\n",
            "Validation Loss: 0.9818457326654232 | Validation Acc: 69.9616122840691 (729/1042)\n",
            "15\n",
            "Epoch: 15,Train Loss: 1.1201348260184314 | Train Acc: 64.23550087873463 (2193/3414)\n",
            "Validation Loss: 1.0786838712114277 | Validation Acc: 65.54702495201535 (683/1042)\n",
            "16\n",
            "Epoch: 16,Train Loss: 0.9934498238786359 | Train Acc: 67.69185705916813 (2311/3414)\n",
            "Validation Loss: 0.9140436638033751 | Validation Acc: 70.05758157389636 (730/1042)\n",
            "17\n",
            "Epoch: 17,Train Loss: 0.9685165146800959 | Train Acc: 66.8424135910955 (2282/3414)\n",
            "Validation Loss: 0.9277127053249966 | Validation Acc: 68.71401151631478 (716/1042)\n",
            "18\n",
            "Epoch: 18,Train Loss: 0.9190591339753053 | Train Acc: 68.804920913884 (2349/3414)\n",
            "Validation Loss: 1.1514631877229973 | Validation Acc: 61.90019193857965 (645/1042)\n",
            "19\n",
            "Epoch: 19,Train Loss: 0.9166991309584859 | Train Acc: 68.9220855301699 (2353/3414)\n",
            "Validation Loss: 1.0937268491269965 | Validation Acc: 63.531669865642996 (662/1042)\n",
            "20\n",
            "Epoch: 20,Train Loss: 0.8810011783492899 | Train Acc: 68.86350322202695 (2351/3414)\n",
            "Validation Loss: 0.8488615447598876 | Validation Acc: 74.56813819577735 (777/1042)\n"
          ]
        }
      ],
      "source": [
        "train_loss, valid_loss, train_acc, valid_acc = train(model)"
      ]
    },
    {
      "cell_type": "code",
      "execution_count": 19,
      "id": "38d19c2e",
      "metadata": {
        "id": "38d19c2e",
        "colab": {
          "base_uri": "https://localhost:8080/"
        },
        "outputId": "fcad4601-4df1-4251-8cb8-f18433fe975e"
      },
      "outputs": [
        {
          "output_type": "stream",
          "name": "stdout",
          "text": [
            "Accuracy: 0.746\n"
          ]
        }
      ],
      "source": [
        " out = test(model)"
      ]
    },
    {
      "cell_type": "code",
      "execution_count": 20,
      "id": "fe9bc918",
      "metadata": {
        "id": "fe9bc918"
      },
      "outputs": [],
      "source": [
        "out = np.concatenate(out).ravel()"
      ]
    },
    {
      "cell_type": "code",
      "execution_count": 21,
      "id": "c6a23a2d",
      "metadata": {
        "id": "c6a23a2d",
        "colab": {
          "base_uri": "https://localhost:8080/"
        },
        "outputId": "6dcf8784-3365-4fc5-92ea-920ded25c61e"
      },
      "outputs": [
        {
          "output_type": "execute_result",
          "data": {
            "text/plain": [
              "array([3, 2, 2, ..., 0, 0, 0])"
            ]
          },
          "metadata": {},
          "execution_count": 21
        }
      ],
      "source": [
        "out"
      ]
    },
    {
      "cell_type": "code",
      "execution_count": 22,
      "id": "702810dc",
      "metadata": {
        "id": "702810dc",
        "colab": {
          "base_uri": "https://localhost:8080/",
          "height": 738
        },
        "outputId": "e94cfaec-14ce-4a29-b54e-fb50e0f817e5"
      },
      "outputs": [
        {
          "output_type": "stream",
          "name": "stdout",
          "text": [
            "              precision    recall  f1-score   support\n",
            "\n",
            "           0       0.78      0.97      0.87       410\n",
            "           1       0.53      0.50      0.51       159\n",
            "           2       0.69      0.43      0.53       151\n",
            "           3       0.85      0.73      0.78       252\n",
            "           4       0.69      0.76      0.72        70\n",
            "\n",
            "    accuracy                           0.75      1042\n",
            "   macro avg       0.71      0.68      0.68      1042\n",
            "weighted avg       0.74      0.75      0.73      1042\n",
            "\n"
          ]
        },
        {
          "output_type": "display_data",
          "data": {
            "text/plain": [
              "<Figure size 576x576 with 2 Axes>"
            ],
            "image/png": "[encoded data removed]"
          },
          "metadata": {
            "needs_background": "light"
          }
        }
      ],
      "source": [
        "import seaborn as sn\n",
        "from sklearn.metrics import classification_report\n",
        "from sklearn.metrics import confusion_matrix\n",
        "species_all = [\"AF\",\n",
        "        \"AG\",\n",
        "        \"A_other\",\n",
        "        \"Culex\",\n",
        "        \"Other\"]\n",
        "# print classification report\n",
        "print(classification_report(test_label, out))\n",
        "\n",
        "# make confusion matrix\n",
        "conf_mat = confusion_matrix(test_label, out)\n",
        "conf_mat = conf_mat / np.expand_dims(conf_mat.astype(np.float64).sum(axis=1),1)\n",
        "conf_mat = np.round(conf_mat, decimals=2)\n",
        "fig = plt.figure(figsize=(8,8))\n",
        "ax = plt.subplot()\n",
        "hm = sn.heatmap(conf_mat, annot=True, ax = ax, cmap=\"PuBu\", fmt='.2', annot_kws={\"size\": 35 / np.sqrt(len(conf_mat))})\n",
        "ax.set_yticklabels(hm.get_yticklabels(), rotation=90)\n",
        "ax.set_xlabel('Predicted labels', fontsize = 15);ax.set_ylabel('True labels', fontsize = 15); \n",
        "ax.xaxis.set_ticklabels(species_all); ax.yaxis.set_ticklabels(species_all)\n",
        "plt.xticks(rotation = 90)\n",
        "plt.yticks(rotation = 0)\n",
        "plt.savefig('/content/drive/MyDrive/CBID/EfficientNet/Species_EfficientNet_with_augmentation3.jpg')\n",
        "plt.show();\n"
      ]
    },
    {
      "cell_type": "code",
      "execution_count": 23,
      "id": "0c9de0d3",
      "metadata": {
        "id": "0c9de0d3"
      },
      "outputs": [],
      "source": [
        "torch.save(model.state_dict(), \\\n",
        "               '/content/drive/MyDrive/CBID/EfficientNet/Species_EfficientNet_with_augmentation3.pt')"
      ]
    },
    {
      "cell_type": "code",
      "execution_count": null,
      "id": "e9b44bde",
      "metadata": {
        "id": "e9b44bde"
      },
      "outputs": [],
      "source": [
        ""
      ]
    }
  ],
  "metadata": {
    "colab": {
      "collapsed_sections": [
        "ADSzINp0sJt1",
        "hQd_jHtYuFZI",
        "dmxZkl8gtZuc"
      ],
      "name": "Species_EfficientNet_3.ipynb",
      "provenance": []
    },
    "kernelspec": {
      "display_name": "torch",
      "language": "python",
      "name": "torch"
    },
    "language_info": {
      "codemirror_mode": {
        "name": "ipython",
        "version": 3
      },
      "file_extension": ".py",
      "mimetype": "text/x-python",
      "name": "python",
      "nbconvert_exporter": "python",
      "pygments_lexer": "ipython3",
      "version": "3.9.12"
    },
    "accelerator": "GPU"
  },
  "nbformat": 4,
  "nbformat_minor": 5
}
