{
  "cells": [
    {
      "cell_type": "markdown",
      "id": "53a4a03c",
      "metadata": {
        "id": "53a4a03c"
      },
      "source": [
        "Species Classification\n",
        "\n",
        "0-funestus 1-gambiae 2-Anopheles_other 3-culex 4-All other"
      ]
    },
    {
      "cell_type": "code",
      "execution_count": 39,
      "id": "6ccf7927",
      "metadata": {
        "id": "6ccf7927"
      },
      "outputs": [],
      "source": [
        "%matplotlib inline\n",
        "import numpy as np\n",
        "import pandas as pd\n",
        "import matplotlib.pyplot as plt\n",
        "import time\n",
        "import random\n",
        "import math\n",
        "import os\n",
        "from tqdm import tqdm\n",
        "import torch\n",
        "import torch.nn as nn\n",
        "import torch.nn.functional as F\n",
        "import torch.optim as optim\n",
        "import cv2\n",
        "import re"
      ]
    },
    {
      "cell_type": "code",
      "source": [
        "!nvidia-smi"
      ],
      "metadata": {
        "colab": {
          "base_uri": "https://localhost:8080/"
        },
        "id": "KCCtNz5TSpu3",
        "outputId": "b4bd6a74-c726-4d90-d90d-14a78c295b37"
      },
      "id": "KCCtNz5TSpu3",
      "execution_count": 40,
      "outputs": [
        {
          "output_type": "stream",
          "name": "stdout",
          "text": [
            "Thu May 26 03:41:42 2022       \n",
            "+-----------------------------------------------------------------------------+\n",
            "| NVIDIA-SMI 460.32.03    Driver Version: 460.32.03    CUDA Version: 11.2     |\n",
            "|-------------------------------+----------------------+----------------------+\n",
            "| GPU  Name        Persistence-M| Bus-Id        Disp.A | Volatile Uncorr. ECC |\n",
            "| Fan  Temp  Perf  Pwr:Usage/Cap|         Memory-Usage | GPU-Util  Compute M. |\n",
            "|                               |                      |               MIG M. |\n",
            "|===============================+======================+======================|\n",
            "|   0  Tesla P100-PCIE...  Off  | 00000000:00:04.0 Off |                    0 |\n",
            "| N/A   69C    P0    48W / 250W |   8343MiB / 16280MiB |      0%      Default |\n",
            "|                               |                      |                  N/A |\n",
            "+-------------------------------+----------------------+----------------------+\n",
            "                                                                               \n",
            "+-----------------------------------------------------------------------------+\n",
            "| Processes:                                                                  |\n",
            "|  GPU   GI   CI        PID   Type   Process name                  GPU Memory |\n",
            "|        ID   ID                                                   Usage      |\n",
            "|=============================================================================|\n",
            "+-----------------------------------------------------------------------------+\n"
          ]
        }
      ]
    },
    {
      "cell_type": "code",
      "source": [
        "from google.colab import drive\n",
        "drive.mount('/content/drive')"
      ],
      "metadata": {
        "id": "OgA1Ji_N2ZAM",
        "outputId": "168fa7ae-f5cb-4cea-a438-5186ea07ed2a",
        "colab": {
          "base_uri": "https://localhost:8080/"
        }
      },
      "id": "OgA1Ji_N2ZAM",
      "execution_count": 41,
      "outputs": [
        {
          "output_type": "stream",
          "name": "stdout",
          "text": [
            "Drive already mounted at /content/drive; to attempt to forcibly remount, call drive.mount(\"/content/drive\", force_remount=True).\n"
          ]
        }
      ]
    },
    {
      "cell_type": "markdown",
      "id": "dmxZkl8gtZuc",
      "metadata": {
        "id": "dmxZkl8gtZuc"
      },
      "source": [
        "# Train and test "
      ]
    },
    {
      "cell_type": "code",
      "execution_count": 42,
      "id": "8d934d48",
      "metadata": {
        "id": "8d934d48"
      },
      "outputs": [],
      "source": [
        "train_data = torch.load(\"/content/drive/MyDrive/CBID/EfficientNet/train_whole_data_fold2.pt\")\n",
        "train_label = torch.load(\"/content/drive/MyDrive/CBID/EfficientNet/train_whole_label_fold2.pt\")\n",
        "test_data = torch.load(\"/content/drive/MyDrive/CBID/EfficientNet/test_whole_data.pt\")\n",
        "test_label = torch.load(\"/content/drive/MyDrive/CBID/EfficientNet/test_whole_label.pt\")"
      ]
    },
    {
      "cell_type": "code",
      "execution_count": 43,
      "id": "f79eafda",
      "metadata": {
        "id": "f79eafda",
        "outputId": "9568be74-bcc6-45c6-e5ed-9225cb438f5a",
        "colab": {
          "base_uri": "https://localhost:8080/"
        }
      },
      "outputs": [
        {
          "output_type": "stream",
          "name": "stdout",
          "text": [
            "running on the GPU\n"
          ]
        }
      ],
      "source": [
        "if torch.cuda.is_available():\n",
        "    device = torch.device(\"cuda:0\")\n",
        "    print (\"running on the GPU\")\n",
        "else:\n",
        "    device = torch.device(\"cpu\")\n",
        "    print (\"running on the cpu\")"
      ]
    },
    {
      "cell_type": "code",
      "source": [
        "!pip install efficientnet_pytorch"
      ],
      "metadata": {
        "colab": {
          "base_uri": "https://localhost:8080/"
        },
        "id": "EUaBessjZYm7",
        "outputId": "0a635866-0e0b-4cde-babd-2cfcba468e04"
      },
      "id": "EUaBessjZYm7",
      "execution_count": 44,
      "outputs": [
        {
          "output_type": "stream",
          "name": "stdout",
          "text": [
            "Looking in indexes: https://pypi.org/simple, https://us-python.pkg.dev/colab-wheels/public/simple/\n",
            "Requirement already satisfied: efficientnet_pytorch in /usr/local/lib/python3.7/dist-packages (0.7.1)\n",
            "Requirement already satisfied: torch in /usr/local/lib/python3.7/dist-packages (from efficientnet_pytorch) (1.11.0+cu113)\n",
            "Requirement already satisfied: typing-extensions in /usr/local/lib/python3.7/dist-packages (from torch->efficientnet_pytorch) (4.2.0)\n"
          ]
        }
      ]
    },
    {
      "cell_type": "code",
      "execution_count": 45,
      "id": "09bc0d6c",
      "metadata": {
        "id": "09bc0d6c"
      },
      "outputs": [],
      "source": [
        "from torch.utils.data import Dataset\n",
        "from efficientnet_pytorch import EfficientNet\n",
        "\n",
        "class VectorCamDataset(Dataset):\n",
        "    \n",
        "    \n",
        "    def __init__(self, data, labels, transform=None):\n",
        "        'Initialization'\n",
        "        self.labels = labels\n",
        "        self.data = data\n",
        "        self.transform = transform\n",
        "\n",
        "    def __len__(self):\n",
        "        'Denotes the total number of samples'\n",
        "        return len(self.data)\n",
        "\n",
        "    def __getitem__(self, index):\n",
        "        \n",
        "        'Generates one sample of data'\n",
        "\n",
        "        # Load data and get label\n",
        "        x = self.data[index]\n",
        "        y = self.labels[index]\n",
        "        if self.transform:\n",
        "            x = self.transform(x)\n",
        "\n",
        "        return x, y"
      ]
    },
    {
      "cell_type": "code",
      "execution_count": 46,
      "id": "43415bc8",
      "metadata": {
        "id": "43415bc8"
      },
      "outputs": [],
      "source": [
        "from torchvision import transforms\n",
        "invTrans = transforms.Compose([ \n",
        "                              #  transforms.RandomResizedCrop(size=160,scale=(0.6,1.0)),\n",
        "                                # transforms.RandomHorizontalFlip(),\n",
        "                                transforms.RandomHorizontalFlip(p=0.25),\n",
        "                                transforms.RandomVerticalFlip(p=0.25),\n",
        "                                transforms.RandomRotation(degrees=(-45,45), fill=(0,)),\n",
        "                                transforms.RandomPerspective(distortion_scale=0.2),\n",
        "                                #transforms.RandomAffine(degrees=(20,80),translate=(0.1,0.3),scale=(0.7,0.9)),\n",
        "                                transforms.ColorJitter()\n",
        "                               \n",
        "                               \n",
        "                                #transforms.Normalize(mean = [ 0.5150, 0.7373, 1.1327 ],\n",
        "                                #                     std = [ 0.5055, 0.4621, 0.4949 ]),\n",
        "    \n",
        "                               ])"
      ]
    },
    {
      "cell_type": "code",
      "execution_count": 47,
      "id": "3a00d7ad",
      "metadata": {
        "id": "3a00d7ad"
      },
      "outputs": [],
      "source": [
        "train_dataset=VectorCamDataset(train_data,train_label,transform=invTrans)\n",
        "test_dataset=VectorCamDataset(test_data,test_label)"
      ]
    },
    {
      "cell_type": "code",
      "execution_count": 48,
      "id": "6a4372a0",
      "metadata": {
        "id": "6a4372a0"
      },
      "outputs": [],
      "source": [
        "x, y = train_dataset[1]"
      ]
    },
    {
      "cell_type": "code",
      "execution_count": 49,
      "id": "97785617",
      "metadata": {
        "id": "97785617",
        "outputId": "4efe9ae9-d099-401d-9525-07adbbe122cd",
        "colab": {
          "base_uri": "https://localhost:8080/",
          "height": 304
        }
      },
      "outputs": [
        {
          "output_type": "stream",
          "name": "stderr",
          "text": [
            "Clipping input data to the valid range for imshow with RGB data ([0..1] for floats or [0..255] for integers).\n"
          ]
        },
        {
          "output_type": "execute_result",
          "data": {
            "text/plain": [
              "<matplotlib.image.AxesImage at 0x7f843149de90>"
            ]
          },
          "metadata": {},
          "execution_count": 49
        },
        {
          "output_type": "display_data",
          "data": {
            "text/plain": [
              "<Figure size 432x288 with 1 Axes>"
            ],
            "image/png": "[encoded data removed]"
          },
          "metadata": {
            "needs_background": "light"
          }
        }
      ],
      "source": [
        "plt.imshow(torch.permute(x, (1, 2, 0)))"
      ]
    },
    {
      "cell_type": "code",
      "execution_count": 50,
      "id": "95c5af8e",
      "metadata": {
        "id": "95c5af8e",
        "outputId": "04048a2e-85a3-4fea-9dae-28e96702c493",
        "colab": {
          "base_uri": "https://localhost:8080/"
        }
      },
      "outputs": [
        {
          "output_type": "stream",
          "name": "stdout",
          "text": [
            "[1285  466  444  894  325]\n",
            "tensor([0.0008, 0.0021, 0.0023, 0.0011, 0.0031])\n"
          ]
        },
        {
          "output_type": "stream",
          "name": "stderr",
          "text": [
            "/usr/local/lib/python3.7/dist-packages/ipykernel_launcher.py:3: UserWarning: To copy construct from a tensor, it is recommended to use sourceTensor.clone().detach() or sourceTensor.clone().detach().requires_grad_(True), rather than torch.tensor(sourceTensor).\n",
            "  This is separate from the ipykernel package so we can avoid doing imports until\n"
          ]
        }
      ],
      "source": [
        "from torch.utils.data import DataLoader,WeightedRandomSampler\n",
        "\n",
        "target_list = torch.tensor(train_dataset.labels)\n",
        "class_count = np.array([len(np.where(train_dataset.labels == t)[0]) for t in np.unique(train_dataset.labels)])\n",
        "print(class_count)\n",
        "class_weights = 1./torch.tensor(class_count, dtype=torch.float)\n",
        "print(class_weights)\n",
        "class_weights_all = class_weights[target_list]\n",
        "weighted_sampler = WeightedRandomSampler(\n",
        "    weights=class_weights_all,\n",
        "    num_samples=len(class_weights_all),\n",
        "    replacement=True\n",
        "    )"
      ]
    },
    {
      "cell_type": "code",
      "execution_count": 51,
      "id": "e26af390",
      "metadata": {
        "id": "e26af390"
      },
      "outputs": [],
      "source": [
        "from torch.utils.data import DataLoader\n",
        "train_dataloader = DataLoader(train_dataset,sampler=weighted_sampler, batch_size = 32)\n",
        "test_dataloader = DataLoader(test_dataset,batch_size=32, shuffle=False)"
      ]
    },
    {
      "cell_type": "code",
      "execution_count": 52,
      "id": "4ae21fed",
      "metadata": {
        "id": "4ae21fed",
        "outputId": "9f1c82fa-a460-4814-8c17-ed935b053d33",
        "colab": {
          "base_uri": "https://localhost:8080/"
        }
      },
      "outputs": [
        {
          "output_type": "stream",
          "name": "stdout",
          "text": [
            "batch index 0, 0/1: 7/8/5/3/9\n",
            "batch index 1, 0/1: 14/7/2/4/5\n",
            "batch index 2, 0/1: 6/7/4/8/7\n",
            "batch index 3, 0/1: 6/7/7/5/7\n",
            "batch index 4, 0/1: 6/9/5/7/5\n",
            "batch index 5, 0/1: 4/11/4/7/6\n",
            "batch index 6, 0/1: 3/6/8/9/6\n",
            "batch index 7, 0/1: 5/11/5/10/1\n",
            "batch index 8, 0/1: 4/7/6/8/7\n",
            "batch index 9, 0/1: 7/9/3/9/4\n",
            "batch index 10, 0/1: 8/8/8/6/2\n",
            "batch index 11, 0/1: 4/5/8/9/6\n",
            "batch index 12, 0/1: 6/6/7/7/6\n",
            "batch index 13, 0/1: 5/5/5/8/9\n",
            "batch index 14, 0/1: 8/5/5/5/9\n",
            "batch index 15, 0/1: 3/8/8/6/7\n",
            "batch index 16, 0/1: 6/8/6/7/5\n",
            "batch index 17, 0/1: 4/8/9/8/3\n",
            "batch index 18, 0/1: 5/5/5/11/6\n",
            "batch index 19, 0/1: 3/5/12/6/6\n",
            "batch index 20, 0/1: 7/11/6/6/2\n",
            "batch index 21, 0/1: 10/9/6/3/4\n",
            "batch index 22, 0/1: 7/7/6/7/5\n",
            "batch index 23, 0/1: 6/9/6/4/7\n",
            "batch index 24, 0/1: 8/6/5/6/7\n",
            "batch index 25, 0/1: 6/1/12/5/8\n",
            "batch index 26, 0/1: 6/7/6/11/2\n",
            "batch index 27, 0/1: 10/4/8/5/5\n",
            "batch index 28, 0/1: 9/8/2/7/6\n",
            "batch index 29, 0/1: 5/4/7/8/8\n",
            "batch index 30, 0/1: 3/5/9/5/10\n",
            "batch index 31, 0/1: 4/10/4/6/8\n",
            "batch index 32, 0/1: 4/8/10/3/7\n",
            "batch index 33, 0/1: 5/3/11/3/10\n",
            "batch index 34, 0/1: 11/5/4/9/3\n",
            "batch index 35, 0/1: 2/9/9/8/4\n",
            "batch index 36, 0/1: 10/8/6/5/3\n",
            "batch index 37, 0/1: 8/5/7/4/8\n",
            "batch index 38, 0/1: 6/4/4/10/8\n",
            "batch index 39, 0/1: 9/8/5/2/8\n",
            "batch index 40, 0/1: 6/10/7/3/6\n",
            "batch index 41, 0/1: 5/11/7/4/5\n",
            "batch index 42, 0/1: 5/5/5/7/10\n",
            "batch index 43, 0/1: 4/8/8/7/5\n",
            "batch index 44, 0/1: 3/9/5/5/10\n",
            "batch index 45, 0/1: 5/8/5/7/7\n",
            "batch index 46, 0/1: 5/11/3/5/8\n",
            "batch index 47, 0/1: 5/5/10/5/7\n",
            "batch index 48, 0/1: 12/4/7/4/5\n",
            "batch index 49, 0/1: 5/7/7/6/7\n",
            "batch index 50, 0/1: 6/6/7/10/3\n",
            "batch index 51, 0/1: 5/7/7/6/7\n",
            "batch index 52, 0/1: 3/5/6/7/11\n",
            "batch index 53, 0/1: 6/9/4/6/7\n",
            "batch index 54, 0/1: 7/3/7/4/11\n",
            "batch index 55, 0/1: 6/6/7/7/6\n",
            "batch index 56, 0/1: 5/6/4/4/13\n",
            "batch index 57, 0/1: 7/6/5/7/7\n",
            "batch index 58, 0/1: 10/5/2/7/8\n",
            "batch index 59, 0/1: 8/6/8/6/4\n",
            "batch index 60, 0/1: 10/8/2/3/9\n",
            "batch index 61, 0/1: 7/5/8/7/5\n",
            "batch index 62, 0/1: 11/5/2/5/9\n",
            "batch index 63, 0/1: 5/7/7/4/9\n",
            "batch index 64, 0/1: 9/6/10/3/4\n",
            "batch index 65, 0/1: 5/3/7/8/9\n",
            "batch index 66, 0/1: 7/3/3/9/10\n",
            "batch index 67, 0/1: 6/6/10/4/6\n",
            "batch index 68, 0/1: 4/7/7/10/4\n",
            "batch index 69, 0/1: 8/4/8/5/7\n",
            "batch index 70, 0/1: 6/10/9/4/3\n",
            "batch index 71, 0/1: 4/12/5/5/6\n",
            "batch index 72, 0/1: 8/7/4/8/5\n",
            "batch index 73, 0/1: 11/2/7/5/7\n",
            "batch index 74, 0/1: 6/9/4/6/7\n",
            "batch index 75, 0/1: 5/5/6/6/10\n",
            "batch index 76, 0/1: 5/4/9/8/6\n",
            "batch index 77, 0/1: 11/6/7/4/4\n",
            "batch index 78, 0/1: 8/6/9/3/6\n",
            "batch index 79, 0/1: 5/7/6/10/4\n",
            "batch index 80, 0/1: 5/5/7/4/11\n",
            "batch index 81, 0/1: 5/7/5/8/7\n",
            "batch index 82, 0/1: 9/8/4/5/6\n",
            "batch index 83, 0/1: 7/8/3/9/5\n",
            "batch index 84, 0/1: 8/5/6/6/7\n",
            "batch index 85, 0/1: 8/8/7/6/3\n",
            "batch index 86, 0/1: 4/8/9/4/7\n",
            "batch index 87, 0/1: 6/7/3/7/9\n",
            "batch index 88, 0/1: 6/6/7/7/6\n",
            "batch index 89, 0/1: 5/5/5/10/7\n",
            "batch index 90, 0/1: 7/6/6/8/5\n",
            "batch index 91, 0/1: 7/4/5/9/7\n",
            "batch index 92, 0/1: 3/6/9/10/4\n",
            "batch index 93, 0/1: 5/10/6/7/4\n",
            "batch index 94, 0/1: 11/11/6/1/3\n",
            "batch index 95, 0/1: 12/7/7/5/1\n",
            "batch index 96, 0/1: 8/7/4/4/9\n",
            "batch index 97, 0/1: 6/6/8/4/8\n",
            "batch index 98, 0/1: 4/7/8/9/4\n",
            "batch index 99, 0/1: 11/6/6/4/5\n",
            "batch index 100, 0/1: 5/2/8/9/8\n",
            "batch index 101, 0/1: 6/7/6/8/5\n",
            "batch index 102, 0/1: 5/6/12/6/3\n",
            "batch index 103, 0/1: 11/5/3/5/8\n",
            "batch index 104, 0/1: 8/4/5/9/6\n",
            "batch index 105, 0/1: 6/7/6/11/2\n",
            "batch index 106, 0/1: 4/6/2/4/6\n"
          ]
        }
      ],
      "source": [
        "for i, (data, target) in enumerate(train_dataloader):\n",
        "    print(\"batch index {}, 0/1: {}/{}/{}/{}/{}\".format(\n",
        "        i,\n",
        "        len(np.where(target.numpy() == 0)[0]),\n",
        "        len(np.where(target.numpy() == 1)[0]),\n",
        "        len(np.where(target.numpy() == 2)[0]),\n",
        "        len(np.where(target.numpy() == 3)[0]),\n",
        "        len(np.where(target.numpy() == 4)[0])))"
      ]
    },
    {
      "cell_type": "code",
      "execution_count": 53,
      "id": "d873d017",
      "metadata": {
        "id": "d873d017",
        "colab": {
          "base_uri": "https://localhost:8080/"
        },
        "outputId": "e103b205-9373-40d1-a071-d22fbda4ac73"
      },
      "outputs": [
        {
          "output_type": "stream",
          "name": "stdout",
          "text": [
            "Loaded pretrained weights for efficientnet-b4\n"
          ]
        }
      ],
      "source": [
        "# from torchvision import models\n",
        "# model = models.efficientnet_b4(pretrained=True)\n",
        "# model.fc = nn.Linear(2048, 5)\n",
        "\n",
        "\n",
        "# batch = 32\n",
        "# batch_split = 1\n",
        "# alpha = 0.1\n",
        "nsc = 10\n",
        "# ne = 10\n",
        "wd = 1e-6\n",
        "gamma = 0.1\n",
        "lr = 0.01\n",
        "\n",
        "\n",
        "model = EfficientNet.from_pretrained('efficientnet-b4', num_classes=5)\n",
        "model = model.to(device)\n",
        "namesave='./checkpoint/ckpt'\n",
        "optimizer = optim.SGD(model.parameters(), lr=lr, momentum=0.9, weight_decay=wd)\n",
        "scheduler = torch.optim.lr_scheduler.StepLR(optimizer, step_size=nsc, gamma=gamma)\n"
      ]
    },
    {
      "cell_type": "code",
      "execution_count": 54,
      "id": "d56a8459",
      "metadata": {
        "id": "d56a8459"
      },
      "outputs": [],
      "source": [
        "EPOCHS = 50\n",
        "criterion = nn.CrossEntropyLoss()\n",
        "# optimizer = optim.AdamW(model.parameters(),lr = 1e-3, weight_decay = 1e-4)\n",
        "#optimizer = optim.SGD(model.parameters(), lr=0.0001)\n",
        "#scheduler = torch.optim.lr_scheduler.StepLR(optimizer, step_size=10, gamma=0.15)"
      ]
    },
    {
      "cell_type": "code",
      "execution_count": 55,
      "id": "f50004d7",
      "metadata": {
        "id": "f50004d7"
      },
      "outputs": [],
      "source": [
        "def focal_loss(inputs, targets, reduction=\"mean\"):\n",
        "    CE_loss = F.cross_entropy(inputs, targets, reduction=reduction)\n",
        "    pt = torch.exp(-CE_loss)  # prevents nans when probability 0\n",
        "    F_loss = 0.25 * (1 - pt) ** 5 * CE_loss\n",
        "    return F_loss.mean()"
      ]
    },
    {
      "cell_type": "code",
      "execution_count": 56,
      "id": "e40b6281",
      "metadata": {
        "id": "e40b6281"
      },
      "outputs": [],
      "source": [
        "def train(model):\n",
        "    train_loss = []\n",
        "    valid_loss = []\n",
        "    train_acc = []\n",
        "    valid_acc = []\n",
        "\n",
        "    for epoch in range (EPOCHS+1):\n",
        "        print(epoch)\n",
        "        correct = 0\n",
        "        total = 0\n",
        "        train_ave_loss = 0\n",
        "        model.train()\n",
        "        for batch_X, batch_Y in train_dataloader:\n",
        "            \n",
        "            batch_X = batch_X.to(device)\n",
        "            batch_Y = batch_Y.to(device)\n",
        "\n",
        "            # zero gradient\n",
        "            optimizer.zero_grad()\n",
        "            # pass through\n",
        "            outputs = model(batch_X)\n",
        "\n",
        "            # compute loss and back propagate\n",
        "            loss = criterion(outputs, batch_Y)\n",
        "            #loss2 = criterion(aux_outputs, batch_Y)\n",
        "            #loss = loss1 + 0.4 * loss2\n",
        "            \n",
        "            loss.backward()\n",
        "            # optimize\n",
        "            optimizer.step()\n",
        "            \n",
        "            train_ave_loss += loss.data.item()\n",
        "            _, predicted = outputs.max(1)\n",
        "            total += batch_Y.size(0)\n",
        "            correct += predicted.eq(batch_Y).sum().item()\n",
        "            \n",
        "        \n",
        "        train_loss.append(train_ave_loss/len(train_dataloader))\n",
        "        train_acc.append(100.*correct/total)\n",
        "        print(f\"Epoch: {epoch},Train Loss: {train_ave_loss/len(train_dataloader)} | Train Acc: {100.*correct/total} ({correct}/{total})\")\n",
        "    \n",
        "        if epoch % 1 == 0:\n",
        "        \n",
        "            model.eval()\n",
        "            valid_correct = 0\n",
        "            valid_total = 0\n",
        "            valid_ave_loss = 0\n",
        "            with torch.no_grad():\n",
        "\n",
        "                for valid_batch_X, valid_batch_Y in test_dataloader:\n",
        "                    \n",
        "                    valid_batch_X = valid_batch_X.to(device)\n",
        "                    valid_batch_Y = valid_batch_Y.to(device)\n",
        "            \n",
        "                    valid_outputs = model(valid_batch_X)\n",
        "                    loss = criterion(valid_outputs, valid_batch_Y)\n",
        "                    valid_ave_loss += loss.data.item()\n",
        "        \n",
        "                    _, predicted = valid_outputs.max(1)\n",
        "\n",
        "                    valid_correct += predicted.eq(valid_batch_Y).sum().item()\n",
        "                    valid_total += valid_batch_Y.size(0)\n",
        "                    \n",
        "            valid_loss.append(valid_ave_loss/len(test_dataloader))\n",
        "            valid_acc.append(100.*valid_correct/valid_total)\n",
        "    \n",
        "            print(f\"Validation Loss: {valid_ave_loss/len(test_dataloader)} | Validation Acc: {100.*valid_correct/valid_total} ({valid_correct}/{valid_total})\")\n",
        "            #torch.save(model.state_dict(), \\\n",
        "            #   'drive/MyDrive/pretrain_data_path/pretrain_Inception{}.pt'.format(str(epoch//1+2)))\n",
        "        \n",
        "        scheduler.step()\n",
        "        \n",
        "    return train_loss, valid_loss, train_acc, valid_acc\n",
        "\n",
        "        \n",
        "def test(model):\n",
        "    correct = 0 \n",
        "    total = 0\n",
        "    model.eval()\n",
        "    out = []\n",
        "    with torch.no_grad():\n",
        "        for inputs, labels in test_dataloader:\n",
        "            \n",
        "            inputs = inputs.to(device)\n",
        "            labels = labels.to(device)\n",
        "            \n",
        "            outputs = model(inputs)\n",
        "            #loss = criterion(outputs, test_y[i].to(device).long())\n",
        "            _, predicted = outputs.max(1)\n",
        "            out.append(predicted.cpu().detach().numpy())\n",
        "\n",
        "            correct += predicted.eq(labels).sum().item()\n",
        "            total += labels.size(0)\n",
        "    \n",
        "    print(\"Accuracy:\", round(correct/total, 3))\n",
        "    return out"
      ]
    },
    {
      "cell_type": "code",
      "execution_count": 57,
      "id": "1da206ad",
      "metadata": {
        "id": "1da206ad",
        "outputId": "62ea5d12-6923-458d-c8fd-fddbd5f7556b",
        "colab": {
          "base_uri": "https://localhost:8080/"
        }
      },
      "outputs": [
        {
          "output_type": "stream",
          "name": "stdout",
          "text": [
            "0\n",
            "Epoch: 0,Train Loss: 0.8246870043678819 | Train Acc: 68.59988283538371 (2342/3414)\n",
            "Validation Loss: 0.877146756107157 | Validation Acc: 69.28982725527831 (722/1042)\n",
            "1\n",
            "Epoch: 1,Train Loss: 0.3615642178142182 | Train Acc: 86.5260691271236 (2954/3414)\n",
            "Validation Loss: 0.9740587800289645 | Validation Acc: 63.531669865642996 (662/1042)\n",
            "2\n",
            "Epoch: 2,Train Loss: 0.2567354808343905 | Train Acc: 90.71470415934388 (3097/3414)\n",
            "Validation Loss: 1.1231124956499448 | Validation Acc: 65.4510556621881 (682/1042)\n",
            "3\n",
            "Epoch: 3,Train Loss: 0.2147432304570608 | Train Acc: 92.44288224956064 (3156/3414)\n",
            "Validation Loss: 0.5417309330607002 | Validation Acc: 82.53358925143954 (860/1042)\n",
            "4\n",
            "Epoch: 4,Train Loss: 0.1702684229152782 | Train Acc: 93.7609841827768 (3201/3414)\n",
            "Validation Loss: 0.4439361660995267 | Validation Acc: 86.18042226487523 (898/1042)\n",
            "5\n",
            "Epoch: 5,Train Loss: 0.11981175458667992 | Train Acc: 95.25483304042179 (3252/3414)\n",
            "Validation Loss: 1.0467949026744023 | Validation Acc: 72.93666026871401 (760/1042)\n",
            "6\n",
            "Epoch: 6,Train Loss: 0.1335158237717419 | Train Acc: 95.22554188635033 (3251/3414)\n",
            "Validation Loss: 0.4544716337484054 | Validation Acc: 86.85220729366603 (905/1042)\n",
            "7\n",
            "Epoch: 7,Train Loss: 0.11256759799146485 | Train Acc: 95.86994727592267 (3273/3414)\n",
            "Validation Loss: 0.36266073204972077 | Validation Acc: 90.40307101727447 (942/1042)\n",
            "8\n",
            "Epoch: 8,Train Loss: 0.07777921026833703 | Train Acc: 96.98301113063854 (3311/3414)\n",
            "Validation Loss: 0.41047219905974064 | Validation Acc: 89.44337811900192 (932/1042)\n",
            "9\n",
            "Epoch: 9,Train Loss: 0.08898801619848498 | Train Acc: 96.9244288224956 (3309/3414)\n",
            "Validation Loss: 0.46782861327907693 | Validation Acc: 88.57965451055662 (923/1042)\n",
            "10\n",
            "Epoch: 10,Train Loss: 0.07263477502399446 | Train Acc: 97.4223784417106 (3326/3414)\n",
            "Validation Loss: 0.3256876970878114 | Validation Acc: 92.32245681381957 (962/1042)\n",
            "11\n",
            "Epoch: 11,Train Loss: 0.0483771833617275 | Train Acc: 98.33040421792619 (3357/3414)\n",
            "Validation Loss: 0.31363972833148157 | Validation Acc: 92.22648752399232 (961/1042)\n",
            "12\n",
            "Epoch: 12,Train Loss: 0.044278723483678895 | Train Acc: 98.53544229642648 (3364/3414)\n",
            "Validation Loss: 0.30856215415284777 | Validation Acc: 92.80230326295586 (967/1042)\n",
            "13\n",
            "Epoch: 13,Train Loss: 0.050468990194097715 | Train Acc: 98.24253075571177 (3354/3414)\n",
            "Validation Loss: 0.30916062798121746 | Validation Acc: 92.80230326295586 (967/1042)\n",
            "14\n",
            "Epoch: 14,Train Loss: 0.0439802680434398 | Train Acc: 98.33040421792619 (3357/3414)\n",
            "Validation Loss: 0.31529014118374715 | Validation Acc: 92.99424184261036 (969/1042)\n",
            "15\n",
            "Epoch: 15,Train Loss: 0.040723817320714624 | Train Acc: 98.68189806678383 (3369/3414)\n",
            "Validation Loss: 0.316625900897634 | Validation Acc: 93.18618042226487 (971/1042)\n",
            "16\n",
            "Epoch: 16,Train Loss: 0.03032963151747587 | Train Acc: 99.03339191564147 (3381/3414)\n",
            "Validation Loss: 0.3112942567621014 | Validation Acc: 93.09021113243762 (970/1042)\n",
            "17\n",
            "Epoch: 17,Train Loss: 0.03624804315992814 | Train Acc: 98.7111892208553 (3370/3414)\n",
            "Validation Loss: 0.30610238084001606 | Validation Acc: 93.28214971209214 (972/1042)\n",
            "18\n",
            "Epoch: 18,Train Loss: 0.029779868488739654 | Train Acc: 99.12126537785589 (3384/3414)\n",
            "Validation Loss: 0.3068107494066432 | Validation Acc: 93.18618042226487 (971/1042)\n",
            "19\n",
            "Epoch: 19,Train Loss: 0.0261357522190975 | Train Acc: 99.23842999414177 (3388/3414)\n",
            "Validation Loss: 0.30784399799714185 | Validation Acc: 93.47408829174664 (974/1042)\n",
            "20\n",
            "Epoch: 20,Train Loss: 0.02445390215197961 | Train Acc: 99.29701230228471 (3390/3414)\n",
            "Validation Loss: 0.30623799924730766 | Validation Acc: 93.47408829174664 (974/1042)\n",
            "21\n",
            "Epoch: 21,Train Loss: 0.02971495303682217 | Train Acc: 98.82835383714118 (3374/3414)\n",
            "Validation Loss: 0.30880460846167285 | Validation Acc: 93.37811900191939 (973/1042)\n",
            "22\n",
            "Epoch: 22,Train Loss: 0.03430208600687611 | Train Acc: 98.68189806678383 (3369/3414)\n",
            "Validation Loss: 0.30708171564346587 | Validation Acc: 93.37811900191939 (973/1042)\n",
            "23\n",
            "Epoch: 23,Train Loss: 0.029049496299143288 | Train Acc: 99.23842999414177 (3388/3414)\n",
            "Validation Loss: 0.3081085133052318 | Validation Acc: 93.37811900191939 (973/1042)\n",
            "24\n",
            "Epoch: 24,Train Loss: 0.03338885362690889 | Train Acc: 99.00410076157 (3380/3414)\n",
            "Validation Loss: 0.3105623166479883 | Validation Acc: 93.28214971209214 (972/1042)\n",
            "25\n",
            "Epoch: 25,Train Loss: 0.030112176228349455 | Train Acc: 99.00410076157 (3380/3414)\n",
            "Validation Loss: 0.30800036567697214 | Validation Acc: 93.37811900191939 (973/1042)\n",
            "26\n",
            "Epoch: 26,Train Loss: 0.029584049453924052 | Train Acc: 98.97480960749853 (3379/3414)\n",
            "Validation Loss: 0.30974720404121786 | Validation Acc: 93.47408829174664 (974/1042)\n",
            "27\n",
            "Epoch: 27,Train Loss: 0.027113840640000303 | Train Acc: 99.29701230228471 (3390/3414)\n",
            "Validation Loss: 0.31060869218322984 | Validation Acc: 93.28214971209214 (972/1042)\n",
            "28\n",
            "Epoch: 28,Train Loss: 0.033379225556468856 | Train Acc: 98.76977152899825 (3372/3414)\n",
            "Validation Loss: 0.30915911646540434 | Validation Acc: 93.37811900191939 (973/1042)\n",
            "29\n",
            "Epoch: 29,Train Loss: 0.028749854486679362 | Train Acc: 99.09197422378442 (3383/3414)\n",
            "Validation Loss: 0.30717219128035306 | Validation Acc: 93.47408829174664 (974/1042)\n",
            "30\n",
            "Epoch: 30,Train Loss: 0.02346803045616198 | Train Acc: 99.38488576449912 (3393/3414)\n",
            "Validation Loss: 0.3091357855069377 | Validation Acc: 93.66602687140116 (976/1042)\n",
            "31\n",
            "Epoch: 31,Train Loss: 0.02648934658299087 | Train Acc: 99.23842999414177 (3388/3414)\n",
            "Validation Loss: 0.31050804458584136 | Validation Acc: 93.47408829174664 (974/1042)\n",
            "32\n",
            "Epoch: 32,Train Loss: 0.03139606796566258 | Train Acc: 99.03339191564147 (3381/3414)\n",
            "Validation Loss: 0.30837765497254266 | Validation Acc: 93.47408829174664 (974/1042)\n",
            "33\n",
            "Epoch: 33,Train Loss: 0.034297849784962066 | Train Acc: 98.88693614528412 (3376/3414)\n",
            "Validation Loss: 0.3102887955112347 | Validation Acc: 93.47408829174664 (974/1042)\n",
            "34\n",
            "Epoch: 34,Train Loss: 0.028013045007959182 | Train Acc: 99.17984768599882 (3386/3414)\n",
            "Validation Loss: 0.31053776359961677 | Validation Acc: 93.57005758157389 (975/1042)\n",
            "35\n",
            "Epoch: 35,Train Loss: 0.03240326939751263 | Train Acc: 99.00410076157 (3380/3414)\n",
            "Validation Loss: 0.311606259299107 | Validation Acc: 93.47408829174664 (974/1042)\n",
            "36\n",
            "Epoch: 36,Train Loss: 0.027924902101752358 | Train Acc: 99.17984768599882 (3386/3414)\n",
            "Validation Loss: 0.3121062550915557 | Validation Acc: 93.47408829174664 (974/1042)\n",
            "37\n",
            "Epoch: 37,Train Loss: 0.028451336876850437 | Train Acc: 99.12126537785589 (3384/3414)\n",
            "Validation Loss: 0.3127739982940539 | Validation Acc: 93.47408829174664 (974/1042)\n",
            "38\n",
            "Epoch: 38,Train Loss: 0.03021254199752845 | Train Acc: 99.2091388400703 (3387/3414)\n",
            "Validation Loss: 0.30785917512901395 | Validation Acc: 93.57005758157389 (975/1042)\n",
            "39\n",
            "Epoch: 39,Train Loss: 0.033387196297043606 | Train Acc: 98.68189806678383 (3369/3414)\n",
            "Validation Loss: 0.308980815008743 | Validation Acc: 93.47408829174664 (974/1042)\n",
            "40\n",
            "Epoch: 40,Train Loss: 0.0242627341317657 | Train Acc: 99.32630345635619 (3391/3414)\n",
            "Validation Loss: 0.31130577154302347 | Validation Acc: 93.37811900191939 (973/1042)\n",
            "41\n",
            "Epoch: 41,Train Loss: 0.030705410860931485 | Train Acc: 98.94551845342707 (3378/3414)\n",
            "Validation Loss: 0.310315302665968 | Validation Acc: 93.37811900191939 (973/1042)\n",
            "42\n",
            "Epoch: 42,Train Loss: 0.036763485290423455 | Train Acc: 98.94551845342707 (3378/3414)\n",
            "Validation Loss: 0.3094821095587439 | Validation Acc: 93.47408829174664 (974/1042)\n",
            "43\n",
            "Epoch: 43,Train Loss: 0.028694144647598927 | Train Acc: 99.12126537785589 (3384/3414)\n",
            "Validation Loss: 0.3106098030341055 | Validation Acc: 93.57005758157389 (975/1042)\n",
            "44\n",
            "Epoch: 44,Train Loss: 0.028330389039251502 | Train Acc: 99.15055653192736 (3385/3414)\n",
            "Validation Loss: 0.3111889109087783 | Validation Acc: 93.37811900191939 (973/1042)\n",
            "45\n",
            "Epoch: 45,Train Loss: 0.026173846537212483 | Train Acc: 99.2091388400703 (3387/3414)\n",
            "Validation Loss: 0.3095953207148616 | Validation Acc: 93.47408829174664 (974/1042)\n",
            "46\n",
            "Epoch: 46,Train Loss: 0.032145659389762014 | Train Acc: 98.97480960749853 (3379/3414)\n",
            "Validation Loss: 0.31178210900212766 | Validation Acc: 93.28214971209214 (972/1042)\n",
            "47\n",
            "Epoch: 47,Train Loss: 0.029078768362795986 | Train Acc: 99.17984768599882 (3386/3414)\n",
            "Validation Loss: 0.31206414886886097 | Validation Acc: 93.57005758157389 (975/1042)\n",
            "48\n",
            "Epoch: 48,Train Loss: 0.028848353949610456 | Train Acc: 99.15055653192736 (3385/3414)\n",
            "Validation Loss: 0.3112778146806346 | Validation Acc: 93.47408829174664 (974/1042)\n",
            "49\n",
            "Epoch: 49,Train Loss: 0.025442573779358345 | Train Acc: 99.17984768599882 (3386/3414)\n",
            "Validation Loss: 0.3098886294883965 | Validation Acc: 93.37811900191939 (973/1042)\n",
            "50\n",
            "Epoch: 50,Train Loss: 0.025886964698095816 | Train Acc: 98.97480960749853 (3379/3414)\n",
            "Validation Loss: 0.310806724940476 | Validation Acc: 93.28214971209214 (972/1042)\n"
          ]
        }
      ],
      "source": [
        "train_loss, valid_loss, train_acc, valid_acc = train(model)"
      ]
    },
    {
      "cell_type": "code",
      "execution_count": 58,
      "id": "38d19c2e",
      "metadata": {
        "id": "38d19c2e",
        "colab": {
          "base_uri": "https://localhost:8080/"
        },
        "outputId": "ebee0ee5-ffde-4305-e8d0-bf8d36e1ad88"
      },
      "outputs": [
        {
          "output_type": "stream",
          "name": "stdout",
          "text": [
            "Accuracy: 0.933\n"
          ]
        }
      ],
      "source": [
        " out = test(model)"
      ]
    },
    {
      "cell_type": "code",
      "execution_count": 59,
      "id": "fe9bc918",
      "metadata": {
        "id": "fe9bc918"
      },
      "outputs": [],
      "source": [
        "out = np.concatenate(out).ravel()"
      ]
    },
    {
      "cell_type": "code",
      "execution_count": 60,
      "id": "c6a23a2d",
      "metadata": {
        "id": "c6a23a2d",
        "colab": {
          "base_uri": "https://localhost:8080/"
        },
        "outputId": "7008f04f-e995-4e67-a773-13118f678945"
      },
      "outputs": [
        {
          "output_type": "execute_result",
          "data": {
            "text/plain": [
              "array([2, 2, 2, ..., 4, 4, 4])"
            ]
          },
          "metadata": {},
          "execution_count": 60
        }
      ],
      "source": [
        "out"
      ]
    },
    {
      "cell_type": "code",
      "execution_count": 61,
      "id": "702810dc",
      "metadata": {
        "id": "702810dc",
        "colab": {
          "base_uri": "https://localhost:8080/",
          "height": 738
        },
        "outputId": "c2eed145-be1c-4c20-b2e9-8407af212d67"
      },
      "outputs": [
        {
          "output_type": "stream",
          "name": "stdout",
          "text": [
            "              precision    recall  f1-score   support\n",
            "\n",
            "           0       0.95      0.97      0.96       410\n",
            "           1       0.86      0.89      0.87       159\n",
            "           2       0.92      0.87      0.89       151\n",
            "           3       0.97      0.96      0.97       252\n",
            "           4       0.92      0.83      0.87        70\n",
            "\n",
            "    accuracy                           0.93      1042\n",
            "   macro avg       0.92      0.90      0.91      1042\n",
            "weighted avg       0.93      0.93      0.93      1042\n",
            "\n"
          ]
        },
        {
          "output_type": "display_data",
          "data": {
            "text/plain": [
              "<Figure size 576x576 with 2 Axes>"
            ],
            "image/png": "[encoded data removed]"
          },
          "metadata": {
            "needs_background": "light"
          }
        }
      ],
      "source": [
        "import seaborn as sn\n",
        "from sklearn.metrics import classification_report\n",
        "from sklearn.metrics import confusion_matrix\n",
        "species_all = [\"AF\",\n",
        "        \"AG\",\n",
        "        \"A_other\",\n",
        "        \"Culex\",\n",
        "        \"Other\"]\n",
        "# print classification report\n",
        "print(classification_report(test_label, out))\n",
        "\n",
        "# make confusion matrix\n",
        "conf_mat = confusion_matrix(test_label, out)\n",
        "conf_mat = conf_mat / np.expand_dims(conf_mat.astype(np.float64).sum(axis=1),1)\n",
        "conf_mat = np.round(conf_mat, decimals=2)\n",
        "fig = plt.figure(figsize=(8,8))\n",
        "ax = plt.subplot()\n",
        "hm = sn.heatmap(conf_mat, annot=True, ax = ax, cmap=\"PuBu\", fmt='.2', annot_kws={\"size\": 35 / np.sqrt(len(conf_mat))})\n",
        "ax.set_yticklabels(hm.get_yticklabels(), rotation=90)\n",
        "ax.set_xlabel('Predicted labels', fontsize = 15);ax.set_ylabel('True labels', fontsize = 15); \n",
        "ax.xaxis.set_ticklabels(species_all); ax.yaxis.set_ticklabels(species_all)\n",
        "plt.xticks(rotation = 90)\n",
        "plt.yticks(rotation = 0)\n",
        "plt.savefig('/content/drive/MyDrive/CBID/EfficientNet/Species_EfficientNet_perspective.jpg')\n",
        "plt.show();\n"
      ]
    },
    {
      "cell_type": "code",
      "execution_count": 62,
      "id": "0c9de0d3",
      "metadata": {
        "id": "0c9de0d3"
      },
      "outputs": [],
      "source": [
        "torch.save(model.state_dict(), \\\n",
        "               '/content/drive/MyDrive/CBID/EfficientNet/Species_EfficientNet_perspective.pt')"
      ]
    },
    {
      "cell_type": "code",
      "execution_count": 62,
      "id": "e9b44bde",
      "metadata": {
        "id": "e9b44bde"
      },
      "outputs": [],
      "source": [
        ""
      ]
    }
  ],
  "metadata": {
    "colab": {
      "collapsed_sections": [],
      "name": "Species_EfficientNet_B4.ipynb",
      "provenance": []
    },
    "kernelspec": {
      "display_name": "torch",
      "language": "python",
      "name": "torch"
    },
    "language_info": {
      "codemirror_mode": {
        "name": "ipython",
        "version": 3
      },
      "file_extension": ".py",
      "mimetype": "text/x-python",
      "name": "python",
      "nbconvert_exporter": "python",
      "pygments_lexer": "ipython3",
      "version": "3.9.12"
    },
    "accelerator": "GPU"
  },
  "nbformat": 4,
  "nbformat_minor": 5
}
